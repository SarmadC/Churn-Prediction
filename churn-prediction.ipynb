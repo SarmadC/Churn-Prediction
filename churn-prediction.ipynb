{
 "cells": [
  {
   "cell_type": "code",
   "execution_count": 1,
   "id": "3e574b85",
   "metadata": {
    "execution": {
     "iopub.execute_input": "2025-04-14T23:13:45.605499Z",
     "iopub.status.busy": "2025-04-14T23:13:45.605181Z",
     "iopub.status.idle": "2025-04-14T23:13:52.704959Z",
     "shell.execute_reply": "2025-04-14T23:13:52.703848Z"
    },
    "papermill": {
     "duration": 7.117088,
     "end_time": "2025-04-14T23:13:52.707076",
     "exception": false,
     "start_time": "2025-04-14T23:13:45.589988",
     "status": "completed"
    },
    "tags": []
   },
   "outputs": [],
   "source": [
    "import numpy as np\n",
    "import os\n",
    "import matplotlib.pyplot as plt\n",
    "import pandas as pd\n",
    "import xgboost as xgb\n",
    "import lightgbm as lgb\n",
    "import seaborn as sns\n",
    "from IPython.display import display\n",
    "from sklearn.model_selection import train_test_split\n",
    "from sklearn.ensemble import RandomForestClassifier\n",
    "from sklearn.metrics import classification_report, roc_auc_score \n",
    "from sklearn.linear_model import LogisticRegression\n",
    "from imblearn.over_sampling import SMOTE\n",
    "from imblearn.pipeline import Pipeline as ImbPipeline"
   ]
  },
  {
   "cell_type": "code",
   "execution_count": 2,
   "id": "bb86f7d9",
   "metadata": {
    "_cell_guid": "b1076dfc-b9ad-4769-8c92-a6c4dae69d19",
    "_uuid": "8f2839f25d086af736a60e9eeb907d3b93b6e0e5",
    "execution": {
     "iopub.execute_input": "2025-04-14T23:13:52.733400Z",
     "iopub.status.busy": "2025-04-14T23:13:52.732638Z",
     "iopub.status.idle": "2025-04-14T23:13:52.742598Z",
     "shell.execute_reply": "2025-04-14T23:13:52.741341Z"
    },
    "papermill": {
     "duration": 0.024981,
     "end_time": "2025-04-14T23:13:52.744491",
     "exception": false,
     "start_time": "2025-04-14T23:13:52.719510",
     "status": "completed"
    },
    "tags": []
   },
   "outputs": [
    {
     "name": "stdout",
     "output_type": "stream",
     "text": [
      "/kaggle/input/dspp1/product_info.csv\n",
      "/kaggle/input/dspp1/customer_product.csv\n",
      "/kaggle/input/dspp1/customer_info.csv\n",
      "/kaggle/input/dspp1/customer_cases.csv\n"
     ]
    }
   ],
   "source": [
    "for dirname, _, filenames in os.walk('/kaggle/input'):\n",
    "    for filename in filenames:\n",
    "        print(os.path.join(dirname, filename))"
   ]
  },
  {
   "cell_type": "markdown",
   "id": "8e0ac949",
   "metadata": {
    "papermill": {
     "duration": 0.011434,
     "end_time": "2025-04-14T23:13:52.767994",
     "exception": false,
     "start_time": "2025-04-14T23:13:52.756560",
     "status": "completed"
    },
    "tags": []
   },
   "source": [
    "#### Load the Dataset"
   ]
  },
  {
   "cell_type": "code",
   "execution_count": 3,
   "id": "94a8e4bc",
   "metadata": {
    "execution": {
     "iopub.execute_input": "2025-04-14T23:13:52.793126Z",
     "iopub.status.busy": "2025-04-14T23:13:52.792778Z",
     "iopub.status.idle": "2025-04-14T23:13:55.141338Z",
     "shell.execute_reply": "2025-04-14T23:13:55.140331Z"
    },
    "papermill": {
     "duration": 2.363441,
     "end_time": "2025-04-14T23:13:55.143365",
     "exception": false,
     "start_time": "2025-04-14T23:13:52.779924",
     "status": "completed"
    },
    "tags": []
   },
   "outputs": [],
   "source": [
    "product_info = pd.read_csv(\"/kaggle/input/dspp1/product_info.csv\")\n",
    "customer_product = pd.read_csv(\"/kaggle/input/dspp1/customer_product.csv\")\n",
    "customer_info = pd.read_csv(\"/kaggle/input/dspp1/customer_info.csv\")\n",
    "customer_cases = pd.read_csv(\"/kaggle/input/dspp1/customer_cases.csv\")"
   ]
  },
  {
   "cell_type": "markdown",
   "id": "1647bb1f",
   "metadata": {
    "papermill": {
     "duration": 0.011577,
     "end_time": "2025-04-14T23:13:55.167094",
     "exception": false,
     "start_time": "2025-04-14T23:13:55.155517",
     "status": "completed"
    },
    "tags": []
   },
   "source": [
    "# Exploratory Data Analysis"
   ]
  },
  {
   "cell_type": "code",
   "execution_count": 4,
   "id": "02d42dd0",
   "metadata": {
    "execution": {
     "iopub.execute_input": "2025-04-14T23:13:55.192106Z",
     "iopub.status.busy": "2025-04-14T23:13:55.191640Z",
     "iopub.status.idle": "2025-04-14T23:13:55.196868Z",
     "shell.execute_reply": "2025-04-14T23:13:55.195848Z"
    },
    "papermill": {
     "duration": 0.019597,
     "end_time": "2025-04-14T23:13:55.198581",
     "exception": false,
     "start_time": "2025-04-14T23:13:55.178984",
     "status": "completed"
    },
    "tags": []
   },
   "outputs": [],
   "source": [
    "def style_df(df, caption=''):\n",
    "    return df.style.set_caption(caption).set_table_styles([\n",
    "        {'selector': 'th', 'props':[('background-color', '#f0f0f0'),\n",
    "                                   ('color', 'black'),\n",
    "                                   ('font-weight', 'bold')]},\n",
    "        {'selector': 'tr:nth-of-type(odd)','props':[('background-color', '#f9f9f9')]},\n",
    "    ])"
   ]
  },
  {
   "cell_type": "code",
   "execution_count": 5,
   "id": "e263fdf8",
   "metadata": {
    "execution": {
     "iopub.execute_input": "2025-04-14T23:13:55.223822Z",
     "iopub.status.busy": "2025-04-14T23:13:55.223424Z",
     "iopub.status.idle": "2025-04-14T23:13:55.302532Z",
     "shell.execute_reply": "2025-04-14T23:13:55.301504Z"
    },
    "papermill": {
     "duration": 0.093678,
     "end_time": "2025-04-14T23:13:55.304303",
     "exception": false,
     "start_time": "2025-04-14T23:13:55.210625",
     "status": "completed"
    },
    "tags": []
   },
   "outputs": [
    {
     "data": {
      "text/html": [
       "<style type=\"text/css\">\n",
       "#T_b5fa9 th {\n",
       "  background-color: #f0f0f0;\n",
       "  color: black;\n",
       "  font-weight: bold;\n",
       "}\n",
       "#T_b5fa9 tr:nth-of-type(odd) {\n",
       "  background-color: #f9f9f9;\n",
       "}\n",
       "</style>\n",
       "<table id=\"T_b5fa9\">\n",
       "  <caption>Customer Sign-up and Cancellation Dates</caption>\n",
       "  <thead>\n",
       "    <tr>\n",
       "      <th class=\"blank level0\" >&nbsp;</th>\n",
       "      <th id=\"T_b5fa9_level0_col0\" class=\"col_heading level0 col0\" >Unnamed: 0</th>\n",
       "      <th id=\"T_b5fa9_level0_col1\" class=\"col_heading level0 col1\" >customer_id</th>\n",
       "      <th id=\"T_b5fa9_level0_col2\" class=\"col_heading level0 col2\" >product</th>\n",
       "      <th id=\"T_b5fa9_level0_col3\" class=\"col_heading level0 col3\" >signup_date_time</th>\n",
       "      <th id=\"T_b5fa9_level0_col4\" class=\"col_heading level0 col4\" >cancel_date_time</th>\n",
       "    </tr>\n",
       "  </thead>\n",
       "  <tbody>\n",
       "    <tr>\n",
       "      <th id=\"T_b5fa9_level0_row0\" class=\"row_heading level0 row0\" >0</th>\n",
       "      <td id=\"T_b5fa9_row0_col0\" class=\"data row0 col0\" >1</td>\n",
       "      <td id=\"T_b5fa9_row0_col1\" class=\"data row0 col1\" >C2448</td>\n",
       "      <td id=\"T_b5fa9_row0_col2\" class=\"data row0 col2\" >prd_1</td>\n",
       "      <td id=\"T_b5fa9_row0_col3\" class=\"data row0 col3\" >2017-01-01 10:35:09</td>\n",
       "      <td id=\"T_b5fa9_row0_col4\" class=\"data row0 col4\" >nan</td>\n",
       "    </tr>\n",
       "    <tr>\n",
       "      <th id=\"T_b5fa9_level0_row1\" class=\"row_heading level0 row1\" >1</th>\n",
       "      <td id=\"T_b5fa9_row1_col0\" class=\"data row1 col0\" >2</td>\n",
       "      <td id=\"T_b5fa9_row1_col1\" class=\"data row1 col1\" >C2449</td>\n",
       "      <td id=\"T_b5fa9_row1_col2\" class=\"data row1 col2\" >prd_1</td>\n",
       "      <td id=\"T_b5fa9_row1_col3\" class=\"data row1 col3\" >2017-01-01 11:39:29</td>\n",
       "      <td id=\"T_b5fa9_row1_col4\" class=\"data row1 col4\" >2021-09-05 10:00:02</td>\n",
       "    </tr>\n",
       "    <tr>\n",
       "      <th id=\"T_b5fa9_level0_row2\" class=\"row_heading level0 row2\" >2</th>\n",
       "      <td id=\"T_b5fa9_row2_col0\" class=\"data row2 col0\" >3</td>\n",
       "      <td id=\"T_b5fa9_row2_col1\" class=\"data row2 col1\" >C2450</td>\n",
       "      <td id=\"T_b5fa9_row2_col2\" class=\"data row2 col2\" >prd_1</td>\n",
       "      <td id=\"T_b5fa9_row2_col3\" class=\"data row2 col3\" >2017-01-01 11:42:00</td>\n",
       "      <td id=\"T_b5fa9_row2_col4\" class=\"data row2 col4\" >2019-01-13 16:24:55</td>\n",
       "    </tr>\n",
       "    <tr>\n",
       "      <th id=\"T_b5fa9_level0_row3\" class=\"row_heading level0 row3\" >3</th>\n",
       "      <td id=\"T_b5fa9_row3_col0\" class=\"data row3 col0\" >4</td>\n",
       "      <td id=\"T_b5fa9_row3_col1\" class=\"data row3 col1\" >C2451</td>\n",
       "      <td id=\"T_b5fa9_row3_col2\" class=\"data row3 col2\" >prd_2</td>\n",
       "      <td id=\"T_b5fa9_row3_col3\" class=\"data row3 col3\" >2017-01-01 13:32:08</td>\n",
       "      <td id=\"T_b5fa9_row3_col4\" class=\"data row3 col4\" >nan</td>\n",
       "    </tr>\n",
       "    <tr>\n",
       "      <th id=\"T_b5fa9_level0_row4\" class=\"row_heading level0 row4\" >4</th>\n",
       "      <td id=\"T_b5fa9_row4_col0\" class=\"data row4 col0\" >5</td>\n",
       "      <td id=\"T_b5fa9_row4_col1\" class=\"data row4 col1\" >C2452</td>\n",
       "      <td id=\"T_b5fa9_row4_col2\" class=\"data row4 col2\" >prd_1</td>\n",
       "      <td id=\"T_b5fa9_row4_col3\" class=\"data row4 col3\" >2017-01-01 13:57:30</td>\n",
       "      <td id=\"T_b5fa9_row4_col4\" class=\"data row4 col4\" >2021-06-28 18:06:01</td>\n",
       "    </tr>\n",
       "  </tbody>\n",
       "</table>\n"
      ],
      "text/plain": [
       "<pandas.io.formats.style.Styler at 0x7fbab0e5ef20>"
      ]
     },
     "execution_count": 5,
     "metadata": {},
     "output_type": "execute_result"
    }
   ],
   "source": [
    "style_df(customer_product.head(), 'Customer Sign-up and Cancellation Dates')"
   ]
  },
  {
   "cell_type": "code",
   "execution_count": 6,
   "id": "8e56bf82",
   "metadata": {
    "execution": {
     "iopub.execute_input": "2025-04-14T23:13:55.329749Z",
     "iopub.status.busy": "2025-04-14T23:13:55.329357Z",
     "iopub.status.idle": "2025-04-14T23:13:55.337999Z",
     "shell.execute_reply": "2025-04-14T23:13:55.336899Z"
    },
    "papermill": {
     "duration": 0.023314,
     "end_time": "2025-04-14T23:13:55.339797",
     "exception": false,
     "start_time": "2025-04-14T23:13:55.316483",
     "status": "completed"
    },
    "tags": []
   },
   "outputs": [
    {
     "data": {
      "text/html": [
       "<style type=\"text/css\">\n",
       "#T_a472e th {\n",
       "  background-color: #f0f0f0;\n",
       "  color: black;\n",
       "  font-weight: bold;\n",
       "}\n",
       "#T_a472e tr:nth-of-type(odd) {\n",
       "  background-color: #f9f9f9;\n",
       "}\n",
       "</style>\n",
       "<table id=\"T_a472e\">\n",
       "  <caption>Customer Demographics</caption>\n",
       "  <thead>\n",
       "    <tr>\n",
       "      <th class=\"blank level0\" >&nbsp;</th>\n",
       "      <th id=\"T_a472e_level0_col0\" class=\"col_heading level0 col0\" >Unnamed: 0</th>\n",
       "      <th id=\"T_a472e_level0_col1\" class=\"col_heading level0 col1\" >customer_id</th>\n",
       "      <th id=\"T_a472e_level0_col2\" class=\"col_heading level0 col2\" >age</th>\n",
       "      <th id=\"T_a472e_level0_col3\" class=\"col_heading level0 col3\" >gender</th>\n",
       "    </tr>\n",
       "  </thead>\n",
       "  <tbody>\n",
       "    <tr>\n",
       "      <th id=\"T_a472e_level0_row0\" class=\"row_heading level0 row0\" >0</th>\n",
       "      <td id=\"T_a472e_row0_col0\" class=\"data row0 col0\" >1</td>\n",
       "      <td id=\"T_a472e_row0_col1\" class=\"data row0 col1\" >C2448</td>\n",
       "      <td id=\"T_a472e_row0_col2\" class=\"data row0 col2\" >76</td>\n",
       "      <td id=\"T_a472e_row0_col3\" class=\"data row0 col3\" >female</td>\n",
       "    </tr>\n",
       "    <tr>\n",
       "      <th id=\"T_a472e_level0_row1\" class=\"row_heading level0 row1\" >1</th>\n",
       "      <td id=\"T_a472e_row1_col0\" class=\"data row1 col0\" >2</td>\n",
       "      <td id=\"T_a472e_row1_col1\" class=\"data row1 col1\" >C2449</td>\n",
       "      <td id=\"T_a472e_row1_col2\" class=\"data row1 col2\" >61</td>\n",
       "      <td id=\"T_a472e_row1_col3\" class=\"data row1 col3\" >male</td>\n",
       "    </tr>\n",
       "    <tr>\n",
       "      <th id=\"T_a472e_level0_row2\" class=\"row_heading level0 row2\" >2</th>\n",
       "      <td id=\"T_a472e_row2_col0\" class=\"data row2 col0\" >3</td>\n",
       "      <td id=\"T_a472e_row2_col1\" class=\"data row2 col1\" >C2450</td>\n",
       "      <td id=\"T_a472e_row2_col2\" class=\"data row2 col2\" >58</td>\n",
       "      <td id=\"T_a472e_row2_col3\" class=\"data row2 col3\" >female</td>\n",
       "    </tr>\n",
       "    <tr>\n",
       "      <th id=\"T_a472e_level0_row3\" class=\"row_heading level0 row3\" >3</th>\n",
       "      <td id=\"T_a472e_row3_col0\" class=\"data row3 col0\" >4</td>\n",
       "      <td id=\"T_a472e_row3_col1\" class=\"data row3 col1\" >C2451</td>\n",
       "      <td id=\"T_a472e_row3_col2\" class=\"data row3 col2\" >62</td>\n",
       "      <td id=\"T_a472e_row3_col3\" class=\"data row3 col3\" >female</td>\n",
       "    </tr>\n",
       "    <tr>\n",
       "      <th id=\"T_a472e_level0_row4\" class=\"row_heading level0 row4\" >4</th>\n",
       "      <td id=\"T_a472e_row4_col0\" class=\"data row4 col0\" >5</td>\n",
       "      <td id=\"T_a472e_row4_col1\" class=\"data row4 col1\" >C2452</td>\n",
       "      <td id=\"T_a472e_row4_col2\" class=\"data row4 col2\" >71</td>\n",
       "      <td id=\"T_a472e_row4_col3\" class=\"data row4 col3\" >male</td>\n",
       "    </tr>\n",
       "  </tbody>\n",
       "</table>\n"
      ],
      "text/plain": [
       "<pandas.io.formats.style.Styler at 0x7fbab0959900>"
      ]
     },
     "execution_count": 6,
     "metadata": {},
     "output_type": "execute_result"
    }
   ],
   "source": [
    "style_df(customer_info.head(), 'Customer Demographics')"
   ]
  },
  {
   "cell_type": "code",
   "execution_count": 7,
   "id": "3d378725",
   "metadata": {
    "execution": {
     "iopub.execute_input": "2025-04-14T23:13:55.365543Z",
     "iopub.status.busy": "2025-04-14T23:13:55.365212Z",
     "iopub.status.idle": "2025-04-14T23:13:55.373537Z",
     "shell.execute_reply": "2025-04-14T23:13:55.372626Z"
    },
    "papermill": {
     "duration": 0.022987,
     "end_time": "2025-04-14T23:13:55.375210",
     "exception": false,
     "start_time": "2025-04-14T23:13:55.352223",
     "status": "completed"
    },
    "tags": []
   },
   "outputs": [
    {
     "data": {
      "text/html": [
       "<style type=\"text/css\">\n",
       "#T_52ec6 th {\n",
       "  background-color: #f0f0f0;\n",
       "  color: black;\n",
       "  font-weight: bold;\n",
       "}\n",
       "#T_52ec6 tr:nth-of-type(odd) {\n",
       "  background-color: #f9f9f9;\n",
       "}\n",
       "</style>\n",
       "<table id=\"T_52ec6\">\n",
       "  <caption>Call Center Activity</caption>\n",
       "  <thead>\n",
       "    <tr>\n",
       "      <th class=\"blank level0\" >&nbsp;</th>\n",
       "      <th id=\"T_52ec6_level0_col0\" class=\"col_heading level0 col0\" >Unnamed: 0</th>\n",
       "      <th id=\"T_52ec6_level0_col1\" class=\"col_heading level0 col1\" >case_id</th>\n",
       "      <th id=\"T_52ec6_level0_col2\" class=\"col_heading level0 col2\" >date_time</th>\n",
       "      <th id=\"T_52ec6_level0_col3\" class=\"col_heading level0 col3\" >customer_id</th>\n",
       "      <th id=\"T_52ec6_level0_col4\" class=\"col_heading level0 col4\" >channel</th>\n",
       "      <th id=\"T_52ec6_level0_col5\" class=\"col_heading level0 col5\" >reason</th>\n",
       "    </tr>\n",
       "  </thead>\n",
       "  <tbody>\n",
       "    <tr>\n",
       "      <th id=\"T_52ec6_level0_row0\" class=\"row_heading level0 row0\" >0</th>\n",
       "      <td id=\"T_52ec6_row0_col0\" class=\"data row0 col0\" >1</td>\n",
       "      <td id=\"T_52ec6_row0_col1\" class=\"data row0 col1\" >CC101</td>\n",
       "      <td id=\"T_52ec6_row0_col2\" class=\"data row0 col2\" >2017-01-01 10:32:03</td>\n",
       "      <td id=\"T_52ec6_row0_col3\" class=\"data row0 col3\" >C2448</td>\n",
       "      <td id=\"T_52ec6_row0_col4\" class=\"data row0 col4\" >phone</td>\n",
       "      <td id=\"T_52ec6_row0_col5\" class=\"data row0 col5\" >signup</td>\n",
       "    </tr>\n",
       "    <tr>\n",
       "      <th id=\"T_52ec6_level0_row1\" class=\"row_heading level0 row1\" >1</th>\n",
       "      <td id=\"T_52ec6_row1_col0\" class=\"data row1 col0\" >2</td>\n",
       "      <td id=\"T_52ec6_row1_col1\" class=\"data row1 col1\" >CC102</td>\n",
       "      <td id=\"T_52ec6_row1_col2\" class=\"data row1 col2\" >2017-01-01 11:35:47</td>\n",
       "      <td id=\"T_52ec6_row1_col3\" class=\"data row1 col3\" >C2449</td>\n",
       "      <td id=\"T_52ec6_row1_col4\" class=\"data row1 col4\" >phone</td>\n",
       "      <td id=\"T_52ec6_row1_col5\" class=\"data row1 col5\" >signup</td>\n",
       "    </tr>\n",
       "    <tr>\n",
       "      <th id=\"T_52ec6_level0_row2\" class=\"row_heading level0 row2\" >2</th>\n",
       "      <td id=\"T_52ec6_row2_col0\" class=\"data row2 col0\" >3</td>\n",
       "      <td id=\"T_52ec6_row2_col1\" class=\"data row2 col1\" >CC103</td>\n",
       "      <td id=\"T_52ec6_row2_col2\" class=\"data row2 col2\" >2017-01-01 11:37:09</td>\n",
       "      <td id=\"T_52ec6_row2_col3\" class=\"data row2 col3\" >C2450</td>\n",
       "      <td id=\"T_52ec6_row2_col4\" class=\"data row2 col4\" >phone</td>\n",
       "      <td id=\"T_52ec6_row2_col5\" class=\"data row2 col5\" >signup</td>\n",
       "    </tr>\n",
       "    <tr>\n",
       "      <th id=\"T_52ec6_level0_row3\" class=\"row_heading level0 row3\" >3</th>\n",
       "      <td id=\"T_52ec6_row3_col0\" class=\"data row3 col0\" >4</td>\n",
       "      <td id=\"T_52ec6_row3_col1\" class=\"data row3 col1\" >CC104</td>\n",
       "      <td id=\"T_52ec6_row3_col2\" class=\"data row3 col2\" >2017-01-01 13:28:14</td>\n",
       "      <td id=\"T_52ec6_row3_col3\" class=\"data row3 col3\" >C2451</td>\n",
       "      <td id=\"T_52ec6_row3_col4\" class=\"data row3 col4\" >phone</td>\n",
       "      <td id=\"T_52ec6_row3_col5\" class=\"data row3 col5\" >signup</td>\n",
       "    </tr>\n",
       "    <tr>\n",
       "      <th id=\"T_52ec6_level0_row4\" class=\"row_heading level0 row4\" >4</th>\n",
       "      <td id=\"T_52ec6_row4_col0\" class=\"data row4 col0\" >5</td>\n",
       "      <td id=\"T_52ec6_row4_col1\" class=\"data row4 col1\" >CC105</td>\n",
       "      <td id=\"T_52ec6_row4_col2\" class=\"data row4 col2\" >2017-01-01 13:52:22</td>\n",
       "      <td id=\"T_52ec6_row4_col3\" class=\"data row4 col3\" >C2452</td>\n",
       "      <td id=\"T_52ec6_row4_col4\" class=\"data row4 col4\" >phone</td>\n",
       "      <td id=\"T_52ec6_row4_col5\" class=\"data row4 col5\" >signup</td>\n",
       "    </tr>\n",
       "  </tbody>\n",
       "</table>\n"
      ],
      "text/plain": [
       "<pandas.io.formats.style.Styler at 0x7fbab095b340>"
      ]
     },
     "execution_count": 7,
     "metadata": {},
     "output_type": "execute_result"
    }
   ],
   "source": [
    "style_df(customer_cases.head(), 'Call Center Activity')"
   ]
  },
  {
   "cell_type": "code",
   "execution_count": 8,
   "id": "facae0e9",
   "metadata": {
    "execution": {
     "iopub.execute_input": "2025-04-14T23:13:55.402880Z",
     "iopub.status.busy": "2025-04-14T23:13:55.402486Z",
     "iopub.status.idle": "2025-04-14T23:13:55.410491Z",
     "shell.execute_reply": "2025-04-14T23:13:55.409334Z"
    },
    "papermill": {
     "duration": 0.023034,
     "end_time": "2025-04-14T23:13:55.412262",
     "exception": false,
     "start_time": "2025-04-14T23:13:55.389228",
     "status": "completed"
    },
    "tags": []
   },
   "outputs": [
    {
     "data": {
      "text/html": [
       "<style type=\"text/css\">\n",
       "#T_aef6a th {\n",
       "  background-color: #f0f0f0;\n",
       "  color: black;\n",
       "  font-weight: bold;\n",
       "}\n",
       "#T_aef6a tr:nth-of-type(odd) {\n",
       "  background-color: #f9f9f9;\n",
       "}\n",
       "</style>\n",
       "<table id=\"T_aef6a\">\n",
       "  <caption>Product Information</caption>\n",
       "  <thead>\n",
       "    <tr>\n",
       "      <th class=\"blank level0\" >&nbsp;</th>\n",
       "      <th id=\"T_aef6a_level0_col0\" class=\"col_heading level0 col0\" >product_id</th>\n",
       "      <th id=\"T_aef6a_level0_col1\" class=\"col_heading level0 col1\" >name</th>\n",
       "      <th id=\"T_aef6a_level0_col2\" class=\"col_heading level0 col2\" >price</th>\n",
       "      <th id=\"T_aef6a_level0_col3\" class=\"col_heading level0 col3\" >billing_cycle</th>\n",
       "    </tr>\n",
       "  </thead>\n",
       "  <tbody>\n",
       "    <tr>\n",
       "      <th id=\"T_aef6a_level0_row0\" class=\"row_heading level0 row0\" >0</th>\n",
       "      <td id=\"T_aef6a_row0_col0\" class=\"data row0 col0\" >prd_1</td>\n",
       "      <td id=\"T_aef6a_row0_col1\" class=\"data row0 col1\" >annual_subscription</td>\n",
       "      <td id=\"T_aef6a_row0_col2\" class=\"data row0 col2\" >1200</td>\n",
       "      <td id=\"T_aef6a_row0_col3\" class=\"data row0 col3\" >12</td>\n",
       "    </tr>\n",
       "    <tr>\n",
       "      <th id=\"T_aef6a_level0_row1\" class=\"row_heading level0 row1\" >1</th>\n",
       "      <td id=\"T_aef6a_row1_col0\" class=\"data row1 col0\" >prd_2</td>\n",
       "      <td id=\"T_aef6a_row1_col1\" class=\"data row1 col1\" >monthly_subscription</td>\n",
       "      <td id=\"T_aef6a_row1_col2\" class=\"data row1 col2\" >125</td>\n",
       "      <td id=\"T_aef6a_row1_col3\" class=\"data row1 col3\" >1</td>\n",
       "    </tr>\n",
       "  </tbody>\n",
       "</table>\n"
      ],
      "text/plain": [
       "<pandas.io.formats.style.Styler at 0x7fbab095bbe0>"
      ]
     },
     "execution_count": 8,
     "metadata": {},
     "output_type": "execute_result"
    }
   ],
   "source": [
    "style_df(product_info.head(), 'Product Information')"
   ]
  },
  {
   "cell_type": "markdown",
   "id": "2d64bc5a",
   "metadata": {
    "papermill": {
     "duration": 0.012181,
     "end_time": "2025-04-14T23:13:55.437103",
     "exception": false,
     "start_time": "2025-04-14T23:13:55.424922",
     "status": "completed"
    },
    "tags": []
   },
   "source": [
    "Customer Product Table will be the centre of the star schema. customer_id will be the primary key linking to the customer_centre and customer_info. product_id will be the primary key for the product_info table"
   ]
  },
  {
   "cell_type": "markdown",
   "id": "76fe3865",
   "metadata": {
    "papermill": {
     "duration": 0.012425,
     "end_time": "2025-04-14T23:13:55.462079",
     "exception": false,
     "start_time": "2025-04-14T23:13:55.449654",
     "status": "completed"
    },
    "tags": []
   },
   "source": [
    "## Missing Values Check"
   ]
  },
  {
   "cell_type": "code",
   "execution_count": 9,
   "id": "26e28c82",
   "metadata": {
    "execution": {
     "iopub.execute_input": "2025-04-14T23:13:55.488263Z",
     "iopub.status.busy": "2025-04-14T23:13:55.487932Z",
     "iopub.status.idle": "2025-04-14T23:13:55.730010Z",
     "shell.execute_reply": "2025-04-14T23:13:55.728716Z"
    },
    "papermill": {
     "duration": 0.257219,
     "end_time": "2025-04-14T23:13:55.731811",
     "exception": false,
     "start_time": "2025-04-14T23:13:55.474592",
     "status": "completed"
    },
    "tags": []
   },
   "outputs": [
    {
     "name": "stdout",
     "output_type": "stream",
     "text": [
      "\n",
      "product_info missing values:\n",
      "product_id       0\n",
      "name             0\n",
      "price            0\n",
      "billing_cycle    0\n",
      "dtype: int64\n",
      "\n",
      "product_info data types:\n",
      "product_id       object\n",
      "name             object\n",
      "price             int64\n",
      "billing_cycle     int64\n",
      "dtype: object\n",
      "\n",
      "customer_product missing values:\n",
      "Unnamed: 0               0\n",
      "customer_id              0\n",
      "product                  0\n",
      "signup_date_time         0\n",
      "cancel_date_time    396447\n",
      "dtype: int64\n",
      "\n",
      "customer_product data types:\n",
      "Unnamed: 0           int64\n",
      "customer_id         object\n",
      "product             object\n",
      "signup_date_time    object\n",
      "cancel_date_time    object\n",
      "dtype: object\n",
      "\n",
      "customer_info missing values:\n",
      "Unnamed: 0     0\n",
      "customer_id    0\n",
      "age            0\n",
      "gender         0\n",
      "dtype: int64\n",
      "\n",
      "customer_info data types:\n",
      "Unnamed: 0      int64\n",
      "customer_id    object\n",
      "age             int64\n",
      "gender         object\n",
      "dtype: object\n",
      "\n",
      "customer_cases missing values:\n",
      "Unnamed: 0     0\n",
      "case_id        0\n",
      "date_time      0\n",
      "customer_id    0\n",
      "channel        0\n",
      "reason         0\n",
      "dtype: int64\n",
      "\n",
      "customer_cases data types:\n",
      "Unnamed: 0      int64\n",
      "case_id        object\n",
      "date_time      object\n",
      "customer_id    object\n",
      "channel        object\n",
      "reason         object\n",
      "dtype: object\n"
     ]
    }
   ],
   "source": [
    "for df_name, df in [(\"product_info\", product_info), \n",
    "                    (\"customer_product\", customer_product),\n",
    "                    (\"customer_info\", customer_info), \n",
    "                    (\"customer_cases\", customer_cases)]:\n",
    "    print(f\"\\n{df_name} missing values:\")\n",
    "    print(df.isnull().sum())\n",
    "    \n",
    "    print(f\"\\n{df_name} data types:\")\n",
    "    print(df.dtypes)"
   ]
  },
  {
   "cell_type": "code",
   "execution_count": 10,
   "id": "e5ad1281",
   "metadata": {
    "execution": {
     "iopub.execute_input": "2025-04-14T23:13:55.759237Z",
     "iopub.status.busy": "2025-04-14T23:13:55.758859Z",
     "iopub.status.idle": "2025-04-14T23:13:55.862162Z",
     "shell.execute_reply": "2025-04-14T23:13:55.861149Z"
    },
    "papermill": {
     "duration": 0.118885,
     "end_time": "2025-04-14T23:13:55.864045",
     "exception": false,
     "start_time": "2025-04-14T23:13:55.745160",
     "status": "completed"
    },
    "tags": []
   },
   "outputs": [
    {
     "data": {
      "text/plain": [
       "Unnamed: 0               0\n",
       "customer_id              0\n",
       "product                  0\n",
       "signup_date_time         0\n",
       "cancel_date_time    396447\n",
       "dtype: int64"
      ]
     },
     "execution_count": 10,
     "metadata": {},
     "output_type": "execute_result"
    }
   ],
   "source": [
    "customer_product.isnull().sum()"
   ]
  },
  {
   "cell_type": "markdown",
   "id": "5239c9a7",
   "metadata": {
    "papermill": {
     "duration": 0.012311,
     "end_time": "2025-04-14T23:13:55.889464",
     "exception": false,
     "start_time": "2025-04-14T23:13:55.877153",
     "status": "completed"
    },
    "tags": []
   },
   "source": [
    "This suggests that the missing values in cancel date_time are not actual missing values but rather customers who have not cancelled their subscription"
   ]
  },
  {
   "cell_type": "code",
   "execution_count": 11,
   "id": "2e9df256",
   "metadata": {
    "execution": {
     "iopub.execute_input": "2025-04-14T23:13:55.916284Z",
     "iopub.status.busy": "2025-04-14T23:13:55.915922Z",
     "iopub.status.idle": "2025-04-14T23:13:56.273548Z",
     "shell.execute_reply": "2025-04-14T23:13:56.272358Z"
    },
    "papermill": {
     "duration": 0.373226,
     "end_time": "2025-04-14T23:13:56.275609",
     "exception": false,
     "start_time": "2025-04-14T23:13:55.902383",
     "status": "completed"
    },
    "tags": []
   },
   "outputs": [],
   "source": [
    "customer_product['signup_date_time'] = pd.to_datetime(customer_product['signup_date_time'])\n",
    "customer_product['cancel_date_time'] = pd.to_datetime(customer_product['cancel_date_time'])\n",
    "customer_cases['date_time'] = pd.to_datetime(customer_cases['date_time'])"
   ]
  },
  {
   "cell_type": "code",
   "execution_count": 12,
   "id": "9552f2d2",
   "metadata": {
    "execution": {
     "iopub.execute_input": "2025-04-14T23:13:56.302352Z",
     "iopub.status.busy": "2025-04-14T23:13:56.301962Z",
     "iopub.status.idle": "2025-04-14T23:13:56.329492Z",
     "shell.execute_reply": "2025-04-14T23:13:56.328339Z"
    },
    "papermill": {
     "duration": 0.042965,
     "end_time": "2025-04-14T23:13:56.331468",
     "exception": false,
     "start_time": "2025-04-14T23:13:56.288503",
     "status": "completed"
    },
    "tags": []
   },
   "outputs": [],
   "source": [
    "today = pd.to_datetime('2022-01-01')\n",
    "customer_product['end_date'] = customer_product['cancel_date_time'].fillna(today)\n",
    "customer_product['tenure_days'] = (customer_product['end_date'] - customer_product['signup_date_time']).dt.days"
   ]
  },
  {
   "cell_type": "markdown",
   "id": "878c29cd",
   "metadata": {
    "papermill": {
     "duration": 0.012179,
     "end_time": "2025-04-14T23:13:56.356413",
     "exception": false,
     "start_time": "2025-04-14T23:13:56.344234",
     "status": "completed"
    },
    "tags": []
   },
   "source": [
    "## Create a Joined Dataframe"
   ]
  },
  {
   "cell_type": "code",
   "execution_count": 13,
   "id": "b4c135cf",
   "metadata": {
    "execution": {
     "iopub.execute_input": "2025-04-14T23:13:56.383711Z",
     "iopub.status.busy": "2025-04-14T23:13:56.383332Z",
     "iopub.status.idle": "2025-04-14T23:13:56.841054Z",
     "shell.execute_reply": "2025-04-14T23:13:56.839973Z"
    },
    "papermill": {
     "duration": 0.474361,
     "end_time": "2025-04-14T23:13:56.843243",
     "exception": false,
     "start_time": "2025-04-14T23:13:56.368882",
     "status": "completed"
    },
    "tags": []
   },
   "outputs": [],
   "source": [
    "joined_df = pd.merge(customer_product,customer_info, how='left', left_on='customer_id', right_on='customer_id')"
   ]
  },
  {
   "cell_type": "code",
   "execution_count": 14,
   "id": "5de6158b",
   "metadata": {
    "execution": {
     "iopub.execute_input": "2025-04-14T23:13:56.870377Z",
     "iopub.status.busy": "2025-04-14T23:13:56.869987Z",
     "iopub.status.idle": "2025-04-14T23:13:57.063431Z",
     "shell.execute_reply": "2025-04-14T23:13:57.062259Z"
    },
    "papermill": {
     "duration": 0.209219,
     "end_time": "2025-04-14T23:13:57.065530",
     "exception": false,
     "start_time": "2025-04-14T23:13:56.856311",
     "status": "completed"
    },
    "tags": []
   },
   "outputs": [],
   "source": [
    "joined_df = pd.merge(joined_df,product_info, how='left', left_on='product',right_on='product_id')"
   ]
  },
  {
   "cell_type": "code",
   "execution_count": 15,
   "id": "0dc421e3",
   "metadata": {
    "execution": {
     "iopub.execute_input": "2025-04-14T23:13:57.094203Z",
     "iopub.status.busy": "2025-04-14T23:13:57.093759Z",
     "iopub.status.idle": "2025-04-14T23:13:57.548450Z",
     "shell.execute_reply": "2025-04-14T23:13:57.547268Z"
    },
    "papermill": {
     "duration": 0.470376,
     "end_time": "2025-04-14T23:13:57.550492",
     "exception": false,
     "start_time": "2025-04-14T23:13:57.080116",
     "status": "completed"
    },
    "tags": []
   },
   "outputs": [],
   "source": [
    "case_summary = customer_cases.groupby('customer_id').agg({\n",
    "\t'case_id': 'count',\n",
    "\t'date_time':['min','max']\n",
    "})"
   ]
  },
  {
   "cell_type": "code",
   "execution_count": 16,
   "id": "9e1080b0",
   "metadata": {
    "execution": {
     "iopub.execute_input": "2025-04-14T23:13:57.578216Z",
     "iopub.status.busy": "2025-04-14T23:13:57.577828Z",
     "iopub.status.idle": "2025-04-14T23:13:57.582530Z",
     "shell.execute_reply": "2025-04-14T23:13:57.581193Z"
    },
    "papermill": {
     "duration": 0.020675,
     "end_time": "2025-04-14T23:13:57.584372",
     "exception": false,
     "start_time": "2025-04-14T23:13:57.563697",
     "status": "completed"
    },
    "tags": []
   },
   "outputs": [],
   "source": [
    "case_summary.columns = [\n",
    "\t'total_cases',\n",
    "\t'first_case_date',\n",
    "\t'last_case_date'\n",
    "]"
   ]
  },
  {
   "cell_type": "code",
   "execution_count": 17,
   "id": "a636d03f",
   "metadata": {
    "execution": {
     "iopub.execute_input": "2025-04-14T23:13:57.611390Z",
     "iopub.status.busy": "2025-04-14T23:13:57.610992Z",
     "iopub.status.idle": "2025-04-14T23:13:57.624469Z",
     "shell.execute_reply": "2025-04-14T23:13:57.623267Z"
    },
    "papermill": {
     "duration": 0.029024,
     "end_time": "2025-04-14T23:13:57.626422",
     "exception": false,
     "start_time": "2025-04-14T23:13:57.597398",
     "status": "completed"
    },
    "tags": []
   },
   "outputs": [],
   "source": [
    "case_summary['days_between_cases'] = (case_summary['last_case_date'] - case_summary['first_case_date']).dt.days"
   ]
  },
  {
   "cell_type": "code",
   "execution_count": 18,
   "id": "376e8af2",
   "metadata": {
    "execution": {
     "iopub.execute_input": "2025-04-14T23:13:57.654005Z",
     "iopub.status.busy": "2025-04-14T23:13:57.653593Z",
     "iopub.status.idle": "2025-04-14T23:13:58.286119Z",
     "shell.execute_reply": "2025-04-14T23:13:58.285000Z"
    },
    "papermill": {
     "duration": 0.648137,
     "end_time": "2025-04-14T23:13:58.288175",
     "exception": false,
     "start_time": "2025-04-14T23:13:57.640038",
     "status": "completed"
    },
    "tags": []
   },
   "outputs": [],
   "source": [
    "reason_counts = customer_cases.groupby(['customer_id', 'reason']).size().unstack(fill_value=0)\n",
    "reason_counts.columns = [f\"reason{col}\" for col in reason_counts.columns]\n",
    "case_summary = case_summary.join(reason_counts)"
   ]
  },
  {
   "cell_type": "code",
   "execution_count": 19,
   "id": "bcedfc13",
   "metadata": {
    "execution": {
     "iopub.execute_input": "2025-04-14T23:13:58.315991Z",
     "iopub.status.busy": "2025-04-14T23:13:58.315596Z",
     "iopub.status.idle": "2025-04-14T23:13:58.809247Z",
     "shell.execute_reply": "2025-04-14T23:13:58.808135Z"
    },
    "papermill": {
     "duration": 0.509983,
     "end_time": "2025-04-14T23:13:58.811319",
     "exception": false,
     "start_time": "2025-04-14T23:13:58.301336",
     "status": "completed"
    },
    "tags": []
   },
   "outputs": [],
   "source": [
    "churn_df = pd.merge(joined_df, case_summary, on='customer_id', how='left')"
   ]
  },
  {
   "cell_type": "code",
   "execution_count": 20,
   "id": "54091505",
   "metadata": {
    "execution": {
     "iopub.execute_input": "2025-04-14T23:13:58.838644Z",
     "iopub.status.busy": "2025-04-14T23:13:58.838299Z",
     "iopub.status.idle": "2025-04-14T23:13:58.849537Z",
     "shell.execute_reply": "2025-04-14T23:13:58.848542Z"
    },
    "papermill": {
     "duration": 0.026793,
     "end_time": "2025-04-14T23:13:58.851449",
     "exception": false,
     "start_time": "2025-04-14T23:13:58.824656",
     "status": "completed"
    },
    "tags": []
   },
   "outputs": [],
   "source": [
    "churn_df['total_cases'] = churn_df['total_cases'].fillna(0)"
   ]
  },
  {
   "cell_type": "code",
   "execution_count": 21,
   "id": "8e262ee1",
   "metadata": {
    "execution": {
     "iopub.execute_input": "2025-04-14T23:13:58.878494Z",
     "iopub.status.busy": "2025-04-14T23:13:58.878150Z",
     "iopub.status.idle": "2025-04-14T23:13:58.969583Z",
     "shell.execute_reply": "2025-04-14T23:13:58.968246Z"
    },
    "papermill": {
     "duration": 0.107195,
     "end_time": "2025-04-14T23:13:58.971580",
     "exception": false,
     "start_time": "2025-04-14T23:13:58.864385",
     "status": "completed"
    },
    "tags": []
   },
   "outputs": [],
   "source": [
    "churn_df = churn_df.drop('Unnamed: 0_x', axis=1)\n",
    "churn_df = churn_df.drop('Unnamed: 0_y', axis=1)"
   ]
  },
  {
   "cell_type": "code",
   "execution_count": 22,
   "id": "cfbb242c",
   "metadata": {
    "execution": {
     "iopub.execute_input": "2025-04-14T23:13:59.000715Z",
     "iopub.status.busy": "2025-04-14T23:13:59.000212Z",
     "iopub.status.idle": "2025-04-14T23:13:59.156077Z",
     "shell.execute_reply": "2025-04-14T23:13:59.154687Z"
    },
    "papermill": {
     "duration": 0.173546,
     "end_time": "2025-04-14T23:13:59.158711",
     "exception": false,
     "start_time": "2025-04-14T23:13:58.985165",
     "status": "completed"
    },
    "tags": []
   },
   "outputs": [
    {
     "name": "stdout",
     "output_type": "stream",
     "text": [
      "customer_id                0\n",
      "product                    0\n",
      "signup_date_time           0\n",
      "cancel_date_time      396447\n",
      "end_date                   0\n",
      "tenure_days                0\n",
      "age                        0\n",
      "gender                     0\n",
      "product_id                 0\n",
      "name                       0\n",
      "price                      0\n",
      "billing_cycle              0\n",
      "total_cases                0\n",
      "first_case_date       250272\n",
      "last_case_date        250272\n",
      "days_between_cases    250272\n",
      "reasonsignup          250272\n",
      "reasonsupport         250272\n",
      "dtype: int64\n"
     ]
    }
   ],
   "source": [
    "print(churn_df.isnull().sum())"
   ]
  },
  {
   "cell_type": "markdown",
   "id": "3d0680c4",
   "metadata": {
    "papermill": {
     "duration": 0.018017,
     "end_time": "2025-04-14T23:13:59.194173",
     "exception": false,
     "start_time": "2025-04-14T23:13:59.176156",
     "status": "completed"
    },
    "tags": []
   },
   "source": [
    "## Clean Merged Dataset"
   ]
  },
  {
   "cell_type": "code",
   "execution_count": 23,
   "id": "6e63f26a",
   "metadata": {
    "execution": {
     "iopub.execute_input": "2025-04-14T23:13:59.221634Z",
     "iopub.status.busy": "2025-04-14T23:13:59.221284Z",
     "iopub.status.idle": "2025-04-14T23:13:59.249307Z",
     "shell.execute_reply": "2025-04-14T23:13:59.248169Z"
    },
    "papermill": {
     "duration": 0.044119,
     "end_time": "2025-04-14T23:13:59.251279",
     "exception": false,
     "start_time": "2025-04-14T23:13:59.207160",
     "status": "completed"
    },
    "tags": []
   },
   "outputs": [],
   "source": [
    "churn_df['total_cases'] = churn_df['total_cases'].fillna(0)\n",
    "churn_df['first_case_date'] = churn_df['first_case_date'].fillna(pd.NaT)\n",
    "churn_df['last_case_date'] = churn_df['last_case_date'].fillna(pd.NaT)\n",
    "churn_df['days_between_cases'] = churn_df['days_between_cases'].fillna(0)\n",
    "churn_df['ever_contacted_support'] = churn_df['total_cases'].gt(0).astype(int)"
   ]
  },
  {
   "cell_type": "code",
   "execution_count": 24,
   "id": "2e4619af",
   "metadata": {
    "execution": {
     "iopub.execute_input": "2025-04-14T23:13:59.279889Z",
     "iopub.status.busy": "2025-04-14T23:13:59.279496Z",
     "iopub.status.idle": "2025-04-14T23:13:59.301949Z",
     "shell.execute_reply": "2025-04-14T23:13:59.300785Z"
    },
    "papermill": {
     "duration": 0.039592,
     "end_time": "2025-04-14T23:13:59.303941",
     "exception": false,
     "start_time": "2025-04-14T23:13:59.264349",
     "status": "completed"
    },
    "tags": []
   },
   "outputs": [],
   "source": [
    "reason_columns = [col for col in churn_df.columns if col.startswith('reason')]\n",
    "churn_df[reason_columns] = churn_df[reason_columns].fillna(0)"
   ]
  },
  {
   "cell_type": "code",
   "execution_count": 25,
   "id": "1b266fb1",
   "metadata": {
    "execution": {
     "iopub.execute_input": "2025-04-14T23:13:59.331324Z",
     "iopub.status.busy": "2025-04-14T23:13:59.330948Z",
     "iopub.status.idle": "2025-04-14T23:13:59.498147Z",
     "shell.execute_reply": "2025-04-14T23:13:59.496918Z"
    },
    "papermill": {
     "duration": 0.183388,
     "end_time": "2025-04-14T23:13:59.500313",
     "exception": false,
     "start_time": "2025-04-14T23:13:59.316925",
     "status": "completed"
    },
    "tags": []
   },
   "outputs": [
    {
     "name": "stdout",
     "output_type": "stream",
     "text": [
      "customer_id                    0\n",
      "product                        0\n",
      "signup_date_time               0\n",
      "cancel_date_time          396447\n",
      "end_date                       0\n",
      "tenure_days                    0\n",
      "age                            0\n",
      "gender                         0\n",
      "product_id                     0\n",
      "name                           0\n",
      "price                          0\n",
      "billing_cycle                  0\n",
      "total_cases                    0\n",
      "first_case_date           250272\n",
      "last_case_date            250272\n",
      "days_between_cases             0\n",
      "reasonsignup                   0\n",
      "reasonsupport                  0\n",
      "ever_contacted_support         0\n",
      "dtype: int64\n"
     ]
    }
   ],
   "source": [
    "print(churn_df.isnull().sum())"
   ]
  },
  {
   "cell_type": "code",
   "execution_count": 26,
   "id": "8c490cf4",
   "metadata": {
    "execution": {
     "iopub.execute_input": "2025-04-14T23:13:59.527915Z",
     "iopub.status.busy": "2025-04-14T23:13:59.527544Z",
     "iopub.status.idle": "2025-04-14T23:13:59.579592Z",
     "shell.execute_reply": "2025-04-14T23:13:59.578390Z"
    },
    "papermill": {
     "duration": 0.068275,
     "end_time": "2025-04-14T23:13:59.581935",
     "exception": false,
     "start_time": "2025-04-14T23:13:59.513660",
     "status": "completed"
    },
    "tags": []
   },
   "outputs": [],
   "source": [
    "churn_df['days_since_signup'] = (today - churn_df['signup_date_time']).dt.days \n",
    "mask = churn_df['ever_contacted_support'] == 1\n",
    "churn_df.loc[mask,'days_to_first_contact'] = (churn_df.loc[mask, 'first_case_date'] - churn_df.loc[mask, 'signup_date_time']).dt.days"
   ]
  },
  {
   "cell_type": "code",
   "execution_count": 27,
   "id": "9fde9675",
   "metadata": {
    "execution": {
     "iopub.execute_input": "2025-04-14T23:13:59.619245Z",
     "iopub.status.busy": "2025-04-14T23:13:59.618774Z",
     "iopub.status.idle": "2025-04-14T23:13:59.633087Z",
     "shell.execute_reply": "2025-04-14T23:13:59.631879Z"
    },
    "papermill": {
     "duration": 0.03073,
     "end_time": "2025-04-14T23:13:59.635131",
     "exception": false,
     "start_time": "2025-04-14T23:13:59.604401",
     "status": "completed"
    },
    "tags": []
   },
   "outputs": [],
   "source": [
    "churn_df['days_to_first_contact'] = churn_df['days_to_first_contact'].fillna(-1)"
   ]
  },
  {
   "cell_type": "code",
   "execution_count": 28,
   "id": "5fae28fc",
   "metadata": {
    "execution": {
     "iopub.execute_input": "2025-04-14T23:13:59.662306Z",
     "iopub.status.busy": "2025-04-14T23:13:59.661951Z",
     "iopub.status.idle": "2025-04-14T23:13:59.681953Z",
     "shell.execute_reply": "2025-04-14T23:13:59.680776Z"
    },
    "papermill": {
     "duration": 0.036102,
     "end_time": "2025-04-14T23:13:59.684206",
     "exception": false,
     "start_time": "2025-04-14T23:13:59.648104",
     "status": "completed"
    },
    "tags": []
   },
   "outputs": [],
   "source": [
    "churn_df['age_group'] = pd.cut(churn_df['age'],\n",
    "                              bins  = [0, 30, 45, 60, 75, 100],\n",
    "                              labels  = ['<30', '30-45', '46-60','61-75','75+'])"
   ]
  },
  {
   "cell_type": "code",
   "execution_count": 29,
   "id": "17cd316d",
   "metadata": {
    "execution": {
     "iopub.execute_input": "2025-04-14T23:13:59.770967Z",
     "iopub.status.busy": "2025-04-14T23:13:59.770552Z",
     "iopub.status.idle": "2025-04-14T23:13:59.786551Z",
     "shell.execute_reply": "2025-04-14T23:13:59.785445Z"
    },
    "papermill": {
     "duration": 0.031931,
     "end_time": "2025-04-14T23:13:59.788871",
     "exception": false,
     "start_time": "2025-04-14T23:13:59.756940",
     "status": "completed"
    },
    "tags": []
   },
   "outputs": [],
   "source": [
    "churn_df['tenure_group'] = pd.cut(churn_df['tenure_days'],\n",
    "                                 bins = [0, 90, 180, 365, 730, float('inf')],\n",
    "                                 labels = ['0-3mo', '3-6mo', '6-12mo','1-2yr', '2yr+'])"
   ]
  },
  {
   "cell_type": "code",
   "execution_count": 30,
   "id": "33d4035b",
   "metadata": {
    "execution": {
     "iopub.execute_input": "2025-04-14T23:13:59.825134Z",
     "iopub.status.busy": "2025-04-14T23:13:59.824658Z",
     "iopub.status.idle": "2025-04-14T23:14:00.223256Z",
     "shell.execute_reply": "2025-04-14T23:14:00.222001Z"
    },
    "papermill": {
     "duration": 0.414597,
     "end_time": "2025-04-14T23:14:00.225412",
     "exception": false,
     "start_time": "2025-04-14T23:13:59.810815",
     "status": "completed"
    },
    "tags": []
   },
   "outputs": [
    {
     "data": {
      "text/html": [
       "<div>\n",
       "<style scoped>\n",
       "    .dataframe tbody tr th:only-of-type {\n",
       "        vertical-align: middle;\n",
       "    }\n",
       "\n",
       "    .dataframe tbody tr th {\n",
       "        vertical-align: top;\n",
       "    }\n",
       "\n",
       "    .dataframe thead th {\n",
       "        text-align: right;\n",
       "    }\n",
       "</style>\n",
       "<table border=\"1\" class=\"dataframe\">\n",
       "  <thead>\n",
       "    <tr style=\"text-align: right;\">\n",
       "      <th></th>\n",
       "      <th>signup_date_time</th>\n",
       "      <th>cancel_date_time</th>\n",
       "      <th>end_date</th>\n",
       "      <th>tenure_days</th>\n",
       "      <th>age</th>\n",
       "      <th>price</th>\n",
       "      <th>billing_cycle</th>\n",
       "      <th>total_cases</th>\n",
       "      <th>first_case_date</th>\n",
       "      <th>last_case_date</th>\n",
       "      <th>days_between_cases</th>\n",
       "      <th>reasonsignup</th>\n",
       "      <th>reasonsupport</th>\n",
       "      <th>ever_contacted_support</th>\n",
       "      <th>days_since_signup</th>\n",
       "      <th>days_to_first_contact</th>\n",
       "    </tr>\n",
       "  </thead>\n",
       "  <tbody>\n",
       "    <tr>\n",
       "      <th>count</th>\n",
       "      <td>508932</td>\n",
       "      <td>112485</td>\n",
       "      <td>508932</td>\n",
       "      <td>508932.000000</td>\n",
       "      <td>508932.000000</td>\n",
       "      <td>508932.000000</td>\n",
       "      <td>508932.000000</td>\n",
       "      <td>508932.000000</td>\n",
       "      <td>258660</td>\n",
       "      <td>258660</td>\n",
       "      <td>508932.000000</td>\n",
       "      <td>508932.000000</td>\n",
       "      <td>508932.000000</td>\n",
       "      <td>508932.000000</td>\n",
       "      <td>508932.000000</td>\n",
       "      <td>508932.000000</td>\n",
       "    </tr>\n",
       "    <tr>\n",
       "      <th>mean</th>\n",
       "      <td>2020-02-16 11:01:51.888912384</td>\n",
       "      <td>2020-09-29 23:06:47.655838464</td>\n",
       "      <td>2021-09-21 18:20:01.758126848</td>\n",
       "      <td>582.861351</td>\n",
       "      <td>58.473030</td>\n",
       "      <td>812.857464</td>\n",
       "      <td>8.038541</td>\n",
       "      <td>0.649423</td>\n",
       "      <td>2020-04-15 18:25:58.267691008</td>\n",
       "      <td>2020-05-26 11:24:47.194757632</td>\n",
       "      <td>20.639087</td>\n",
       "      <td>0.254507</td>\n",
       "      <td>0.394915</td>\n",
       "      <td>0.508241</td>\n",
       "      <td>684.102998</td>\n",
       "      <td>35.649600</td>\n",
       "    </tr>\n",
       "    <tr>\n",
       "      <th>min</th>\n",
       "      <td>2017-01-01 07:55:42</td>\n",
       "      <td>2017-01-08 15:14:53</td>\n",
       "      <td>2017-01-08 15:14:53</td>\n",
       "      <td>0.000000</td>\n",
       "      <td>21.000000</td>\n",
       "      <td>125.000000</td>\n",
       "      <td>1.000000</td>\n",
       "      <td>0.000000</td>\n",
       "      <td>2017-01-01 10:32:03</td>\n",
       "      <td>2017-01-01 10:32:03</td>\n",
       "      <td>0.000000</td>\n",
       "      <td>0.000000</td>\n",
       "      <td>0.000000</td>\n",
       "      <td>0.000000</td>\n",
       "      <td>0.000000</td>\n",
       "      <td>-1.000000</td>\n",
       "    </tr>\n",
       "    <tr>\n",
       "      <th>25%</th>\n",
       "      <td>2019-04-18 11:27:09</td>\n",
       "      <td>2020-03-03 15:25:12</td>\n",
       "      <td>2022-01-01 00:00:00</td>\n",
       "      <td>239.000000</td>\n",
       "      <td>53.000000</td>\n",
       "      <td>125.000000</td>\n",
       "      <td>1.000000</td>\n",
       "      <td>0.000000</td>\n",
       "      <td>2019-06-06 09:27:45</td>\n",
       "      <td>2019-07-21 09:32:20.500000</td>\n",
       "      <td>0.000000</td>\n",
       "      <td>0.000000</td>\n",
       "      <td>0.000000</td>\n",
       "      <td>0.000000</td>\n",
       "      <td>298.000000</td>\n",
       "      <td>-1.000000</td>\n",
       "    </tr>\n",
       "    <tr>\n",
       "      <th>50%</th>\n",
       "      <td>2020-04-25 11:14:34</td>\n",
       "      <td>2020-12-29 13:24:10</td>\n",
       "      <td>2022-01-01 00:00:00</td>\n",
       "      <td>504.000000</td>\n",
       "      <td>59.000000</td>\n",
       "      <td>1200.000000</td>\n",
       "      <td>12.000000</td>\n",
       "      <td>1.000000</td>\n",
       "      <td>2020-07-06 14:57:11</td>\n",
       "      <td>2020-08-14 15:31:07.500000</td>\n",
       "      <td>0.000000</td>\n",
       "      <td>0.000000</td>\n",
       "      <td>0.000000</td>\n",
       "      <td>1.000000</td>\n",
       "      <td>615.000000</td>\n",
       "      <td>-1.000000</td>\n",
       "    </tr>\n",
       "    <tr>\n",
       "      <th>75%</th>\n",
       "      <td>2021-03-08 16:49:51</td>\n",
       "      <td>2021-07-22 10:59:54</td>\n",
       "      <td>2022-01-01 00:00:00</td>\n",
       "      <td>858.000000</td>\n",
       "      <td>64.000000</td>\n",
       "      <td>1200.000000</td>\n",
       "      <td>12.000000</td>\n",
       "      <td>1.000000</td>\n",
       "      <td>2021-05-15 11:54:53</td>\n",
       "      <td>2021-06-26 17:26:50.750000128</td>\n",
       "      <td>0.000000</td>\n",
       "      <td>1.000000</td>\n",
       "      <td>1.000000</td>\n",
       "      <td>1.000000</td>\n",
       "      <td>988.000000</td>\n",
       "      <td>3.000000</td>\n",
       "    </tr>\n",
       "    <tr>\n",
       "      <th>max</th>\n",
       "      <td>2021-12-31 19:38:21</td>\n",
       "      <td>2021-12-31 21:44:10</td>\n",
       "      <td>2022-01-01 00:00:00</td>\n",
       "      <td>1825.000000</td>\n",
       "      <td>78.000000</td>\n",
       "      <td>1200.000000</td>\n",
       "      <td>12.000000</td>\n",
       "      <td>5.000000</td>\n",
       "      <td>2022-01-01 06:32:53</td>\n",
       "      <td>2022-01-01 06:32:53</td>\n",
       "      <td>1368.000000</td>\n",
       "      <td>1.000000</td>\n",
       "      <td>4.000000</td>\n",
       "      <td>1.000000</td>\n",
       "      <td>1825.000000</td>\n",
       "      <td>1392.000000</td>\n",
       "    </tr>\n",
       "    <tr>\n",
       "      <th>std</th>\n",
       "      <td>NaN</td>\n",
       "      <td>NaN</td>\n",
       "      <td>NaN</td>\n",
       "      <td>425.268635</td>\n",
       "      <td>8.257361</td>\n",
       "      <td>516.042059</td>\n",
       "      <td>5.280430</td>\n",
       "      <td>0.735795</td>\n",
       "      <td>NaN</td>\n",
       "      <td>NaN</td>\n",
       "      <td>78.580899</td>\n",
       "      <td>0.435584</td>\n",
       "      <td>0.583338</td>\n",
       "      <td>0.499933</td>\n",
       "      <td>453.620754</td>\n",
       "      <td>94.368328</td>\n",
       "    </tr>\n",
       "  </tbody>\n",
       "</table>\n",
       "</div>"
      ],
      "text/plain": [
       "                    signup_date_time               cancel_date_time  \\\n",
       "count                         508932                         112485   \n",
       "mean   2020-02-16 11:01:51.888912384  2020-09-29 23:06:47.655838464   \n",
       "min              2017-01-01 07:55:42            2017-01-08 15:14:53   \n",
       "25%              2019-04-18 11:27:09            2020-03-03 15:25:12   \n",
       "50%              2020-04-25 11:14:34            2020-12-29 13:24:10   \n",
       "75%              2021-03-08 16:49:51            2021-07-22 10:59:54   \n",
       "max              2021-12-31 19:38:21            2021-12-31 21:44:10   \n",
       "std                              NaN                            NaN   \n",
       "\n",
       "                            end_date    tenure_days            age  \\\n",
       "count                         508932  508932.000000  508932.000000   \n",
       "mean   2021-09-21 18:20:01.758126848     582.861351      58.473030   \n",
       "min              2017-01-08 15:14:53       0.000000      21.000000   \n",
       "25%              2022-01-01 00:00:00     239.000000      53.000000   \n",
       "50%              2022-01-01 00:00:00     504.000000      59.000000   \n",
       "75%              2022-01-01 00:00:00     858.000000      64.000000   \n",
       "max              2022-01-01 00:00:00    1825.000000      78.000000   \n",
       "std                              NaN     425.268635       8.257361   \n",
       "\n",
       "               price  billing_cycle    total_cases  \\\n",
       "count  508932.000000  508932.000000  508932.000000   \n",
       "mean      812.857464       8.038541       0.649423   \n",
       "min       125.000000       1.000000       0.000000   \n",
       "25%       125.000000       1.000000       0.000000   \n",
       "50%      1200.000000      12.000000       1.000000   \n",
       "75%      1200.000000      12.000000       1.000000   \n",
       "max      1200.000000      12.000000       5.000000   \n",
       "std       516.042059       5.280430       0.735795   \n",
       "\n",
       "                     first_case_date                 last_case_date  \\\n",
       "count                         258660                         258660   \n",
       "mean   2020-04-15 18:25:58.267691008  2020-05-26 11:24:47.194757632   \n",
       "min              2017-01-01 10:32:03            2017-01-01 10:32:03   \n",
       "25%              2019-06-06 09:27:45     2019-07-21 09:32:20.500000   \n",
       "50%              2020-07-06 14:57:11     2020-08-14 15:31:07.500000   \n",
       "75%              2021-05-15 11:54:53  2021-06-26 17:26:50.750000128   \n",
       "max              2022-01-01 06:32:53            2022-01-01 06:32:53   \n",
       "std                              NaN                            NaN   \n",
       "\n",
       "       days_between_cases   reasonsignup  reasonsupport  \\\n",
       "count       508932.000000  508932.000000  508932.000000   \n",
       "mean            20.639087       0.254507       0.394915   \n",
       "min              0.000000       0.000000       0.000000   \n",
       "25%              0.000000       0.000000       0.000000   \n",
       "50%              0.000000       0.000000       0.000000   \n",
       "75%              0.000000       1.000000       1.000000   \n",
       "max           1368.000000       1.000000       4.000000   \n",
       "std             78.580899       0.435584       0.583338   \n",
       "\n",
       "       ever_contacted_support  days_since_signup  days_to_first_contact  \n",
       "count           508932.000000      508932.000000          508932.000000  \n",
       "mean                 0.508241         684.102998              35.649600  \n",
       "min                  0.000000           0.000000              -1.000000  \n",
       "25%                  0.000000         298.000000              -1.000000  \n",
       "50%                  1.000000         615.000000              -1.000000  \n",
       "75%                  1.000000         988.000000               3.000000  \n",
       "max                  1.000000        1825.000000            1392.000000  \n",
       "std                  0.499933         453.620754              94.368328  "
      ]
     },
     "execution_count": 30,
     "metadata": {},
     "output_type": "execute_result"
    }
   ],
   "source": [
    "churn_df.describe()"
   ]
  },
  {
   "cell_type": "markdown",
   "id": "5c0cd3dd",
   "metadata": {
    "papermill": {
     "duration": 0.014367,
     "end_time": "2025-04-14T23:14:00.254316",
     "exception": false,
     "start_time": "2025-04-14T23:14:00.239949",
     "status": "completed"
    },
    "tags": []
   },
   "source": [
    "# Defining Churn"
   ]
  },
  {
   "cell_type": "markdown",
   "id": "6bff1fcd",
   "metadata": {
    "papermill": {
     "duration": 0.013704,
     "end_time": "2025-04-14T23:14:00.282299",
     "exception": false,
     "start_time": "2025-04-14T23:14:00.268595",
     "status": "completed"
    },
    "tags": []
   },
   "source": [
    "Earlier defined churn as has cancellation_date = Churned. This is good retrospectively, but it's not predictive. Using a time-window approach here (will churn in Next X Days). This is where the business value is. The purpose of churn prediction is preventing future churn, not explaining past churn"
   ]
  },
  {
   "cell_type": "code",
   "execution_count": 31,
   "id": "adf5c145",
   "metadata": {
    "execution": {
     "iopub.execute_input": "2025-04-14T23:14:00.310890Z",
     "iopub.status.busy": "2025-04-14T23:14:00.310361Z",
     "iopub.status.idle": "2025-04-14T23:14:00.332117Z",
     "shell.execute_reply": "2025-04-14T23:14:00.330833Z"
    },
    "papermill": {
     "duration": 0.038753,
     "end_time": "2025-04-14T23:14:00.334311",
     "exception": false,
     "start_time": "2025-04-14T23:14:00.295558",
     "status": "completed"
    },
    "tags": []
   },
   "outputs": [],
   "source": [
    "cutoff_date = pd.to_datetime('2021-10-03')\n",
    "\n",
    "churn_df['will_churn_next_90d'] = (\n",
    "    (churn_df['cancel_date_time'] > cutoff_date) & \n",
    "    (churn_df['cancel_date_time'] <= cutoff_date + pd.Timedelta(days = 90))\n",
    ").astype(int)"
   ]
  },
  {
   "cell_type": "code",
   "execution_count": 32,
   "id": "2c5207b0",
   "metadata": {
    "execution": {
     "iopub.execute_input": "2025-04-14T23:14:00.362975Z",
     "iopub.status.busy": "2025-04-14T23:14:00.362465Z",
     "iopub.status.idle": "2025-04-14T23:14:00.396705Z",
     "shell.execute_reply": "2025-04-14T23:14:00.395519Z"
    },
    "papermill": {
     "duration": 0.050845,
     "end_time": "2025-04-14T23:14:00.398850",
     "exception": false,
     "start_time": "2025-04-14T23:14:00.348005",
     "status": "completed"
    },
    "tags": []
   },
   "outputs": [
    {
     "name": "stdout",
     "output_type": "stream",
     "text": [
      "Initial EDA Check:\n",
      "Total customers with tenure < 90 days: 39692\n",
      "Churned customers in this group (any cancel date): 15581\n",
      "Initial Churn Rate for <90 days tenure: 39.25%\n"
     ]
    }
   ],
   "source": [
    "# Check customer journey\n",
    "\n",
    "initial_new_cust = churn_df[churn_df['tenure_days']<90].copy()\n",
    "initial_new_cust_count = len(initial_new_cust)\n",
    "initial_new_cust_churned_count = initial_new_cust['cancel_date_time'].notna().sum()\n",
    "initial_new_cust_churned_rate = (initial_new_cust_churned_count / initial_new_cust_count) * 100\n",
    "\n",
    "print(f\"Initial EDA Check:\")\n",
    "print(f\"Total customers with tenure < 90 days: {initial_new_cust_count}\")\n",
    "print(f\"Churned customers in this group (any cancel date): {initial_new_cust_churned_count}\")\n",
    "print(f\"Initial Churn Rate for <90 days tenure: {initial_new_cust_churned_rate:.2f}%\")\n"
   ]
  },
  {
   "cell_type": "code",
   "execution_count": 33,
   "id": "ff9c1b8e",
   "metadata": {
    "execution": {
     "iopub.execute_input": "2025-04-14T23:14:00.427717Z",
     "iopub.status.busy": "2025-04-14T23:14:00.427251Z",
     "iopub.status.idle": "2025-04-14T23:14:00.454697Z",
     "shell.execute_reply": "2025-04-14T23:14:00.453612Z"
    },
    "papermill": {
     "duration": 0.043916,
     "end_time": "2025-04-14T23:14:00.456907",
     "exception": false,
     "start_time": "2025-04-14T23:14:00.412991",
     "status": "completed"
    },
    "tags": []
   },
   "outputs": [
    {
     "data": {
      "text/html": [
       "<div>\n",
       "<style scoped>\n",
       "    .dataframe tbody tr th:only-of-type {\n",
       "        vertical-align: middle;\n",
       "    }\n",
       "\n",
       "    .dataframe tbody tr th {\n",
       "        vertical-align: top;\n",
       "    }\n",
       "\n",
       "    .dataframe thead th {\n",
       "        text-align: right;\n",
       "    }\n",
       "</style>\n",
       "<table border=\"1\" class=\"dataframe\">\n",
       "  <thead>\n",
       "    <tr style=\"text-align: right;\">\n",
       "      <th></th>\n",
       "      <th>customer_id</th>\n",
       "      <th>product</th>\n",
       "      <th>signup_date_time</th>\n",
       "      <th>cancel_date_time</th>\n",
       "      <th>end_date</th>\n",
       "      <th>tenure_days</th>\n",
       "      <th>age</th>\n",
       "      <th>gender</th>\n",
       "      <th>product_id</th>\n",
       "      <th>name</th>\n",
       "      <th>...</th>\n",
       "      <th>last_case_date</th>\n",
       "      <th>days_between_cases</th>\n",
       "      <th>reasonsignup</th>\n",
       "      <th>reasonsupport</th>\n",
       "      <th>ever_contacted_support</th>\n",
       "      <th>days_since_signup</th>\n",
       "      <th>days_to_first_contact</th>\n",
       "      <th>age_group</th>\n",
       "      <th>tenure_group</th>\n",
       "      <th>will_churn_next_90d</th>\n",
       "    </tr>\n",
       "  </thead>\n",
       "  <tbody>\n",
       "    <tr>\n",
       "      <th>0</th>\n",
       "      <td>C2448</td>\n",
       "      <td>prd_1</td>\n",
       "      <td>2017-01-01 10:35:09</td>\n",
       "      <td>NaT</td>\n",
       "      <td>2022-01-01 00:00:00</td>\n",
       "      <td>1825</td>\n",
       "      <td>76</td>\n",
       "      <td>female</td>\n",
       "      <td>prd_1</td>\n",
       "      <td>annual_subscription</td>\n",
       "      <td>...</td>\n",
       "      <td>2017-01-01 10:32:03</td>\n",
       "      <td>0.0</td>\n",
       "      <td>1.0</td>\n",
       "      <td>0.0</td>\n",
       "      <td>1</td>\n",
       "      <td>1825</td>\n",
       "      <td>-1.0</td>\n",
       "      <td>75+</td>\n",
       "      <td>2yr+</td>\n",
       "      <td>0</td>\n",
       "    </tr>\n",
       "    <tr>\n",
       "      <th>1</th>\n",
       "      <td>C2449</td>\n",
       "      <td>prd_1</td>\n",
       "      <td>2017-01-01 11:39:29</td>\n",
       "      <td>2021-09-05 10:00:02</td>\n",
       "      <td>2021-09-05 10:00:02</td>\n",
       "      <td>1707</td>\n",
       "      <td>61</td>\n",
       "      <td>male</td>\n",
       "      <td>prd_1</td>\n",
       "      <td>annual_subscription</td>\n",
       "      <td>...</td>\n",
       "      <td>2017-01-01 11:35:47</td>\n",
       "      <td>0.0</td>\n",
       "      <td>1.0</td>\n",
       "      <td>0.0</td>\n",
       "      <td>1</td>\n",
       "      <td>1825</td>\n",
       "      <td>-1.0</td>\n",
       "      <td>61-75</td>\n",
       "      <td>2yr+</td>\n",
       "      <td>0</td>\n",
       "    </tr>\n",
       "    <tr>\n",
       "      <th>2</th>\n",
       "      <td>C2450</td>\n",
       "      <td>prd_1</td>\n",
       "      <td>2017-01-01 11:42:00</td>\n",
       "      <td>2019-01-13 16:24:55</td>\n",
       "      <td>2019-01-13 16:24:55</td>\n",
       "      <td>742</td>\n",
       "      <td>58</td>\n",
       "      <td>female</td>\n",
       "      <td>prd_1</td>\n",
       "      <td>annual_subscription</td>\n",
       "      <td>...</td>\n",
       "      <td>2017-01-01 11:37:09</td>\n",
       "      <td>0.0</td>\n",
       "      <td>1.0</td>\n",
       "      <td>0.0</td>\n",
       "      <td>1</td>\n",
       "      <td>1825</td>\n",
       "      <td>-1.0</td>\n",
       "      <td>46-60</td>\n",
       "      <td>2yr+</td>\n",
       "      <td>0</td>\n",
       "    </tr>\n",
       "    <tr>\n",
       "      <th>3</th>\n",
       "      <td>C2451</td>\n",
       "      <td>prd_2</td>\n",
       "      <td>2017-01-01 13:32:08</td>\n",
       "      <td>NaT</td>\n",
       "      <td>2022-01-01 00:00:00</td>\n",
       "      <td>1825</td>\n",
       "      <td>62</td>\n",
       "      <td>female</td>\n",
       "      <td>prd_2</td>\n",
       "      <td>monthly_subscription</td>\n",
       "      <td>...</td>\n",
       "      <td>2017-03-31 12:06:58</td>\n",
       "      <td>88.0</td>\n",
       "      <td>1.0</td>\n",
       "      <td>1.0</td>\n",
       "      <td>1</td>\n",
       "      <td>1825</td>\n",
       "      <td>-1.0</td>\n",
       "      <td>61-75</td>\n",
       "      <td>2yr+</td>\n",
       "      <td>0</td>\n",
       "    </tr>\n",
       "    <tr>\n",
       "      <th>4</th>\n",
       "      <td>C2452</td>\n",
       "      <td>prd_1</td>\n",
       "      <td>2017-01-01 13:57:30</td>\n",
       "      <td>2021-06-28 18:06:01</td>\n",
       "      <td>2021-06-28 18:06:01</td>\n",
       "      <td>1639</td>\n",
       "      <td>71</td>\n",
       "      <td>male</td>\n",
       "      <td>prd_1</td>\n",
       "      <td>annual_subscription</td>\n",
       "      <td>...</td>\n",
       "      <td>2017-01-01 13:52:22</td>\n",
       "      <td>0.0</td>\n",
       "      <td>1.0</td>\n",
       "      <td>0.0</td>\n",
       "      <td>1</td>\n",
       "      <td>1825</td>\n",
       "      <td>-1.0</td>\n",
       "      <td>61-75</td>\n",
       "      <td>2yr+</td>\n",
       "      <td>0</td>\n",
       "    </tr>\n",
       "  </tbody>\n",
       "</table>\n",
       "<p>5 rows × 24 columns</p>\n",
       "</div>"
      ],
      "text/plain": [
       "  customer_id product    signup_date_time    cancel_date_time  \\\n",
       "0       C2448   prd_1 2017-01-01 10:35:09                 NaT   \n",
       "1       C2449   prd_1 2017-01-01 11:39:29 2021-09-05 10:00:02   \n",
       "2       C2450   prd_1 2017-01-01 11:42:00 2019-01-13 16:24:55   \n",
       "3       C2451   prd_2 2017-01-01 13:32:08                 NaT   \n",
       "4       C2452   prd_1 2017-01-01 13:57:30 2021-06-28 18:06:01   \n",
       "\n",
       "             end_date  tenure_days  age  gender product_id  \\\n",
       "0 2022-01-01 00:00:00         1825   76  female      prd_1   \n",
       "1 2021-09-05 10:00:02         1707   61    male      prd_1   \n",
       "2 2019-01-13 16:24:55          742   58  female      prd_1   \n",
       "3 2022-01-01 00:00:00         1825   62  female      prd_2   \n",
       "4 2021-06-28 18:06:01         1639   71    male      prd_1   \n",
       "\n",
       "                   name  ...      last_case_date  days_between_cases  \\\n",
       "0   annual_subscription  ... 2017-01-01 10:32:03                 0.0   \n",
       "1   annual_subscription  ... 2017-01-01 11:35:47                 0.0   \n",
       "2   annual_subscription  ... 2017-01-01 11:37:09                 0.0   \n",
       "3  monthly_subscription  ... 2017-03-31 12:06:58                88.0   \n",
       "4   annual_subscription  ... 2017-01-01 13:52:22                 0.0   \n",
       "\n",
       "   reasonsignup reasonsupport ever_contacted_support  days_since_signup  \\\n",
       "0           1.0           0.0                      1               1825   \n",
       "1           1.0           0.0                      1               1825   \n",
       "2           1.0           0.0                      1               1825   \n",
       "3           1.0           1.0                      1               1825   \n",
       "4           1.0           0.0                      1               1825   \n",
       "\n",
       "   days_to_first_contact  age_group  tenure_group  will_churn_next_90d  \n",
       "0                   -1.0        75+          2yr+                    0  \n",
       "1                   -1.0      61-75          2yr+                    0  \n",
       "2                   -1.0      46-60          2yr+                    0  \n",
       "3                   -1.0      61-75          2yr+                    0  \n",
       "4                   -1.0      61-75          2yr+                    0  \n",
       "\n",
       "[5 rows x 24 columns]"
      ]
     },
     "execution_count": 33,
     "metadata": {},
     "output_type": "execute_result"
    }
   ],
   "source": [
    "churn_df.head()"
   ]
  },
  {
   "cell_type": "code",
   "execution_count": 34,
   "id": "740f5813",
   "metadata": {
    "execution": {
     "iopub.execute_input": "2025-04-14T23:14:00.494259Z",
     "iopub.status.busy": "2025-04-14T23:14:00.493871Z",
     "iopub.status.idle": "2025-04-14T23:14:00.686925Z",
     "shell.execute_reply": "2025-04-14T23:14:00.685873Z"
    },
    "papermill": {
     "duration": 0.211819,
     "end_time": "2025-04-14T23:14:00.688878",
     "exception": false,
     "start_time": "2025-04-14T23:14:00.477059",
     "status": "completed"
    },
    "tags": []
   },
   "outputs": [],
   "source": [
    "modeling_df = churn_df[churn_df['signup_date_time'] < cutoff_date]\n",
    "\n",
    "modeling_df = modeling_df[\n",
    "    (modeling_df['cancel_date_time'] > cutoff_date) | \n",
    "    (modeling_df['cancel_date_time'].isna())\n",
    "]"
   ]
  },
  {
   "cell_type": "code",
   "execution_count": 35,
   "id": "07ed5503",
   "metadata": {
    "execution": {
     "iopub.execute_input": "2025-04-14T23:14:00.717902Z",
     "iopub.status.busy": "2025-04-14T23:14:00.717504Z",
     "iopub.status.idle": "2025-04-14T23:14:00.752982Z",
     "shell.execute_reply": "2025-04-14T23:14:00.751857Z"
    },
    "papermill": {
     "duration": 0.052113,
     "end_time": "2025-04-14T23:14:00.755039",
     "exception": false,
     "start_time": "2025-04-14T23:14:00.702926",
     "status": "completed"
    },
    "tags": []
   },
   "outputs": [],
   "source": [
    "modeling_df['monthly_spend'] = modeling_df['price'] / modeling_df['billing_cycle']\n",
    "\n",
    "\n",
    "modeling_df['tenure_at_cutoff'] = (cutoff_date - modeling_df['signup_date_time']).dt.days\n",
    "modeling_df['tenure_months'] = (modeling_df['tenure_at_cutoff'] / 30).round()"
   ]
  },
  {
   "cell_type": "code",
   "execution_count": 36,
   "id": "732d0848",
   "metadata": {
    "execution": {
     "iopub.execute_input": "2025-04-14T23:14:00.784990Z",
     "iopub.status.busy": "2025-04-14T23:14:00.784552Z",
     "iopub.status.idle": "2025-04-14T23:14:00.812575Z",
     "shell.execute_reply": "2025-04-14T23:14:00.811186Z"
    },
    "papermill": {
     "duration": 0.045377,
     "end_time": "2025-04-14T23:14:00.814320",
     "exception": false,
     "start_time": "2025-04-14T23:14:00.768943",
     "status": "completed"
    },
    "tags": []
   },
   "outputs": [
    {
     "name": "stderr",
     "output_type": "stream",
     "text": [
      "<ipython-input-36-6b9d983fe97a>:6: FutureWarning: A value is trying to be set on a copy of a DataFrame or Series through chained assignment using an inplace method.\n",
      "The behavior will change in pandas 3.0. This inplace method will never work because the intermediate object on which we are setting values always behaves as a copy.\n",
      "\n",
      "For example, when doing 'df[col].method(value, inplace=True)', try using 'df.method({col: value}, inplace=True)' or df[col] = df[col].method(value) instead, to perform the operation inplace on the original object.\n",
      "\n",
      "\n",
      "  modeling_df['support_before_cutoff'].fillna(0, inplace=True)\n"
     ]
    }
   ],
   "source": [
    "mask = modeling_df['ever_contacted_support'] == 1\n",
    "\n",
    "modeling_df.loc[mask, 'support_before_cutoff'] = (\n",
    "    modeling_df.loc[mask, 'last_case_date'] < cutoff_date\n",
    ").astype(int)\n",
    "modeling_df['support_before_cutoff'].fillna(0, inplace=True)"
   ]
  },
  {
   "cell_type": "code",
   "execution_count": 37,
   "id": "5f08320f",
   "metadata": {
    "execution": {
     "iopub.execute_input": "2025-04-14T23:14:00.843439Z",
     "iopub.status.busy": "2025-04-14T23:14:00.843098Z",
     "iopub.status.idle": "2025-04-14T23:14:00.873825Z",
     "shell.execute_reply": "2025-04-14T23:14:00.872486Z"
    },
    "papermill": {
     "duration": 0.047302,
     "end_time": "2025-04-14T23:14:00.875697",
     "exception": false,
     "start_time": "2025-04-14T23:14:00.828395",
     "status": "completed"
    },
    "tags": []
   },
   "outputs": [
    {
     "name": "stderr",
     "output_type": "stream",
     "text": [
      "<ipython-input-37-9f99fa495dc8>:5: FutureWarning: A value is trying to be set on a copy of a DataFrame or Series through chained assignment using an inplace method.\n",
      "The behavior will change in pandas 3.0. This inplace method will never work because the intermediate object on which we are setting values always behaves as a copy.\n",
      "\n",
      "For example, when doing 'df[col].method(value, inplace=True)', try using 'df.method({col: value}, inplace=True)' or df[col] = df[col].method(value) instead, to perform the operation inplace on the original object.\n",
      "\n",
      "\n",
      "  modeling_df['days_since_last_contact'].fillna(999, inplace=True)\n"
     ]
    }
   ],
   "source": [
    "mask = modeling_df['support_before_cutoff'] == 1\n",
    "modeling_df.loc[mask, 'days_since_last_contact'] = (\n",
    "    cutoff_date - modeling_df.loc[mask, 'last_case_date']\n",
    ").dt.days\n",
    "modeling_df['days_since_last_contact'].fillna(999, inplace=True)"
   ]
  },
  {
   "cell_type": "code",
   "execution_count": 38,
   "id": "cf37dca8",
   "metadata": {
    "execution": {
     "iopub.execute_input": "2025-04-14T23:14:00.904901Z",
     "iopub.status.busy": "2025-04-14T23:14:00.904427Z",
     "iopub.status.idle": "2025-04-14T23:14:00.936514Z",
     "shell.execute_reply": "2025-04-14T23:14:00.935362Z"
    },
    "papermill": {
     "duration": 0.048631,
     "end_time": "2025-04-14T23:14:00.938232",
     "exception": false,
     "start_time": "2025-04-14T23:14:00.889601",
     "status": "completed"
    },
    "tags": []
   },
   "outputs": [
    {
     "name": "stderr",
     "output_type": "stream",
     "text": [
      "<ipython-input-38-4b549f63ca7a>:7: FutureWarning: A value is trying to be set on a copy of a DataFrame or Series through chained assignment using an inplace method.\n",
      "The behavior will change in pandas 3.0. This inplace method will never work because the intermediate object on which we are setting values always behaves as a copy.\n",
      "\n",
      "For example, when doing 'df[col].method(value, inplace=True)', try using 'df.method({col: value}, inplace=True)' or df[col] = df[col].method(value) instead, to perform the operation inplace on the original object.\n",
      "\n",
      "\n",
      "  modeling_df['monthly_contact_rate'].fillna(0, inplace = True)\n"
     ]
    }
   ],
   "source": [
    "mask = modeling_df['ever_contacted_support'] == 1\n",
    "\n",
    "modeling_df.loc[mask, 'monthly_contact_rate'] = (\n",
    "    modeling_df.loc[mask, 'total_cases'] / (modeling_df.loc[mask, 'tenure_months'] + 1)\n",
    ")\n",
    "\n",
    "modeling_df['monthly_contact_rate'].fillna(0, inplace = True)"
   ]
  },
  {
   "cell_type": "code",
   "execution_count": 39,
   "id": "668dd477",
   "metadata": {
    "execution": {
     "iopub.execute_input": "2025-04-14T23:14:00.967622Z",
     "iopub.status.busy": "2025-04-14T23:14:00.967255Z",
     "iopub.status.idle": "2025-04-14T23:14:00.981664Z",
     "shell.execute_reply": "2025-04-14T23:14:00.980466Z"
    },
    "papermill": {
     "duration": 0.031234,
     "end_time": "2025-04-14T23:14:00.983595",
     "exception": false,
     "start_time": "2025-04-14T23:14:00.952361",
     "status": "completed"
    },
    "tags": []
   },
   "outputs": [],
   "source": [
    "modeling_df['support_level'] = pd.cut(\n",
    "    modeling_df['monthly_contact_rate'],\n",
    "    bins = [-0.001, 0 , 0.2, 0.5, 1, float('inf')],\n",
    "    labels = ['None', 'Low', 'Medium', 'High', 'Very High']\n",
    ")"
   ]
  },
  {
   "cell_type": "code",
   "execution_count": 40,
   "id": "565f352e",
   "metadata": {
    "execution": {
     "iopub.execute_input": "2025-04-14T23:14:01.012834Z",
     "iopub.status.busy": "2025-04-14T23:14:01.012417Z",
     "iopub.status.idle": "2025-04-14T23:14:01.085692Z",
     "shell.execute_reply": "2025-04-14T23:14:01.084345Z"
    },
    "papermill": {
     "duration": 0.090023,
     "end_time": "2025-04-14T23:14:01.087578",
     "exception": false,
     "start_time": "2025-04-14T23:14:00.997555",
     "status": "completed"
    },
    "tags": []
   },
   "outputs": [
    {
     "name": "stderr",
     "output_type": "stream",
     "text": [
      "<ipython-input-40-882261bce8e4>:6: FutureWarning: The default of observed=False is deprecated and will be changed to True in a future version of pandas. Pass observed=False to retain current behavior or observed=True to adopt the future default and silence this warning.\n",
      "  churn_by_segment = modeling_df.groupby(segment)[target].agg(['mean', 'count'])\n",
      "<ipython-input-40-882261bce8e4>:6: FutureWarning: The default of observed=False is deprecated and will be changed to True in a future version of pandas. Pass observed=False to retain current behavior or observed=True to adopt the future default and silence this warning.\n",
      "  churn_by_segment = modeling_df.groupby(segment)[target].agg(['mean', 'count'])\n",
      "<ipython-input-40-882261bce8e4>:6: FutureWarning: The default of observed=False is deprecated and will be changed to True in a future version of pandas. Pass observed=False to retain current behavior or observed=True to adopt the future default and silence this warning.\n",
      "  churn_by_segment = modeling_df.groupby(segment)[target].agg(['mean', 'count'])\n"
     ]
    },
    {
     "name": "stdout",
     "output_type": "stream",
     "text": [
      "\n",
      "Churn rate by age_group:\n",
      "               mean   count\n",
      "age_group                  \n",
      "75+        4.382609    2875\n",
      "30-45      4.260450   24880\n",
      "46-60      4.008111  195279\n",
      "61-75      3.995778  163898\n",
      "<30        3.880597    1005\n",
      "\n",
      "Churn rate by tenure_group:\n",
      "                   mean   count\n",
      "tenure_group                   \n",
      "0-3mo         75.802998     934\n",
      "3-6mo          4.752750   37452\n",
      "1-2yr          3.925560  119881\n",
      "6-12mo         3.703624   93260\n",
      "2yr+           3.630965  136410\n",
      "\n",
      "Churn rate by support_level:\n",
      "                   mean   count\n",
      "support_level                  \n",
      "Medium         4.955527   31480\n",
      "Very High      4.945055     546\n",
      "High           4.672024    5351\n",
      "Low            4.182353  162827\n",
      "None           3.704197  187733\n",
      "\n",
      "Churn rate by product:\n",
      "             mean   count\n",
      "product                  \n",
      "prd_2    5.389810  135348\n",
      "prd_1    3.288346  252589\n"
     ]
    }
   ],
   "source": [
    "target = 'will_churn_next_90d'\n",
    "\n",
    "segments = ['age_group', 'tenure_group', 'support_level', 'product']\n",
    "\n",
    "for segment in segments:\n",
    "    churn_by_segment = modeling_df.groupby(segment)[target].agg(['mean', 'count'])\n",
    "    churn_by_segment['mean'] *= 100\n",
    "    print(f\"\\nChurn rate by {segment}:\")\n",
    "    print(churn_by_segment.sort_values('mean', ascending=False))"
   ]
  },
  {
   "cell_type": "markdown",
   "id": "ba833ed8",
   "metadata": {
    "papermill": {
     "duration": 0.014218,
     "end_time": "2025-04-14T23:14:01.116219",
     "exception": false,
     "start_time": "2025-04-14T23:14:01.102001",
     "status": "completed"
    },
    "tags": []
   },
   "source": [
    "Extremely high churn rate (76%) for customers with a tenure of 0-3 months. Might be dealing with 'onboarding cliff' in subscription businesses, could be a free trial effect, but the data does not indicate that the service offers a free trial, so I am making an assumption here. "
   ]
  },
  {
   "cell_type": "code",
   "execution_count": 41,
   "id": "20d18b93",
   "metadata": {
    "execution": {
     "iopub.execute_input": "2025-04-14T23:14:01.145854Z",
     "iopub.status.busy": "2025-04-14T23:14:01.145468Z",
     "iopub.status.idle": "2025-04-14T23:14:01.175375Z",
     "shell.execute_reply": "2025-04-14T23:14:01.174137Z"
    },
    "papermill": {
     "duration": 0.047112,
     "end_time": "2025-04-14T23:14:01.177326",
     "exception": false,
     "start_time": "2025-04-14T23:14:01.130214",
     "status": "completed"
    },
    "tags": []
   },
   "outputs": [
    {
     "name": "stdout",
     "output_type": "stream",
     "text": [
      "                  mean  count\n",
      "tenure_weeks                 \n",
      "0             4.268293   2460\n",
      "1             4.101951   2511\n",
      "2             3.953749   2681\n",
      "3             3.834472   2634\n",
      "4             4.235727   2715\n",
      "5             3.463961   2858\n",
      "6             5.005325   2817\n",
      "7             3.766542   2947\n",
      "8             3.993344   3005\n",
      "9             4.386808   3123\n",
      "10            4.700991   3127\n",
      "11            3.773585   3180\n",
      "12            4.515522   3189\n",
      "product  tenure_weeks\n",
      "prd_1    0               3.568465\n",
      "         1               2.510121\n",
      "         2               3.403933\n",
      "         3               3.448276\n",
      "         4               3.419453\n",
      "         5               2.620087\n",
      "         6               2.964570\n",
      "         7               2.746845\n",
      "         8               2.709848\n",
      "         9               2.927478\n",
      "         10              3.715992\n",
      "         11              2.754644\n",
      "         12              3.388747\n",
      "prd_2    0               4.940239\n",
      "         1               5.642633\n",
      "         2               4.488595\n",
      "         3               4.181687\n",
      "         4               5.003574\n",
      "         5               4.245283\n",
      "         6               6.973501\n",
      "         7               4.625000\n",
      "         8               5.294906\n",
      "         9               5.740741\n",
      "         10              5.617284\n",
      "         11              4.756022\n",
      "         12              5.600000\n",
      "Name: will_churn_next_90d, dtype: float64\n"
     ]
    }
   ],
   "source": [
    "modeling_df['tenure_weeks'] = (modeling_df['tenure_at_cutoff'] / 7).astype(int)\n",
    "early_churn = modeling_df[modeling_df['tenure_at_cutoff'] < 90]\n",
    "weekly_churn = early_churn.groupby('tenure_weeks')['will_churn_next_90d'].agg(['mean','count'])\n",
    "weekly_churn['mean'] *= 100\n",
    "\n",
    "print(weekly_churn)\n",
    "\n",
    "early_product_churn = early_churn.groupby(['product', 'tenure_weeks'])['will_churn_next_90d'].mean() * 100\n",
    "\n",
    "print(early_product_churn)"
   ]
  },
  {
   "cell_type": "code",
   "execution_count": 42,
   "id": "61a50e57",
   "metadata": {
    "execution": {
     "iopub.execute_input": "2025-04-14T23:14:01.208326Z",
     "iopub.status.busy": "2025-04-14T23:14:01.207969Z",
     "iopub.status.idle": "2025-04-14T23:14:01.223009Z",
     "shell.execute_reply": "2025-04-14T23:14:01.221758Z"
    },
    "papermill": {
     "duration": 0.032499,
     "end_time": "2025-04-14T23:14:01.224937",
     "exception": false,
     "start_time": "2025-04-14T23:14:01.192438",
     "status": "completed"
    },
    "tags": []
   },
   "outputs": [
    {
     "name": "stdout",
     "output_type": "stream",
     "text": [
      "Count of customers in 0-3mo group: 934\n",
      "count    934.000000\n",
      "mean      23.361884\n",
      "std       23.019626\n",
      "min        0.000000\n",
      "25%        0.000000\n",
      "50%       18.000000\n",
      "75%       39.000000\n",
      "max       89.000000\n",
      "Name: tenure_at_cutoff, dtype: float64\n",
      "Churn rate in 0-3mo group: 75.80%\n",
      "product\n",
      "prd_1    71.111111\n",
      "prd_2    78.745645\n",
      "Name: will_churn_next_90d, dtype: float64\n"
     ]
    }
   ],
   "source": [
    "tenure_check = modeling_df[modeling_df['tenure_group'] == '0-3mo']\n",
    "print(f\"Count of customers in 0-3mo group: {len(tenure_check)}\")\n",
    "\n",
    "print(tenure_check['tenure_at_cutoff'].describe())\n",
    "\n",
    "print(f\"Churn rate in 0-3mo group: {tenure_check['will_churn_next_90d'].mean()*100:.2f}%\")\n",
    "\n",
    "print(tenure_check.groupby('product')['will_churn_next_90d'].mean()*100)"
   ]
  },
  {
   "cell_type": "markdown",
   "id": "501a199f",
   "metadata": {
    "papermill": {
     "duration": 0.015314,
     "end_time": "2025-04-14T23:14:01.255017",
     "exception": false,
     "start_time": "2025-04-14T23:14:01.239703",
     "status": "completed"
    },
    "tags": []
   },
   "source": [
    "We have 934 customers who joined less than 3 months before the cutoff date. On average, these customers are only subscribed for 23 days. Half of them (median) have been customers for 18 days or less. 75% of the customers will cancel within the next 90 days. This is much higher than other tenure groups' 3-5% churn rate. There is also a difference in monthly subscribers (78.7%) who are more likely to churn compared to annual customers (71.1%)\n",
    "\n",
    "If we were to acquire 100 customers, ~75 would leave within the first 3 months. A large amount of leakage happening in the initial stages of the subscription signup\n",
    "\n",
    "The customer journey pattern seems to be Signup -> [Critical 3-month decision period] -> Stable Relationship"
   ]
  },
  {
   "cell_type": "markdown",
   "id": "b26326b9",
   "metadata": {
    "papermill": {
     "duration": 0.013932,
     "end_time": "2025-04-14T23:14:01.283378",
     "exception": false,
     "start_time": "2025-04-14T23:14:01.269446",
     "status": "completed"
    },
    "tags": []
   },
   "source": [
    "Given these dramatic differences, the best approach is segment-based modeling, particularly separating new customers from established ones "
   ]
  },
  {
   "cell_type": "code",
   "execution_count": 43,
   "id": "4f19fe0e",
   "metadata": {
    "execution": {
     "iopub.execute_input": "2025-04-14T23:14:01.313263Z",
     "iopub.status.busy": "2025-04-14T23:14:01.312882Z",
     "iopub.status.idle": "2025-04-14T23:14:01.318663Z",
     "shell.execute_reply": "2025-04-14T23:14:01.317628Z"
    },
    "papermill": {
     "duration": 0.022799,
     "end_time": "2025-04-14T23:14:01.320493",
     "exception": false,
     "start_time": "2025-04-14T23:14:01.297694",
     "status": "completed"
    },
    "tags": []
   },
   "outputs": [],
   "source": [
    "modeling_df['new_customer'] = modeling_df['tenure_at_cutoff'] < 90 # 0-3 months"
   ]
  },
  {
   "cell_type": "code",
   "execution_count": 44,
   "id": "ab0a3979",
   "metadata": {
    "execution": {
     "iopub.execute_input": "2025-04-14T23:14:01.351324Z",
     "iopub.status.busy": "2025-04-14T23:14:01.350973Z",
     "iopub.status.idle": "2025-04-14T23:14:01.436587Z",
     "shell.execute_reply": "2025-04-14T23:14:01.435259Z"
    },
    "papermill": {
     "duration": 0.103193,
     "end_time": "2025-04-14T23:14:01.438375",
     "exception": false,
     "start_time": "2025-04-14T23:14:01.335182",
     "status": "completed"
    },
    "tags": []
   },
   "outputs": [
    {
     "name": "stdout",
     "output_type": "stream",
     "text": [
      "New customers: 37247 (9.6%)\n",
      "Established customers: 350690 (90.4%) \n"
     ]
    }
   ],
   "source": [
    "new_customer_df = modeling_df[modeling_df['new_customer']]\n",
    "established_customer_df = modeling_df[~modeling_df['new_customer']]\n",
    "\n",
    "print(f\"New customers: {len(new_customer_df)} ({len(new_customer_df)/len(modeling_df):.1%})\")\n",
    "print(f\"Established customers: {len(established_customer_df)} ({len(established_customer_df)/len(modeling_df):.1%}) \")"
   ]
  },
  {
   "cell_type": "markdown",
   "id": "d25f41ff",
   "metadata": {
    "papermill": {
     "duration": 0.014576,
     "end_time": "2025-04-14T23:14:01.467959",
     "exception": false,
     "start_time": "2025-04-14T23:14:01.453383",
     "status": "completed"
    },
    "tags": []
   },
   "source": [
    "Dealing with a significant class imbalance here - Will need feature engineering for each segment and then build separate models"
   ]
  },
  {
   "cell_type": "code",
   "execution_count": 45,
   "id": "4b29024e",
   "metadata": {
    "execution": {
     "iopub.execute_input": "2025-04-14T23:14:01.499726Z",
     "iopub.status.busy": "2025-04-14T23:14:01.499347Z",
     "iopub.status.idle": "2025-04-14T23:14:01.503800Z",
     "shell.execute_reply": "2025-04-14T23:14:01.502648Z"
    },
    "papermill": {
     "duration": 0.022014,
     "end_time": "2025-04-14T23:14:01.505467",
     "exception": false,
     "start_time": "2025-04-14T23:14:01.483453",
     "status": "completed"
    },
    "tags": []
   },
   "outputs": [],
   "source": [
    "# New customers \n",
    "new_features = [\n",
    "    'product',\n",
    "    'days_since_signup',\n",
    "    'ever_contacted_support',\n",
    "    'total_cases',\n",
    "    'age',\n",
    "    'gender',\n",
    "    'signup_month',\n",
    "    'signup_day_of_week'\n",
    "]"
   ]
  },
  {
   "cell_type": "code",
   "execution_count": 46,
   "id": "9487d70d",
   "metadata": {
    "execution": {
     "iopub.execute_input": "2025-04-14T23:14:01.536402Z",
     "iopub.status.busy": "2025-04-14T23:14:01.536047Z",
     "iopub.status.idle": "2025-04-14T23:14:01.545477Z",
     "shell.execute_reply": "2025-04-14T23:14:01.544277Z"
    },
    "papermill": {
     "duration": 0.027083,
     "end_time": "2025-04-14T23:14:01.547535",
     "exception": false,
     "start_time": "2025-04-14T23:14:01.520452",
     "status": "completed"
    },
    "tags": []
   },
   "outputs": [
    {
     "name": "stderr",
     "output_type": "stream",
     "text": [
      "<ipython-input-46-e397c9cf092d>:1: SettingWithCopyWarning: \n",
      "A value is trying to be set on a copy of a slice from a DataFrame.\n",
      "Try using .loc[row_indexer,col_indexer] = value instead\n",
      "\n",
      "See the caveats in the documentation: https://pandas.pydata.org/pandas-docs/stable/user_guide/indexing.html#returning-a-view-versus-a-copy\n",
      "  new_customer_df['signup_day_of_week'] = new_customer_df['signup_date_time'].dt.dayofweek\n",
      "<ipython-input-46-e397c9cf092d>:2: SettingWithCopyWarning: \n",
      "A value is trying to be set on a copy of a slice from a DataFrame.\n",
      "Try using .loc[row_indexer,col_indexer] = value instead\n",
      "\n",
      "See the caveats in the documentation: https://pandas.pydata.org/pandas-docs/stable/user_guide/indexing.html#returning-a-view-versus-a-copy\n",
      "  new_customer_df['signup_month'] = new_customer_df['signup_date_time'].dt.month\n"
     ]
    }
   ],
   "source": [
    "new_customer_df['signup_day_of_week'] = new_customer_df['signup_date_time'].dt.dayofweek\n",
    "new_customer_df['signup_month'] = new_customer_df['signup_date_time'].dt.month"
   ]
  },
  {
   "cell_type": "code",
   "execution_count": 47,
   "id": "3ba59f52",
   "metadata": {
    "execution": {
     "iopub.execute_input": "2025-04-14T23:14:01.577925Z",
     "iopub.status.busy": "2025-04-14T23:14:01.577544Z",
     "iopub.status.idle": "2025-04-14T23:14:02.206296Z",
     "shell.execute_reply": "2025-04-14T23:14:02.205084Z"
    },
    "papermill": {
     "duration": 0.64581,
     "end_time": "2025-04-14T23:14:02.208045",
     "exception": false,
     "start_time": "2025-04-14T23:14:01.562235",
     "status": "completed"
    },
    "tags": []
   },
   "outputs": [
    {
     "name": "stderr",
     "output_type": "stream",
     "text": [
      "<ipython-input-47-55b5dc598253>:1: SettingWithCopyWarning: \n",
      "A value is trying to be set on a copy of a slice from a DataFrame.\n",
      "Try using .loc[row_indexer,col_indexer] = value instead\n",
      "\n",
      "See the caveats in the documentation: https://pandas.pydata.org/pandas-docs/stable/user_guide/indexing.html#returning-a-view-versus-a-copy\n",
      "  new_customer_df['days_to_first_contact'] = new_customer_df.apply(\n"
     ]
    }
   ],
   "source": [
    "new_customer_df['days_to_first_contact'] = new_customer_df.apply(\n",
    "    lambda x: (x['first_case_date'] - x['signup_date_time']).days\n",
    "    if x['ever_contacted_support'] == 1 else -1, axis = 1\n",
    ")"
   ]
  },
  {
   "cell_type": "code",
   "execution_count": 48,
   "id": "ba783e03",
   "metadata": {
    "execution": {
     "iopub.execute_input": "2025-04-14T23:14:02.240297Z",
     "iopub.status.busy": "2025-04-14T23:14:02.239961Z",
     "iopub.status.idle": "2025-04-14T23:14:02.252032Z",
     "shell.execute_reply": "2025-04-14T23:14:02.250983Z"
    },
    "papermill": {
     "duration": 0.0297,
     "end_time": "2025-04-14T23:14:02.253742",
     "exception": false,
     "start_time": "2025-04-14T23:14:02.224042",
     "status": "completed"
    },
    "tags": []
   },
   "outputs": [
    {
     "name": "stderr",
     "output_type": "stream",
     "text": [
      "<ipython-input-48-affe35d5660a>:3: SettingWithCopyWarning: \n",
      "A value is trying to be set on a copy of a slice from a DataFrame.\n",
      "Try using .loc[row_indexer,col_indexer] = value instead\n",
      "\n",
      "See the caveats in the documentation: https://pandas.pydata.org/pandas-docs/stable/user_guide/indexing.html#returning-a-view-versus-a-copy\n",
      "  established_customer_df['billing_cycles_completed'] = (\n",
      "<ipython-input-48-affe35d5660a>:7: SettingWithCopyWarning: \n",
      "A value is trying to be set on a copy of a slice from a DataFrame.\n",
      "Try using .loc[row_indexer,col_indexer] = value instead\n",
      "\n",
      "See the caveats in the documentation: https://pandas.pydata.org/pandas-docs/stable/user_guide/indexing.html#returning-a-view-versus-a-copy\n",
      "  established_customer_df['recent_support'] = (\n"
     ]
    }
   ],
   "source": [
    "# Established customers \n",
    "\n",
    "established_customer_df['billing_cycles_completed'] = (\n",
    "    established_customer_df['tenure_days'] / (established_customer_df['billing_cycle'] * 30).astype(int)  \n",
    ")\n",
    "\n",
    "established_customer_df['recent_support'] = (\n",
    "    established_customer_df['days_since_last_contact'] < 30).astype(int)\n",
    "\n",
    "established_features = [\n",
    "    'tenure_group',\n",
    "    'product',\n",
    "    'support_level',\n",
    "    'days_since_last_contact',\n",
    "    'monthly_contact_rate',\n",
    "    'price',\n",
    "    'billing_cycle',\n",
    "    'age_group',\n",
    "    'gender',\n",
    "    'billing_cycles_completed',\n",
    "    'recent_support'\n",
    "]\n"
   ]
  },
  {
   "cell_type": "code",
   "execution_count": 49,
   "id": "9f7d1496",
   "metadata": {
    "execution": {
     "iopub.execute_input": "2025-04-14T23:14:02.284944Z",
     "iopub.status.busy": "2025-04-14T23:14:02.284501Z",
     "iopub.status.idle": "2025-04-14T23:14:04.088898Z",
     "shell.execute_reply": "2025-04-14T23:14:04.087765Z"
    },
    "papermill": {
     "duration": 1.821398,
     "end_time": "2025-04-14T23:14:04.090641",
     "exception": false,
     "start_time": "2025-04-14T23:14:02.269243",
     "status": "completed"
    },
    "tags": []
   },
   "outputs": [
    {
     "name": "stdout",
     "output_type": "stream",
     "text": [
      "New customer churn rate:  4.1587%\n",
      "Using class weights for new model: {0: 1, 1: 3}\n"
     ]
    },
    {
     "data": {
      "text/html": [
       "<style>#sk-container-id-1 {color: black;background-color: white;}#sk-container-id-1 pre{padding: 0;}#sk-container-id-1 div.sk-toggleable {background-color: white;}#sk-container-id-1 label.sk-toggleable__label {cursor: pointer;display: block;width: 100%;margin-bottom: 0;padding: 0.3em;box-sizing: border-box;text-align: center;}#sk-container-id-1 label.sk-toggleable__label-arrow:before {content: \"▸\";float: left;margin-right: 0.25em;color: #696969;}#sk-container-id-1 label.sk-toggleable__label-arrow:hover:before {color: black;}#sk-container-id-1 div.sk-estimator:hover label.sk-toggleable__label-arrow:before {color: black;}#sk-container-id-1 div.sk-toggleable__content {max-height: 0;max-width: 0;overflow: hidden;text-align: left;background-color: #f0f8ff;}#sk-container-id-1 div.sk-toggleable__content pre {margin: 0.2em;color: black;border-radius: 0.25em;background-color: #f0f8ff;}#sk-container-id-1 input.sk-toggleable__control:checked~div.sk-toggleable__content {max-height: 200px;max-width: 100%;overflow: auto;}#sk-container-id-1 input.sk-toggleable__control:checked~label.sk-toggleable__label-arrow:before {content: \"▾\";}#sk-container-id-1 div.sk-estimator input.sk-toggleable__control:checked~label.sk-toggleable__label {background-color: #d4ebff;}#sk-container-id-1 div.sk-label input.sk-toggleable__control:checked~label.sk-toggleable__label {background-color: #d4ebff;}#sk-container-id-1 input.sk-hidden--visually {border: 0;clip: rect(1px 1px 1px 1px);clip: rect(1px, 1px, 1px, 1px);height: 1px;margin: -1px;overflow: hidden;padding: 0;position: absolute;width: 1px;}#sk-container-id-1 div.sk-estimator {font-family: monospace;background-color: #f0f8ff;border: 1px dotted black;border-radius: 0.25em;box-sizing: border-box;margin-bottom: 0.5em;}#sk-container-id-1 div.sk-estimator:hover {background-color: #d4ebff;}#sk-container-id-1 div.sk-parallel-item::after {content: \"\";width: 100%;border-bottom: 1px solid gray;flex-grow: 1;}#sk-container-id-1 div.sk-label:hover label.sk-toggleable__label {background-color: #d4ebff;}#sk-container-id-1 div.sk-serial::before {content: \"\";position: absolute;border-left: 1px solid gray;box-sizing: border-box;top: 0;bottom: 0;left: 50%;z-index: 0;}#sk-container-id-1 div.sk-serial {display: flex;flex-direction: column;align-items: center;background-color: white;padding-right: 0.2em;padding-left: 0.2em;position: relative;}#sk-container-id-1 div.sk-item {position: relative;z-index: 1;}#sk-container-id-1 div.sk-parallel {display: flex;align-items: stretch;justify-content: center;background-color: white;position: relative;}#sk-container-id-1 div.sk-item::before, #sk-container-id-1 div.sk-parallel-item::before {content: \"\";position: absolute;border-left: 1px solid gray;box-sizing: border-box;top: 0;bottom: 0;left: 50%;z-index: -1;}#sk-container-id-1 div.sk-parallel-item {display: flex;flex-direction: column;z-index: 1;position: relative;background-color: white;}#sk-container-id-1 div.sk-parallel-item:first-child::after {align-self: flex-end;width: 50%;}#sk-container-id-1 div.sk-parallel-item:last-child::after {align-self: flex-start;width: 50%;}#sk-container-id-1 div.sk-parallel-item:only-child::after {width: 0;}#sk-container-id-1 div.sk-dashed-wrapped {border: 1px dashed gray;margin: 0 0.4em 0.5em 0.4em;box-sizing: border-box;padding-bottom: 0.4em;background-color: white;}#sk-container-id-1 div.sk-label label {font-family: monospace;font-weight: bold;display: inline-block;line-height: 1.2em;}#sk-container-id-1 div.sk-label-container {text-align: center;}#sk-container-id-1 div.sk-container {/* jupyter's `normalize.less` sets `[hidden] { display: none; }` but bootstrap.min.css set `[hidden] { display: none !important; }` so we also need the `!important` here to be able to override the default hidden behavior on the sphinx rendered scikit-learn.org. See: https://github.com/scikit-learn/scikit-learn/issues/21755 */display: inline-block !important;position: relative;}#sk-container-id-1 div.sk-text-repr-fallback {display: none;}</style><div id=\"sk-container-id-1\" class=\"sk-top-container\"><div class=\"sk-text-repr-fallback\"><pre>RandomForestClassifier(class_weight={0: 1, 1: 3}, random_state=0)</pre><b>In a Jupyter environment, please rerun this cell to show the HTML representation or trust the notebook. <br />On GitHub, the HTML representation is unable to render, please try loading this page with nbviewer.org.</b></div><div class=\"sk-container\" hidden><div class=\"sk-item\"><div class=\"sk-estimator sk-toggleable\"><input class=\"sk-toggleable__control sk-hidden--visually\" id=\"sk-estimator-id-1\" type=\"checkbox\" checked><label for=\"sk-estimator-id-1\" class=\"sk-toggleable__label sk-toggleable__label-arrow\">RandomForestClassifier</label><div class=\"sk-toggleable__content\"><pre>RandomForestClassifier(class_weight={0: 1, 1: 3}, random_state=0)</pre></div></div></div></div></div>"
      ],
      "text/plain": [
       "RandomForestClassifier(class_weight={0: 1, 1: 3}, random_state=0)"
      ]
     },
     "execution_count": 49,
     "metadata": {},
     "output_type": "execute_result"
    }
   ],
   "source": [
    "from sklearn.ensemble import RandomForestClassifier\n",
    "from sklearn.model_selection import train_test_split\n",
    "\n",
    "X_new = new_customer_df[new_features]\n",
    "y_new = new_customer_df['will_churn_next_90d']\n",
    "\n",
    "X_new = pd.get_dummies(X_new, drop_first=True)\n",
    "   \n",
    "X_train, X_test, y_train, y_test = train_test_split(\n",
    "    X_new, y_new, test_size = 0.20, random_state = 0, stratify = y_new\n",
    ")\n",
    "new_churn_rate = y_new.mean()\n",
    "print(f\"New customer churn rate: {new_churn_rate: .4%}\")\n",
    "weights_new = {0:1, 1:3} # Non-churners get 3x the weight\n",
    "print(f\"Using class weights for new model: {weights_new}\")\n",
    "\n",
    "new_model = RandomForestClassifier(n_estimators = 100, class_weight = weights_new, random_state = 0)\n",
    "new_model.fit(X_train, y_train)"
   ]
  },
  {
   "cell_type": "code",
   "execution_count": 50,
   "id": "d1f31657",
   "metadata": {
    "execution": {
     "iopub.execute_input": "2025-04-14T23:14:04.122043Z",
     "iopub.status.busy": "2025-04-14T23:14:04.121618Z",
     "iopub.status.idle": "2025-04-14T23:14:41.854889Z",
     "shell.execute_reply": "2025-04-14T23:14:41.853763Z"
    },
    "papermill": {
     "duration": 37.764792,
     "end_time": "2025-04-14T23:14:41.870595",
     "exception": false,
     "start_time": "2025-04-14T23:14:04.105803",
     "status": "completed"
    },
    "tags": []
   },
   "outputs": [
    {
     "name": "stdout",
     "output_type": "stream",
     "text": [
      "First few final feature names: ['days_since_last_contact', 'monthly_contact_rate', 'price', 'billing_cycle', 'billing_cycles_completed', 'recent_support', 'tenure_group_3-6mo', 'tenure_group_6-12mo', 'tenure_group_1-2yr', 'tenure_group_2yr+']\n",
      "Total number of features after dummification: 20\n",
      "Established customer churn rate:  4.01%\n",
      "Using class weights for established model: {0: 1, 1: 5}\n"
     ]
    },
    {
     "data": {
      "text/html": [
       "<style>#sk-container-id-2 {color: black;background-color: white;}#sk-container-id-2 pre{padding: 0;}#sk-container-id-2 div.sk-toggleable {background-color: white;}#sk-container-id-2 label.sk-toggleable__label {cursor: pointer;display: block;width: 100%;margin-bottom: 0;padding: 0.3em;box-sizing: border-box;text-align: center;}#sk-container-id-2 label.sk-toggleable__label-arrow:before {content: \"▸\";float: left;margin-right: 0.25em;color: #696969;}#sk-container-id-2 label.sk-toggleable__label-arrow:hover:before {color: black;}#sk-container-id-2 div.sk-estimator:hover label.sk-toggleable__label-arrow:before {color: black;}#sk-container-id-2 div.sk-toggleable__content {max-height: 0;max-width: 0;overflow: hidden;text-align: left;background-color: #f0f8ff;}#sk-container-id-2 div.sk-toggleable__content pre {margin: 0.2em;color: black;border-radius: 0.25em;background-color: #f0f8ff;}#sk-container-id-2 input.sk-toggleable__control:checked~div.sk-toggleable__content {max-height: 200px;max-width: 100%;overflow: auto;}#sk-container-id-2 input.sk-toggleable__control:checked~label.sk-toggleable__label-arrow:before {content: \"▾\";}#sk-container-id-2 div.sk-estimator input.sk-toggleable__control:checked~label.sk-toggleable__label {background-color: #d4ebff;}#sk-container-id-2 div.sk-label input.sk-toggleable__control:checked~label.sk-toggleable__label {background-color: #d4ebff;}#sk-container-id-2 input.sk-hidden--visually {border: 0;clip: rect(1px 1px 1px 1px);clip: rect(1px, 1px, 1px, 1px);height: 1px;margin: -1px;overflow: hidden;padding: 0;position: absolute;width: 1px;}#sk-container-id-2 div.sk-estimator {font-family: monospace;background-color: #f0f8ff;border: 1px dotted black;border-radius: 0.25em;box-sizing: border-box;margin-bottom: 0.5em;}#sk-container-id-2 div.sk-estimator:hover {background-color: #d4ebff;}#sk-container-id-2 div.sk-parallel-item::after {content: \"\";width: 100%;border-bottom: 1px solid gray;flex-grow: 1;}#sk-container-id-2 div.sk-label:hover label.sk-toggleable__label {background-color: #d4ebff;}#sk-container-id-2 div.sk-serial::before {content: \"\";position: absolute;border-left: 1px solid gray;box-sizing: border-box;top: 0;bottom: 0;left: 50%;z-index: 0;}#sk-container-id-2 div.sk-serial {display: flex;flex-direction: column;align-items: center;background-color: white;padding-right: 0.2em;padding-left: 0.2em;position: relative;}#sk-container-id-2 div.sk-item {position: relative;z-index: 1;}#sk-container-id-2 div.sk-parallel {display: flex;align-items: stretch;justify-content: center;background-color: white;position: relative;}#sk-container-id-2 div.sk-item::before, #sk-container-id-2 div.sk-parallel-item::before {content: \"\";position: absolute;border-left: 1px solid gray;box-sizing: border-box;top: 0;bottom: 0;left: 50%;z-index: -1;}#sk-container-id-2 div.sk-parallel-item {display: flex;flex-direction: column;z-index: 1;position: relative;background-color: white;}#sk-container-id-2 div.sk-parallel-item:first-child::after {align-self: flex-end;width: 50%;}#sk-container-id-2 div.sk-parallel-item:last-child::after {align-self: flex-start;width: 50%;}#sk-container-id-2 div.sk-parallel-item:only-child::after {width: 0;}#sk-container-id-2 div.sk-dashed-wrapped {border: 1px dashed gray;margin: 0 0.4em 0.5em 0.4em;box-sizing: border-box;padding-bottom: 0.4em;background-color: white;}#sk-container-id-2 div.sk-label label {font-family: monospace;font-weight: bold;display: inline-block;line-height: 1.2em;}#sk-container-id-2 div.sk-label-container {text-align: center;}#sk-container-id-2 div.sk-container {/* jupyter's `normalize.less` sets `[hidden] { display: none; }` but bootstrap.min.css set `[hidden] { display: none !important; }` so we also need the `!important` here to be able to override the default hidden behavior on the sphinx rendered scikit-learn.org. See: https://github.com/scikit-learn/scikit-learn/issues/21755 */display: inline-block !important;position: relative;}#sk-container-id-2 div.sk-text-repr-fallback {display: none;}</style><div id=\"sk-container-id-2\" class=\"sk-top-container\"><div class=\"sk-text-repr-fallback\"><pre>RandomForestClassifier(class_weight={0: 1, 1: 5}, random_state=0)</pre><b>In a Jupyter environment, please rerun this cell to show the HTML representation or trust the notebook. <br />On GitHub, the HTML representation is unable to render, please try loading this page with nbviewer.org.</b></div><div class=\"sk-container\" hidden><div class=\"sk-item\"><div class=\"sk-estimator sk-toggleable\"><input class=\"sk-toggleable__control sk-hidden--visually\" id=\"sk-estimator-id-2\" type=\"checkbox\" checked><label for=\"sk-estimator-id-2\" class=\"sk-toggleable__label sk-toggleable__label-arrow\">RandomForestClassifier</label><div class=\"sk-toggleable__content\"><pre>RandomForestClassifier(class_weight={0: 1, 1: 5}, random_state=0)</pre></div></div></div></div></div>"
      ],
      "text/plain": [
       "RandomForestClassifier(class_weight={0: 1, 1: 5}, random_state=0)"
      ]
     },
     "execution_count": 50,
     "metadata": {},
     "output_type": "execute_result"
    }
   ],
   "source": [
    "X_established = established_customer_df[established_features]\n",
    "y_established = established_customer_df['will_churn_next_90d']\n",
    "\n",
    "X_established = pd.get_dummies(X_established, drop_first = True, dummy_na = False)\n",
    "\n",
    "X_train_est, X_test_est, y_train_est, y_test_est = train_test_split(\n",
    "    X_established, y_established,\n",
    "    test_size = 0.20,\n",
    "    random_state = 0,\n",
    "    stratify = y_established\n",
    ")\n",
    "\n",
    "final_feature_names = X_established.columns.tolist() \n",
    "\n",
    "# Check the first few names to ensure they look correct (includes dummified columns)\n",
    "print(\"First few final feature names:\", final_feature_names[:10]) \n",
    "print(f\"Total number of features after dummification: {len(final_feature_names)}\")\n",
    "\n",
    "\n",
    "\n",
    "established_churn_rate = y_established.mean()\n",
    "print(f\"Established customer churn rate: {established_churn_rate: .2%}\")\n",
    "weight_est = {0:1,1:5}\n",
    "print(f\"Using class weights for established model: {weight_est}\")\n",
    "\n",
    "established_model = RandomForestClassifier(n_estimators=100,\n",
    "                                          class_weight = weight_est,\n",
    "                                          random_state = 0)\n",
    "\n",
    "established_model.fit(X_train_est, y_train_est)"
   ]
  },
  {
   "cell_type": "code",
   "execution_count": 51,
   "id": "6fc7bd62",
   "metadata": {
    "execution": {
     "iopub.execute_input": "2025-04-14T23:14:41.902198Z",
     "iopub.status.busy": "2025-04-14T23:14:41.901791Z",
     "iopub.status.idle": "2025-04-14T23:14:47.137740Z",
     "shell.execute_reply": "2025-04-14T23:14:47.136575Z"
    },
    "papermill": {
     "duration": 5.253917,
     "end_time": "2025-04-14T23:14:47.139471",
     "exception": false,
     "start_time": "2025-04-14T23:14:41.885554",
     "status": "completed"
    },
    "tags": []
   },
   "outputs": [
    {
     "name": "stdout",
     "output_type": "stream",
     "text": [
      "Evaluating New Customer Model (Random Forest Baseline)...\n",
      "Evaluation Report for New Customer RF\n",
      "              precision    recall  f1-score   support\n",
      "\n",
      "No Churn (0)       0.96      0.97      0.97      7140\n",
      "   Churn (1)       0.06      0.04      0.05       310\n",
      "\n",
      "    accuracy                           0.93      7450\n",
      "   macro avg       0.51      0.51      0.51      7450\n",
      "weighted avg       0.92      0.93      0.93      7450\n",
      "\n",
      "ROC AUC Score: 0.5414\n",
      "Precision-Recall Curve AUC (PRC AUC): 0.0481\n",
      "\n",
      " Confusion Matrix:\n"
     ]
    },
    {
     "data": {
      "image/png": "[encoded data removed]",
      "text/plain": [
       "<Figure size 600x400 with 2 Axes>"
      ]
     },
     "metadata": {},
     "output_type": "display_data"
    },
    {
     "name": "stdout",
     "output_type": "stream",
     "text": [
      "\n",
      "\n",
      "Evaluating Established Customer Model (Random Forest Baseline) ...\n",
      "Evaluation Report for Established Customer RF\n",
      "              precision    recall  f1-score   support\n",
      "\n",
      "No Churn (0)       0.97      0.99      0.98     67328\n",
      "   Churn (1)       0.59      0.32      0.42      2810\n",
      "\n",
      "    accuracy                           0.96     70138\n",
      "   macro avg       0.78      0.66      0.70     70138\n",
      "weighted avg       0.96      0.96      0.96     70138\n",
      "\n",
      "ROC AUC Score: 0.7615\n",
      "Precision-Recall Curve AUC (PRC AUC): 0.4083\n",
      "\n",
      " Confusion Matrix:\n"
     ]
    },
    {
     "data": {
      "image/png": "[encoded data removed]",
      "text/plain": [
       "<Figure size 600x400 with 2 Axes>"
      ]
     },
     "metadata": {},
     "output_type": "display_data"
    },
    {
     "name": "stdout",
     "output_type": "stream",
     "text": [
      "\n"
     ]
    }
   ],
   "source": [
    "from sklearn.metrics import (classification_report, roc_auc_score,\n",
    "                            confusion_matrix, precision_recall_curve, auc,\n",
    "                            f1_score, precision_score, recall_score)\n",
    "\n",
    "import matplotlib.pyplot as plt\n",
    "import seaborn as sns\n",
    "\n",
    "def evaluate_model(model, X_test, y_test, model_name = \"Model\"):\n",
    "    y_pred = model.predict(X_test)\n",
    "    y_prob = model.predict_proba(X_test)[:,1]\n",
    "\n",
    "    print(f'Evaluation Report for {model_name}')\n",
    "    print(classification_report(y_test, y_pred, target_names = ['No Churn (0)', 'Churn (1)']))\n",
    "\n",
    "    roc_auc = roc_auc_score(y_test, y_prob)\n",
    "    print(f'ROC AUC Score: {roc_auc:.4f}')\n",
    "\n",
    "    precision, recall, _ = precision_recall_curve(y_test, y_prob)\n",
    "    prc_auc = auc(recall, precision)\n",
    "    print(f'Precision-Recall Curve AUC (PRC AUC): {prc_auc:.4f}')\n",
    "\n",
    "    cm = confusion_matrix(y_test, y_pred)\n",
    "    print(\"\\n Confusion Matrix:\")\n",
    "\n",
    "    plt.figure(figsize = (6,4))\n",
    "    sns.heatmap(cm, annot = True, fmt='d', cmap='Blues',\n",
    "               xticklabels = ['Predicted No Churn', 'Predicted Churn'],\n",
    "               yticklabels = ['Actual No Churn', 'Actual Churn'])\n",
    "    plt.title(f'Confusion Matrix - {model_name}')\n",
    "    plt.ylabel('Actual Label')\n",
    "    plt.xlabel('Predicted Label')\n",
    "    plt.show()\n",
    "\n",
    "    print(\"\"* (len(model_name) +24))\n",
    "\n",
    "    return {\n",
    "        'roc_auc': roc_auc,\n",
    "        'prc_auc': prc_auc,\n",
    "        'f1_churn': f1_score(y_test, y_pred, pos_label=1),\n",
    "        'recall_churn': recall_score(y_test, y_pred, pos_label=1),\n",
    "        'precision_churn': precision_score(y_test, y_pred, pos_label=1)\n",
    "    }\n",
    "\n",
    "print(\"Evaluating New Customer Model (Random Forest Baseline)...\")\n",
    "new_model_metrics = evaluate_model(new_model, X_test, y_test, 'New Customer RF')\n",
    "\n",
    "print(\"\\nEvaluating Established Customer Model (Random Forest Baseline) ...\")\n",
    "established_model_metrics = evaluate_model(established_model, X_test_est, y_test_est, \"Established Customer RF\")\n",
    "\n",
    "baseline_metrics = {\n",
    "    'New RF': new_model_metrics,\n",
    "    'Established RF': established_model_metrics\n",
    "}"
   ]
  },
  {
   "cell_type": "markdown",
   "id": "0e00616c",
   "metadata": {
    "papermill": {
     "duration": 0.017327,
     "end_time": "2025-04-14T23:14:47.174436",
     "exception": false,
     "start_time": "2025-04-14T23:14:47.157109",
     "status": "completed"
    },
    "tags": []
   },
   "source": [
    "The current RF baseline is not working. Needs major reconsideration - potentially new features, different algorithms, or even confirming if this specific future churn is predictable at all for this group. Put this segment on hold"
   ]
  },
  {
   "cell_type": "code",
   "execution_count": 52,
   "id": "fba69fda",
   "metadata": {
    "execution": {
     "iopub.execute_input": "2025-04-14T23:14:47.209773Z",
     "iopub.status.busy": "2025-04-14T23:14:47.209349Z",
     "iopub.status.idle": "2025-04-14T23:14:49.967446Z",
     "shell.execute_reply": "2025-04-14T23:14:49.966283Z"
    },
    "papermill": {
     "duration": 2.777834,
     "end_time": "2025-04-14T23:14:49.969220",
     "exception": false,
     "start_time": "2025-04-14T23:14:47.191386",
     "status": "completed"
    },
    "tags": []
   },
   "outputs": [
    {
     "name": "stdout",
     "output_type": "stream",
     "text": [
      "\n",
      "Calculated scale_pos_weight for Established XGBoost: 23.96\n",
      "\n",
      "Training default XGBoost model for Established Customers...\n",
      "\n",
      "Evaluating Established Customer Model (XGBoost Default)...\n",
      "Evaluation Report for Established Customer XGB\n",
      "              precision    recall  f1-score   support\n",
      "\n",
      "No Churn (0)       0.98      0.86      0.92     67328\n",
      "   Churn (1)       0.15      0.59      0.24      2810\n",
      "\n",
      "    accuracy                           0.85     70138\n",
      "   macro avg       0.57      0.73      0.58     70138\n",
      "weighted avg       0.95      0.85      0.89     70138\n",
      "\n",
      "ROC AUC Score: 0.8201\n",
      "Precision-Recall Curve AUC (PRC AUC): 0.4760\n",
      "\n",
      " Confusion Matrix:\n"
     ]
    },
    {
     "data": {
      "image/png": "[encoded data removed]",
      "text/plain": [
       "<Figure size 600x400 with 2 Axes>"
      ]
     },
     "metadata": {},
     "output_type": "display_data"
    },
    {
     "name": "stdout",
     "output_type": "stream",
     "text": [
      "\n"
     ]
    }
   ],
   "source": [
    "# XGBoost\n",
    "\n",
    "neg_count_est = (y_train_est == 0).sum()\n",
    "pos_count_est = (y_train_est == 1).sum()\n",
    "scale_pos_weight_est = neg_count_est / pos_count_est\n",
    "print(f'\\nCalculated scale_pos_weight for Established XGBoost: {scale_pos_weight_est:.2f}')\n",
    "\n",
    "xgb_model_est = xgb.XGBClassifier(\n",
    "    objective = 'binary:logistic',\n",
    "    eval_metric = 'logloss',\n",
    "    use_label_encoder = False,\n",
    "    scale_pos_weight = scale_pos_weight_est,\n",
    "    random_state = 0\n",
    ")\n",
    "\n",
    "print('\\nTraining default XGBoost model for Established Customers...')\n",
    "xgb_model_est.fit(X_train_est, y_train_est)\n",
    "\n",
    "print('\\nEvaluating Established Customer Model (XGBoost Default)...')\n",
    "xgb_est_metrics = evaluate_model(xgb_model_est, X_test_est, y_test_est, 'Established Customer XGB')"
   ]
  },
  {
   "cell_type": "markdown",
   "id": "060b71ee",
   "metadata": {
    "papermill": {
     "duration": 0.017479,
     "end_time": "2025-04-14T23:14:50.005102",
     "exception": false,
     "start_time": "2025-04-14T23:14:49.987623",
     "status": "completed"
    },
    "tags": []
   },
   "source": [
    "Established Customer Model:\n",
    "\n",
    "    The RF baseline missed too many churners (low recall).\n",
    "    The default XGBoost found more churners (good recall) but was very inaccurate in its churn predictions (low precision).\n",
    "    XGBoost shows more promise due to higher AUC scores, indicating better potential."
   ]
  },
  {
   "cell_type": "markdown",
   "id": "8065cf4e",
   "metadata": {
    "papermill": {
     "duration": 0.017613,
     "end_time": "2025-04-14T23:14:50.041149",
     "exception": false,
     "start_time": "2025-04-14T23:14:50.023536",
     "status": "completed"
    },
    "tags": []
   },
   "source": []
  },
  {
   "cell_type": "code",
   "execution_count": 53,
   "id": "ed84007c",
   "metadata": {
    "execution": {
     "iopub.execute_input": "2025-04-14T23:14:50.078804Z",
     "iopub.status.busy": "2025-04-14T23:14:50.078400Z",
     "iopub.status.idle": "2025-04-14T23:26:16.230042Z",
     "shell.execute_reply": "2025-04-14T23:26:16.228646Z"
    },
    "papermill": {
     "duration": 686.191062,
     "end_time": "2025-04-14T23:26:16.250278",
     "exception": false,
     "start_time": "2025-04-14T23:14:50.059216",
     "status": "completed"
    },
    "tags": []
   },
   "outputs": [
    {
     "name": "stdout",
     "output_type": "stream",
     "text": [
      "Starting Randomized Search with 50 iterations, 3-fold CV, optimizing for 'f1'...\n",
      "Fitting 3 folds for each of 50 candidates, totalling 150 fits\n",
      "\n",
      "Randomized Search Complete\n",
      "Best Score (f1) found: 0.9743\n",
      "Best Parameters found:\n",
      "{'subsample': 1.0, 'scale_pos_weight': 5, 'n_estimators': 900, 'max_depth': 7, 'learning_rate': 0.05, 'colsample_bytree': 0.7}\n"
     ]
    }
   ],
   "source": [
    "# Tune XGBoost Model \n",
    "from sklearn.model_selection import RandomizedSearchCV\n",
    "import xgboost as xgb\n",
    "import numpy as np\n",
    "\n",
    "xgb_base = xgb.XGBClassifier(\n",
    "    objective = 'binary:logistic',\n",
    "    eval_metric = 'logloss',\n",
    "    use_label_encoder = False,\n",
    "    random_state = 0\n",
    ")\n",
    "\n",
    "param_distributions = {\n",
    "    'n_estimators': [int(x) for x in np.linspace(start = 100, stop=1000, num=10)],\n",
    "    'max_depth': [3,4,5,6,7,8],\n",
    "    'learning_rate': [0.01, 0.05, 0.1, 0.2],\n",
    "    'scale_pos_weight': [5,10,15,20,24],\n",
    "    'subsample': [0.7,0.8,0.9,1.0],\n",
    "    'colsample_bytree': [0.7, 0.8, 0.9, 1.0]   \n",
    "}\n",
    "\n",
    "n_iterations = 50\n",
    "\n",
    "cv_folds = 3\n",
    "\n",
    "scoring_metric = 'f1'\n",
    "\n",
    "print(f\"Starting Randomized Search with {n_iterations} iterations, {cv_folds}-fold CV, optimizing for '{scoring_metric}'...\")\n",
    "\n",
    "random_search = RandomizedSearchCV(\n",
    "    estimator = xgb_base,\n",
    "    param_distributions = param_distributions,\n",
    "    n_iter = n_iterations,\n",
    "    n_jobs = -1,\n",
    "    cv = cv_folds,\n",
    "    verbose = 1,\n",
    "    random_state = 0\n",
    ")\n",
    "\n",
    "random_search.fit(X_train_est, y_train_est)\n",
    "\n",
    "print('\\nRandomized Search Complete')\n",
    "print(f\"Best Score ({scoring_metric}) found: {random_search.best_score_:.4f}\")\n",
    "print(\"Best Parameters found:\")\n",
    "print(random_search.best_params_)"
   ]
  },
  {
   "cell_type": "code",
   "execution_count": 54,
   "id": "d8fc96ff",
   "metadata": {
    "execution": {
     "iopub.execute_input": "2025-04-14T23:26:16.288927Z",
     "iopub.status.busy": "2025-04-14T23:26:16.288510Z",
     "iopub.status.idle": "2025-04-14T23:26:18.457376Z",
     "shell.execute_reply": "2025-04-14T23:26:18.456185Z"
    },
    "papermill": {
     "duration": 2.190393,
     "end_time": "2025-04-14T23:26:18.459231",
     "exception": false,
     "start_time": "2025-04-14T23:26:16.268838",
     "status": "completed"
    },
    "tags": []
   },
   "outputs": [
    {
     "name": "stdout",
     "output_type": "stream",
     "text": [
      "\n",
      "Evaluating the Best Tuned XGBoost Model on the Test Set...\n",
      "Evaluation Report for Established Customer Tuned XGB\n",
      "              precision    recall  f1-score   support\n",
      "\n",
      "No Churn (0)       0.98      1.00      0.99     67328\n",
      "   Churn (1)       0.95      0.40      0.56      2810\n",
      "\n",
      "    accuracy                           0.98     70138\n",
      "   macro avg       0.96      0.70      0.77     70138\n",
      "weighted avg       0.97      0.98      0.97     70138\n",
      "\n",
      "ROC AUC Score: 0.8292\n",
      "Precision-Recall Curve AUC (PRC AUC): 0.5149\n",
      "\n",
      " Confusion Matrix:\n"
     ]
    },
    {
     "data": {
      "image/png": "[encoded data removed]",
      "text/plain": [
       "<Figure size 600x400 with 2 Axes>"
      ]
     },
     "metadata": {},
     "output_type": "display_data"
    },
    {
     "name": "stdout",
     "output_type": "stream",
     "text": [
      "\n",
      "\n",
      "Comparison (Recall / Precision / F1 / PRC AUC / ROC AUC):\n",
      "Baseline RF:  0.32 / 0.59 / 0.42 / 0.4083 / 0.7615\n",
      "Tuned XGB:    0.40 / 0.95 / 0.56 / 0.5149 / 0.8292\n"
     ]
    }
   ],
   "source": [
    "best_xgb_model = random_search.best_estimator_\n",
    "\n",
    "print(\"\\nEvaluating the Best Tuned XGBoost Model on the Test Set...\")\n",
    "tuned_xgb_metrics = evaluate_model(best_xgb_model, X_test_est, y_test_est, 'Established Customer Tuned XGB')\n",
    "\n",
    "print(\"\\nComparison (Recall / Precision / F1 / PRC AUC / ROC AUC):\")\n",
    "\n",
    "print(f\"Baseline RF:  {baseline_metrics['Established RF']['recall_churn']:.2f} / {baseline_metrics['Established RF']['precision_churn']:.2f} / {baseline_metrics['Established RF']['f1_churn']:.2f} / {baseline_metrics['Established RF']['prc_auc']:.4f} / {baseline_metrics['Established RF']['roc_auc']:.4f}\")\n",
    "print(f\"Tuned XGB:    {tuned_xgb_metrics['recall_churn']:.2f} / {tuned_xgb_metrics['precision_churn']:.2f} / {tuned_xgb_metrics['f1_churn']:.2f} / {tuned_xgb_metrics['prc_auc']:.4f} / {tuned_xgb_metrics['roc_auc']:.4f}\")"
   ]
  },
  {
   "cell_type": "code",
   "execution_count": 55,
   "id": "5fba2212",
   "metadata": {
    "execution": {
     "iopub.execute_input": "2025-04-14T23:26:18.513267Z",
     "iopub.status.busy": "2025-04-14T23:26:18.512656Z",
     "iopub.status.idle": "2025-04-14T23:26:18.915893Z",
     "shell.execute_reply": "2025-04-14T23:26:18.914518Z"
    },
    "papermill": {
     "duration": 0.430227,
     "end_time": "2025-04-14T23:26:18.917864",
     "exception": false,
     "start_time": "2025-04-14T23:26:18.487637",
     "status": "completed"
    },
    "tags": []
   },
   "outputs": [
    {
     "name": "stdout",
     "output_type": "stream",
     "text": [
      "\n",
      "Top 20 Features by Importance (XGBoost Built-in):\n",
      "                     Feature  Importance\n",
      "6         tenure_group_3-6mo    0.535142\n",
      "1       monthly_contact_rate    0.075205\n",
      "4   billing_cycles_completed    0.059344\n",
      "3              billing_cycle    0.053441\n",
      "8         tenure_group_1-2yr    0.051230\n",
      "2                      price    0.046264\n",
      "7        tenure_group_6-12mo    0.037301\n",
      "0    days_since_last_contact    0.026869\n",
      "9          tenure_group_2yr+    0.017336\n",
      "11         support_level_Low    0.017140\n",
      "10             product_prd_2    0.015845\n",
      "12      support_level_Medium    0.014056\n",
      "18             age_group_75+    0.007627\n",
      "13        support_level_High    0.007614\n",
      "16           age_group_46-60    0.007538\n",
      "15           age_group_30-45    0.007509\n",
      "17           age_group_61-75    0.007499\n",
      "19               gender_male    0.007222\n",
      "5             recent_support    0.005816\n",
      "14   support_level_Very High    0.000000\n"
     ]
    },
    {
     "data": {
      "image/png": "[encoded data removed]",
      "text/plain": [
       "<Figure size 1000x800 with 1 Axes>"
      ]
     },
     "metadata": {},
     "output_type": "display_data"
    }
   ],
   "source": [
    "importance_scores = best_xgb_model.feature_importances_\n",
    "\n",
    "feature_importance_df = pd.DataFrame({\n",
    "    'Feature': final_feature_names,\n",
    "    'Importance': importance_scores\n",
    "})\n",
    "\n",
    "feature_importance_df  = feature_importance_df.sort_values(by='Importance', ascending=False)\n",
    "\n",
    "top_n = 20 \n",
    "print(f\"\\nTop {top_n} Features by Importance (XGBoost Built-in):\")\n",
    "print(feature_importance_df.head(top_n))\n",
    "\n",
    "plt.figure(figsize=(10, 8))\n",
    "sns.barplot(x='Importance', y='Feature', data=feature_importance_df.head(top_n), palette='viridis')\n",
    "plt.title(f'Top {top_n} Feature Importances - Tuned XGBoost (Established Customers)')\n",
    "plt.xlabel('Importance Score')\n",
    "plt.ylabel('Feature')\n",
    "plt.tight_layout() \n",
    "plt.show()"
   ]
  }
 ],
 "metadata": {
  "kaggle": {
   "accelerator": "none",
   "dataSources": [
    {
     "datasetId": 2290183,
     "sourceId": 3852264,
     "sourceType": "datasetVersion"
    }
   ],
   "dockerImageVersionId": 30918,
   "isGpuEnabled": false,
   "isInternetEnabled": true,
   "language": "python",
   "sourceType": "notebook"
  },
  "kernelspec": {
   "display_name": "Python 3",
   "language": "python",
   "name": "python3"
  },
  "language_info": {
   "codemirror_mode": {
    "name": "ipython",
    "version": 3
   },
   "file_extension": ".py",
   "mimetype": "text/x-python",
   "name": "python",
   "nbconvert_exporter": "python",
   "pygments_lexer": "ipython3",
   "version": "3.10.12"
  },
  "papermill": {
   "default_parameters": {},
   "duration": 758.20917,
   "end_time": "2025-04-14T23:26:20.364617",
   "environment_variables": {},
   "exception": null,
   "input_path": "__notebook__.ipynb",
   "output_path": "__notebook__.ipynb",
   "parameters": {},
   "start_time": "2025-04-14T23:13:42.155447",
   "version": "2.6.0"
  }
 },
 "nbformat": 4,
 "nbformat_minor": 5
}
