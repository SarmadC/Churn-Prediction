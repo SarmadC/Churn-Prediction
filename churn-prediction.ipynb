{
 "cells": [
  {
   "cell_type": "code",
   "execution_count": 1,
   "id": "7687fc58",
   "metadata": {
    "execution": {
     "iopub.execute_input": "2025-04-10T01:37:33.124221Z",
     "iopub.status.busy": "2025-04-10T01:37:33.123840Z",
     "iopub.status.idle": "2025-04-10T01:37:35.763622Z",
     "shell.execute_reply": "2025-04-10T01:37:35.762516Z"
    },
    "papermill": {
     "duration": 2.653724,
     "end_time": "2025-04-10T01:37:35.765551",
     "exception": false,
     "start_time": "2025-04-10T01:37:33.111827",
     "status": "completed"
    },
    "tags": []
   },
   "outputs": [],
   "source": [
    "import numpy as np\n",
    "import os\n",
    "import pandas as pd\n",
    "from IPython.display import display\n",
    "from sklearn.model_selection import train_test_split\n",
    "from sklearn.ensemble import RandomForestClassifier\n",
    "from sklearn.metrics import classification_report, roc_auc_score "
   ]
  },
  {
   "cell_type": "code",
   "execution_count": 2,
   "id": "76411ef2",
   "metadata": {
    "_cell_guid": "b1076dfc-b9ad-4769-8c92-a6c4dae69d19",
    "_uuid": "8f2839f25d086af736a60e9eeb907d3b93b6e0e5",
    "execution": {
     "iopub.execute_input": "2025-04-10T01:37:35.787822Z",
     "iopub.status.busy": "2025-04-10T01:37:35.787343Z",
     "iopub.status.idle": "2025-04-10T01:37:35.797826Z",
     "shell.execute_reply": "2025-04-10T01:37:35.796763Z"
    },
    "papermill": {
     "duration": 0.023298,
     "end_time": "2025-04-10T01:37:35.799435",
     "exception": false,
     "start_time": "2025-04-10T01:37:35.776137",
     "status": "completed"
    },
    "tags": []
   },
   "outputs": [
    {
     "name": "stdout",
     "output_type": "stream",
     "text": [
      "/kaggle/input/dspp1/product_info.csv\n",
      "/kaggle/input/dspp1/customer_product.csv\n",
      "/kaggle/input/dspp1/customer_info.csv\n",
      "/kaggle/input/dspp1/customer_cases.csv\n"
     ]
    }
   ],
   "source": [
    "for dirname, _, filenames in os.walk('/kaggle/input'):\n",
    "    for filename in filenames:\n",
    "        print(os.path.join(dirname, filename))"
   ]
  },
  {
   "cell_type": "markdown",
   "id": "1f718eac",
   "metadata": {
    "papermill": {
     "duration": 0.00989,
     "end_time": "2025-04-10T01:37:35.819911",
     "exception": false,
     "start_time": "2025-04-10T01:37:35.810021",
     "status": "completed"
    },
    "tags": []
   },
   "source": [
    "#### Load the Dataset"
   ]
  },
  {
   "cell_type": "code",
   "execution_count": 3,
   "id": "804f1599",
   "metadata": {
    "execution": {
     "iopub.execute_input": "2025-04-10T01:37:35.841815Z",
     "iopub.status.busy": "2025-04-10T01:37:35.841493Z",
     "iopub.status.idle": "2025-04-10T01:37:38.249128Z",
     "shell.execute_reply": "2025-04-10T01:37:38.248056Z"
    },
    "papermill": {
     "duration": 2.421035,
     "end_time": "2025-04-10T01:37:38.251051",
     "exception": false,
     "start_time": "2025-04-10T01:37:35.830016",
     "status": "completed"
    },
    "tags": []
   },
   "outputs": [],
   "source": [
    "product_info = pd.read_csv(\"/kaggle/input/dspp1/product_info.csv\")\n",
    "customer_product = pd.read_csv(\"/kaggle/input/dspp1/customer_product.csv\")\n",
    "customer_info = pd.read_csv(\"/kaggle/input/dspp1/customer_info.csv\")\n",
    "customer_cases = pd.read_csv(\"/kaggle/input/dspp1/customer_cases.csv\")"
   ]
  },
  {
   "cell_type": "markdown",
   "id": "38b1446b",
   "metadata": {
    "papermill": {
     "duration": 0.009826,
     "end_time": "2025-04-10T01:37:38.271271",
     "exception": false,
     "start_time": "2025-04-10T01:37:38.261445",
     "status": "completed"
    },
    "tags": []
   },
   "source": [
    "# Exploratory Data Analysis"
   ]
  },
  {
   "cell_type": "code",
   "execution_count": 4,
   "id": "8332e01a",
   "metadata": {
    "execution": {
     "iopub.execute_input": "2025-04-10T01:37:38.292689Z",
     "iopub.status.busy": "2025-04-10T01:37:38.292344Z",
     "iopub.status.idle": "2025-04-10T01:37:38.297206Z",
     "shell.execute_reply": "2025-04-10T01:37:38.296301Z"
    },
    "papermill": {
     "duration": 0.017323,
     "end_time": "2025-04-10T01:37:38.298794",
     "exception": false,
     "start_time": "2025-04-10T01:37:38.281471",
     "status": "completed"
    },
    "tags": []
   },
   "outputs": [],
   "source": [
    "def style_df(df, caption=''):\n",
    "    return df.style.set_caption(caption).set_table_styles([\n",
    "        {'selector': 'th', 'props':[('background-color', '#f0f0f0'),\n",
    "                                   ('color', 'black'),\n",
    "                                   ('font-weight', 'bold')]},\n",
    "        {'selector': 'tr:nth-of-type(odd)','props':[('background-color', '#f9f9f9')]},\n",
    "    ])"
   ]
  },
  {
   "cell_type": "code",
   "execution_count": 5,
   "id": "ab416e86",
   "metadata": {
    "execution": {
     "iopub.execute_input": "2025-04-10T01:37:38.320336Z",
     "iopub.status.busy": "2025-04-10T01:37:38.319935Z",
     "iopub.status.idle": "2025-04-10T01:37:38.442704Z",
     "shell.execute_reply": "2025-04-10T01:37:38.441708Z"
    },
    "papermill": {
     "duration": 0.1352,
     "end_time": "2025-04-10T01:37:38.444200",
     "exception": false,
     "start_time": "2025-04-10T01:37:38.309000",
     "status": "completed"
    },
    "tags": []
   },
   "outputs": [
    {
     "data": {
      "text/html": [
       "<style type=\"text/css\">\n",
       "#T_7d180 th {\n",
       "  background-color: #f0f0f0;\n",
       "  color: black;\n",
       "  font-weight: bold;\n",
       "}\n",
       "#T_7d180 tr:nth-of-type(odd) {\n",
       "  background-color: #f9f9f9;\n",
       "}\n",
       "</style>\n",
       "<table id=\"T_7d180\">\n",
       "  <caption>Customer Sign-up and Cancellation Dates</caption>\n",
       "  <thead>\n",
       "    <tr>\n",
       "      <th class=\"blank level0\" >&nbsp;</th>\n",
       "      <th id=\"T_7d180_level0_col0\" class=\"col_heading level0 col0\" >Unnamed: 0</th>\n",
       "      <th id=\"T_7d180_level0_col1\" class=\"col_heading level0 col1\" >customer_id</th>\n",
       "      <th id=\"T_7d180_level0_col2\" class=\"col_heading level0 col2\" >product</th>\n",
       "      <th id=\"T_7d180_level0_col3\" class=\"col_heading level0 col3\" >signup_date_time</th>\n",
       "      <th id=\"T_7d180_level0_col4\" class=\"col_heading level0 col4\" >cancel_date_time</th>\n",
       "    </tr>\n",
       "  </thead>\n",
       "  <tbody>\n",
       "    <tr>\n",
       "      <th id=\"T_7d180_level0_row0\" class=\"row_heading level0 row0\" >0</th>\n",
       "      <td id=\"T_7d180_row0_col0\" class=\"data row0 col0\" >1</td>\n",
       "      <td id=\"T_7d180_row0_col1\" class=\"data row0 col1\" >C2448</td>\n",
       "      <td id=\"T_7d180_row0_col2\" class=\"data row0 col2\" >prd_1</td>\n",
       "      <td id=\"T_7d180_row0_col3\" class=\"data row0 col3\" >2017-01-01 10:35:09</td>\n",
       "      <td id=\"T_7d180_row0_col4\" class=\"data row0 col4\" >nan</td>\n",
       "    </tr>\n",
       "    <tr>\n",
       "      <th id=\"T_7d180_level0_row1\" class=\"row_heading level0 row1\" >1</th>\n",
       "      <td id=\"T_7d180_row1_col0\" class=\"data row1 col0\" >2</td>\n",
       "      <td id=\"T_7d180_row1_col1\" class=\"data row1 col1\" >C2449</td>\n",
       "      <td id=\"T_7d180_row1_col2\" class=\"data row1 col2\" >prd_1</td>\n",
       "      <td id=\"T_7d180_row1_col3\" class=\"data row1 col3\" >2017-01-01 11:39:29</td>\n",
       "      <td id=\"T_7d180_row1_col4\" class=\"data row1 col4\" >2021-09-05 10:00:02</td>\n",
       "    </tr>\n",
       "    <tr>\n",
       "      <th id=\"T_7d180_level0_row2\" class=\"row_heading level0 row2\" >2</th>\n",
       "      <td id=\"T_7d180_row2_col0\" class=\"data row2 col0\" >3</td>\n",
       "      <td id=\"T_7d180_row2_col1\" class=\"data row2 col1\" >C2450</td>\n",
       "      <td id=\"T_7d180_row2_col2\" class=\"data row2 col2\" >prd_1</td>\n",
       "      <td id=\"T_7d180_row2_col3\" class=\"data row2 col3\" >2017-01-01 11:42:00</td>\n",
       "      <td id=\"T_7d180_row2_col4\" class=\"data row2 col4\" >2019-01-13 16:24:55</td>\n",
       "    </tr>\n",
       "    <tr>\n",
       "      <th id=\"T_7d180_level0_row3\" class=\"row_heading level0 row3\" >3</th>\n",
       "      <td id=\"T_7d180_row3_col0\" class=\"data row3 col0\" >4</td>\n",
       "      <td id=\"T_7d180_row3_col1\" class=\"data row3 col1\" >C2451</td>\n",
       "      <td id=\"T_7d180_row3_col2\" class=\"data row3 col2\" >prd_2</td>\n",
       "      <td id=\"T_7d180_row3_col3\" class=\"data row3 col3\" >2017-01-01 13:32:08</td>\n",
       "      <td id=\"T_7d180_row3_col4\" class=\"data row3 col4\" >nan</td>\n",
       "    </tr>\n",
       "    <tr>\n",
       "      <th id=\"T_7d180_level0_row4\" class=\"row_heading level0 row4\" >4</th>\n",
       "      <td id=\"T_7d180_row4_col0\" class=\"data row4 col0\" >5</td>\n",
       "      <td id=\"T_7d180_row4_col1\" class=\"data row4 col1\" >C2452</td>\n",
       "      <td id=\"T_7d180_row4_col2\" class=\"data row4 col2\" >prd_1</td>\n",
       "      <td id=\"T_7d180_row4_col3\" class=\"data row4 col3\" >2017-01-01 13:57:30</td>\n",
       "      <td id=\"T_7d180_row4_col4\" class=\"data row4 col4\" >2021-06-28 18:06:01</td>\n",
       "    </tr>\n",
       "  </tbody>\n",
       "</table>\n"
      ],
      "text/plain": [
       "<pandas.io.formats.style.Styler at 0x7dc69c0bc0a0>"
      ]
     },
     "execution_count": 5,
     "metadata": {},
     "output_type": "execute_result"
    }
   ],
   "source": [
    "style_df(customer_product.head(), 'Customer Sign-up and Cancellation Dates')"
   ]
  },
  {
   "cell_type": "code",
   "execution_count": 6,
   "id": "2d956fdf",
   "metadata": {
    "execution": {
     "iopub.execute_input": "2025-04-10T01:37:38.466373Z",
     "iopub.status.busy": "2025-04-10T01:37:38.465837Z",
     "iopub.status.idle": "2025-04-10T01:37:38.474074Z",
     "shell.execute_reply": "2025-04-10T01:37:38.473159Z"
    },
    "papermill": {
     "duration": 0.020983,
     "end_time": "2025-04-10T01:37:38.475621",
     "exception": false,
     "start_time": "2025-04-10T01:37:38.454638",
     "status": "completed"
    },
    "tags": []
   },
   "outputs": [
    {
     "data": {
      "text/html": [
       "<style type=\"text/css\">\n",
       "#T_6f31c th {\n",
       "  background-color: #f0f0f0;\n",
       "  color: black;\n",
       "  font-weight: bold;\n",
       "}\n",
       "#T_6f31c tr:nth-of-type(odd) {\n",
       "  background-color: #f9f9f9;\n",
       "}\n",
       "</style>\n",
       "<table id=\"T_6f31c\">\n",
       "  <caption>Customer Demographics</caption>\n",
       "  <thead>\n",
       "    <tr>\n",
       "      <th class=\"blank level0\" >&nbsp;</th>\n",
       "      <th id=\"T_6f31c_level0_col0\" class=\"col_heading level0 col0\" >Unnamed: 0</th>\n",
       "      <th id=\"T_6f31c_level0_col1\" class=\"col_heading level0 col1\" >customer_id</th>\n",
       "      <th id=\"T_6f31c_level0_col2\" class=\"col_heading level0 col2\" >age</th>\n",
       "      <th id=\"T_6f31c_level0_col3\" class=\"col_heading level0 col3\" >gender</th>\n",
       "    </tr>\n",
       "  </thead>\n",
       "  <tbody>\n",
       "    <tr>\n",
       "      <th id=\"T_6f31c_level0_row0\" class=\"row_heading level0 row0\" >0</th>\n",
       "      <td id=\"T_6f31c_row0_col0\" class=\"data row0 col0\" >1</td>\n",
       "      <td id=\"T_6f31c_row0_col1\" class=\"data row0 col1\" >C2448</td>\n",
       "      <td id=\"T_6f31c_row0_col2\" class=\"data row0 col2\" >76</td>\n",
       "      <td id=\"T_6f31c_row0_col3\" class=\"data row0 col3\" >female</td>\n",
       "    </tr>\n",
       "    <tr>\n",
       "      <th id=\"T_6f31c_level0_row1\" class=\"row_heading level0 row1\" >1</th>\n",
       "      <td id=\"T_6f31c_row1_col0\" class=\"data row1 col0\" >2</td>\n",
       "      <td id=\"T_6f31c_row1_col1\" class=\"data row1 col1\" >C2449</td>\n",
       "      <td id=\"T_6f31c_row1_col2\" class=\"data row1 col2\" >61</td>\n",
       "      <td id=\"T_6f31c_row1_col3\" class=\"data row1 col3\" >male</td>\n",
       "    </tr>\n",
       "    <tr>\n",
       "      <th id=\"T_6f31c_level0_row2\" class=\"row_heading level0 row2\" >2</th>\n",
       "      <td id=\"T_6f31c_row2_col0\" class=\"data row2 col0\" >3</td>\n",
       "      <td id=\"T_6f31c_row2_col1\" class=\"data row2 col1\" >C2450</td>\n",
       "      <td id=\"T_6f31c_row2_col2\" class=\"data row2 col2\" >58</td>\n",
       "      <td id=\"T_6f31c_row2_col3\" class=\"data row2 col3\" >female</td>\n",
       "    </tr>\n",
       "    <tr>\n",
       "      <th id=\"T_6f31c_level0_row3\" class=\"row_heading level0 row3\" >3</th>\n",
       "      <td id=\"T_6f31c_row3_col0\" class=\"data row3 col0\" >4</td>\n",
       "      <td id=\"T_6f31c_row3_col1\" class=\"data row3 col1\" >C2451</td>\n",
       "      <td id=\"T_6f31c_row3_col2\" class=\"data row3 col2\" >62</td>\n",
       "      <td id=\"T_6f31c_row3_col3\" class=\"data row3 col3\" >female</td>\n",
       "    </tr>\n",
       "    <tr>\n",
       "      <th id=\"T_6f31c_level0_row4\" class=\"row_heading level0 row4\" >4</th>\n",
       "      <td id=\"T_6f31c_row4_col0\" class=\"data row4 col0\" >5</td>\n",
       "      <td id=\"T_6f31c_row4_col1\" class=\"data row4 col1\" >C2452</td>\n",
       "      <td id=\"T_6f31c_row4_col2\" class=\"data row4 col2\" >71</td>\n",
       "      <td id=\"T_6f31c_row4_col3\" class=\"data row4 col3\" >male</td>\n",
       "    </tr>\n",
       "  </tbody>\n",
       "</table>\n"
      ],
      "text/plain": [
       "<pandas.io.formats.style.Styler at 0x7dc6a5614820>"
      ]
     },
     "execution_count": 6,
     "metadata": {},
     "output_type": "execute_result"
    }
   ],
   "source": [
    "style_df(customer_info.head(), 'Customer Demographics')"
   ]
  },
  {
   "cell_type": "code",
   "execution_count": 7,
   "id": "7e243d96",
   "metadata": {
    "execution": {
     "iopub.execute_input": "2025-04-10T01:37:38.498174Z",
     "iopub.status.busy": "2025-04-10T01:37:38.497789Z",
     "iopub.status.idle": "2025-04-10T01:37:38.506214Z",
     "shell.execute_reply": "2025-04-10T01:37:38.505143Z"
    },
    "papermill": {
     "duration": 0.021373,
     "end_time": "2025-04-10T01:37:38.507779",
     "exception": false,
     "start_time": "2025-04-10T01:37:38.486406",
     "status": "completed"
    },
    "tags": []
   },
   "outputs": [
    {
     "data": {
      "text/html": [
       "<style type=\"text/css\">\n",
       "#T_a4d1f th {\n",
       "  background-color: #f0f0f0;\n",
       "  color: black;\n",
       "  font-weight: bold;\n",
       "}\n",
       "#T_a4d1f tr:nth-of-type(odd) {\n",
       "  background-color: #f9f9f9;\n",
       "}\n",
       "</style>\n",
       "<table id=\"T_a4d1f\">\n",
       "  <caption>Call Center Activity</caption>\n",
       "  <thead>\n",
       "    <tr>\n",
       "      <th class=\"blank level0\" >&nbsp;</th>\n",
       "      <th id=\"T_a4d1f_level0_col0\" class=\"col_heading level0 col0\" >Unnamed: 0</th>\n",
       "      <th id=\"T_a4d1f_level0_col1\" class=\"col_heading level0 col1\" >case_id</th>\n",
       "      <th id=\"T_a4d1f_level0_col2\" class=\"col_heading level0 col2\" >date_time</th>\n",
       "      <th id=\"T_a4d1f_level0_col3\" class=\"col_heading level0 col3\" >customer_id</th>\n",
       "      <th id=\"T_a4d1f_level0_col4\" class=\"col_heading level0 col4\" >channel</th>\n",
       "      <th id=\"T_a4d1f_level0_col5\" class=\"col_heading level0 col5\" >reason</th>\n",
       "    </tr>\n",
       "  </thead>\n",
       "  <tbody>\n",
       "    <tr>\n",
       "      <th id=\"T_a4d1f_level0_row0\" class=\"row_heading level0 row0\" >0</th>\n",
       "      <td id=\"T_a4d1f_row0_col0\" class=\"data row0 col0\" >1</td>\n",
       "      <td id=\"T_a4d1f_row0_col1\" class=\"data row0 col1\" >CC101</td>\n",
       "      <td id=\"T_a4d1f_row0_col2\" class=\"data row0 col2\" >2017-01-01 10:32:03</td>\n",
       "      <td id=\"T_a4d1f_row0_col3\" class=\"data row0 col3\" >C2448</td>\n",
       "      <td id=\"T_a4d1f_row0_col4\" class=\"data row0 col4\" >phone</td>\n",
       "      <td id=\"T_a4d1f_row0_col5\" class=\"data row0 col5\" >signup</td>\n",
       "    </tr>\n",
       "    <tr>\n",
       "      <th id=\"T_a4d1f_level0_row1\" class=\"row_heading level0 row1\" >1</th>\n",
       "      <td id=\"T_a4d1f_row1_col0\" class=\"data row1 col0\" >2</td>\n",
       "      <td id=\"T_a4d1f_row1_col1\" class=\"data row1 col1\" >CC102</td>\n",
       "      <td id=\"T_a4d1f_row1_col2\" class=\"data row1 col2\" >2017-01-01 11:35:47</td>\n",
       "      <td id=\"T_a4d1f_row1_col3\" class=\"data row1 col3\" >C2449</td>\n",
       "      <td id=\"T_a4d1f_row1_col4\" class=\"data row1 col4\" >phone</td>\n",
       "      <td id=\"T_a4d1f_row1_col5\" class=\"data row1 col5\" >signup</td>\n",
       "    </tr>\n",
       "    <tr>\n",
       "      <th id=\"T_a4d1f_level0_row2\" class=\"row_heading level0 row2\" >2</th>\n",
       "      <td id=\"T_a4d1f_row2_col0\" class=\"data row2 col0\" >3</td>\n",
       "      <td id=\"T_a4d1f_row2_col1\" class=\"data row2 col1\" >CC103</td>\n",
       "      <td id=\"T_a4d1f_row2_col2\" class=\"data row2 col2\" >2017-01-01 11:37:09</td>\n",
       "      <td id=\"T_a4d1f_row2_col3\" class=\"data row2 col3\" >C2450</td>\n",
       "      <td id=\"T_a4d1f_row2_col4\" class=\"data row2 col4\" >phone</td>\n",
       "      <td id=\"T_a4d1f_row2_col5\" class=\"data row2 col5\" >signup</td>\n",
       "    </tr>\n",
       "    <tr>\n",
       "      <th id=\"T_a4d1f_level0_row3\" class=\"row_heading level0 row3\" >3</th>\n",
       "      <td id=\"T_a4d1f_row3_col0\" class=\"data row3 col0\" >4</td>\n",
       "      <td id=\"T_a4d1f_row3_col1\" class=\"data row3 col1\" >CC104</td>\n",
       "      <td id=\"T_a4d1f_row3_col2\" class=\"data row3 col2\" >2017-01-01 13:28:14</td>\n",
       "      <td id=\"T_a4d1f_row3_col3\" class=\"data row3 col3\" >C2451</td>\n",
       "      <td id=\"T_a4d1f_row3_col4\" class=\"data row3 col4\" >phone</td>\n",
       "      <td id=\"T_a4d1f_row3_col5\" class=\"data row3 col5\" >signup</td>\n",
       "    </tr>\n",
       "    <tr>\n",
       "      <th id=\"T_a4d1f_level0_row4\" class=\"row_heading level0 row4\" >4</th>\n",
       "      <td id=\"T_a4d1f_row4_col0\" class=\"data row4 col0\" >5</td>\n",
       "      <td id=\"T_a4d1f_row4_col1\" class=\"data row4 col1\" >CC105</td>\n",
       "      <td id=\"T_a4d1f_row4_col2\" class=\"data row4 col2\" >2017-01-01 13:52:22</td>\n",
       "      <td id=\"T_a4d1f_row4_col3\" class=\"data row4 col3\" >C2452</td>\n",
       "      <td id=\"T_a4d1f_row4_col4\" class=\"data row4 col4\" >phone</td>\n",
       "      <td id=\"T_a4d1f_row4_col5\" class=\"data row4 col5\" >signup</td>\n",
       "    </tr>\n",
       "  </tbody>\n",
       "</table>\n"
      ],
      "text/plain": [
       "<pandas.io.formats.style.Styler at 0x7dc6a5614760>"
      ]
     },
     "execution_count": 7,
     "metadata": {},
     "output_type": "execute_result"
    }
   ],
   "source": [
    "style_df(customer_cases.head(), 'Call Center Activity')"
   ]
  },
  {
   "cell_type": "code",
   "execution_count": 8,
   "id": "202094b9",
   "metadata": {
    "execution": {
     "iopub.execute_input": "2025-04-10T01:37:38.530453Z",
     "iopub.status.busy": "2025-04-10T01:37:38.530116Z",
     "iopub.status.idle": "2025-04-10T01:37:38.537711Z",
     "shell.execute_reply": "2025-04-10T01:37:38.536639Z"
    },
    "papermill": {
     "duration": 0.020964,
     "end_time": "2025-04-10T01:37:38.539456",
     "exception": false,
     "start_time": "2025-04-10T01:37:38.518492",
     "status": "completed"
    },
    "tags": []
   },
   "outputs": [
    {
     "data": {
      "text/html": [
       "<style type=\"text/css\">\n",
       "#T_e515b th {\n",
       "  background-color: #f0f0f0;\n",
       "  color: black;\n",
       "  font-weight: bold;\n",
       "}\n",
       "#T_e515b tr:nth-of-type(odd) {\n",
       "  background-color: #f9f9f9;\n",
       "}\n",
       "</style>\n",
       "<table id=\"T_e515b\">\n",
       "  <caption>Product Information</caption>\n",
       "  <thead>\n",
       "    <tr>\n",
       "      <th class=\"blank level0\" >&nbsp;</th>\n",
       "      <th id=\"T_e515b_level0_col0\" class=\"col_heading level0 col0\" >product_id</th>\n",
       "      <th id=\"T_e515b_level0_col1\" class=\"col_heading level0 col1\" >name</th>\n",
       "      <th id=\"T_e515b_level0_col2\" class=\"col_heading level0 col2\" >price</th>\n",
       "      <th id=\"T_e515b_level0_col3\" class=\"col_heading level0 col3\" >billing_cycle</th>\n",
       "    </tr>\n",
       "  </thead>\n",
       "  <tbody>\n",
       "    <tr>\n",
       "      <th id=\"T_e515b_level0_row0\" class=\"row_heading level0 row0\" >0</th>\n",
       "      <td id=\"T_e515b_row0_col0\" class=\"data row0 col0\" >prd_1</td>\n",
       "      <td id=\"T_e515b_row0_col1\" class=\"data row0 col1\" >annual_subscription</td>\n",
       "      <td id=\"T_e515b_row0_col2\" class=\"data row0 col2\" >1200</td>\n",
       "      <td id=\"T_e515b_row0_col3\" class=\"data row0 col3\" >12</td>\n",
       "    </tr>\n",
       "    <tr>\n",
       "      <th id=\"T_e515b_level0_row1\" class=\"row_heading level0 row1\" >1</th>\n",
       "      <td id=\"T_e515b_row1_col0\" class=\"data row1 col0\" >prd_2</td>\n",
       "      <td id=\"T_e515b_row1_col1\" class=\"data row1 col1\" >monthly_subscription</td>\n",
       "      <td id=\"T_e515b_row1_col2\" class=\"data row1 col2\" >125</td>\n",
       "      <td id=\"T_e515b_row1_col3\" class=\"data row1 col3\" >1</td>\n",
       "    </tr>\n",
       "  </tbody>\n",
       "</table>\n"
      ],
      "text/plain": [
       "<pandas.io.formats.style.Styler at 0x7dc6a56179a0>"
      ]
     },
     "execution_count": 8,
     "metadata": {},
     "output_type": "execute_result"
    }
   ],
   "source": [
    "style_df(product_info.head(), 'Product Information')"
   ]
  },
  {
   "cell_type": "markdown",
   "id": "da180b62",
   "metadata": {
    "papermill": {
     "duration": 0.010686,
     "end_time": "2025-04-10T01:37:38.561312",
     "exception": false,
     "start_time": "2025-04-10T01:37:38.550626",
     "status": "completed"
    },
    "tags": []
   },
   "source": [
    "Customer Product Table will be the centre of the star schema. customer_id will be the primary key linking to the customer_centre and customer_info. product_id will be the primary key for the product_info table"
   ]
  },
  {
   "cell_type": "markdown",
   "id": "1e7f3a6f",
   "metadata": {
    "papermill": {
     "duration": 0.010478,
     "end_time": "2025-04-10T01:37:38.582792",
     "exception": false,
     "start_time": "2025-04-10T01:37:38.572314",
     "status": "completed"
    },
    "tags": []
   },
   "source": [
    "## Missing Values Check"
   ]
  },
  {
   "cell_type": "code",
   "execution_count": 9,
   "id": "afdcaa7c",
   "metadata": {
    "execution": {
     "iopub.execute_input": "2025-04-10T01:37:38.606148Z",
     "iopub.status.busy": "2025-04-10T01:37:38.605747Z",
     "iopub.status.idle": "2025-04-10T01:37:38.848384Z",
     "shell.execute_reply": "2025-04-10T01:37:38.847151Z"
    },
    "papermill": {
     "duration": 0.256316,
     "end_time": "2025-04-10T01:37:38.849992",
     "exception": false,
     "start_time": "2025-04-10T01:37:38.593676",
     "status": "completed"
    },
    "tags": []
   },
   "outputs": [
    {
     "name": "stdout",
     "output_type": "stream",
     "text": [
      "\n",
      "product_info missing values:\n",
      "product_id       0\n",
      "name             0\n",
      "price            0\n",
      "billing_cycle    0\n",
      "dtype: int64\n",
      "\n",
      "product_info data types:\n",
      "product_id       object\n",
      "name             object\n",
      "price             int64\n",
      "billing_cycle     int64\n",
      "dtype: object\n",
      "\n",
      "customer_product missing values:\n",
      "Unnamed: 0               0\n",
      "customer_id              0\n",
      "product                  0\n",
      "signup_date_time         0\n",
      "cancel_date_time    396447\n",
      "dtype: int64\n",
      "\n",
      "customer_product data types:\n",
      "Unnamed: 0           int64\n",
      "customer_id         object\n",
      "product             object\n",
      "signup_date_time    object\n",
      "cancel_date_time    object\n",
      "dtype: object\n",
      "\n",
      "customer_info missing values:\n",
      "Unnamed: 0     0\n",
      "customer_id    0\n",
      "age            0\n",
      "gender         0\n",
      "dtype: int64\n",
      "\n",
      "customer_info data types:\n",
      "Unnamed: 0      int64\n",
      "customer_id    object\n",
      "age             int64\n",
      "gender         object\n",
      "dtype: object\n",
      "\n",
      "customer_cases missing values:\n",
      "Unnamed: 0     0\n",
      "case_id        0\n",
      "date_time      0\n",
      "customer_id    0\n",
      "channel        0\n",
      "reason         0\n",
      "dtype: int64\n",
      "\n",
      "customer_cases data types:\n",
      "Unnamed: 0      int64\n",
      "case_id        object\n",
      "date_time      object\n",
      "customer_id    object\n",
      "channel        object\n",
      "reason         object\n",
      "dtype: object\n"
     ]
    }
   ],
   "source": [
    "for df_name, df in [(\"product_info\", product_info), \n",
    "                    (\"customer_product\", customer_product),\n",
    "                    (\"customer_info\", customer_info), \n",
    "                    (\"customer_cases\", customer_cases)]:\n",
    "    print(f\"\\n{df_name} missing values:\")\n",
    "    print(df.isnull().sum())\n",
    "    \n",
    "    print(f\"\\n{df_name} data types:\")\n",
    "    print(df.dtypes)"
   ]
  },
  {
   "cell_type": "code",
   "execution_count": 10,
   "id": "11ccaf6d",
   "metadata": {
    "execution": {
     "iopub.execute_input": "2025-04-10T01:37:38.873280Z",
     "iopub.status.busy": "2025-04-10T01:37:38.872885Z",
     "iopub.status.idle": "2025-04-10T01:37:38.974366Z",
     "shell.execute_reply": "2025-04-10T01:37:38.973404Z"
    },
    "papermill": {
     "duration": 0.114834,
     "end_time": "2025-04-10T01:37:38.975835",
     "exception": false,
     "start_time": "2025-04-10T01:37:38.861001",
     "status": "completed"
    },
    "tags": []
   },
   "outputs": [
    {
     "data": {
      "text/plain": [
       "Unnamed: 0               0\n",
       "customer_id              0\n",
       "product                  0\n",
       "signup_date_time         0\n",
       "cancel_date_time    396447\n",
       "dtype: int64"
      ]
     },
     "execution_count": 10,
     "metadata": {},
     "output_type": "execute_result"
    }
   ],
   "source": [
    "customer_product.isnull().sum()"
   ]
  },
  {
   "cell_type": "markdown",
   "id": "7019b092",
   "metadata": {
    "papermill": {
     "duration": 0.011281,
     "end_time": "2025-04-10T01:37:38.998785",
     "exception": false,
     "start_time": "2025-04-10T01:37:38.987504",
     "status": "completed"
    },
    "tags": []
   },
   "source": [
    "This suggests that the missing values in cancel date_time are not actual missing values but rather customers who have not cancelled their subscription"
   ]
  },
  {
   "cell_type": "code",
   "execution_count": 11,
   "id": "cd06738b",
   "metadata": {
    "execution": {
     "iopub.execute_input": "2025-04-10T01:37:39.022613Z",
     "iopub.status.busy": "2025-04-10T01:37:39.022256Z",
     "iopub.status.idle": "2025-04-10T01:37:39.370130Z",
     "shell.execute_reply": "2025-04-10T01:37:39.369126Z"
    },
    "papermill": {
     "duration": 0.361925,
     "end_time": "2025-04-10T01:37:39.371939",
     "exception": false,
     "start_time": "2025-04-10T01:37:39.010014",
     "status": "completed"
    },
    "tags": []
   },
   "outputs": [],
   "source": [
    "customer_product['signup_date_time'] = pd.to_datetime(customer_product['signup_date_time'])\n",
    "customer_product['cancel_date_time'] = pd.to_datetime(customer_product['cancel_date_time'])\n",
    "customer_cases['date_time'] = pd.to_datetime(customer_cases['date_time'])"
   ]
  },
  {
   "cell_type": "code",
   "execution_count": 12,
   "id": "7dd7070f",
   "metadata": {
    "execution": {
     "iopub.execute_input": "2025-04-10T01:37:39.395455Z",
     "iopub.status.busy": "2025-04-10T01:37:39.395110Z",
     "iopub.status.idle": "2025-04-10T01:37:39.421804Z",
     "shell.execute_reply": "2025-04-10T01:37:39.420781Z"
    },
    "papermill": {
     "duration": 0.040459,
     "end_time": "2025-04-10T01:37:39.423749",
     "exception": false,
     "start_time": "2025-04-10T01:37:39.383290",
     "status": "completed"
    },
    "tags": []
   },
   "outputs": [],
   "source": [
    "today = pd.to_datetime('2022-01-01')\n",
    "customer_product['end_date'] = customer_product['cancel_date_time'].fillna(today)\n",
    "customer_product['tenure_days'] = (customer_product['end_date'] - customer_product['signup_date_time']).dt.days"
   ]
  },
  {
   "cell_type": "markdown",
   "id": "500ee59d",
   "metadata": {
    "papermill": {
     "duration": 0.01066,
     "end_time": "2025-04-10T01:37:39.445637",
     "exception": false,
     "start_time": "2025-04-10T01:37:39.434977",
     "status": "completed"
    },
    "tags": []
   },
   "source": [
    "## Create a Joined Dataframe"
   ]
  },
  {
   "cell_type": "code",
   "execution_count": 13,
   "id": "8b048ed0",
   "metadata": {
    "execution": {
     "iopub.execute_input": "2025-04-10T01:37:39.468747Z",
     "iopub.status.busy": "2025-04-10T01:37:39.468387Z",
     "iopub.status.idle": "2025-04-10T01:37:39.902824Z",
     "shell.execute_reply": "2025-04-10T01:37:39.901763Z"
    },
    "papermill": {
     "duration": 0.448194,
     "end_time": "2025-04-10T01:37:39.904707",
     "exception": false,
     "start_time": "2025-04-10T01:37:39.456513",
     "status": "completed"
    },
    "tags": []
   },
   "outputs": [],
   "source": [
    "joined_df = pd.merge(customer_product,customer_info, how='left', left_on='customer_id', right_on='customer_id')"
   ]
  },
  {
   "cell_type": "code",
   "execution_count": 14,
   "id": "e3ac7086",
   "metadata": {
    "execution": {
     "iopub.execute_input": "2025-04-10T01:37:39.928200Z",
     "iopub.status.busy": "2025-04-10T01:37:39.927803Z",
     "iopub.status.idle": "2025-04-10T01:37:40.115854Z",
     "shell.execute_reply": "2025-04-10T01:37:40.114758Z"
    },
    "papermill": {
     "duration": 0.201739,
     "end_time": "2025-04-10T01:37:40.117793",
     "exception": false,
     "start_time": "2025-04-10T01:37:39.916054",
     "status": "completed"
    },
    "tags": []
   },
   "outputs": [],
   "source": [
    "joined_df = pd.merge(joined_df,product_info, how='left', left_on='product',right_on='product_id')"
   ]
  },
  {
   "cell_type": "code",
   "execution_count": 15,
   "id": "6acec346",
   "metadata": {
    "execution": {
     "iopub.execute_input": "2025-04-10T01:37:40.141955Z",
     "iopub.status.busy": "2025-04-10T01:37:40.141557Z",
     "iopub.status.idle": "2025-04-10T01:37:40.556322Z",
     "shell.execute_reply": "2025-04-10T01:37:40.555282Z"
    },
    "papermill": {
     "duration": 0.428977,
     "end_time": "2025-04-10T01:37:40.558203",
     "exception": false,
     "start_time": "2025-04-10T01:37:40.129226",
     "status": "completed"
    },
    "tags": []
   },
   "outputs": [],
   "source": [
    "case_summary = customer_cases.groupby('customer_id').agg({\n",
    "\t'case_id': 'count',\n",
    "\t'date_time':['min','max']\n",
    "})"
   ]
  },
  {
   "cell_type": "code",
   "execution_count": 16,
   "id": "1259af32",
   "metadata": {
    "execution": {
     "iopub.execute_input": "2025-04-10T01:37:40.582237Z",
     "iopub.status.busy": "2025-04-10T01:37:40.581840Z",
     "iopub.status.idle": "2025-04-10T01:37:40.586197Z",
     "shell.execute_reply": "2025-04-10T01:37:40.585158Z"
    },
    "papermill": {
     "duration": 0.017862,
     "end_time": "2025-04-10T01:37:40.587914",
     "exception": false,
     "start_time": "2025-04-10T01:37:40.570052",
     "status": "completed"
    },
    "tags": []
   },
   "outputs": [],
   "source": [
    "case_summary.columns = [\n",
    "\t'total_cases',\n",
    "\t'first_case_date',\n",
    "\t'last_case_date'\n",
    "]"
   ]
  },
  {
   "cell_type": "code",
   "execution_count": 17,
   "id": "350c9130",
   "metadata": {
    "execution": {
     "iopub.execute_input": "2025-04-10T01:37:40.611471Z",
     "iopub.status.busy": "2025-04-10T01:37:40.611105Z",
     "iopub.status.idle": "2025-04-10T01:37:40.623896Z",
     "shell.execute_reply": "2025-04-10T01:37:40.622820Z"
    },
    "papermill": {
     "duration": 0.026562,
     "end_time": "2025-04-10T01:37:40.625807",
     "exception": false,
     "start_time": "2025-04-10T01:37:40.599245",
     "status": "completed"
    },
    "tags": []
   },
   "outputs": [],
   "source": [
    "case_summary['days_between_cases'] = (case_summary['last_case_date'] - case_summary['first_case_date']).dt.days"
   ]
  },
  {
   "cell_type": "code",
   "execution_count": 18,
   "id": "3a930366",
   "metadata": {
    "execution": {
     "iopub.execute_input": "2025-04-10T01:37:40.649555Z",
     "iopub.status.busy": "2025-04-10T01:37:40.649177Z",
     "iopub.status.idle": "2025-04-10T01:37:41.244415Z",
     "shell.execute_reply": "2025-04-10T01:37:41.243249Z"
    },
    "papermill": {
     "duration": 0.609991,
     "end_time": "2025-04-10T01:37:41.247046",
     "exception": false,
     "start_time": "2025-04-10T01:37:40.637055",
     "status": "completed"
    },
    "tags": []
   },
   "outputs": [],
   "source": [
    "reason_counts = customer_cases.groupby(['customer_id', 'reason']).size().unstack(fill_value=0)\n",
    "reason_counts.columns = [f\"reason{col}\" for col in reason_counts.columns]\n",
    "case_summary = case_summary.join(reason_counts)"
   ]
  },
  {
   "cell_type": "code",
   "execution_count": 19,
   "id": "dc652a82",
   "metadata": {
    "execution": {
     "iopub.execute_input": "2025-04-10T01:37:41.270609Z",
     "iopub.status.busy": "2025-04-10T01:37:41.270241Z",
     "iopub.status.idle": "2025-04-10T01:37:41.719361Z",
     "shell.execute_reply": "2025-04-10T01:37:41.718314Z"
    },
    "papermill": {
     "duration": 0.462851,
     "end_time": "2025-04-10T01:37:41.721203",
     "exception": false,
     "start_time": "2025-04-10T01:37:41.258352",
     "status": "completed"
    },
    "tags": []
   },
   "outputs": [],
   "source": [
    "churn_df = pd.merge(joined_df, case_summary, on='customer_id', how='left')"
   ]
  },
  {
   "cell_type": "code",
   "execution_count": 20,
   "id": "d3c2414b",
   "metadata": {
    "execution": {
     "iopub.execute_input": "2025-04-10T01:37:41.744589Z",
     "iopub.status.busy": "2025-04-10T01:37:41.744224Z",
     "iopub.status.idle": "2025-04-10T01:37:41.755460Z",
     "shell.execute_reply": "2025-04-10T01:37:41.754441Z"
    },
    "papermill": {
     "duration": 0.025136,
     "end_time": "2025-04-10T01:37:41.757543",
     "exception": false,
     "start_time": "2025-04-10T01:37:41.732407",
     "status": "completed"
    },
    "tags": []
   },
   "outputs": [],
   "source": [
    "churn_df['total_cases'] = churn_df['total_cases'].fillna(0)"
   ]
  },
  {
   "cell_type": "code",
   "execution_count": 21,
   "id": "3d90d730",
   "metadata": {
    "execution": {
     "iopub.execute_input": "2025-04-10T01:37:41.781464Z",
     "iopub.status.busy": "2025-04-10T01:37:41.781107Z",
     "iopub.status.idle": "2025-04-10T01:37:41.855909Z",
     "shell.execute_reply": "2025-04-10T01:37:41.854865Z"
    },
    "papermill": {
     "duration": 0.088707,
     "end_time": "2025-04-10T01:37:41.857728",
     "exception": false,
     "start_time": "2025-04-10T01:37:41.769021",
     "status": "completed"
    },
    "tags": []
   },
   "outputs": [],
   "source": [
    "churn_df = churn_df.drop('Unnamed: 0_x', axis=1)\n",
    "churn_df = churn_df.drop('Unnamed: 0_y', axis=1)"
   ]
  },
  {
   "cell_type": "code",
   "execution_count": 22,
   "id": "644e5b8c",
   "metadata": {
    "execution": {
     "iopub.execute_input": "2025-04-10T01:37:41.881547Z",
     "iopub.status.busy": "2025-04-10T01:37:41.881167Z",
     "iopub.status.idle": "2025-04-10T01:37:42.024557Z",
     "shell.execute_reply": "2025-04-10T01:37:42.023433Z"
    },
    "papermill": {
     "duration": 0.157243,
     "end_time": "2025-04-10T01:37:42.026161",
     "exception": false,
     "start_time": "2025-04-10T01:37:41.868918",
     "status": "completed"
    },
    "tags": []
   },
   "outputs": [
    {
     "name": "stdout",
     "output_type": "stream",
     "text": [
      "customer_id                0\n",
      "product                    0\n",
      "signup_date_time           0\n",
      "cancel_date_time      396447\n",
      "end_date                   0\n",
      "tenure_days                0\n",
      "age                        0\n",
      "gender                     0\n",
      "product_id                 0\n",
      "name                       0\n",
      "price                      0\n",
      "billing_cycle              0\n",
      "total_cases                0\n",
      "first_case_date       250272\n",
      "last_case_date        250272\n",
      "days_between_cases    250272\n",
      "reasonsignup          250272\n",
      "reasonsupport         250272\n",
      "dtype: int64\n"
     ]
    }
   ],
   "source": [
    "print(churn_df.isnull().sum())"
   ]
  },
  {
   "cell_type": "markdown",
   "id": "9ec296cd",
   "metadata": {
    "papermill": {
     "duration": 0.010816,
     "end_time": "2025-04-10T01:37:42.048060",
     "exception": false,
     "start_time": "2025-04-10T01:37:42.037244",
     "status": "completed"
    },
    "tags": []
   },
   "source": [
    "## Clean Merged Dataset"
   ]
  },
  {
   "cell_type": "code",
   "execution_count": 23,
   "id": "b2efb6fd",
   "metadata": {
    "execution": {
     "iopub.execute_input": "2025-04-10T01:37:42.071266Z",
     "iopub.status.busy": "2025-04-10T01:37:42.070848Z",
     "iopub.status.idle": "2025-04-10T01:37:42.096395Z",
     "shell.execute_reply": "2025-04-10T01:37:42.095303Z"
    },
    "papermill": {
     "duration": 0.039138,
     "end_time": "2025-04-10T01:37:42.098196",
     "exception": false,
     "start_time": "2025-04-10T01:37:42.059058",
     "status": "completed"
    },
    "tags": []
   },
   "outputs": [],
   "source": [
    "churn_df['total_cases'] = churn_df['total_cases'].fillna(0)\n",
    "churn_df['first_case_date'] = churn_df['first_case_date'].fillna(pd.NaT)\n",
    "churn_df['last_case_date'] = churn_df['last_case_date'].fillna(pd.NaT)\n",
    "churn_df['days_between_cases'] = churn_df['days_between_cases'].fillna(0)\n",
    "churn_df['ever_contacted_support'] = churn_df['total_cases'].gt(0).astype(int)"
   ]
  },
  {
   "cell_type": "code",
   "execution_count": 24,
   "id": "0b9a9cb3",
   "metadata": {
    "execution": {
     "iopub.execute_input": "2025-04-10T01:37:42.121450Z",
     "iopub.status.busy": "2025-04-10T01:37:42.121103Z",
     "iopub.status.idle": "2025-04-10T01:37:42.140130Z",
     "shell.execute_reply": "2025-04-10T01:37:42.139112Z"
    },
    "papermill": {
     "duration": 0.032571,
     "end_time": "2025-04-10T01:37:42.141951",
     "exception": false,
     "start_time": "2025-04-10T01:37:42.109380",
     "status": "completed"
    },
    "tags": []
   },
   "outputs": [],
   "source": [
    "reason_columns = [col for col in churn_df.columns if col.startswith('reason')]\n",
    "churn_df[reason_columns] = churn_df[reason_columns].fillna(0)"
   ]
  },
  {
   "cell_type": "code",
   "execution_count": 25,
   "id": "a114b3d2",
   "metadata": {
    "execution": {
     "iopub.execute_input": "2025-04-10T01:37:42.165386Z",
     "iopub.status.busy": "2025-04-10T01:37:42.164986Z",
     "iopub.status.idle": "2025-04-10T01:37:42.305285Z",
     "shell.execute_reply": "2025-04-10T01:37:42.304101Z"
    },
    "papermill": {
     "duration": 0.153671,
     "end_time": "2025-04-10T01:37:42.306845",
     "exception": false,
     "start_time": "2025-04-10T01:37:42.153174",
     "status": "completed"
    },
    "tags": []
   },
   "outputs": [
    {
     "name": "stdout",
     "output_type": "stream",
     "text": [
      "customer_id                    0\n",
      "product                        0\n",
      "signup_date_time               0\n",
      "cancel_date_time          396447\n",
      "end_date                       0\n",
      "tenure_days                    0\n",
      "age                            0\n",
      "gender                         0\n",
      "product_id                     0\n",
      "name                           0\n",
      "price                          0\n",
      "billing_cycle                  0\n",
      "total_cases                    0\n",
      "first_case_date           250272\n",
      "last_case_date            250272\n",
      "days_between_cases             0\n",
      "reasonsignup                   0\n",
      "reasonsupport                  0\n",
      "ever_contacted_support         0\n",
      "dtype: int64\n"
     ]
    }
   ],
   "source": [
    "print(churn_df.isnull().sum())"
   ]
  },
  {
   "cell_type": "code",
   "execution_count": 26,
   "id": "3cfea85f",
   "metadata": {
    "execution": {
     "iopub.execute_input": "2025-04-10T01:37:42.330666Z",
     "iopub.status.busy": "2025-04-10T01:37:42.330346Z",
     "iopub.status.idle": "2025-04-10T01:37:42.379844Z",
     "shell.execute_reply": "2025-04-10T01:37:42.378840Z"
    },
    "papermill": {
     "duration": 0.06335,
     "end_time": "2025-04-10T01:37:42.381733",
     "exception": false,
     "start_time": "2025-04-10T01:37:42.318383",
     "status": "completed"
    },
    "tags": []
   },
   "outputs": [],
   "source": [
    "churn_df['days_since_signup'] = (today - churn_df['signup_date_time']).dt.days \n",
    "mask = churn_df['ever_contacted_support'] == 1\n",
    "churn_df.loc[mask,'days_to_first_contact'] = (churn_df.loc[mask, 'first_case_date'] - churn_df.loc[mask, 'signup_date_time']).dt.days"
   ]
  },
  {
   "cell_type": "code",
   "execution_count": 27,
   "id": "04c25a78",
   "metadata": {
    "execution": {
     "iopub.execute_input": "2025-04-10T01:37:42.405387Z",
     "iopub.status.busy": "2025-04-10T01:37:42.404997Z",
     "iopub.status.idle": "2025-04-10T01:37:42.415779Z",
     "shell.execute_reply": "2025-04-10T01:37:42.414834Z"
    },
    "papermill": {
     "duration": 0.024431,
     "end_time": "2025-04-10T01:37:42.417510",
     "exception": false,
     "start_time": "2025-04-10T01:37:42.393079",
     "status": "completed"
    },
    "tags": []
   },
   "outputs": [],
   "source": [
    "churn_df['days_to_first_contact'] = churn_df['days_to_first_contact'].fillna(-1)"
   ]
  },
  {
   "cell_type": "code",
   "execution_count": 28,
   "id": "7d4e8036",
   "metadata": {
    "execution": {
     "iopub.execute_input": "2025-04-10T01:37:42.441504Z",
     "iopub.status.busy": "2025-04-10T01:37:42.441162Z",
     "iopub.status.idle": "2025-04-10T01:37:42.459192Z",
     "shell.execute_reply": "2025-04-10T01:37:42.458338Z"
    },
    "papermill": {
     "duration": 0.032013,
     "end_time": "2025-04-10T01:37:42.460989",
     "exception": false,
     "start_time": "2025-04-10T01:37:42.428976",
     "status": "completed"
    },
    "tags": []
   },
   "outputs": [],
   "source": [
    "churn_df['age_group'] = pd.cut(churn_df['age'],\n",
    "                              bins  = [0, 30, 45, 60, 75, 100],\n",
    "                              labels  = ['<30', '30-45', '46-60','61-75','75+'])"
   ]
  },
  {
   "cell_type": "code",
   "execution_count": 29,
   "id": "6a22e489",
   "metadata": {
    "execution": {
     "iopub.execute_input": "2025-04-10T01:37:42.534579Z",
     "iopub.status.busy": "2025-04-10T01:37:42.534236Z",
     "iopub.status.idle": "2025-04-10T01:37:42.549812Z",
     "shell.execute_reply": "2025-04-10T01:37:42.548935Z"
    },
    "papermill": {
     "duration": 0.079274,
     "end_time": "2025-04-10T01:37:42.551667",
     "exception": false,
     "start_time": "2025-04-10T01:37:42.472393",
     "status": "completed"
    },
    "tags": []
   },
   "outputs": [],
   "source": [
    "churn_df['tenure_group'] = pd.cut(churn_df['tenure_days'],\n",
    "                                 bins = [0, 90, 180, 365, 730, float('inf')],\n",
    "                                 labels = ['0-3mo', '3-6mo', '6-12mo','1-2yr', '2yr+'])"
   ]
  },
  {
   "cell_type": "code",
   "execution_count": 30,
   "id": "247a9fea",
   "metadata": {
    "execution": {
     "iopub.execute_input": "2025-04-10T01:37:42.575401Z",
     "iopub.status.busy": "2025-04-10T01:37:42.575055Z",
     "iopub.status.idle": "2025-04-10T01:37:42.943348Z",
     "shell.execute_reply": "2025-04-10T01:37:42.942325Z"
    },
    "papermill": {
     "duration": 0.381983,
     "end_time": "2025-04-10T01:37:42.944916",
     "exception": false,
     "start_time": "2025-04-10T01:37:42.562933",
     "status": "completed"
    },
    "tags": []
   },
   "outputs": [
    {
     "data": {
      "text/html": [
       "<div>\n",
       "<style scoped>\n",
       "    .dataframe tbody tr th:only-of-type {\n",
       "        vertical-align: middle;\n",
       "    }\n",
       "\n",
       "    .dataframe tbody tr th {\n",
       "        vertical-align: top;\n",
       "    }\n",
       "\n",
       "    .dataframe thead th {\n",
       "        text-align: right;\n",
       "    }\n",
       "</style>\n",
       "<table border=\"1\" class=\"dataframe\">\n",
       "  <thead>\n",
       "    <tr style=\"text-align: right;\">\n",
       "      <th></th>\n",
       "      <th>signup_date_time</th>\n",
       "      <th>cancel_date_time</th>\n",
       "      <th>end_date</th>\n",
       "      <th>tenure_days</th>\n",
       "      <th>age</th>\n",
       "      <th>price</th>\n",
       "      <th>billing_cycle</th>\n",
       "      <th>total_cases</th>\n",
       "      <th>first_case_date</th>\n",
       "      <th>last_case_date</th>\n",
       "      <th>days_between_cases</th>\n",
       "      <th>reasonsignup</th>\n",
       "      <th>reasonsupport</th>\n",
       "      <th>ever_contacted_support</th>\n",
       "      <th>days_since_signup</th>\n",
       "      <th>days_to_first_contact</th>\n",
       "    </tr>\n",
       "  </thead>\n",
       "  <tbody>\n",
       "    <tr>\n",
       "      <th>count</th>\n",
       "      <td>508932</td>\n",
       "      <td>112485</td>\n",
       "      <td>508932</td>\n",
       "      <td>508932.000000</td>\n",
       "      <td>508932.000000</td>\n",
       "      <td>508932.000000</td>\n",
       "      <td>508932.000000</td>\n",
       "      <td>508932.000000</td>\n",
       "      <td>258660</td>\n",
       "      <td>258660</td>\n",
       "      <td>508932.000000</td>\n",
       "      <td>508932.000000</td>\n",
       "      <td>508932.000000</td>\n",
       "      <td>508932.000000</td>\n",
       "      <td>508932.000000</td>\n",
       "      <td>508932.000000</td>\n",
       "    </tr>\n",
       "    <tr>\n",
       "      <th>mean</th>\n",
       "      <td>2020-02-16 11:01:51.888912384</td>\n",
       "      <td>2020-09-29 23:06:47.655838464</td>\n",
       "      <td>2021-09-21 18:20:01.758126848</td>\n",
       "      <td>582.861351</td>\n",
       "      <td>58.473030</td>\n",
       "      <td>812.857464</td>\n",
       "      <td>8.038541</td>\n",
       "      <td>0.649423</td>\n",
       "      <td>2020-04-15 18:25:58.267691008</td>\n",
       "      <td>2020-05-26 11:24:47.194757632</td>\n",
       "      <td>20.639087</td>\n",
       "      <td>0.254507</td>\n",
       "      <td>0.394915</td>\n",
       "      <td>0.508241</td>\n",
       "      <td>684.102998</td>\n",
       "      <td>35.649600</td>\n",
       "    </tr>\n",
       "    <tr>\n",
       "      <th>min</th>\n",
       "      <td>2017-01-01 07:55:42</td>\n",
       "      <td>2017-01-08 15:14:53</td>\n",
       "      <td>2017-01-08 15:14:53</td>\n",
       "      <td>0.000000</td>\n",
       "      <td>21.000000</td>\n",
       "      <td>125.000000</td>\n",
       "      <td>1.000000</td>\n",
       "      <td>0.000000</td>\n",
       "      <td>2017-01-01 10:32:03</td>\n",
       "      <td>2017-01-01 10:32:03</td>\n",
       "      <td>0.000000</td>\n",
       "      <td>0.000000</td>\n",
       "      <td>0.000000</td>\n",
       "      <td>0.000000</td>\n",
       "      <td>0.000000</td>\n",
       "      <td>-1.000000</td>\n",
       "    </tr>\n",
       "    <tr>\n",
       "      <th>25%</th>\n",
       "      <td>2019-04-18 11:27:09</td>\n",
       "      <td>2020-03-03 15:25:12</td>\n",
       "      <td>2022-01-01 00:00:00</td>\n",
       "      <td>239.000000</td>\n",
       "      <td>53.000000</td>\n",
       "      <td>125.000000</td>\n",
       "      <td>1.000000</td>\n",
       "      <td>0.000000</td>\n",
       "      <td>2019-06-06 09:27:45</td>\n",
       "      <td>2019-07-21 09:32:20.500000</td>\n",
       "      <td>0.000000</td>\n",
       "      <td>0.000000</td>\n",
       "      <td>0.000000</td>\n",
       "      <td>0.000000</td>\n",
       "      <td>298.000000</td>\n",
       "      <td>-1.000000</td>\n",
       "    </tr>\n",
       "    <tr>\n",
       "      <th>50%</th>\n",
       "      <td>2020-04-25 11:14:34</td>\n",
       "      <td>2020-12-29 13:24:10</td>\n",
       "      <td>2022-01-01 00:00:00</td>\n",
       "      <td>504.000000</td>\n",
       "      <td>59.000000</td>\n",
       "      <td>1200.000000</td>\n",
       "      <td>12.000000</td>\n",
       "      <td>1.000000</td>\n",
       "      <td>2020-07-06 14:57:11</td>\n",
       "      <td>2020-08-14 15:31:07.500000</td>\n",
       "      <td>0.000000</td>\n",
       "      <td>0.000000</td>\n",
       "      <td>0.000000</td>\n",
       "      <td>1.000000</td>\n",
       "      <td>615.000000</td>\n",
       "      <td>-1.000000</td>\n",
       "    </tr>\n",
       "    <tr>\n",
       "      <th>75%</th>\n",
       "      <td>2021-03-08 16:49:51</td>\n",
       "      <td>2021-07-22 10:59:54</td>\n",
       "      <td>2022-01-01 00:00:00</td>\n",
       "      <td>858.000000</td>\n",
       "      <td>64.000000</td>\n",
       "      <td>1200.000000</td>\n",
       "      <td>12.000000</td>\n",
       "      <td>1.000000</td>\n",
       "      <td>2021-05-15 11:54:53</td>\n",
       "      <td>2021-06-26 17:26:50.750000128</td>\n",
       "      <td>0.000000</td>\n",
       "      <td>1.000000</td>\n",
       "      <td>1.000000</td>\n",
       "      <td>1.000000</td>\n",
       "      <td>988.000000</td>\n",
       "      <td>3.000000</td>\n",
       "    </tr>\n",
       "    <tr>\n",
       "      <th>max</th>\n",
       "      <td>2021-12-31 19:38:21</td>\n",
       "      <td>2021-12-31 21:44:10</td>\n",
       "      <td>2022-01-01 00:00:00</td>\n",
       "      <td>1825.000000</td>\n",
       "      <td>78.000000</td>\n",
       "      <td>1200.000000</td>\n",
       "      <td>12.000000</td>\n",
       "      <td>5.000000</td>\n",
       "      <td>2022-01-01 06:32:53</td>\n",
       "      <td>2022-01-01 06:32:53</td>\n",
       "      <td>1368.000000</td>\n",
       "      <td>1.000000</td>\n",
       "      <td>4.000000</td>\n",
       "      <td>1.000000</td>\n",
       "      <td>1825.000000</td>\n",
       "      <td>1392.000000</td>\n",
       "    </tr>\n",
       "    <tr>\n",
       "      <th>std</th>\n",
       "      <td>NaN</td>\n",
       "      <td>NaN</td>\n",
       "      <td>NaN</td>\n",
       "      <td>425.268635</td>\n",
       "      <td>8.257361</td>\n",
       "      <td>516.042059</td>\n",
       "      <td>5.280430</td>\n",
       "      <td>0.735795</td>\n",
       "      <td>NaN</td>\n",
       "      <td>NaN</td>\n",
       "      <td>78.580899</td>\n",
       "      <td>0.435584</td>\n",
       "      <td>0.583338</td>\n",
       "      <td>0.499933</td>\n",
       "      <td>453.620754</td>\n",
       "      <td>94.368328</td>\n",
       "    </tr>\n",
       "  </tbody>\n",
       "</table>\n",
       "</div>"
      ],
      "text/plain": [
       "                    signup_date_time               cancel_date_time  \\\n",
       "count                         508932                         112485   \n",
       "mean   2020-02-16 11:01:51.888912384  2020-09-29 23:06:47.655838464   \n",
       "min              2017-01-01 07:55:42            2017-01-08 15:14:53   \n",
       "25%              2019-04-18 11:27:09            2020-03-03 15:25:12   \n",
       "50%              2020-04-25 11:14:34            2020-12-29 13:24:10   \n",
       "75%              2021-03-08 16:49:51            2021-07-22 10:59:54   \n",
       "max              2021-12-31 19:38:21            2021-12-31 21:44:10   \n",
       "std                              NaN                            NaN   \n",
       "\n",
       "                            end_date    tenure_days            age  \\\n",
       "count                         508932  508932.000000  508932.000000   \n",
       "mean   2021-09-21 18:20:01.758126848     582.861351      58.473030   \n",
       "min              2017-01-08 15:14:53       0.000000      21.000000   \n",
       "25%              2022-01-01 00:00:00     239.000000      53.000000   \n",
       "50%              2022-01-01 00:00:00     504.000000      59.000000   \n",
       "75%              2022-01-01 00:00:00     858.000000      64.000000   \n",
       "max              2022-01-01 00:00:00    1825.000000      78.000000   \n",
       "std                              NaN     425.268635       8.257361   \n",
       "\n",
       "               price  billing_cycle    total_cases  \\\n",
       "count  508932.000000  508932.000000  508932.000000   \n",
       "mean      812.857464       8.038541       0.649423   \n",
       "min       125.000000       1.000000       0.000000   \n",
       "25%       125.000000       1.000000       0.000000   \n",
       "50%      1200.000000      12.000000       1.000000   \n",
       "75%      1200.000000      12.000000       1.000000   \n",
       "max      1200.000000      12.000000       5.000000   \n",
       "std       516.042059       5.280430       0.735795   \n",
       "\n",
       "                     first_case_date                 last_case_date  \\\n",
       "count                         258660                         258660   \n",
       "mean   2020-04-15 18:25:58.267691008  2020-05-26 11:24:47.194757632   \n",
       "min              2017-01-01 10:32:03            2017-01-01 10:32:03   \n",
       "25%              2019-06-06 09:27:45     2019-07-21 09:32:20.500000   \n",
       "50%              2020-07-06 14:57:11     2020-08-14 15:31:07.500000   \n",
       "75%              2021-05-15 11:54:53  2021-06-26 17:26:50.750000128   \n",
       "max              2022-01-01 06:32:53            2022-01-01 06:32:53   \n",
       "std                              NaN                            NaN   \n",
       "\n",
       "       days_between_cases   reasonsignup  reasonsupport  \\\n",
       "count       508932.000000  508932.000000  508932.000000   \n",
       "mean            20.639087       0.254507       0.394915   \n",
       "min              0.000000       0.000000       0.000000   \n",
       "25%              0.000000       0.000000       0.000000   \n",
       "50%              0.000000       0.000000       0.000000   \n",
       "75%              0.000000       1.000000       1.000000   \n",
       "max           1368.000000       1.000000       4.000000   \n",
       "std             78.580899       0.435584       0.583338   \n",
       "\n",
       "       ever_contacted_support  days_since_signup  days_to_first_contact  \n",
       "count           508932.000000      508932.000000          508932.000000  \n",
       "mean                 0.508241         684.102998              35.649600  \n",
       "min                  0.000000           0.000000              -1.000000  \n",
       "25%                  0.000000         298.000000              -1.000000  \n",
       "50%                  1.000000         615.000000              -1.000000  \n",
       "75%                  1.000000         988.000000               3.000000  \n",
       "max                  1.000000        1825.000000            1392.000000  \n",
       "std                  0.499933         453.620754              94.368328  "
      ]
     },
     "execution_count": 30,
     "metadata": {},
     "output_type": "execute_result"
    }
   ],
   "source": [
    "churn_df.describe()"
   ]
  },
  {
   "cell_type": "markdown",
   "id": "36de24b0",
   "metadata": {
    "papermill": {
     "duration": 0.011188,
     "end_time": "2025-04-10T01:37:42.967698",
     "exception": false,
     "start_time": "2025-04-10T01:37:42.956510",
     "status": "completed"
    },
    "tags": []
   },
   "source": [
    "# Defining Churn"
   ]
  },
  {
   "cell_type": "markdown",
   "id": "6c69bb6c",
   "metadata": {
    "papermill": {
     "duration": 0.011031,
     "end_time": "2025-04-10T01:37:42.990164",
     "exception": false,
     "start_time": "2025-04-10T01:37:42.979133",
     "status": "completed"
    },
    "tags": []
   },
   "source": [
    "Earlier defined churn as has cancellation_date = Churned. This is good retrospectively, but it's not predictive. Using a time-window approach here (will churn in Next X Days). This is where the business value is. The purpose of churn prediction is preventing future churn, not explaining past churn"
   ]
  },
  {
   "cell_type": "code",
   "execution_count": 31,
   "id": "c87edfe8",
   "metadata": {
    "execution": {
     "iopub.execute_input": "2025-04-10T01:37:43.014901Z",
     "iopub.status.busy": "2025-04-10T01:37:43.014559Z",
     "iopub.status.idle": "2025-04-10T01:37:43.028806Z",
     "shell.execute_reply": "2025-04-10T01:37:43.028076Z"
    },
    "papermill": {
     "duration": 0.028,
     "end_time": "2025-04-10T01:37:43.030402",
     "exception": false,
     "start_time": "2025-04-10T01:37:43.002402",
     "status": "completed"
    },
    "tags": []
   },
   "outputs": [],
   "source": [
    "cutoff_date = pd.to_datetime('2021-10-03')\n",
    "\n",
    "churn_df['will_churn_next_90d'] = (\n",
    "    (churn_df['cancel_date_time'] > cutoff_date) & \n",
    "    (churn_df['cancel_date_time'] <= cutoff_date + pd.Timedelta(days = 90))\n",
    ").astype(int)"
   ]
  },
  {
   "cell_type": "code",
   "execution_count": 32,
   "id": "d1a8727b",
   "metadata": {
    "execution": {
     "iopub.execute_input": "2025-04-10T01:37:43.054213Z",
     "iopub.status.busy": "2025-04-10T01:37:43.053845Z",
     "iopub.status.idle": "2025-04-10T01:37:43.075098Z",
     "shell.execute_reply": "2025-04-10T01:37:43.074115Z"
    },
    "papermill": {
     "duration": 0.034852,
     "end_time": "2025-04-10T01:37:43.076637",
     "exception": false,
     "start_time": "2025-04-10T01:37:43.041785",
     "status": "completed"
    },
    "tags": []
   },
   "outputs": [
    {
     "data": {
      "text/html": [
       "<div>\n",
       "<style scoped>\n",
       "    .dataframe tbody tr th:only-of-type {\n",
       "        vertical-align: middle;\n",
       "    }\n",
       "\n",
       "    .dataframe tbody tr th {\n",
       "        vertical-align: top;\n",
       "    }\n",
       "\n",
       "    .dataframe thead th {\n",
       "        text-align: right;\n",
       "    }\n",
       "</style>\n",
       "<table border=\"1\" class=\"dataframe\">\n",
       "  <thead>\n",
       "    <tr style=\"text-align: right;\">\n",
       "      <th></th>\n",
       "      <th>customer_id</th>\n",
       "      <th>product</th>\n",
       "      <th>signup_date_time</th>\n",
       "      <th>cancel_date_time</th>\n",
       "      <th>end_date</th>\n",
       "      <th>tenure_days</th>\n",
       "      <th>age</th>\n",
       "      <th>gender</th>\n",
       "      <th>product_id</th>\n",
       "      <th>name</th>\n",
       "      <th>...</th>\n",
       "      <th>last_case_date</th>\n",
       "      <th>days_between_cases</th>\n",
       "      <th>reasonsignup</th>\n",
       "      <th>reasonsupport</th>\n",
       "      <th>ever_contacted_support</th>\n",
       "      <th>days_since_signup</th>\n",
       "      <th>days_to_first_contact</th>\n",
       "      <th>age_group</th>\n",
       "      <th>tenure_group</th>\n",
       "      <th>will_churn_next_90d</th>\n",
       "    </tr>\n",
       "  </thead>\n",
       "  <tbody>\n",
       "    <tr>\n",
       "      <th>0</th>\n",
       "      <td>C2448</td>\n",
       "      <td>prd_1</td>\n",
       "      <td>2017-01-01 10:35:09</td>\n",
       "      <td>NaT</td>\n",
       "      <td>2022-01-01 00:00:00</td>\n",
       "      <td>1825</td>\n",
       "      <td>76</td>\n",
       "      <td>female</td>\n",
       "      <td>prd_1</td>\n",
       "      <td>annual_subscription</td>\n",
       "      <td>...</td>\n",
       "      <td>2017-01-01 10:32:03</td>\n",
       "      <td>0.0</td>\n",
       "      <td>1.0</td>\n",
       "      <td>0.0</td>\n",
       "      <td>1</td>\n",
       "      <td>1825</td>\n",
       "      <td>-1.0</td>\n",
       "      <td>75+</td>\n",
       "      <td>2yr+</td>\n",
       "      <td>0</td>\n",
       "    </tr>\n",
       "    <tr>\n",
       "      <th>1</th>\n",
       "      <td>C2449</td>\n",
       "      <td>prd_1</td>\n",
       "      <td>2017-01-01 11:39:29</td>\n",
       "      <td>2021-09-05 10:00:02</td>\n",
       "      <td>2021-09-05 10:00:02</td>\n",
       "      <td>1707</td>\n",
       "      <td>61</td>\n",
       "      <td>male</td>\n",
       "      <td>prd_1</td>\n",
       "      <td>annual_subscription</td>\n",
       "      <td>...</td>\n",
       "      <td>2017-01-01 11:35:47</td>\n",
       "      <td>0.0</td>\n",
       "      <td>1.0</td>\n",
       "      <td>0.0</td>\n",
       "      <td>1</td>\n",
       "      <td>1825</td>\n",
       "      <td>-1.0</td>\n",
       "      <td>61-75</td>\n",
       "      <td>2yr+</td>\n",
       "      <td>0</td>\n",
       "    </tr>\n",
       "    <tr>\n",
       "      <th>2</th>\n",
       "      <td>C2450</td>\n",
       "      <td>prd_1</td>\n",
       "      <td>2017-01-01 11:42:00</td>\n",
       "      <td>2019-01-13 16:24:55</td>\n",
       "      <td>2019-01-13 16:24:55</td>\n",
       "      <td>742</td>\n",
       "      <td>58</td>\n",
       "      <td>female</td>\n",
       "      <td>prd_1</td>\n",
       "      <td>annual_subscription</td>\n",
       "      <td>...</td>\n",
       "      <td>2017-01-01 11:37:09</td>\n",
       "      <td>0.0</td>\n",
       "      <td>1.0</td>\n",
       "      <td>0.0</td>\n",
       "      <td>1</td>\n",
       "      <td>1825</td>\n",
       "      <td>-1.0</td>\n",
       "      <td>46-60</td>\n",
       "      <td>2yr+</td>\n",
       "      <td>0</td>\n",
       "    </tr>\n",
       "    <tr>\n",
       "      <th>3</th>\n",
       "      <td>C2451</td>\n",
       "      <td>prd_2</td>\n",
       "      <td>2017-01-01 13:32:08</td>\n",
       "      <td>NaT</td>\n",
       "      <td>2022-01-01 00:00:00</td>\n",
       "      <td>1825</td>\n",
       "      <td>62</td>\n",
       "      <td>female</td>\n",
       "      <td>prd_2</td>\n",
       "      <td>monthly_subscription</td>\n",
       "      <td>...</td>\n",
       "      <td>2017-03-31 12:06:58</td>\n",
       "      <td>88.0</td>\n",
       "      <td>1.0</td>\n",
       "      <td>1.0</td>\n",
       "      <td>1</td>\n",
       "      <td>1825</td>\n",
       "      <td>-1.0</td>\n",
       "      <td>61-75</td>\n",
       "      <td>2yr+</td>\n",
       "      <td>0</td>\n",
       "    </tr>\n",
       "    <tr>\n",
       "      <th>4</th>\n",
       "      <td>C2452</td>\n",
       "      <td>prd_1</td>\n",
       "      <td>2017-01-01 13:57:30</td>\n",
       "      <td>2021-06-28 18:06:01</td>\n",
       "      <td>2021-06-28 18:06:01</td>\n",
       "      <td>1639</td>\n",
       "      <td>71</td>\n",
       "      <td>male</td>\n",
       "      <td>prd_1</td>\n",
       "      <td>annual_subscription</td>\n",
       "      <td>...</td>\n",
       "      <td>2017-01-01 13:52:22</td>\n",
       "      <td>0.0</td>\n",
       "      <td>1.0</td>\n",
       "      <td>0.0</td>\n",
       "      <td>1</td>\n",
       "      <td>1825</td>\n",
       "      <td>-1.0</td>\n",
       "      <td>61-75</td>\n",
       "      <td>2yr+</td>\n",
       "      <td>0</td>\n",
       "    </tr>\n",
       "  </tbody>\n",
       "</table>\n",
       "<p>5 rows × 24 columns</p>\n",
       "</div>"
      ],
      "text/plain": [
       "  customer_id product    signup_date_time    cancel_date_time  \\\n",
       "0       C2448   prd_1 2017-01-01 10:35:09                 NaT   \n",
       "1       C2449   prd_1 2017-01-01 11:39:29 2021-09-05 10:00:02   \n",
       "2       C2450   prd_1 2017-01-01 11:42:00 2019-01-13 16:24:55   \n",
       "3       C2451   prd_2 2017-01-01 13:32:08                 NaT   \n",
       "4       C2452   prd_1 2017-01-01 13:57:30 2021-06-28 18:06:01   \n",
       "\n",
       "             end_date  tenure_days  age  gender product_id  \\\n",
       "0 2022-01-01 00:00:00         1825   76  female      prd_1   \n",
       "1 2021-09-05 10:00:02         1707   61    male      prd_1   \n",
       "2 2019-01-13 16:24:55          742   58  female      prd_1   \n",
       "3 2022-01-01 00:00:00         1825   62  female      prd_2   \n",
       "4 2021-06-28 18:06:01         1639   71    male      prd_1   \n",
       "\n",
       "                   name  ...      last_case_date  days_between_cases  \\\n",
       "0   annual_subscription  ... 2017-01-01 10:32:03                 0.0   \n",
       "1   annual_subscription  ... 2017-01-01 11:35:47                 0.0   \n",
       "2   annual_subscription  ... 2017-01-01 11:37:09                 0.0   \n",
       "3  monthly_subscription  ... 2017-03-31 12:06:58                88.0   \n",
       "4   annual_subscription  ... 2017-01-01 13:52:22                 0.0   \n",
       "\n",
       "   reasonsignup reasonsupport ever_contacted_support  days_since_signup  \\\n",
       "0           1.0           0.0                      1               1825   \n",
       "1           1.0           0.0                      1               1825   \n",
       "2           1.0           0.0                      1               1825   \n",
       "3           1.0           1.0                      1               1825   \n",
       "4           1.0           0.0                      1               1825   \n",
       "\n",
       "   days_to_first_contact  age_group  tenure_group  will_churn_next_90d  \n",
       "0                   -1.0        75+          2yr+                    0  \n",
       "1                   -1.0      61-75          2yr+                    0  \n",
       "2                   -1.0      46-60          2yr+                    0  \n",
       "3                   -1.0      61-75          2yr+                    0  \n",
       "4                   -1.0      61-75          2yr+                    0  \n",
       "\n",
       "[5 rows x 24 columns]"
      ]
     },
     "execution_count": 32,
     "metadata": {},
     "output_type": "execute_result"
    }
   ],
   "source": [
    "churn_df.head()"
   ]
  },
  {
   "cell_type": "code",
   "execution_count": 33,
   "id": "e311fc21",
   "metadata": {
    "execution": {
     "iopub.execute_input": "2025-04-10T01:37:43.101473Z",
     "iopub.status.busy": "2025-04-10T01:37:43.101150Z",
     "iopub.status.idle": "2025-04-10T01:37:43.262298Z",
     "shell.execute_reply": "2025-04-10T01:37:43.261287Z"
    },
    "papermill": {
     "duration": 0.175626,
     "end_time": "2025-04-10T01:37:43.264137",
     "exception": false,
     "start_time": "2025-04-10T01:37:43.088511",
     "status": "completed"
    },
    "tags": []
   },
   "outputs": [],
   "source": [
    "modeling_df = churn_df[churn_df['signup_date_time'] < cutoff_date]\n",
    "\n",
    "modeling_df = modeling_df[\n",
    "    (modeling_df['cancel_date_time'] > cutoff_date) | \n",
    "    (modeling_df['cancel_date_time'].isna())\n",
    "]"
   ]
  },
  {
   "cell_type": "code",
   "execution_count": 34,
   "id": "f37c4999",
   "metadata": {
    "execution": {
     "iopub.execute_input": "2025-04-10T01:37:43.288659Z",
     "iopub.status.busy": "2025-04-10T01:37:43.288347Z",
     "iopub.status.idle": "2025-04-10T01:37:43.319382Z",
     "shell.execute_reply": "2025-04-10T01:37:43.318589Z"
    },
    "papermill": {
     "duration": 0.045135,
     "end_time": "2025-04-10T01:37:43.321065",
     "exception": false,
     "start_time": "2025-04-10T01:37:43.275930",
     "status": "completed"
    },
    "tags": []
   },
   "outputs": [],
   "source": [
    "modeling_df['monthly_spend'] = modeling_df['price'] / modeling_df['billing_cycle']\n",
    "\n",
    "\n",
    "modeling_df['tenure_at_cutoff'] = (cutoff_date - modeling_df['signup_date_time']).dt.days\n",
    "modeling_df['tenure_months'] = (modeling_df['tenure_at_cutoff'] / 30).round()"
   ]
  },
  {
   "cell_type": "code",
   "execution_count": 35,
   "id": "0f249808",
   "metadata": {
    "execution": {
     "iopub.execute_input": "2025-04-10T01:37:43.345672Z",
     "iopub.status.busy": "2025-04-10T01:37:43.345367Z",
     "iopub.status.idle": "2025-04-10T01:37:43.364303Z",
     "shell.execute_reply": "2025-04-10T01:37:43.363467Z"
    },
    "papermill": {
     "duration": 0.033059,
     "end_time": "2025-04-10T01:37:43.366018",
     "exception": false,
     "start_time": "2025-04-10T01:37:43.332959",
     "status": "completed"
    },
    "tags": []
   },
   "outputs": [],
   "source": [
    "mask = modeling_df['ever_contacted_support'] == 1\n",
    "\n",
    "modeling_df.loc[mask, 'support_before_cutoff'] = (\n",
    "    modeling_df.loc[mask, 'last_case_date'] < cutoff_date\n",
    ").astype(int)"
   ]
  },
  {
   "cell_type": "code",
   "execution_count": 36,
   "id": "43d10bc3",
   "metadata": {
    "execution": {
     "iopub.execute_input": "2025-04-10T01:37:43.390531Z",
     "iopub.status.busy": "2025-04-10T01:37:43.390219Z",
     "iopub.status.idle": "2025-04-10T01:37:43.417381Z",
     "shell.execute_reply": "2025-04-10T01:37:43.416330Z"
    },
    "papermill": {
     "duration": 0.041107,
     "end_time": "2025-04-10T01:37:43.418982",
     "exception": false,
     "start_time": "2025-04-10T01:37:43.377875",
     "status": "completed"
    },
    "tags": []
   },
   "outputs": [
    {
     "name": "stderr",
     "output_type": "stream",
     "text": [
      "<ipython-input-36-9f99fa495dc8>:5: FutureWarning: A value is trying to be set on a copy of a DataFrame or Series through chained assignment using an inplace method.\n",
      "The behavior will change in pandas 3.0. This inplace method will never work because the intermediate object on which we are setting values always behaves as a copy.\n",
      "\n",
      "For example, when doing 'df[col].method(value, inplace=True)', try using 'df.method({col: value}, inplace=True)' or df[col] = df[col].method(value) instead, to perform the operation inplace on the original object.\n",
      "\n",
      "\n",
      "  modeling_df['days_since_last_contact'].fillna(999, inplace=True)\n"
     ]
    }
   ],
   "source": [
    "mask = modeling_df['support_before_cutoff'] == 1\n",
    "modeling_df.loc[mask, 'days_since_last_contact'] = (\n",
    "    cutoff_date - modeling_df.loc[mask, 'last_case_date']\n",
    ").dt.days\n",
    "modeling_df['days_since_last_contact'].fillna(999, inplace=True)"
   ]
  },
  {
   "cell_type": "code",
   "execution_count": 37,
   "id": "874d52c4",
   "metadata": {
    "execution": {
     "iopub.execute_input": "2025-04-10T01:37:43.443456Z",
     "iopub.status.busy": "2025-04-10T01:37:43.443132Z",
     "iopub.status.idle": "2025-04-10T01:37:43.470726Z",
     "shell.execute_reply": "2025-04-10T01:37:43.469658Z"
    },
    "papermill": {
     "duration": 0.041715,
     "end_time": "2025-04-10T01:37:43.472513",
     "exception": false,
     "start_time": "2025-04-10T01:37:43.430798",
     "status": "completed"
    },
    "tags": []
   },
   "outputs": [
    {
     "name": "stderr",
     "output_type": "stream",
     "text": [
      "<ipython-input-37-4b549f63ca7a>:7: FutureWarning: A value is trying to be set on a copy of a DataFrame or Series through chained assignment using an inplace method.\n",
      "The behavior will change in pandas 3.0. This inplace method will never work because the intermediate object on which we are setting values always behaves as a copy.\n",
      "\n",
      "For example, when doing 'df[col].method(value, inplace=True)', try using 'df.method({col: value}, inplace=True)' or df[col] = df[col].method(value) instead, to perform the operation inplace on the original object.\n",
      "\n",
      "\n",
      "  modeling_df['monthly_contact_rate'].fillna(0, inplace = True)\n"
     ]
    }
   ],
   "source": [
    "mask = modeling_df['ever_contacted_support'] == 1\n",
    "\n",
    "modeling_df.loc[mask, 'monthly_contact_rate'] = (\n",
    "    modeling_df.loc[mask, 'total_cases'] / (modeling_df.loc[mask, 'tenure_months'] + 1)\n",
    ")\n",
    "\n",
    "modeling_df['monthly_contact_rate'].fillna(0, inplace = True)"
   ]
  },
  {
   "cell_type": "code",
   "execution_count": 38,
   "id": "5ddb692a",
   "metadata": {
    "execution": {
     "iopub.execute_input": "2025-04-10T01:37:43.497459Z",
     "iopub.status.busy": "2025-04-10T01:37:43.497076Z",
     "iopub.status.idle": "2025-04-10T01:37:43.510517Z",
     "shell.execute_reply": "2025-04-10T01:37:43.509505Z"
    },
    "papermill": {
     "duration": 0.027741,
     "end_time": "2025-04-10T01:37:43.512241",
     "exception": false,
     "start_time": "2025-04-10T01:37:43.484500",
     "status": "completed"
    },
    "tags": []
   },
   "outputs": [],
   "source": [
    "modeling_df['support_level'] = pd.cut(\n",
    "    modeling_df['monthly_contact_rate'],\n",
    "    bins = [-0.001, 0 , 0.2, 0.5, 1, float('inf')],\n",
    "    labels = ['None', 'Low', 'Medium', 'High', 'Very High']\n",
    ")"
   ]
  },
  {
   "cell_type": "code",
   "execution_count": 39,
   "id": "e2663405",
   "metadata": {
    "execution": {
     "iopub.execute_input": "2025-04-10T01:37:43.537015Z",
     "iopub.status.busy": "2025-04-10T01:37:43.536704Z",
     "iopub.status.idle": "2025-04-10T01:37:43.599902Z",
     "shell.execute_reply": "2025-04-10T01:37:43.598757Z"
    },
    "papermill": {
     "duration": 0.077418,
     "end_time": "2025-04-10T01:37:43.601684",
     "exception": false,
     "start_time": "2025-04-10T01:37:43.524266",
     "status": "completed"
    },
    "tags": []
   },
   "outputs": [
    {
     "name": "stdout",
     "output_type": "stream",
     "text": [
      "\n",
      "Churn rate by age_group:\n",
      "               mean   count\n",
      "age_group                  \n",
      "75+        4.382609    2875\n",
      "30-45      4.260450   24880\n",
      "46-60      4.008111  195279\n",
      "61-75      3.995778  163898\n",
      "<30        3.880597    1005\n",
      "\n",
      "Churn rate by tenure_group:\n",
      "                   mean   count\n",
      "tenure_group                   \n",
      "0-3mo         75.802998     934\n",
      "3-6mo          4.752750   37452\n",
      "1-2yr          3.925560  119881\n",
      "6-12mo         3.703624   93260\n",
      "2yr+           3.630965  136410\n",
      "\n",
      "Churn rate by support_level:\n",
      "                   mean   count\n",
      "support_level                  \n",
      "Medium         4.955527   31480\n",
      "Very High      4.945055     546\n",
      "High           4.672024    5351\n",
      "Low            4.182353  162827\n",
      "None           3.704197  187733\n",
      "\n",
      "Churn rate by product:\n",
      "             mean   count\n",
      "product                  \n",
      "prd_2    5.389810  135348\n",
      "prd_1    3.288346  252589\n"
     ]
    },
    {
     "name": "stderr",
     "output_type": "stream",
     "text": [
      "<ipython-input-39-882261bce8e4>:6: FutureWarning: The default of observed=False is deprecated and will be changed to True in a future version of pandas. Pass observed=False to retain current behavior or observed=True to adopt the future default and silence this warning.\n",
      "  churn_by_segment = modeling_df.groupby(segment)[target].agg(['mean', 'count'])\n",
      "<ipython-input-39-882261bce8e4>:6: FutureWarning: The default of observed=False is deprecated and will be changed to True in a future version of pandas. Pass observed=False to retain current behavior or observed=True to adopt the future default and silence this warning.\n",
      "  churn_by_segment = modeling_df.groupby(segment)[target].agg(['mean', 'count'])\n",
      "<ipython-input-39-882261bce8e4>:6: FutureWarning: The default of observed=False is deprecated and will be changed to True in a future version of pandas. Pass observed=False to retain current behavior or observed=True to adopt the future default and silence this warning.\n",
      "  churn_by_segment = modeling_df.groupby(segment)[target].agg(['mean', 'count'])\n"
     ]
    }
   ],
   "source": [
    "target = 'will_churn_next_90d'\n",
    "\n",
    "segments = ['age_group', 'tenure_group', 'support_level', 'product']\n",
    "\n",
    "for segment in segments:\n",
    "    churn_by_segment = modeling_df.groupby(segment)[target].agg(['mean', 'count'])\n",
    "    churn_by_segment['mean'] *= 100\n",
    "    print(f\"\\nChurn rate by {segment}:\")\n",
    "    print(churn_by_segment.sort_values('mean', ascending=False))"
   ]
  },
  {
   "cell_type": "markdown",
   "id": "43f33554",
   "metadata": {
    "papermill": {
     "duration": 0.011767,
     "end_time": "2025-04-10T01:37:43.625517",
     "exception": false,
     "start_time": "2025-04-10T01:37:43.613750",
     "status": "completed"
    },
    "tags": []
   },
   "source": [
    "Extremely high churn rate (76%) for customers with a tenure of 0-3 months. Might be dealing with 'onboarding cliff' in subscription businesses, could be a free trial effect, but the data does not indicate that the service offers a free trial, so I am making an assumption here. "
   ]
  },
  {
   "cell_type": "code",
   "execution_count": 40,
   "id": "6381c61c",
   "metadata": {
    "execution": {
     "iopub.execute_input": "2025-04-10T01:37:43.650684Z",
     "iopub.status.busy": "2025-04-10T01:37:43.650319Z",
     "iopub.status.idle": "2025-04-10T01:37:43.677772Z",
     "shell.execute_reply": "2025-04-10T01:37:43.676565Z"
    },
    "papermill": {
     "duration": 0.042102,
     "end_time": "2025-04-10T01:37:43.679561",
     "exception": false,
     "start_time": "2025-04-10T01:37:43.637459",
     "status": "completed"
    },
    "tags": []
   },
   "outputs": [
    {
     "name": "stdout",
     "output_type": "stream",
     "text": [
      "                  mean  count\n",
      "tenure_weeks                 \n",
      "0             4.268293   2460\n",
      "1             4.101951   2511\n",
      "2             3.953749   2681\n",
      "3             3.834472   2634\n",
      "4             4.235727   2715\n",
      "5             3.463961   2858\n",
      "6             5.005325   2817\n",
      "7             3.766542   2947\n",
      "8             3.993344   3005\n",
      "9             4.386808   3123\n",
      "10            4.700991   3127\n",
      "11            3.773585   3180\n",
      "12            4.515522   3189\n",
      "product  tenure_weeks\n",
      "prd_1    0               3.568465\n",
      "         1               2.510121\n",
      "         2               3.403933\n",
      "         3               3.448276\n",
      "         4               3.419453\n",
      "         5               2.620087\n",
      "         6               2.964570\n",
      "         7               2.746845\n",
      "         8               2.709848\n",
      "         9               2.927478\n",
      "         10              3.715992\n",
      "         11              2.754644\n",
      "         12              3.388747\n",
      "prd_2    0               4.940239\n",
      "         1               5.642633\n",
      "         2               4.488595\n",
      "         3               4.181687\n",
      "         4               5.003574\n",
      "         5               4.245283\n",
      "         6               6.973501\n",
      "         7               4.625000\n",
      "         8               5.294906\n",
      "         9               5.740741\n",
      "         10              5.617284\n",
      "         11              4.756022\n",
      "         12              5.600000\n",
      "Name: will_churn_next_90d, dtype: float64\n"
     ]
    }
   ],
   "source": [
    "modeling_df['tenure_weeks'] = (modeling_df['tenure_at_cutoff'] / 7).astype(int)\n",
    "early_churn = modeling_df[modeling_df['tenure_at_cutoff'] < 90]\n",
    "weekly_churn = early_churn.groupby('tenure_weeks')['will_churn_next_90d'].agg(['mean','count'])\n",
    "weekly_churn['mean'] *= 100\n",
    "\n",
    "print(weekly_churn)\n",
    "\n",
    "early_product_churn = early_churn.groupby(['product', 'tenure_weeks'])['will_churn_next_90d'].mean() * 100\n",
    "\n",
    "print(early_product_churn)"
   ]
  },
  {
   "cell_type": "code",
   "execution_count": 41,
   "id": "0afd5d44",
   "metadata": {
    "execution": {
     "iopub.execute_input": "2025-04-10T01:37:43.705262Z",
     "iopub.status.busy": "2025-04-10T01:37:43.704831Z",
     "iopub.status.idle": "2025-04-10T01:37:43.717548Z",
     "shell.execute_reply": "2025-04-10T01:37:43.716399Z"
    },
    "papermill": {
     "duration": 0.027145,
     "end_time": "2025-04-10T01:37:43.719070",
     "exception": false,
     "start_time": "2025-04-10T01:37:43.691925",
     "status": "completed"
    },
    "tags": []
   },
   "outputs": [
    {
     "name": "stdout",
     "output_type": "stream",
     "text": [
      "Count of customers in 0-3mo group: 934\n",
      "count    934.000000\n",
      "mean      23.361884\n",
      "std       23.019626\n",
      "min        0.000000\n",
      "25%        0.000000\n",
      "50%       18.000000\n",
      "75%       39.000000\n",
      "max       89.000000\n",
      "Name: tenure_at_cutoff, dtype: float64\n",
      "Churn rate in 0-3mo group: 75.80%\n",
      "product\n",
      "prd_1    71.111111\n",
      "prd_2    78.745645\n",
      "Name: will_churn_next_90d, dtype: float64\n"
     ]
    }
   ],
   "source": [
    "tenure_check = modeling_df[modeling_df['tenure_group'] == '0-3mo']\n",
    "print(f\"Count of customers in 0-3mo group: {len(tenure_check)}\")\n",
    "\n",
    "print(tenure_check['tenure_at_cutoff'].describe())\n",
    "\n",
    "print(f\"Churn rate in 0-3mo group: {tenure_check['will_churn_next_90d'].mean()*100:.2f}%\")\n",
    "\n",
    "print(tenure_check.groupby('product')['will_churn_next_90d'].mean()*100)"
   ]
  },
  {
   "cell_type": "markdown",
   "id": "3332430a",
   "metadata": {
    "papermill": {
     "duration": 0.011729,
     "end_time": "2025-04-10T01:37:43.743145",
     "exception": false,
     "start_time": "2025-04-10T01:37:43.731416",
     "status": "completed"
    },
    "tags": []
   },
   "source": [
    "We have 934 customers who joined less than 3 months before the cutoff date. On average, these customers are only subscribed for 23 days. Half of them (median) have been customers for 18 days or less. 75% of the customers will cancel within the next 90 days. This is much higher than other tenure groups' 3-5% churn rate. There is also a difference in monthly subscribers (78.7%) who are more likely to churn compared to annual customers (71.1%)\n",
    "\n",
    "If we were to acquire 100 customers, ~75 would leave within the first 3 months. A large amount of leakage happening in the initial stages of the subscription signup\n",
    "\n",
    "The customer journey pattern seems to be Signup -> [Critical 3-month decision period] -> Stable Relationship"
   ]
  },
  {
   "cell_type": "markdown",
   "id": "306804e9",
   "metadata": {
    "papermill": {
     "duration": 0.011778,
     "end_time": "2025-04-10T01:37:43.767063",
     "exception": false,
     "start_time": "2025-04-10T01:37:43.755285",
     "status": "completed"
    },
    "tags": []
   },
   "source": [
    "Given these dramatic differences, the best approach is segment-based modeling, particularly separating new customers from established ones "
   ]
  },
  {
   "cell_type": "code",
   "execution_count": 42,
   "id": "d6336e3e",
   "metadata": {
    "execution": {
     "iopub.execute_input": "2025-04-10T01:37:43.792417Z",
     "iopub.status.busy": "2025-04-10T01:37:43.792079Z",
     "iopub.status.idle": "2025-04-10T01:37:43.796697Z",
     "shell.execute_reply": "2025-04-10T01:37:43.795963Z"
    },
    "papermill": {
     "duration": 0.01909,
     "end_time": "2025-04-10T01:37:43.798248",
     "exception": false,
     "start_time": "2025-04-10T01:37:43.779158",
     "status": "completed"
    },
    "tags": []
   },
   "outputs": [],
   "source": [
    "modeling_df['new_customer'] = modeling_df['tenure_at_cutoff'] < 90 # 0-3 months"
   ]
  },
  {
   "cell_type": "code",
   "execution_count": 43,
   "id": "d8b573a9",
   "metadata": {
    "execution": {
     "iopub.execute_input": "2025-04-10T01:37:43.823523Z",
     "iopub.status.busy": "2025-04-10T01:37:43.823205Z",
     "iopub.status.idle": "2025-04-10T01:37:43.907342Z",
     "shell.execute_reply": "2025-04-10T01:37:43.906117Z"
    },
    "papermill": {
     "duration": 0.098769,
     "end_time": "2025-04-10T01:37:43.909071",
     "exception": false,
     "start_time": "2025-04-10T01:37:43.810302",
     "status": "completed"
    },
    "tags": []
   },
   "outputs": [
    {
     "name": "stdout",
     "output_type": "stream",
     "text": [
      "New customers: 37247 (9.6%)\n",
      "Established customers: 350690 (90.4%) \n"
     ]
    }
   ],
   "source": [
    "new_customer_df = modeling_df[modeling_df['new_customer']]\n",
    "established_customer_df = modeling_df[~modeling_df['new_customer']]\n",
    "\n",
    "print(f\"New customers: {len(new_customer_df)} ({len(new_customer_df)/len(modeling_df):.1%})\")\n",
    "print(f\"Established customers: {len(established_customer_df)} ({len(established_customer_df)/len(modeling_df):.1%}) \")"
   ]
  },
  {
   "cell_type": "markdown",
   "id": "1513a489",
   "metadata": {
    "papermill": {
     "duration": 0.011926,
     "end_time": "2025-04-10T01:37:43.933402",
     "exception": false,
     "start_time": "2025-04-10T01:37:43.921476",
     "status": "completed"
    },
    "tags": []
   },
   "source": [
    "Dealing with a significant class imbalance here - Will need feature engineering for each segment and then build separate models"
   ]
  },
  {
   "cell_type": "code",
   "execution_count": 44,
   "id": "8df05f79",
   "metadata": {
    "execution": {
     "iopub.execute_input": "2025-04-10T01:37:43.958980Z",
     "iopub.status.busy": "2025-04-10T01:37:43.958654Z",
     "iopub.status.idle": "2025-04-10T01:37:43.962830Z",
     "shell.execute_reply": "2025-04-10T01:37:43.961801Z"
    },
    "papermill": {
     "duration": 0.018803,
     "end_time": "2025-04-10T01:37:43.964334",
     "exception": false,
     "start_time": "2025-04-10T01:37:43.945531",
     "status": "completed"
    },
    "tags": []
   },
   "outputs": [],
   "source": [
    "# New customers \n",
    "new_features = [\n",
    "    'product',\n",
    "    'days_since_signup',\n",
    "    'ever_contacted_support',\n",
    "    'total_cases',\n",
    "    'age',\n",
    "    'gender',\n",
    "    'signup_month',\n",
    "    'signup_day_of_week'\n",
    "]"
   ]
  },
  {
   "cell_type": "code",
   "execution_count": 45,
   "id": "9fe10a43",
   "metadata": {
    "execution": {
     "iopub.execute_input": "2025-04-10T01:37:43.990132Z",
     "iopub.status.busy": "2025-04-10T01:37:43.989744Z",
     "iopub.status.idle": "2025-04-10T01:37:43.998153Z",
     "shell.execute_reply": "2025-04-10T01:37:43.997107Z"
    },
    "papermill": {
     "duration": 0.023431,
     "end_time": "2025-04-10T01:37:44.000077",
     "exception": false,
     "start_time": "2025-04-10T01:37:43.976646",
     "status": "completed"
    },
    "tags": []
   },
   "outputs": [
    {
     "name": "stderr",
     "output_type": "stream",
     "text": [
      "<ipython-input-45-e397c9cf092d>:1: SettingWithCopyWarning: \n",
      "A value is trying to be set on a copy of a slice from a DataFrame.\n",
      "Try using .loc[row_indexer,col_indexer] = value instead\n",
      "\n",
      "See the caveats in the documentation: https://pandas.pydata.org/pandas-docs/stable/user_guide/indexing.html#returning-a-view-versus-a-copy\n",
      "  new_customer_df['signup_day_of_week'] = new_customer_df['signup_date_time'].dt.dayofweek\n",
      "<ipython-input-45-e397c9cf092d>:2: SettingWithCopyWarning: \n",
      "A value is trying to be set on a copy of a slice from a DataFrame.\n",
      "Try using .loc[row_indexer,col_indexer] = value instead\n",
      "\n",
      "See the caveats in the documentation: https://pandas.pydata.org/pandas-docs/stable/user_guide/indexing.html#returning-a-view-versus-a-copy\n",
      "  new_customer_df['signup_month'] = new_customer_df['signup_date_time'].dt.month\n"
     ]
    }
   ],
   "source": [
    "new_customer_df['signup_day_of_week'] = new_customer_df['signup_date_time'].dt.dayofweek\n",
    "new_customer_df['signup_month'] = new_customer_df['signup_date_time'].dt.month"
   ]
  },
  {
   "cell_type": "code",
   "execution_count": 46,
   "id": "b882f297",
   "metadata": {
    "execution": {
     "iopub.execute_input": "2025-04-10T01:37:44.027394Z",
     "iopub.status.busy": "2025-04-10T01:37:44.026991Z",
     "iopub.status.idle": "2025-04-10T01:37:44.619317Z",
     "shell.execute_reply": "2025-04-10T01:37:44.618053Z"
    },
    "papermill": {
     "duration": 0.60721,
     "end_time": "2025-04-10T01:37:44.621066",
     "exception": false,
     "start_time": "2025-04-10T01:37:44.013856",
     "status": "completed"
    },
    "tags": []
   },
   "outputs": [
    {
     "name": "stderr",
     "output_type": "stream",
     "text": [
      "<ipython-input-46-55b5dc598253>:1: SettingWithCopyWarning: \n",
      "A value is trying to be set on a copy of a slice from a DataFrame.\n",
      "Try using .loc[row_indexer,col_indexer] = value instead\n",
      "\n",
      "See the caveats in the documentation: https://pandas.pydata.org/pandas-docs/stable/user_guide/indexing.html#returning-a-view-versus-a-copy\n",
      "  new_customer_df['days_to_first_contact'] = new_customer_df.apply(\n"
     ]
    }
   ],
   "source": [
    "new_customer_df['days_to_first_contact'] = new_customer_df.apply(\n",
    "    lambda x: (x['first_case_date'] - x['signup_date_time']).days\n",
    "    if x['ever_contacted_support'] == 1 else -1, axis = 1\n",
    ")"
   ]
  },
  {
   "cell_type": "code",
   "execution_count": 47,
   "id": "faa01899",
   "metadata": {
    "execution": {
     "iopub.execute_input": "2025-04-10T01:37:44.646969Z",
     "iopub.status.busy": "2025-04-10T01:37:44.646649Z",
     "iopub.status.idle": "2025-04-10T01:37:44.657554Z",
     "shell.execute_reply": "2025-04-10T01:37:44.656477Z"
    },
    "papermill": {
     "duration": 0.025829,
     "end_time": "2025-04-10T01:37:44.659350",
     "exception": false,
     "start_time": "2025-04-10T01:37:44.633521",
     "status": "completed"
    },
    "tags": []
   },
   "outputs": [
    {
     "name": "stderr",
     "output_type": "stream",
     "text": [
      "<ipython-input-47-15b1c00b6d12>:15: SettingWithCopyWarning: \n",
      "A value is trying to be set on a copy of a slice from a DataFrame.\n",
      "Try using .loc[row_indexer,col_indexer] = value instead\n",
      "\n",
      "See the caveats in the documentation: https://pandas.pydata.org/pandas-docs/stable/user_guide/indexing.html#returning-a-view-versus-a-copy\n",
      "  established_customer_df['billing_cycles_completed'] = (\n",
      "<ipython-input-47-15b1c00b6d12>:19: SettingWithCopyWarning: \n",
      "A value is trying to be set on a copy of a slice from a DataFrame.\n",
      "Try using .loc[row_indexer,col_indexer] = value instead\n",
      "\n",
      "See the caveats in the documentation: https://pandas.pydata.org/pandas-docs/stable/user_guide/indexing.html#returning-a-view-versus-a-copy\n",
      "  established_customer_df['recent_support'] = (\n"
     ]
    }
   ],
   "source": [
    "# Established customers \n",
    "\n",
    "established_features = [\n",
    "    'tenure_group',\n",
    "    'product',\n",
    "    'support_levels',\n",
    "    'days_since_last_contact',\n",
    "    'monthly_contact_rate',\n",
    "    'price',\n",
    "    'billing_cycle',\n",
    "    'age_group',\n",
    "    'gender'\n",
    "]\n",
    "\n",
    "established_customer_df['billing_cycles_completed'] = (\n",
    "    established_customer_df['tenure_days'] / (established_customer_df['billing_cycle'] * 30).astype(int)  \n",
    ")\n",
    "\n",
    "established_customer_df['recent_support'] = (\n",
    "    established_customer_df['days_since_last_contact'] < 30).astype(int)\n"
   ]
  },
  {
   "cell_type": "code",
   "execution_count": 48,
   "id": "0a6da9be",
   "metadata": {
    "execution": {
     "iopub.execute_input": "2025-04-10T01:37:44.685327Z",
     "iopub.status.busy": "2025-04-10T01:37:44.684954Z",
     "iopub.status.idle": "2025-04-10T01:37:46.356293Z",
     "shell.execute_reply": "2025-04-10T01:37:46.355308Z"
    },
    "papermill": {
     "duration": 1.686174,
     "end_time": "2025-04-10T01:37:46.357992",
     "exception": false,
     "start_time": "2025-04-10T01:37:44.671818",
     "status": "completed"
    },
    "tags": []
   },
   "outputs": [
    {
     "data": {
      "text/html": [
       "<style>#sk-container-id-1 {color: black;background-color: white;}#sk-container-id-1 pre{padding: 0;}#sk-container-id-1 div.sk-toggleable {background-color: white;}#sk-container-id-1 label.sk-toggleable__label {cursor: pointer;display: block;width: 100%;margin-bottom: 0;padding: 0.3em;box-sizing: border-box;text-align: center;}#sk-container-id-1 label.sk-toggleable__label-arrow:before {content: \"▸\";float: left;margin-right: 0.25em;color: #696969;}#sk-container-id-1 label.sk-toggleable__label-arrow:hover:before {color: black;}#sk-container-id-1 div.sk-estimator:hover label.sk-toggleable__label-arrow:before {color: black;}#sk-container-id-1 div.sk-toggleable__content {max-height: 0;max-width: 0;overflow: hidden;text-align: left;background-color: #f0f8ff;}#sk-container-id-1 div.sk-toggleable__content pre {margin: 0.2em;color: black;border-radius: 0.25em;background-color: #f0f8ff;}#sk-container-id-1 input.sk-toggleable__control:checked~div.sk-toggleable__content {max-height: 200px;max-width: 100%;overflow: auto;}#sk-container-id-1 input.sk-toggleable__control:checked~label.sk-toggleable__label-arrow:before {content: \"▾\";}#sk-container-id-1 div.sk-estimator input.sk-toggleable__control:checked~label.sk-toggleable__label {background-color: #d4ebff;}#sk-container-id-1 div.sk-label input.sk-toggleable__control:checked~label.sk-toggleable__label {background-color: #d4ebff;}#sk-container-id-1 input.sk-hidden--visually {border: 0;clip: rect(1px 1px 1px 1px);clip: rect(1px, 1px, 1px, 1px);height: 1px;margin: -1px;overflow: hidden;padding: 0;position: absolute;width: 1px;}#sk-container-id-1 div.sk-estimator {font-family: monospace;background-color: #f0f8ff;border: 1px dotted black;border-radius: 0.25em;box-sizing: border-box;margin-bottom: 0.5em;}#sk-container-id-1 div.sk-estimator:hover {background-color: #d4ebff;}#sk-container-id-1 div.sk-parallel-item::after {content: \"\";width: 100%;border-bottom: 1px solid gray;flex-grow: 1;}#sk-container-id-1 div.sk-label:hover label.sk-toggleable__label {background-color: #d4ebff;}#sk-container-id-1 div.sk-serial::before {content: \"\";position: absolute;border-left: 1px solid gray;box-sizing: border-box;top: 0;bottom: 0;left: 50%;z-index: 0;}#sk-container-id-1 div.sk-serial {display: flex;flex-direction: column;align-items: center;background-color: white;padding-right: 0.2em;padding-left: 0.2em;position: relative;}#sk-container-id-1 div.sk-item {position: relative;z-index: 1;}#sk-container-id-1 div.sk-parallel {display: flex;align-items: stretch;justify-content: center;background-color: white;position: relative;}#sk-container-id-1 div.sk-item::before, #sk-container-id-1 div.sk-parallel-item::before {content: \"\";position: absolute;border-left: 1px solid gray;box-sizing: border-box;top: 0;bottom: 0;left: 50%;z-index: -1;}#sk-container-id-1 div.sk-parallel-item {display: flex;flex-direction: column;z-index: 1;position: relative;background-color: white;}#sk-container-id-1 div.sk-parallel-item:first-child::after {align-self: flex-end;width: 50%;}#sk-container-id-1 div.sk-parallel-item:last-child::after {align-self: flex-start;width: 50%;}#sk-container-id-1 div.sk-parallel-item:only-child::after {width: 0;}#sk-container-id-1 div.sk-dashed-wrapped {border: 1px dashed gray;margin: 0 0.4em 0.5em 0.4em;box-sizing: border-box;padding-bottom: 0.4em;background-color: white;}#sk-container-id-1 div.sk-label label {font-family: monospace;font-weight: bold;display: inline-block;line-height: 1.2em;}#sk-container-id-1 div.sk-label-container {text-align: center;}#sk-container-id-1 div.sk-container {/* jupyter's `normalize.less` sets `[hidden] { display: none; }` but bootstrap.min.css set `[hidden] { display: none !important; }` so we also need the `!important` here to be able to override the default hidden behavior on the sphinx rendered scikit-learn.org. See: https://github.com/scikit-learn/scikit-learn/issues/21755 */display: inline-block !important;position: relative;}#sk-container-id-1 div.sk-text-repr-fallback {display: none;}</style><div id=\"sk-container-id-1\" class=\"sk-top-container\"><div class=\"sk-text-repr-fallback\"><pre>RandomForestClassifier(class_weight={0: 3, 1: 1}, random_state=0)</pre><b>In a Jupyter environment, please rerun this cell to show the HTML representation or trust the notebook. <br />On GitHub, the HTML representation is unable to render, please try loading this page with nbviewer.org.</b></div><div class=\"sk-container\" hidden><div class=\"sk-item\"><div class=\"sk-estimator sk-toggleable\"><input class=\"sk-toggleable__control sk-hidden--visually\" id=\"sk-estimator-id-1\" type=\"checkbox\" checked><label for=\"sk-estimator-id-1\" class=\"sk-toggleable__label sk-toggleable__label-arrow\">RandomForestClassifier</label><div class=\"sk-toggleable__content\"><pre>RandomForestClassifier(class_weight={0: 3, 1: 1}, random_state=0)</pre></div></div></div></div></div>"
      ],
      "text/plain": [
       "RandomForestClassifier(class_weight={0: 3, 1: 1}, random_state=0)"
      ]
     },
     "execution_count": 48,
     "metadata": {},
     "output_type": "execute_result"
    }
   ],
   "source": [
    "from sklearn.ensemble import RandomForestClassifier\n",
    "from sklearn.model_selection import train_test_split\n",
    "\n",
    "X_new = new_customer_df[new_features]\n",
    "y_new = new_customer_df['will_churn_next_90d']\n",
    "\n",
    "X_new = pd.get_dummies(X_new, drop_first=True)\n",
    "   \n",
    "X_train, X_test, y_train, y_test = train_test_split(\n",
    "    X_new, y_new, test_size = 0.25, random_state = 0, stratify = y_new\n",
    ")\n",
    "\n",
    "weights = {0:3, 1:1} # Non-churners get 3x the weight\n",
    "new_model = RandomForestClassifier(n_estimators = 100, class_weight = weights, random_state = 0)\n",
    "new_model.fit(X_train, y_train)"
   ]
  },
  {
   "cell_type": "code",
   "execution_count": null,
   "id": "5e5134af",
   "metadata": {
    "papermill": {
     "duration": 0.013634,
     "end_time": "2025-04-10T01:37:46.384862",
     "exception": false,
     "start_time": "2025-04-10T01:37:46.371228",
     "status": "completed"
    },
    "tags": []
   },
   "outputs": [],
   "source": []
  }
 ],
 "metadata": {
  "kaggle": {
   "accelerator": "none",
   "dataSources": [
    {
     "datasetId": 2290183,
     "sourceId": 3852264,
     "sourceType": "datasetVersion"
    }
   ],
   "dockerImageVersionId": 30918,
   "isGpuEnabled": false,
   "isInternetEnabled": true,
   "language": "python",
   "sourceType": "notebook"
  },
  "kernelspec": {
   "display_name": "Python 3",
   "language": "python",
   "name": "python3"
  },
  "language_info": {
   "codemirror_mode": {
    "name": "ipython",
    "version": 3
   },
   "file_extension": ".py",
   "mimetype": "text/x-python",
   "name": "python",
   "nbconvert_exporter": "python",
   "pygments_lexer": "ipython3",
   "version": "3.10.12"
  },
  "papermill": {
   "default_parameters": {},
   "duration": 17.225529,
   "end_time": "2025-04-10T01:37:47.119085",
   "environment_variables": {},
   "exception": null,
   "input_path": "__notebook__.ipynb",
   "output_path": "__notebook__.ipynb",
   "parameters": {},
   "start_time": "2025-04-10T01:37:29.893556",
   "version": "2.6.0"
  }
 },
 "nbformat": 4,
 "nbformat_minor": 5
}
