{
 "cells": [
  {
   "cell_type": "code",
   "execution_count": 1,
   "id": "def8898b",
   "metadata": {
    "execution": {
     "iopub.execute_input": "2025-04-02T22:56:38.843218Z",
     "iopub.status.busy": "2025-04-02T22:56:38.842804Z",
     "iopub.status.idle": "2025-04-02T22:56:39.550536Z",
     "shell.execute_reply": "2025-04-02T22:56:39.549553Z"
    },
    "papermill": {
     "duration": 0.716077,
     "end_time": "2025-04-02T22:56:39.552093",
     "exception": false,
     "start_time": "2025-04-02T22:56:38.836016",
     "status": "completed"
    },
    "tags": []
   },
   "outputs": [],
   "source": [
    "import numpy as np\n",
    "import os\n",
    "import pandas as pd\n",
    "from IPython.display import display"
   ]
  },
  {
   "cell_type": "code",
   "execution_count": 2,
   "id": "a9384955",
   "metadata": {
    "_cell_guid": "b1076dfc-b9ad-4769-8c92-a6c4dae69d19",
    "_uuid": "8f2839f25d086af736a60e9eeb907d3b93b6e0e5",
    "execution": {
     "iopub.execute_input": "2025-04-02T22:56:39.565289Z",
     "iopub.status.busy": "2025-04-02T22:56:39.564865Z",
     "iopub.status.idle": "2025-04-02T22:56:39.575289Z",
     "shell.execute_reply": "2025-04-02T22:56:39.574369Z"
    },
    "papermill": {
     "duration": 0.017584,
     "end_time": "2025-04-02T22:56:39.576617",
     "exception": false,
     "start_time": "2025-04-02T22:56:39.559033",
     "status": "completed"
    },
    "tags": []
   },
   "outputs": [
    {
     "name": "stdout",
     "output_type": "stream",
     "text": [
      "/kaggle/input/dspp1/product_info.csv\n",
      "/kaggle/input/dspp1/customer_product.csv\n",
      "/kaggle/input/dspp1/customer_info.csv\n",
      "/kaggle/input/dspp1/customer_cases.csv\n"
     ]
    }
   ],
   "source": [
    "for dirname, _, filenames in os.walk('/kaggle/input'):\n",
    "    for filename in filenames:\n",
    "        print(os.path.join(dirname, filename))"
   ]
  },
  {
   "cell_type": "markdown",
   "id": "9c015e29",
   "metadata": {
    "papermill": {
     "duration": 0.004534,
     "end_time": "2025-04-02T22:56:39.586482",
     "exception": false,
     "start_time": "2025-04-02T22:56:39.581948",
     "status": "completed"
    },
    "tags": []
   },
   "source": [
    "#### Load the Dataset"
   ]
  },
  {
   "cell_type": "code",
   "execution_count": 3,
   "id": "121415e5",
   "metadata": {
    "execution": {
     "iopub.execute_input": "2025-04-02T22:56:39.598242Z",
     "iopub.status.busy": "2025-04-02T22:56:39.597870Z",
     "iopub.status.idle": "2025-04-02T22:56:41.701159Z",
     "shell.execute_reply": "2025-04-02T22:56:41.700331Z"
    },
    "papermill": {
     "duration": 2.111533,
     "end_time": "2025-04-02T22:56:41.702748",
     "exception": false,
     "start_time": "2025-04-02T22:56:39.591215",
     "status": "completed"
    },
    "tags": []
   },
   "outputs": [],
   "source": [
    "product_info = pd.read_csv(\"/kaggle/input/dspp1/product_info.csv\")\n",
    "customer_product = pd.read_csv(\"/kaggle/input/dspp1/customer_product.csv\")\n",
    "customer_info = pd.read_csv(\"/kaggle/input/dspp1/customer_info.csv\")\n",
    "customer_cases = pd.read_csv(\"/kaggle/input/dspp1/customer_cases.csv\")"
   ]
  },
  {
   "cell_type": "markdown",
   "id": "0a3f2486",
   "metadata": {
    "papermill": {
     "duration": 0.004461,
     "end_time": "2025-04-02T22:56:41.712350",
     "exception": false,
     "start_time": "2025-04-02T22:56:41.707889",
     "status": "completed"
    },
    "tags": []
   },
   "source": [
    "# Exploratory Data Analysis"
   ]
  },
  {
   "cell_type": "code",
   "execution_count": 4,
   "id": "e83e0adf",
   "metadata": {
    "execution": {
     "iopub.execute_input": "2025-04-02T22:56:41.722628Z",
     "iopub.status.busy": "2025-04-02T22:56:41.722304Z",
     "iopub.status.idle": "2025-04-02T22:56:41.726826Z",
     "shell.execute_reply": "2025-04-02T22:56:41.725569Z"
    },
    "papermill": {
     "duration": 0.011151,
     "end_time": "2025-04-02T22:56:41.728128",
     "exception": false,
     "start_time": "2025-04-02T22:56:41.716977",
     "status": "completed"
    },
    "tags": []
   },
   "outputs": [],
   "source": [
    "def style_df(df, caption=''):\n",
    "    return df.style.set_caption(caption).set_table_styles([\n",
    "        {'selector': 'th', 'props':[('background-color', '#f0f0f0'),\n",
    "                                   ('color', 'black'),\n",
    "                                   ('font-weight', 'bold')]},\n",
    "        {'selector': 'tr:nth-of-type(odd)','props':[('background-color', '#f9f9f9')]},\n",
    "    ])"
   ]
  },
  {
   "cell_type": "code",
   "execution_count": 5,
   "id": "f0f4c799",
   "metadata": {
    "execution": {
     "iopub.execute_input": "2025-04-02T22:56:41.738476Z",
     "iopub.status.busy": "2025-04-02T22:56:41.738119Z",
     "iopub.status.idle": "2025-04-02T22:56:41.811698Z",
     "shell.execute_reply": "2025-04-02T22:56:41.811030Z"
    },
    "papermill": {
     "duration": 0.079959,
     "end_time": "2025-04-02T22:56:41.812870",
     "exception": false,
     "start_time": "2025-04-02T22:56:41.732911",
     "status": "completed"
    },
    "tags": []
   },
   "outputs": [
    {
     "data": {
      "text/html": [
       "<style type=\"text/css\">\n",
       "#T_f2a67 th {\n",
       "  background-color: #f0f0f0;\n",
       "  color: black;\n",
       "  font-weight: bold;\n",
       "}\n",
       "#T_f2a67 tr:nth-of-type(odd) {\n",
       "  background-color: #f9f9f9;\n",
       "}\n",
       "</style>\n",
       "<table id=\"T_f2a67\">\n",
       "  <caption>Customer Sign-up and Cancellation Dates</caption>\n",
       "  <thead>\n",
       "    <tr>\n",
       "      <th class=\"blank level0\" >&nbsp;</th>\n",
       "      <th id=\"T_f2a67_level0_col0\" class=\"col_heading level0 col0\" >Unnamed: 0</th>\n",
       "      <th id=\"T_f2a67_level0_col1\" class=\"col_heading level0 col1\" >customer_id</th>\n",
       "      <th id=\"T_f2a67_level0_col2\" class=\"col_heading level0 col2\" >product</th>\n",
       "      <th id=\"T_f2a67_level0_col3\" class=\"col_heading level0 col3\" >signup_date_time</th>\n",
       "      <th id=\"T_f2a67_level0_col4\" class=\"col_heading level0 col4\" >cancel_date_time</th>\n",
       "    </tr>\n",
       "  </thead>\n",
       "  <tbody>\n",
       "    <tr>\n",
       "      <th id=\"T_f2a67_level0_row0\" class=\"row_heading level0 row0\" >0</th>\n",
       "      <td id=\"T_f2a67_row0_col0\" class=\"data row0 col0\" >1</td>\n",
       "      <td id=\"T_f2a67_row0_col1\" class=\"data row0 col1\" >C2448</td>\n",
       "      <td id=\"T_f2a67_row0_col2\" class=\"data row0 col2\" >prd_1</td>\n",
       "      <td id=\"T_f2a67_row0_col3\" class=\"data row0 col3\" >2017-01-01 10:35:09</td>\n",
       "      <td id=\"T_f2a67_row0_col4\" class=\"data row0 col4\" >nan</td>\n",
       "    </tr>\n",
       "    <tr>\n",
       "      <th id=\"T_f2a67_level0_row1\" class=\"row_heading level0 row1\" >1</th>\n",
       "      <td id=\"T_f2a67_row1_col0\" class=\"data row1 col0\" >2</td>\n",
       "      <td id=\"T_f2a67_row1_col1\" class=\"data row1 col1\" >C2449</td>\n",
       "      <td id=\"T_f2a67_row1_col2\" class=\"data row1 col2\" >prd_1</td>\n",
       "      <td id=\"T_f2a67_row1_col3\" class=\"data row1 col3\" >2017-01-01 11:39:29</td>\n",
       "      <td id=\"T_f2a67_row1_col4\" class=\"data row1 col4\" >2021-09-05 10:00:02</td>\n",
       "    </tr>\n",
       "    <tr>\n",
       "      <th id=\"T_f2a67_level0_row2\" class=\"row_heading level0 row2\" >2</th>\n",
       "      <td id=\"T_f2a67_row2_col0\" class=\"data row2 col0\" >3</td>\n",
       "      <td id=\"T_f2a67_row2_col1\" class=\"data row2 col1\" >C2450</td>\n",
       "      <td id=\"T_f2a67_row2_col2\" class=\"data row2 col2\" >prd_1</td>\n",
       "      <td id=\"T_f2a67_row2_col3\" class=\"data row2 col3\" >2017-01-01 11:42:00</td>\n",
       "      <td id=\"T_f2a67_row2_col4\" class=\"data row2 col4\" >2019-01-13 16:24:55</td>\n",
       "    </tr>\n",
       "    <tr>\n",
       "      <th id=\"T_f2a67_level0_row3\" class=\"row_heading level0 row3\" >3</th>\n",
       "      <td id=\"T_f2a67_row3_col0\" class=\"data row3 col0\" >4</td>\n",
       "      <td id=\"T_f2a67_row3_col1\" class=\"data row3 col1\" >C2451</td>\n",
       "      <td id=\"T_f2a67_row3_col2\" class=\"data row3 col2\" >prd_2</td>\n",
       "      <td id=\"T_f2a67_row3_col3\" class=\"data row3 col3\" >2017-01-01 13:32:08</td>\n",
       "      <td id=\"T_f2a67_row3_col4\" class=\"data row3 col4\" >nan</td>\n",
       "    </tr>\n",
       "    <tr>\n",
       "      <th id=\"T_f2a67_level0_row4\" class=\"row_heading level0 row4\" >4</th>\n",
       "      <td id=\"T_f2a67_row4_col0\" class=\"data row4 col0\" >5</td>\n",
       "      <td id=\"T_f2a67_row4_col1\" class=\"data row4 col1\" >C2452</td>\n",
       "      <td id=\"T_f2a67_row4_col2\" class=\"data row4 col2\" >prd_1</td>\n",
       "      <td id=\"T_f2a67_row4_col3\" class=\"data row4 col3\" >2017-01-01 13:57:30</td>\n",
       "      <td id=\"T_f2a67_row4_col4\" class=\"data row4 col4\" >2021-06-28 18:06:01</td>\n",
       "    </tr>\n",
       "  </tbody>\n",
       "</table>\n"
      ],
      "text/plain": [
       "<pandas.io.formats.style.Styler at 0x783230f827d0>"
      ]
     },
     "execution_count": 5,
     "metadata": {},
     "output_type": "execute_result"
    }
   ],
   "source": [
    "style_df(customer_product.head(), 'Customer Sign-up and Cancellation Dates')"
   ]
  },
  {
   "cell_type": "code",
   "execution_count": 6,
   "id": "ba50ee6b",
   "metadata": {
    "execution": {
     "iopub.execute_input": "2025-04-02T22:56:41.823526Z",
     "iopub.status.busy": "2025-04-02T22:56:41.823214Z",
     "iopub.status.idle": "2025-04-02T22:56:41.828622Z",
     "shell.execute_reply": "2025-04-02T22:56:41.828011Z"
    },
    "papermill": {
     "duration": 0.01186,
     "end_time": "2025-04-02T22:56:41.829884",
     "exception": false,
     "start_time": "2025-04-02T22:56:41.818024",
     "status": "completed"
    },
    "tags": []
   },
   "outputs": [
    {
     "data": {
      "text/html": [
       "<style type=\"text/css\">\n",
       "#T_892a7 th {\n",
       "  background-color: #f0f0f0;\n",
       "  color: black;\n",
       "  font-weight: bold;\n",
       "}\n",
       "#T_892a7 tr:nth-of-type(odd) {\n",
       "  background-color: #f9f9f9;\n",
       "}\n",
       "</style>\n",
       "<table id=\"T_892a7\">\n",
       "  <caption>Customer Demographics</caption>\n",
       "  <thead>\n",
       "    <tr>\n",
       "      <th class=\"blank level0\" >&nbsp;</th>\n",
       "      <th id=\"T_892a7_level0_col0\" class=\"col_heading level0 col0\" >Unnamed: 0</th>\n",
       "      <th id=\"T_892a7_level0_col1\" class=\"col_heading level0 col1\" >customer_id</th>\n",
       "      <th id=\"T_892a7_level0_col2\" class=\"col_heading level0 col2\" >age</th>\n",
       "      <th id=\"T_892a7_level0_col3\" class=\"col_heading level0 col3\" >gender</th>\n",
       "    </tr>\n",
       "  </thead>\n",
       "  <tbody>\n",
       "    <tr>\n",
       "      <th id=\"T_892a7_level0_row0\" class=\"row_heading level0 row0\" >0</th>\n",
       "      <td id=\"T_892a7_row0_col0\" class=\"data row0 col0\" >1</td>\n",
       "      <td id=\"T_892a7_row0_col1\" class=\"data row0 col1\" >C2448</td>\n",
       "      <td id=\"T_892a7_row0_col2\" class=\"data row0 col2\" >76</td>\n",
       "      <td id=\"T_892a7_row0_col3\" class=\"data row0 col3\" >female</td>\n",
       "    </tr>\n",
       "    <tr>\n",
       "      <th id=\"T_892a7_level0_row1\" class=\"row_heading level0 row1\" >1</th>\n",
       "      <td id=\"T_892a7_row1_col0\" class=\"data row1 col0\" >2</td>\n",
       "      <td id=\"T_892a7_row1_col1\" class=\"data row1 col1\" >C2449</td>\n",
       "      <td id=\"T_892a7_row1_col2\" class=\"data row1 col2\" >61</td>\n",
       "      <td id=\"T_892a7_row1_col3\" class=\"data row1 col3\" >male</td>\n",
       "    </tr>\n",
       "    <tr>\n",
       "      <th id=\"T_892a7_level0_row2\" class=\"row_heading level0 row2\" >2</th>\n",
       "      <td id=\"T_892a7_row2_col0\" class=\"data row2 col0\" >3</td>\n",
       "      <td id=\"T_892a7_row2_col1\" class=\"data row2 col1\" >C2450</td>\n",
       "      <td id=\"T_892a7_row2_col2\" class=\"data row2 col2\" >58</td>\n",
       "      <td id=\"T_892a7_row2_col3\" class=\"data row2 col3\" >female</td>\n",
       "    </tr>\n",
       "    <tr>\n",
       "      <th id=\"T_892a7_level0_row3\" class=\"row_heading level0 row3\" >3</th>\n",
       "      <td id=\"T_892a7_row3_col0\" class=\"data row3 col0\" >4</td>\n",
       "      <td id=\"T_892a7_row3_col1\" class=\"data row3 col1\" >C2451</td>\n",
       "      <td id=\"T_892a7_row3_col2\" class=\"data row3 col2\" >62</td>\n",
       "      <td id=\"T_892a7_row3_col3\" class=\"data row3 col3\" >female</td>\n",
       "    </tr>\n",
       "    <tr>\n",
       "      <th id=\"T_892a7_level0_row4\" class=\"row_heading level0 row4\" >4</th>\n",
       "      <td id=\"T_892a7_row4_col0\" class=\"data row4 col0\" >5</td>\n",
       "      <td id=\"T_892a7_row4_col1\" class=\"data row4 col1\" >C2452</td>\n",
       "      <td id=\"T_892a7_row4_col2\" class=\"data row4 col2\" >71</td>\n",
       "      <td id=\"T_892a7_row4_col3\" class=\"data row4 col3\" >male</td>\n",
       "    </tr>\n",
       "  </tbody>\n",
       "</table>\n"
      ],
      "text/plain": [
       "<pandas.io.formats.style.Styler at 0x78321603ce80>"
      ]
     },
     "execution_count": 6,
     "metadata": {},
     "output_type": "execute_result"
    }
   ],
   "source": [
    "style_df(customer_info.head(), 'Customer Demographics')"
   ]
  },
  {
   "cell_type": "code",
   "execution_count": 7,
   "id": "8e063339",
   "metadata": {
    "execution": {
     "iopub.execute_input": "2025-04-02T22:56:41.841109Z",
     "iopub.status.busy": "2025-04-02T22:56:41.840828Z",
     "iopub.status.idle": "2025-04-02T22:56:41.846659Z",
     "shell.execute_reply": "2025-04-02T22:56:41.846012Z"
    },
    "papermill": {
     "duration": 0.012465,
     "end_time": "2025-04-02T22:56:41.847786",
     "exception": false,
     "start_time": "2025-04-02T22:56:41.835321",
     "status": "completed"
    },
    "tags": []
   },
   "outputs": [
    {
     "data": {
      "text/html": [
       "<style type=\"text/css\">\n",
       "#T_60142 th {\n",
       "  background-color: #f0f0f0;\n",
       "  color: black;\n",
       "  font-weight: bold;\n",
       "}\n",
       "#T_60142 tr:nth-of-type(odd) {\n",
       "  background-color: #f9f9f9;\n",
       "}\n",
       "</style>\n",
       "<table id=\"T_60142\">\n",
       "  <caption>Call Center Activity</caption>\n",
       "  <thead>\n",
       "    <tr>\n",
       "      <th class=\"blank level0\" >&nbsp;</th>\n",
       "      <th id=\"T_60142_level0_col0\" class=\"col_heading level0 col0\" >Unnamed: 0</th>\n",
       "      <th id=\"T_60142_level0_col1\" class=\"col_heading level0 col1\" >case_id</th>\n",
       "      <th id=\"T_60142_level0_col2\" class=\"col_heading level0 col2\" >date_time</th>\n",
       "      <th id=\"T_60142_level0_col3\" class=\"col_heading level0 col3\" >customer_id</th>\n",
       "      <th id=\"T_60142_level0_col4\" class=\"col_heading level0 col4\" >channel</th>\n",
       "      <th id=\"T_60142_level0_col5\" class=\"col_heading level0 col5\" >reason</th>\n",
       "    </tr>\n",
       "  </thead>\n",
       "  <tbody>\n",
       "    <tr>\n",
       "      <th id=\"T_60142_level0_row0\" class=\"row_heading level0 row0\" >0</th>\n",
       "      <td id=\"T_60142_row0_col0\" class=\"data row0 col0\" >1</td>\n",
       "      <td id=\"T_60142_row0_col1\" class=\"data row0 col1\" >CC101</td>\n",
       "      <td id=\"T_60142_row0_col2\" class=\"data row0 col2\" >2017-01-01 10:32:03</td>\n",
       "      <td id=\"T_60142_row0_col3\" class=\"data row0 col3\" >C2448</td>\n",
       "      <td id=\"T_60142_row0_col4\" class=\"data row0 col4\" >phone</td>\n",
       "      <td id=\"T_60142_row0_col5\" class=\"data row0 col5\" >signup</td>\n",
       "    </tr>\n",
       "    <tr>\n",
       "      <th id=\"T_60142_level0_row1\" class=\"row_heading level0 row1\" >1</th>\n",
       "      <td id=\"T_60142_row1_col0\" class=\"data row1 col0\" >2</td>\n",
       "      <td id=\"T_60142_row1_col1\" class=\"data row1 col1\" >CC102</td>\n",
       "      <td id=\"T_60142_row1_col2\" class=\"data row1 col2\" >2017-01-01 11:35:47</td>\n",
       "      <td id=\"T_60142_row1_col3\" class=\"data row1 col3\" >C2449</td>\n",
       "      <td id=\"T_60142_row1_col4\" class=\"data row1 col4\" >phone</td>\n",
       "      <td id=\"T_60142_row1_col5\" class=\"data row1 col5\" >signup</td>\n",
       "    </tr>\n",
       "    <tr>\n",
       "      <th id=\"T_60142_level0_row2\" class=\"row_heading level0 row2\" >2</th>\n",
       "      <td id=\"T_60142_row2_col0\" class=\"data row2 col0\" >3</td>\n",
       "      <td id=\"T_60142_row2_col1\" class=\"data row2 col1\" >CC103</td>\n",
       "      <td id=\"T_60142_row2_col2\" class=\"data row2 col2\" >2017-01-01 11:37:09</td>\n",
       "      <td id=\"T_60142_row2_col3\" class=\"data row2 col3\" >C2450</td>\n",
       "      <td id=\"T_60142_row2_col4\" class=\"data row2 col4\" >phone</td>\n",
       "      <td id=\"T_60142_row2_col5\" class=\"data row2 col5\" >signup</td>\n",
       "    </tr>\n",
       "    <tr>\n",
       "      <th id=\"T_60142_level0_row3\" class=\"row_heading level0 row3\" >3</th>\n",
       "      <td id=\"T_60142_row3_col0\" class=\"data row3 col0\" >4</td>\n",
       "      <td id=\"T_60142_row3_col1\" class=\"data row3 col1\" >CC104</td>\n",
       "      <td id=\"T_60142_row3_col2\" class=\"data row3 col2\" >2017-01-01 13:28:14</td>\n",
       "      <td id=\"T_60142_row3_col3\" class=\"data row3 col3\" >C2451</td>\n",
       "      <td id=\"T_60142_row3_col4\" class=\"data row3 col4\" >phone</td>\n",
       "      <td id=\"T_60142_row3_col5\" class=\"data row3 col5\" >signup</td>\n",
       "    </tr>\n",
       "    <tr>\n",
       "      <th id=\"T_60142_level0_row4\" class=\"row_heading level0 row4\" >4</th>\n",
       "      <td id=\"T_60142_row4_col0\" class=\"data row4 col0\" >5</td>\n",
       "      <td id=\"T_60142_row4_col1\" class=\"data row4 col1\" >CC105</td>\n",
       "      <td id=\"T_60142_row4_col2\" class=\"data row4 col2\" >2017-01-01 13:52:22</td>\n",
       "      <td id=\"T_60142_row4_col3\" class=\"data row4 col3\" >C2452</td>\n",
       "      <td id=\"T_60142_row4_col4\" class=\"data row4 col4\" >phone</td>\n",
       "      <td id=\"T_60142_row4_col5\" class=\"data row4 col5\" >signup</td>\n",
       "    </tr>\n",
       "  </tbody>\n",
       "</table>\n"
      ],
      "text/plain": [
       "<pandas.io.formats.style.Styler at 0x78321603f310>"
      ]
     },
     "execution_count": 7,
     "metadata": {},
     "output_type": "execute_result"
    }
   ],
   "source": [
    "style_df(customer_cases.head(), 'Call Center Activity')"
   ]
  },
  {
   "cell_type": "code",
   "execution_count": 8,
   "id": "2c7c214e",
   "metadata": {
    "execution": {
     "iopub.execute_input": "2025-04-02T22:56:41.859093Z",
     "iopub.status.busy": "2025-04-02T22:56:41.858802Z",
     "iopub.status.idle": "2025-04-02T22:56:41.864692Z",
     "shell.execute_reply": "2025-04-02T22:56:41.864028Z"
    },
    "papermill": {
     "duration": 0.0126,
     "end_time": "2025-04-02T22:56:41.865809",
     "exception": false,
     "start_time": "2025-04-02T22:56:41.853209",
     "status": "completed"
    },
    "tags": []
   },
   "outputs": [
    {
     "data": {
      "text/html": [
       "<style type=\"text/css\">\n",
       "#T_dafb2 th {\n",
       "  background-color: #f0f0f0;\n",
       "  color: black;\n",
       "  font-weight: bold;\n",
       "}\n",
       "#T_dafb2 tr:nth-of-type(odd) {\n",
       "  background-color: #f9f9f9;\n",
       "}\n",
       "</style>\n",
       "<table id=\"T_dafb2\">\n",
       "  <caption>Product Information</caption>\n",
       "  <thead>\n",
       "    <tr>\n",
       "      <th class=\"blank level0\" >&nbsp;</th>\n",
       "      <th id=\"T_dafb2_level0_col0\" class=\"col_heading level0 col0\" >product_id</th>\n",
       "      <th id=\"T_dafb2_level0_col1\" class=\"col_heading level0 col1\" >name</th>\n",
       "      <th id=\"T_dafb2_level0_col2\" class=\"col_heading level0 col2\" >price</th>\n",
       "      <th id=\"T_dafb2_level0_col3\" class=\"col_heading level0 col3\" >billing_cycle</th>\n",
       "    </tr>\n",
       "  </thead>\n",
       "  <tbody>\n",
       "    <tr>\n",
       "      <th id=\"T_dafb2_level0_row0\" class=\"row_heading level0 row0\" >0</th>\n",
       "      <td id=\"T_dafb2_row0_col0\" class=\"data row0 col0\" >prd_1</td>\n",
       "      <td id=\"T_dafb2_row0_col1\" class=\"data row0 col1\" >annual_subscription</td>\n",
       "      <td id=\"T_dafb2_row0_col2\" class=\"data row0 col2\" >1200</td>\n",
       "      <td id=\"T_dafb2_row0_col3\" class=\"data row0 col3\" >12</td>\n",
       "    </tr>\n",
       "    <tr>\n",
       "      <th id=\"T_dafb2_level0_row1\" class=\"row_heading level0 row1\" >1</th>\n",
       "      <td id=\"T_dafb2_row1_col0\" class=\"data row1 col0\" >prd_2</td>\n",
       "      <td id=\"T_dafb2_row1_col1\" class=\"data row1 col1\" >monthly_subscription</td>\n",
       "      <td id=\"T_dafb2_row1_col2\" class=\"data row1 col2\" >125</td>\n",
       "      <td id=\"T_dafb2_row1_col3\" class=\"data row1 col3\" >1</td>\n",
       "    </tr>\n",
       "  </tbody>\n",
       "</table>\n"
      ],
      "text/plain": [
       "<pandas.io.formats.style.Styler at 0x78321603f190>"
      ]
     },
     "execution_count": 8,
     "metadata": {},
     "output_type": "execute_result"
    }
   ],
   "source": [
    "style_df(product_info.head(), 'Product Information')"
   ]
  },
  {
   "cell_type": "markdown",
   "id": "73b23058",
   "metadata": {
    "papermill": {
     "duration": 0.004749,
     "end_time": "2025-04-02T22:56:41.876028",
     "exception": false,
     "start_time": "2025-04-02T22:56:41.871279",
     "status": "completed"
    },
    "tags": []
   },
   "source": [
    "Customer Product Table will be the centre of the star schema. customer_id will be the primary key linking to the customer_centre and customer_info. product_id will be the primary key for the product_info table"
   ]
  },
  {
   "cell_type": "markdown",
   "id": "dd55111d",
   "metadata": {
    "papermill": {
     "duration": 0.00463,
     "end_time": "2025-04-02T22:56:41.885719",
     "exception": false,
     "start_time": "2025-04-02T22:56:41.881089",
     "status": "completed"
    },
    "tags": []
   },
   "source": [
    "## Missing Values Check"
   ]
  },
  {
   "cell_type": "code",
   "execution_count": 9,
   "id": "b257b55c",
   "metadata": {
    "execution": {
     "iopub.execute_input": "2025-04-02T22:56:41.896713Z",
     "iopub.status.busy": "2025-04-02T22:56:41.896412Z",
     "iopub.status.idle": "2025-04-02T22:56:42.056677Z",
     "shell.execute_reply": "2025-04-02T22:56:42.055360Z"
    },
    "papermill": {
     "duration": 0.167551,
     "end_time": "2025-04-02T22:56:42.058212",
     "exception": false,
     "start_time": "2025-04-02T22:56:41.890661",
     "status": "completed"
    },
    "tags": []
   },
   "outputs": [
    {
     "name": "stdout",
     "output_type": "stream",
     "text": [
      "\n",
      "product_info missing values:\n",
      "product_id       0\n",
      "name             0\n",
      "price            0\n",
      "billing_cycle    0\n",
      "dtype: int64\n",
      "\n",
      "product_info data types:\n",
      "product_id       object\n",
      "name             object\n",
      "price             int64\n",
      "billing_cycle     int64\n",
      "dtype: object\n",
      "\n",
      "customer_product missing values:\n",
      "Unnamed: 0               0\n",
      "customer_id              0\n",
      "product                  0\n",
      "signup_date_time         0\n",
      "cancel_date_time    396447\n",
      "dtype: int64\n",
      "\n",
      "customer_product data types:\n",
      "Unnamed: 0           int64\n",
      "customer_id         object\n",
      "product             object\n",
      "signup_date_time    object\n",
      "cancel_date_time    object\n",
      "dtype: object\n",
      "\n",
      "customer_info missing values:\n",
      "Unnamed: 0     0\n",
      "customer_id    0\n",
      "age            0\n",
      "gender         0\n",
      "dtype: int64\n",
      "\n",
      "customer_info data types:\n",
      "Unnamed: 0      int64\n",
      "customer_id    object\n",
      "age             int64\n",
      "gender         object\n",
      "dtype: object\n",
      "\n",
      "customer_cases missing values:\n",
      "Unnamed: 0     0\n",
      "case_id        0\n",
      "date_time      0\n",
      "customer_id    0\n",
      "channel        0\n",
      "reason         0\n",
      "dtype: int64\n",
      "\n",
      "customer_cases data types:\n",
      "Unnamed: 0      int64\n",
      "case_id        object\n",
      "date_time      object\n",
      "customer_id    object\n",
      "channel        object\n",
      "reason         object\n",
      "dtype: object\n"
     ]
    }
   ],
   "source": [
    "for df_name, df in [(\"product_info\", product_info), \n",
    "                    (\"customer_product\", customer_product),\n",
    "                    (\"customer_info\", customer_info), \n",
    "                    (\"customer_cases\", customer_cases)]:\n",
    "    print(f\"\\n{df_name} missing values:\")\n",
    "    print(df.isnull().sum())\n",
    "    \n",
    "    print(f\"\\n{df_name} data types:\")\n",
    "    print(df.dtypes)"
   ]
  },
  {
   "cell_type": "code",
   "execution_count": 10,
   "id": "734bdcfc",
   "metadata": {
    "execution": {
     "iopub.execute_input": "2025-04-02T22:56:42.070633Z",
     "iopub.status.busy": "2025-04-02T22:56:42.070353Z",
     "iopub.status.idle": "2025-04-02T22:56:42.139838Z",
     "shell.execute_reply": "2025-04-02T22:56:42.139038Z"
    },
    "papermill": {
     "duration": 0.076872,
     "end_time": "2025-04-02T22:56:42.141112",
     "exception": false,
     "start_time": "2025-04-02T22:56:42.064240",
     "status": "completed"
    },
    "tags": []
   },
   "outputs": [
    {
     "data": {
      "text/plain": [
       "Unnamed: 0               0\n",
       "customer_id              0\n",
       "product                  0\n",
       "signup_date_time         0\n",
       "cancel_date_time    396447\n",
       "dtype: int64"
      ]
     },
     "execution_count": 10,
     "metadata": {},
     "output_type": "execute_result"
    }
   ],
   "source": [
    "customer_product.isnull().sum()"
   ]
  },
  {
   "cell_type": "markdown",
   "id": "a0dcbdd2",
   "metadata": {
    "papermill": {
     "duration": 0.005321,
     "end_time": "2025-04-02T22:56:42.152208",
     "exception": false,
     "start_time": "2025-04-02T22:56:42.146887",
     "status": "completed"
    },
    "tags": []
   },
   "source": [
    "This suggests that the missing values in cancel date_time are not actual missing values but rather customers who have not cancelled their subscription"
   ]
  },
  {
   "cell_type": "code",
   "execution_count": 11,
   "id": "7c22c024",
   "metadata": {
    "execution": {
     "iopub.execute_input": "2025-04-02T22:56:42.163833Z",
     "iopub.status.busy": "2025-04-02T22:56:42.163552Z",
     "iopub.status.idle": "2025-04-02T22:56:42.376853Z",
     "shell.execute_reply": "2025-04-02T22:56:42.376064Z"
    },
    "papermill": {
     "duration": 0.220816,
     "end_time": "2025-04-02T22:56:42.378483",
     "exception": false,
     "start_time": "2025-04-02T22:56:42.157667",
     "status": "completed"
    },
    "tags": []
   },
   "outputs": [],
   "source": [
    "customer_product['signup_date_time'] = pd.to_datetime(customer_product['signup_date_time'])\n",
    "customer_product['cancel_date_time'] = pd.to_datetime(customer_product['cancel_date_time'])\n",
    "customer_cases['date_time'] = pd.to_datetime(customer_cases['date_time'])"
   ]
  },
  {
   "cell_type": "code",
   "execution_count": 12,
   "id": "932f670a",
   "metadata": {
    "execution": {
     "iopub.execute_input": "2025-04-02T22:56:42.390591Z",
     "iopub.status.busy": "2025-04-02T22:56:42.390300Z",
     "iopub.status.idle": "2025-04-02T22:56:42.408875Z",
     "shell.execute_reply": "2025-04-02T22:56:42.408043Z"
    },
    "papermill": {
     "duration": 0.026274,
     "end_time": "2025-04-02T22:56:42.410523",
     "exception": false,
     "start_time": "2025-04-02T22:56:42.384249",
     "status": "completed"
    },
    "tags": []
   },
   "outputs": [],
   "source": [
    "today = pd.to_datetime('2022-01-01')\n",
    "customer_product['end_date'] = customer_product['cancel_date_time'].fillna(today)\n",
    "customer_product['tenure_days'] = (customer_product['end_date'] - customer_product['signup_date_time']).dt.days"
   ]
  },
  {
   "cell_type": "markdown",
   "id": "db6a3498",
   "metadata": {
    "papermill": {
     "duration": 0.005003,
     "end_time": "2025-04-02T22:56:42.421438",
     "exception": false,
     "start_time": "2025-04-02T22:56:42.416435",
     "status": "completed"
    },
    "tags": []
   },
   "source": [
    "## Create a Joined Dataframe"
   ]
  },
  {
   "cell_type": "code",
   "execution_count": 13,
   "id": "50ddca3a",
   "metadata": {
    "execution": {
     "iopub.execute_input": "2025-04-02T22:56:42.432773Z",
     "iopub.status.busy": "2025-04-02T22:56:42.432509Z",
     "iopub.status.idle": "2025-04-02T22:56:42.807350Z",
     "shell.execute_reply": "2025-04-02T22:56:42.806492Z"
    },
    "papermill": {
     "duration": 0.382325,
     "end_time": "2025-04-02T22:56:42.808929",
     "exception": false,
     "start_time": "2025-04-02T22:56:42.426604",
     "status": "completed"
    },
    "tags": []
   },
   "outputs": [],
   "source": [
    "joined_df = pd.merge(customer_product,customer_info, how='left', left_on='customer_id', right_on='customer_id')"
   ]
  },
  {
   "cell_type": "code",
   "execution_count": 14,
   "id": "ee93a236",
   "metadata": {
    "execution": {
     "iopub.execute_input": "2025-04-02T22:56:42.820786Z",
     "iopub.status.busy": "2025-04-02T22:56:42.820494Z",
     "iopub.status.idle": "2025-04-02T22:56:42.950696Z",
     "shell.execute_reply": "2025-04-02T22:56:42.949854Z"
    },
    "papermill": {
     "duration": 0.137617,
     "end_time": "2025-04-02T22:56:42.952301",
     "exception": false,
     "start_time": "2025-04-02T22:56:42.814684",
     "status": "completed"
    },
    "tags": []
   },
   "outputs": [],
   "source": [
    "joined_df = pd.merge(joined_df,product_info, how='left', left_on='product',right_on='product_id')"
   ]
  },
  {
   "cell_type": "code",
   "execution_count": 15,
   "id": "97e720c2",
   "metadata": {
    "execution": {
     "iopub.execute_input": "2025-04-02T22:56:42.964062Z",
     "iopub.status.busy": "2025-04-02T22:56:42.963808Z",
     "iopub.status.idle": "2025-04-02T22:56:43.272056Z",
     "shell.execute_reply": "2025-04-02T22:56:43.271096Z"
    },
    "papermill": {
     "duration": 0.315408,
     "end_time": "2025-04-02T22:56:43.273511",
     "exception": false,
     "start_time": "2025-04-02T22:56:42.958103",
     "status": "completed"
    },
    "tags": []
   },
   "outputs": [],
   "source": [
    "case_summary = customer_cases.groupby('customer_id').agg({\n",
    "\t'case_id': 'count',\n",
    "\t'date_time':['min','max']\n",
    "})"
   ]
  },
  {
   "cell_type": "code",
   "execution_count": 16,
   "id": "be05c152",
   "metadata": {
    "execution": {
     "iopub.execute_input": "2025-04-02T22:56:43.285110Z",
     "iopub.status.busy": "2025-04-02T22:56:43.284840Z",
     "iopub.status.idle": "2025-04-02T22:56:43.288003Z",
     "shell.execute_reply": "2025-04-02T22:56:43.287383Z"
    },
    "papermill": {
     "duration": 0.009929,
     "end_time": "2025-04-02T22:56:43.289076",
     "exception": false,
     "start_time": "2025-04-02T22:56:43.279147",
     "status": "completed"
    },
    "tags": []
   },
   "outputs": [],
   "source": [
    "case_summary.columns = [\n",
    "\t'total_cases',\n",
    "\t'first_case_date',\n",
    "\t'last_case_date'\n",
    "]"
   ]
  },
  {
   "cell_type": "code",
   "execution_count": 17,
   "id": "5e2ac607",
   "metadata": {
    "execution": {
     "iopub.execute_input": "2025-04-02T22:56:43.300125Z",
     "iopub.status.busy": "2025-04-02T22:56:43.299889Z",
     "iopub.status.idle": "2025-04-02T22:56:43.308522Z",
     "shell.execute_reply": "2025-04-02T22:56:43.307844Z"
    },
    "papermill": {
     "duration": 0.015635,
     "end_time": "2025-04-02T22:56:43.309985",
     "exception": false,
     "start_time": "2025-04-02T22:56:43.294350",
     "status": "completed"
    },
    "tags": []
   },
   "outputs": [],
   "source": [
    "case_summary['days_between_cases'] = (case_summary['last_case_date'] - case_summary['first_case_date']).dt.days"
   ]
  },
  {
   "cell_type": "code",
   "execution_count": 18,
   "id": "6acc5b08",
   "metadata": {
    "execution": {
     "iopub.execute_input": "2025-04-02T22:56:43.323199Z",
     "iopub.status.busy": "2025-04-02T22:56:43.322998Z",
     "iopub.status.idle": "2025-04-02T22:56:43.727159Z",
     "shell.execute_reply": "2025-04-02T22:56:43.726417Z"
    },
    "papermill": {
     "duration": 0.412111,
     "end_time": "2025-04-02T22:56:43.728605",
     "exception": false,
     "start_time": "2025-04-02T22:56:43.316494",
     "status": "completed"
    },
    "tags": []
   },
   "outputs": [],
   "source": [
    "reason_counts = customer_cases.groupby(['customer_id', 'reason']).size().unstack(fill_value=0)\n",
    "reason_counts.columns = [f\"reason{col}\" for col in reason_counts.columns]\n",
    "case_summary = case_summary.join(reason_counts)"
   ]
  },
  {
   "cell_type": "code",
   "execution_count": 19,
   "id": "da968347",
   "metadata": {
    "execution": {
     "iopub.execute_input": "2025-04-02T22:56:43.739877Z",
     "iopub.status.busy": "2025-04-02T22:56:43.739669Z",
     "iopub.status.idle": "2025-04-02T22:56:44.035327Z",
     "shell.execute_reply": "2025-04-02T22:56:44.034184Z"
    },
    "papermill": {
     "duration": 0.302527,
     "end_time": "2025-04-02T22:56:44.036735",
     "exception": false,
     "start_time": "2025-04-02T22:56:43.734208",
     "status": "completed"
    },
    "tags": []
   },
   "outputs": [],
   "source": [
    "churn_df = pd.merge(joined_df, case_summary, on='customer_id', how='left')"
   ]
  },
  {
   "cell_type": "code",
   "execution_count": 20,
   "id": "65768385",
   "metadata": {
    "execution": {
     "iopub.execute_input": "2025-04-02T22:56:44.048323Z",
     "iopub.status.busy": "2025-04-02T22:56:44.048097Z",
     "iopub.status.idle": "2025-04-02T22:56:44.055792Z",
     "shell.execute_reply": "2025-04-02T22:56:44.055105Z"
    },
    "papermill": {
     "duration": 0.014667,
     "end_time": "2025-04-02T22:56:44.057060",
     "exception": false,
     "start_time": "2025-04-02T22:56:44.042393",
     "status": "completed"
    },
    "tags": []
   },
   "outputs": [],
   "source": [
    "churn_df['total_cases'] = churn_df['total_cases'].fillna(0)"
   ]
  },
  {
   "cell_type": "code",
   "execution_count": 21,
   "id": "2375bb84",
   "metadata": {
    "execution": {
     "iopub.execute_input": "2025-04-02T22:56:44.068411Z",
     "iopub.status.busy": "2025-04-02T22:56:44.068156Z",
     "iopub.status.idle": "2025-04-02T22:56:44.117386Z",
     "shell.execute_reply": "2025-04-02T22:56:44.116577Z"
    },
    "papermill": {
     "duration": 0.056742,
     "end_time": "2025-04-02T22:56:44.119011",
     "exception": false,
     "start_time": "2025-04-02T22:56:44.062269",
     "status": "completed"
    },
    "tags": []
   },
   "outputs": [],
   "source": [
    "churn_df = churn_df.drop('Unnamed: 0_x', axis=1)\n",
    "churn_df = churn_df.drop('Unnamed: 0_y', axis=1)"
   ]
  },
  {
   "cell_type": "code",
   "execution_count": 22,
   "id": "9709a477",
   "metadata": {
    "execution": {
     "iopub.execute_input": "2025-04-02T22:56:44.131145Z",
     "iopub.status.busy": "2025-04-02T22:56:44.130889Z",
     "iopub.status.idle": "2025-04-02T22:56:44.225579Z",
     "shell.execute_reply": "2025-04-02T22:56:44.224648Z"
    },
    "papermill": {
     "duration": 0.101764,
     "end_time": "2025-04-02T22:56:44.226654",
     "exception": false,
     "start_time": "2025-04-02T22:56:44.124890",
     "status": "completed"
    },
    "tags": []
   },
   "outputs": [
    {
     "name": "stdout",
     "output_type": "stream",
     "text": [
      "customer_id                0\n",
      "product                    0\n",
      "signup_date_time           0\n",
      "cancel_date_time      396447\n",
      "end_date                   0\n",
      "tenure_days                0\n",
      "age                        0\n",
      "gender                     0\n",
      "product_id                 0\n",
      "name                       0\n",
      "price                      0\n",
      "billing_cycle              0\n",
      "total_cases                0\n",
      "first_case_date       250272\n",
      "last_case_date        250272\n",
      "days_between_cases    250272\n",
      "reasonsignup          250272\n",
      "reasonsupport         250272\n",
      "dtype: int64\n"
     ]
    }
   ],
   "source": [
    "print(churn_df.isnull().sum())"
   ]
  },
  {
   "cell_type": "markdown",
   "id": "d5cb9c65",
   "metadata": {
    "papermill": {
     "duration": 0.005411,
     "end_time": "2025-04-02T22:56:44.238050",
     "exception": false,
     "start_time": "2025-04-02T22:56:44.232639",
     "status": "completed"
    },
    "tags": []
   },
   "source": [
    "## Clean Merged Dataset"
   ]
  },
  {
   "cell_type": "code",
   "execution_count": 23,
   "id": "5edabc3b",
   "metadata": {
    "execution": {
     "iopub.execute_input": "2025-04-02T22:56:44.250462Z",
     "iopub.status.busy": "2025-04-02T22:56:44.250179Z",
     "iopub.status.idle": "2025-04-02T22:56:44.266478Z",
     "shell.execute_reply": "2025-04-02T22:56:44.265642Z"
    },
    "papermill": {
     "duration": 0.023962,
     "end_time": "2025-04-02T22:56:44.268117",
     "exception": false,
     "start_time": "2025-04-02T22:56:44.244155",
     "status": "completed"
    },
    "tags": []
   },
   "outputs": [],
   "source": [
    "churn_df['total_cases'] = churn_df['total_cases'].fillna(0)\n",
    "churn_df['first_case_date'] = churn_df['first_case_date'].fillna(pd.NaT)\n",
    "churn_df['last_case_date'] = churn_df['last_case_date'].fillna(pd.NaT)\n",
    "churn_df['days_between_cases'] = churn_df['days_between_cases'].fillna(0)\n",
    "churn_df['ever_contacted_support'] = churn_df['total_cases'].gt(0).astype(int)"
   ]
  },
  {
   "cell_type": "code",
   "execution_count": 24,
   "id": "b37781b1",
   "metadata": {
    "execution": {
     "iopub.execute_input": "2025-04-02T22:56:44.280347Z",
     "iopub.status.busy": "2025-04-02T22:56:44.280029Z",
     "iopub.status.idle": "2025-04-02T22:56:44.293681Z",
     "shell.execute_reply": "2025-04-02T22:56:44.292616Z"
    },
    "papermill": {
     "duration": 0.021412,
     "end_time": "2025-04-02T22:56:44.295311",
     "exception": false,
     "start_time": "2025-04-02T22:56:44.273899",
     "status": "completed"
    },
    "tags": []
   },
   "outputs": [],
   "source": [
    "reason_columns = [col for col in churn_df.columns if col.startswith('reason')]\n",
    "churn_df[reason_columns] = churn_df[reason_columns].fillna(0)"
   ]
  },
  {
   "cell_type": "code",
   "execution_count": 25,
   "id": "ea87a1ca",
   "metadata": {
    "execution": {
     "iopub.execute_input": "2025-04-02T22:56:44.307296Z",
     "iopub.status.busy": "2025-04-02T22:56:44.307042Z",
     "iopub.status.idle": "2025-04-02T22:56:44.397510Z",
     "shell.execute_reply": "2025-04-02T22:56:44.396369Z"
    },
    "papermill": {
     "duration": 0.097616,
     "end_time": "2025-04-02T22:56:44.398794",
     "exception": false,
     "start_time": "2025-04-02T22:56:44.301178",
     "status": "completed"
    },
    "tags": []
   },
   "outputs": [
    {
     "name": "stdout",
     "output_type": "stream",
     "text": [
      "customer_id                    0\n",
      "product                        0\n",
      "signup_date_time               0\n",
      "cancel_date_time          396447\n",
      "end_date                       0\n",
      "tenure_days                    0\n",
      "age                            0\n",
      "gender                         0\n",
      "product_id                     0\n",
      "name                           0\n",
      "price                          0\n",
      "billing_cycle                  0\n",
      "total_cases                    0\n",
      "first_case_date           250272\n",
      "last_case_date            250272\n",
      "days_between_cases             0\n",
      "reasonsignup                   0\n",
      "reasonsupport                  0\n",
      "ever_contacted_support         0\n",
      "dtype: int64\n"
     ]
    }
   ],
   "source": [
    "print(churn_df.isnull().sum())"
   ]
  },
  {
   "cell_type": "code",
   "execution_count": 26,
   "id": "b4346d7f",
   "metadata": {
    "execution": {
     "iopub.execute_input": "2025-04-02T22:56:44.412310Z",
     "iopub.status.busy": "2025-04-02T22:56:44.412085Z",
     "iopub.status.idle": "2025-04-02T22:56:44.447196Z",
     "shell.execute_reply": "2025-04-02T22:56:44.446406Z"
    },
    "papermill": {
     "duration": 0.042919,
     "end_time": "2025-04-02T22:56:44.448382",
     "exception": false,
     "start_time": "2025-04-02T22:56:44.405463",
     "status": "completed"
    },
    "tags": []
   },
   "outputs": [],
   "source": [
    "churn_df['days_since_signup'] = (today - churn_df['signup_date_time']).dt.days \n",
    "mask = churn_df['ever_contacted_support'] == 1\n",
    "churn_df.loc[mask,'days_to_first_contact'] = (churn_df.loc[mask, 'first_case_date'] - churn_df.loc[mask, 'signup_date_time']).dt.days"
   ]
  },
  {
   "cell_type": "code",
   "execution_count": 27,
   "id": "9c391bf3",
   "metadata": {
    "execution": {
     "iopub.execute_input": "2025-04-02T22:56:44.459910Z",
     "iopub.status.busy": "2025-04-02T22:56:44.459705Z",
     "iopub.status.idle": "2025-04-02T22:56:44.466884Z",
     "shell.execute_reply": "2025-04-02T22:56:44.466214Z"
    },
    "papermill": {
     "duration": 0.013734,
     "end_time": "2025-04-02T22:56:44.467841",
     "exception": false,
     "start_time": "2025-04-02T22:56:44.454107",
     "status": "completed"
    },
    "tags": []
   },
   "outputs": [],
   "source": [
    "churn_df['days_to_first_contact'] = churn_df['days_to_first_contact'].fillna(-1)"
   ]
  },
  {
   "cell_type": "code",
   "execution_count": 28,
   "id": "46597d18",
   "metadata": {
    "execution": {
     "iopub.execute_input": "2025-04-02T22:56:44.479160Z",
     "iopub.status.busy": "2025-04-02T22:56:44.478890Z",
     "iopub.status.idle": "2025-04-02T22:56:44.491530Z",
     "shell.execute_reply": "2025-04-02T22:56:44.490724Z"
    },
    "papermill": {
     "duration": 0.019963,
     "end_time": "2025-04-02T22:56:44.493058",
     "exception": false,
     "start_time": "2025-04-02T22:56:44.473095",
     "status": "completed"
    },
    "tags": []
   },
   "outputs": [],
   "source": [
    "churn_df['age_group'] = pd.cut(churn_df['age'],\n",
    "                              bins  = [0, 30, 45, 60, 75, 100],\n",
    "                              labels  = ['<30', '30-45', '46-60','61-75','75+'])"
   ]
  },
  {
   "cell_type": "code",
   "execution_count": 29,
   "id": "8ba79faa",
   "metadata": {
    "execution": {
     "iopub.execute_input": "2025-04-02T22:56:44.505185Z",
     "iopub.status.busy": "2025-04-02T22:56:44.504928Z",
     "iopub.status.idle": "2025-04-02T22:56:44.515716Z",
     "shell.execute_reply": "2025-04-02T22:56:44.514984Z"
    },
    "papermill": {
     "duration": 0.017982,
     "end_time": "2025-04-02T22:56:44.517071",
     "exception": false,
     "start_time": "2025-04-02T22:56:44.499089",
     "status": "completed"
    },
    "tags": []
   },
   "outputs": [],
   "source": [
    "churn_df['tenure_group'] = pd.cut(churn_df['tenure_days'],\n",
    "                                 bins = [0, 90, 180, 365, 730, float('inf')],\n",
    "                                 labels = ['0-3mo', '3-6mo', '6-12mo','1-2yr', '2yr+'])"
   ]
  },
  {
   "cell_type": "code",
   "execution_count": 30,
   "id": "e807707f",
   "metadata": {
    "execution": {
     "iopub.execute_input": "2025-04-02T22:56:44.529606Z",
     "iopub.status.busy": "2025-04-02T22:56:44.529274Z",
     "iopub.status.idle": "2025-04-02T22:56:44.555587Z",
     "shell.execute_reply": "2025-04-02T22:56:44.554763Z"
    },
    "papermill": {
     "duration": 0.033689,
     "end_time": "2025-04-02T22:56:44.556906",
     "exception": false,
     "start_time": "2025-04-02T22:56:44.523217",
     "status": "completed"
    },
    "tags": []
   },
   "outputs": [
    {
     "data": {
      "text/html": [
       "<div>\n",
       "<style scoped>\n",
       "    .dataframe tbody tr th:only-of-type {\n",
       "        vertical-align: middle;\n",
       "    }\n",
       "\n",
       "    .dataframe tbody tr th {\n",
       "        vertical-align: top;\n",
       "    }\n",
       "\n",
       "    .dataframe thead th {\n",
       "        text-align: right;\n",
       "    }\n",
       "</style>\n",
       "<table border=\"1\" class=\"dataframe\">\n",
       "  <thead>\n",
       "    <tr style=\"text-align: right;\">\n",
       "      <th></th>\n",
       "      <th>customer_id</th>\n",
       "      <th>product</th>\n",
       "      <th>signup_date_time</th>\n",
       "      <th>cancel_date_time</th>\n",
       "      <th>end_date</th>\n",
       "      <th>tenure_days</th>\n",
       "      <th>age</th>\n",
       "      <th>gender</th>\n",
       "      <th>product_id</th>\n",
       "      <th>name</th>\n",
       "      <th>...</th>\n",
       "      <th>first_case_date</th>\n",
       "      <th>last_case_date</th>\n",
       "      <th>days_between_cases</th>\n",
       "      <th>reasonsignup</th>\n",
       "      <th>reasonsupport</th>\n",
       "      <th>ever_contacted_support</th>\n",
       "      <th>days_since_signup</th>\n",
       "      <th>days_to_first_contact</th>\n",
       "      <th>age_group</th>\n",
       "      <th>tenure_group</th>\n",
       "    </tr>\n",
       "  </thead>\n",
       "  <tbody>\n",
       "    <tr>\n",
       "      <th>0</th>\n",
       "      <td>C2448</td>\n",
       "      <td>prd_1</td>\n",
       "      <td>2017-01-01 10:35:09</td>\n",
       "      <td>NaT</td>\n",
       "      <td>2022-01-01 00:00:00</td>\n",
       "      <td>1825</td>\n",
       "      <td>76</td>\n",
       "      <td>female</td>\n",
       "      <td>prd_1</td>\n",
       "      <td>annual_subscription</td>\n",
       "      <td>...</td>\n",
       "      <td>2017-01-01 10:32:03</td>\n",
       "      <td>2017-01-01 10:32:03</td>\n",
       "      <td>0.0</td>\n",
       "      <td>1.0</td>\n",
       "      <td>0.0</td>\n",
       "      <td>1</td>\n",
       "      <td>1825</td>\n",
       "      <td>-1.0</td>\n",
       "      <td>75+</td>\n",
       "      <td>2yr+</td>\n",
       "    </tr>\n",
       "    <tr>\n",
       "      <th>1</th>\n",
       "      <td>C2449</td>\n",
       "      <td>prd_1</td>\n",
       "      <td>2017-01-01 11:39:29</td>\n",
       "      <td>2021-09-05 10:00:02</td>\n",
       "      <td>2021-09-05 10:00:02</td>\n",
       "      <td>1707</td>\n",
       "      <td>61</td>\n",
       "      <td>male</td>\n",
       "      <td>prd_1</td>\n",
       "      <td>annual_subscription</td>\n",
       "      <td>...</td>\n",
       "      <td>2017-01-01 11:35:47</td>\n",
       "      <td>2017-01-01 11:35:47</td>\n",
       "      <td>0.0</td>\n",
       "      <td>1.0</td>\n",
       "      <td>0.0</td>\n",
       "      <td>1</td>\n",
       "      <td>1825</td>\n",
       "      <td>-1.0</td>\n",
       "      <td>61-75</td>\n",
       "      <td>2yr+</td>\n",
       "    </tr>\n",
       "    <tr>\n",
       "      <th>2</th>\n",
       "      <td>C2450</td>\n",
       "      <td>prd_1</td>\n",
       "      <td>2017-01-01 11:42:00</td>\n",
       "      <td>2019-01-13 16:24:55</td>\n",
       "      <td>2019-01-13 16:24:55</td>\n",
       "      <td>742</td>\n",
       "      <td>58</td>\n",
       "      <td>female</td>\n",
       "      <td>prd_1</td>\n",
       "      <td>annual_subscription</td>\n",
       "      <td>...</td>\n",
       "      <td>2017-01-01 11:37:09</td>\n",
       "      <td>2017-01-01 11:37:09</td>\n",
       "      <td>0.0</td>\n",
       "      <td>1.0</td>\n",
       "      <td>0.0</td>\n",
       "      <td>1</td>\n",
       "      <td>1825</td>\n",
       "      <td>-1.0</td>\n",
       "      <td>46-60</td>\n",
       "      <td>2yr+</td>\n",
       "    </tr>\n",
       "    <tr>\n",
       "      <th>3</th>\n",
       "      <td>C2451</td>\n",
       "      <td>prd_2</td>\n",
       "      <td>2017-01-01 13:32:08</td>\n",
       "      <td>NaT</td>\n",
       "      <td>2022-01-01 00:00:00</td>\n",
       "      <td>1825</td>\n",
       "      <td>62</td>\n",
       "      <td>female</td>\n",
       "      <td>prd_2</td>\n",
       "      <td>monthly_subscription</td>\n",
       "      <td>...</td>\n",
       "      <td>2017-01-01 13:28:14</td>\n",
       "      <td>2017-03-31 12:06:58</td>\n",
       "      <td>88.0</td>\n",
       "      <td>1.0</td>\n",
       "      <td>1.0</td>\n",
       "      <td>1</td>\n",
       "      <td>1825</td>\n",
       "      <td>-1.0</td>\n",
       "      <td>61-75</td>\n",
       "      <td>2yr+</td>\n",
       "    </tr>\n",
       "    <tr>\n",
       "      <th>4</th>\n",
       "      <td>C2452</td>\n",
       "      <td>prd_1</td>\n",
       "      <td>2017-01-01 13:57:30</td>\n",
       "      <td>2021-06-28 18:06:01</td>\n",
       "      <td>2021-06-28 18:06:01</td>\n",
       "      <td>1639</td>\n",
       "      <td>71</td>\n",
       "      <td>male</td>\n",
       "      <td>prd_1</td>\n",
       "      <td>annual_subscription</td>\n",
       "      <td>...</td>\n",
       "      <td>2017-01-01 13:52:22</td>\n",
       "      <td>2017-01-01 13:52:22</td>\n",
       "      <td>0.0</td>\n",
       "      <td>1.0</td>\n",
       "      <td>0.0</td>\n",
       "      <td>1</td>\n",
       "      <td>1825</td>\n",
       "      <td>-1.0</td>\n",
       "      <td>61-75</td>\n",
       "      <td>2yr+</td>\n",
       "    </tr>\n",
       "  </tbody>\n",
       "</table>\n",
       "<p>5 rows × 23 columns</p>\n",
       "</div>"
      ],
      "text/plain": [
       "  customer_id product    signup_date_time    cancel_date_time  \\\n",
       "0       C2448   prd_1 2017-01-01 10:35:09                 NaT   \n",
       "1       C2449   prd_1 2017-01-01 11:39:29 2021-09-05 10:00:02   \n",
       "2       C2450   prd_1 2017-01-01 11:42:00 2019-01-13 16:24:55   \n",
       "3       C2451   prd_2 2017-01-01 13:32:08                 NaT   \n",
       "4       C2452   prd_1 2017-01-01 13:57:30 2021-06-28 18:06:01   \n",
       "\n",
       "             end_date  tenure_days  age  gender product_id  \\\n",
       "0 2022-01-01 00:00:00         1825   76  female      prd_1   \n",
       "1 2021-09-05 10:00:02         1707   61    male      prd_1   \n",
       "2 2019-01-13 16:24:55          742   58  female      prd_1   \n",
       "3 2022-01-01 00:00:00         1825   62  female      prd_2   \n",
       "4 2021-06-28 18:06:01         1639   71    male      prd_1   \n",
       "\n",
       "                   name  ...     first_case_date      last_case_date  \\\n",
       "0   annual_subscription  ... 2017-01-01 10:32:03 2017-01-01 10:32:03   \n",
       "1   annual_subscription  ... 2017-01-01 11:35:47 2017-01-01 11:35:47   \n",
       "2   annual_subscription  ... 2017-01-01 11:37:09 2017-01-01 11:37:09   \n",
       "3  monthly_subscription  ... 2017-01-01 13:28:14 2017-03-31 12:06:58   \n",
       "4   annual_subscription  ... 2017-01-01 13:52:22 2017-01-01 13:52:22   \n",
       "\n",
       "   days_between_cases reasonsignup reasonsupport  ever_contacted_support  \\\n",
       "0                 0.0          1.0           0.0                       1   \n",
       "1                 0.0          1.0           0.0                       1   \n",
       "2                 0.0          1.0           0.0                       1   \n",
       "3                88.0          1.0           1.0                       1   \n",
       "4                 0.0          1.0           0.0                       1   \n",
       "\n",
       "   days_since_signup  days_to_first_contact  age_group  tenure_group  \n",
       "0               1825                   -1.0        75+          2yr+  \n",
       "1               1825                   -1.0      61-75          2yr+  \n",
       "2               1825                   -1.0      46-60          2yr+  \n",
       "3               1825                   -1.0      61-75          2yr+  \n",
       "4               1825                   -1.0      61-75          2yr+  \n",
       "\n",
       "[5 rows x 23 columns]"
      ]
     },
     "execution_count": 30,
     "metadata": {},
     "output_type": "execute_result"
    }
   ],
   "source": [
    "churn_df.head()"
   ]
  },
  {
   "cell_type": "code",
   "execution_count": null,
   "id": "ace01b34",
   "metadata": {
    "papermill": {
     "duration": 0.005593,
     "end_time": "2025-04-02T22:56:44.570180",
     "exception": false,
     "start_time": "2025-04-02T22:56:44.564587",
     "status": "completed"
    },
    "tags": []
   },
   "outputs": [],
   "source": []
  }
 ],
 "metadata": {
  "kaggle": {
   "accelerator": "none",
   "dataSources": [
    {
     "datasetId": 2290183,
     "sourceId": 3852264,
     "sourceType": "datasetVersion"
    }
   ],
   "dockerImageVersionId": 30918,
   "isGpuEnabled": false,
   "isInternetEnabled": true,
   "language": "python",
   "sourceType": "notebook"
  },
  "kernelspec": {
   "display_name": "Python 3",
   "language": "python",
   "name": "python3"
  },
  "language_info": {
   "codemirror_mode": {
    "name": "ipython",
    "version": 3
   },
   "file_extension": ".py",
   "mimetype": "text/x-python",
   "name": "python",
   "nbconvert_exporter": "python",
   "pygments_lexer": "ipython3",
   "version": "3.10.12"
  },
  "papermill": {
   "default_parameters": {},
   "duration": 8.491482,
   "end_time": "2025-04-02T22:56:45.194542",
   "environment_variables": {},
   "exception": null,
   "input_path": "__notebook__.ipynb",
   "output_path": "__notebook__.ipynb",
   "parameters": {},
   "start_time": "2025-04-02T22:56:36.703060",
   "version": "2.6.0"
  }
 },
 "nbformat": 4,
 "nbformat_minor": 5
}
