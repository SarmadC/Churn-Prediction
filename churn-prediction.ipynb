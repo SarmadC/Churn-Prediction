{
 "cells": [
  {
   "cell_type": "code",
   "execution_count": 1,
   "id": "47dbfa58",
   "metadata": {
    "execution": {
     "iopub.execute_input": "2025-04-12T01:17:01.587761Z",
     "iopub.status.busy": "2025-04-12T01:17:01.587430Z",
     "iopub.status.idle": "2025-04-12T01:17:08.130390Z",
     "shell.execute_reply": "2025-04-12T01:17:08.129171Z"
    },
    "papermill": {
     "duration": 6.559978,
     "end_time": "2025-04-12T01:17:08.132353",
     "exception": false,
     "start_time": "2025-04-12T01:17:01.572375",
     "status": "completed"
    },
    "tags": []
   },
   "outputs": [],
   "source": [
    "import numpy as np\n",
    "import os\n",
    "import pandas as pd\n",
    "import xgboost as xgb\n",
    "import lightgbm as lgb\n",
    "from IPython.display import display\n",
    "from sklearn.model_selection import train_test_split\n",
    "from sklearn.ensemble import RandomForestClassifier\n",
    "from sklearn.metrics import classification_report, roc_auc_score \n",
    "from sklearn.linear_model import LogisticRegression\n",
    "from imblearn.over_sampling import SMOTE\n",
    "from imblearn.pipeline import Pipeline as ImbPipeline"
   ]
  },
  {
   "cell_type": "code",
   "execution_count": 2,
   "id": "0caf4dfc",
   "metadata": {
    "_cell_guid": "b1076dfc-b9ad-4769-8c92-a6c4dae69d19",
    "_uuid": "8f2839f25d086af736a60e9eeb907d3b93b6e0e5",
    "execution": {
     "iopub.execute_input": "2025-04-12T01:17:08.157730Z",
     "iopub.status.busy": "2025-04-12T01:17:08.157034Z",
     "iopub.status.idle": "2025-04-12T01:17:08.169842Z",
     "shell.execute_reply": "2025-04-12T01:17:08.168638Z"
    },
    "papermill": {
     "duration": 0.027279,
     "end_time": "2025-04-12T01:17:08.171804",
     "exception": false,
     "start_time": "2025-04-12T01:17:08.144525",
     "status": "completed"
    },
    "tags": []
   },
   "outputs": [
    {
     "name": "stdout",
     "output_type": "stream",
     "text": [
      "/kaggle/input/dspp1/product_info.csv\n",
      "/kaggle/input/dspp1/customer_product.csv\n",
      "/kaggle/input/dspp1/customer_info.csv\n",
      "/kaggle/input/dspp1/customer_cases.csv\n"
     ]
    }
   ],
   "source": [
    "for dirname, _, filenames in os.walk('/kaggle/input'):\n",
    "    for filename in filenames:\n",
    "        print(os.path.join(dirname, filename))"
   ]
  },
  {
   "cell_type": "markdown",
   "id": "107a1561",
   "metadata": {
    "papermill": {
     "duration": 0.011619,
     "end_time": "2025-04-12T01:17:08.195074",
     "exception": false,
     "start_time": "2025-04-12T01:17:08.183455",
     "status": "completed"
    },
    "tags": []
   },
   "source": [
    "#### Load the Dataset"
   ]
  },
  {
   "cell_type": "code",
   "execution_count": 3,
   "id": "eeec2bef",
   "metadata": {
    "execution": {
     "iopub.execute_input": "2025-04-12T01:17:08.218690Z",
     "iopub.status.busy": "2025-04-12T01:17:08.218337Z",
     "iopub.status.idle": "2025-04-12T01:17:10.686825Z",
     "shell.execute_reply": "2025-04-12T01:17:10.685692Z"
    },
    "papermill": {
     "duration": 2.482626,
     "end_time": "2025-04-12T01:17:10.688658",
     "exception": false,
     "start_time": "2025-04-12T01:17:08.206032",
     "status": "completed"
    },
    "tags": []
   },
   "outputs": [],
   "source": [
    "product_info = pd.read_csv(\"/kaggle/input/dspp1/product_info.csv\")\n",
    "customer_product = pd.read_csv(\"/kaggle/input/dspp1/customer_product.csv\")\n",
    "customer_info = pd.read_csv(\"/kaggle/input/dspp1/customer_info.csv\")\n",
    "customer_cases = pd.read_csv(\"/kaggle/input/dspp1/customer_cases.csv\")"
   ]
  },
  {
   "cell_type": "markdown",
   "id": "ca6f2186",
   "metadata": {
    "papermill": {
     "duration": 0.010763,
     "end_time": "2025-04-12T01:17:10.710954",
     "exception": false,
     "start_time": "2025-04-12T01:17:10.700191",
     "status": "completed"
    },
    "tags": []
   },
   "source": [
    "# Exploratory Data Analysis"
   ]
  },
  {
   "cell_type": "code",
   "execution_count": 4,
   "id": "872ef74c",
   "metadata": {
    "execution": {
     "iopub.execute_input": "2025-04-12T01:17:10.734691Z",
     "iopub.status.busy": "2025-04-12T01:17:10.734307Z",
     "iopub.status.idle": "2025-04-12T01:17:10.739246Z",
     "shell.execute_reply": "2025-04-12T01:17:10.738321Z"
    },
    "papermill": {
     "duration": 0.018631,
     "end_time": "2025-04-12T01:17:10.740929",
     "exception": false,
     "start_time": "2025-04-12T01:17:10.722298",
     "status": "completed"
    },
    "tags": []
   },
   "outputs": [],
   "source": [
    "def style_df(df, caption=''):\n",
    "    return df.style.set_caption(caption).set_table_styles([\n",
    "        {'selector': 'th', 'props':[('background-color', '#f0f0f0'),\n",
    "                                   ('color', 'black'),\n",
    "                                   ('font-weight', 'bold')]},\n",
    "        {'selector': 'tr:nth-of-type(odd)','props':[('background-color', '#f9f9f9')]},\n",
    "    ])"
   ]
  },
  {
   "cell_type": "code",
   "execution_count": 5,
   "id": "9669689b",
   "metadata": {
    "execution": {
     "iopub.execute_input": "2025-04-12T01:17:10.764504Z",
     "iopub.status.busy": "2025-04-12T01:17:10.764120Z",
     "iopub.status.idle": "2025-04-12T01:17:10.842247Z",
     "shell.execute_reply": "2025-04-12T01:17:10.841088Z"
    },
    "papermill": {
     "duration": 0.092243,
     "end_time": "2025-04-12T01:17:10.844271",
     "exception": false,
     "start_time": "2025-04-12T01:17:10.752028",
     "status": "completed"
    },
    "tags": []
   },
   "outputs": [
    {
     "data": {
      "text/html": [
       "<style type=\"text/css\">\n",
       "#T_10218 th {\n",
       "  background-color: #f0f0f0;\n",
       "  color: black;\n",
       "  font-weight: bold;\n",
       "}\n",
       "#T_10218 tr:nth-of-type(odd) {\n",
       "  background-color: #f9f9f9;\n",
       "}\n",
       "</style>\n",
       "<table id=\"T_10218\">\n",
       "  <caption>Customer Sign-up and Cancellation Dates</caption>\n",
       "  <thead>\n",
       "    <tr>\n",
       "      <th class=\"blank level0\" >&nbsp;</th>\n",
       "      <th id=\"T_10218_level0_col0\" class=\"col_heading level0 col0\" >Unnamed: 0</th>\n",
       "      <th id=\"T_10218_level0_col1\" class=\"col_heading level0 col1\" >customer_id</th>\n",
       "      <th id=\"T_10218_level0_col2\" class=\"col_heading level0 col2\" >product</th>\n",
       "      <th id=\"T_10218_level0_col3\" class=\"col_heading level0 col3\" >signup_date_time</th>\n",
       "      <th id=\"T_10218_level0_col4\" class=\"col_heading level0 col4\" >cancel_date_time</th>\n",
       "    </tr>\n",
       "  </thead>\n",
       "  <tbody>\n",
       "    <tr>\n",
       "      <th id=\"T_10218_level0_row0\" class=\"row_heading level0 row0\" >0</th>\n",
       "      <td id=\"T_10218_row0_col0\" class=\"data row0 col0\" >1</td>\n",
       "      <td id=\"T_10218_row0_col1\" class=\"data row0 col1\" >C2448</td>\n",
       "      <td id=\"T_10218_row0_col2\" class=\"data row0 col2\" >prd_1</td>\n",
       "      <td id=\"T_10218_row0_col3\" class=\"data row0 col3\" >2017-01-01 10:35:09</td>\n",
       "      <td id=\"T_10218_row0_col4\" class=\"data row0 col4\" >nan</td>\n",
       "    </tr>\n",
       "    <tr>\n",
       "      <th id=\"T_10218_level0_row1\" class=\"row_heading level0 row1\" >1</th>\n",
       "      <td id=\"T_10218_row1_col0\" class=\"data row1 col0\" >2</td>\n",
       "      <td id=\"T_10218_row1_col1\" class=\"data row1 col1\" >C2449</td>\n",
       "      <td id=\"T_10218_row1_col2\" class=\"data row1 col2\" >prd_1</td>\n",
       "      <td id=\"T_10218_row1_col3\" class=\"data row1 col3\" >2017-01-01 11:39:29</td>\n",
       "      <td id=\"T_10218_row1_col4\" class=\"data row1 col4\" >2021-09-05 10:00:02</td>\n",
       "    </tr>\n",
       "    <tr>\n",
       "      <th id=\"T_10218_level0_row2\" class=\"row_heading level0 row2\" >2</th>\n",
       "      <td id=\"T_10218_row2_col0\" class=\"data row2 col0\" >3</td>\n",
       "      <td id=\"T_10218_row2_col1\" class=\"data row2 col1\" >C2450</td>\n",
       "      <td id=\"T_10218_row2_col2\" class=\"data row2 col2\" >prd_1</td>\n",
       "      <td id=\"T_10218_row2_col3\" class=\"data row2 col3\" >2017-01-01 11:42:00</td>\n",
       "      <td id=\"T_10218_row2_col4\" class=\"data row2 col4\" >2019-01-13 16:24:55</td>\n",
       "    </tr>\n",
       "    <tr>\n",
       "      <th id=\"T_10218_level0_row3\" class=\"row_heading level0 row3\" >3</th>\n",
       "      <td id=\"T_10218_row3_col0\" class=\"data row3 col0\" >4</td>\n",
       "      <td id=\"T_10218_row3_col1\" class=\"data row3 col1\" >C2451</td>\n",
       "      <td id=\"T_10218_row3_col2\" class=\"data row3 col2\" >prd_2</td>\n",
       "      <td id=\"T_10218_row3_col3\" class=\"data row3 col3\" >2017-01-01 13:32:08</td>\n",
       "      <td id=\"T_10218_row3_col4\" class=\"data row3 col4\" >nan</td>\n",
       "    </tr>\n",
       "    <tr>\n",
       "      <th id=\"T_10218_level0_row4\" class=\"row_heading level0 row4\" >4</th>\n",
       "      <td id=\"T_10218_row4_col0\" class=\"data row4 col0\" >5</td>\n",
       "      <td id=\"T_10218_row4_col1\" class=\"data row4 col1\" >C2452</td>\n",
       "      <td id=\"T_10218_row4_col2\" class=\"data row4 col2\" >prd_1</td>\n",
       "      <td id=\"T_10218_row4_col3\" class=\"data row4 col3\" >2017-01-01 13:57:30</td>\n",
       "      <td id=\"T_10218_row4_col4\" class=\"data row4 col4\" >2021-06-28 18:06:01</td>\n",
       "    </tr>\n",
       "  </tbody>\n",
       "</table>\n"
      ],
      "text/plain": [
       "<pandas.io.formats.style.Styler at 0x7d9ce3065060>"
      ]
     },
     "execution_count": 5,
     "metadata": {},
     "output_type": "execute_result"
    }
   ],
   "source": [
    "style_df(customer_product.head(), 'Customer Sign-up and Cancellation Dates')"
   ]
  },
  {
   "cell_type": "code",
   "execution_count": 6,
   "id": "7d5a203d",
   "metadata": {
    "execution": {
     "iopub.execute_input": "2025-04-12T01:17:10.868088Z",
     "iopub.status.busy": "2025-04-12T01:17:10.867712Z",
     "iopub.status.idle": "2025-04-12T01:17:10.876046Z",
     "shell.execute_reply": "2025-04-12T01:17:10.874995Z"
    },
    "papermill": {
     "duration": 0.021977,
     "end_time": "2025-04-12T01:17:10.877714",
     "exception": false,
     "start_time": "2025-04-12T01:17:10.855737",
     "status": "completed"
    },
    "tags": []
   },
   "outputs": [
    {
     "data": {
      "text/html": [
       "<style type=\"text/css\">\n",
       "#T_d001c th {\n",
       "  background-color: #f0f0f0;\n",
       "  color: black;\n",
       "  font-weight: bold;\n",
       "}\n",
       "#T_d001c tr:nth-of-type(odd) {\n",
       "  background-color: #f9f9f9;\n",
       "}\n",
       "</style>\n",
       "<table id=\"T_d001c\">\n",
       "  <caption>Customer Demographics</caption>\n",
       "  <thead>\n",
       "    <tr>\n",
       "      <th class=\"blank level0\" >&nbsp;</th>\n",
       "      <th id=\"T_d001c_level0_col0\" class=\"col_heading level0 col0\" >Unnamed: 0</th>\n",
       "      <th id=\"T_d001c_level0_col1\" class=\"col_heading level0 col1\" >customer_id</th>\n",
       "      <th id=\"T_d001c_level0_col2\" class=\"col_heading level0 col2\" >age</th>\n",
       "      <th id=\"T_d001c_level0_col3\" class=\"col_heading level0 col3\" >gender</th>\n",
       "    </tr>\n",
       "  </thead>\n",
       "  <tbody>\n",
       "    <tr>\n",
       "      <th id=\"T_d001c_level0_row0\" class=\"row_heading level0 row0\" >0</th>\n",
       "      <td id=\"T_d001c_row0_col0\" class=\"data row0 col0\" >1</td>\n",
       "      <td id=\"T_d001c_row0_col1\" class=\"data row0 col1\" >C2448</td>\n",
       "      <td id=\"T_d001c_row0_col2\" class=\"data row0 col2\" >76</td>\n",
       "      <td id=\"T_d001c_row0_col3\" class=\"data row0 col3\" >female</td>\n",
       "    </tr>\n",
       "    <tr>\n",
       "      <th id=\"T_d001c_level0_row1\" class=\"row_heading level0 row1\" >1</th>\n",
       "      <td id=\"T_d001c_row1_col0\" class=\"data row1 col0\" >2</td>\n",
       "      <td id=\"T_d001c_row1_col1\" class=\"data row1 col1\" >C2449</td>\n",
       "      <td id=\"T_d001c_row1_col2\" class=\"data row1 col2\" >61</td>\n",
       "      <td id=\"T_d001c_row1_col3\" class=\"data row1 col3\" >male</td>\n",
       "    </tr>\n",
       "    <tr>\n",
       "      <th id=\"T_d001c_level0_row2\" class=\"row_heading level0 row2\" >2</th>\n",
       "      <td id=\"T_d001c_row2_col0\" class=\"data row2 col0\" >3</td>\n",
       "      <td id=\"T_d001c_row2_col1\" class=\"data row2 col1\" >C2450</td>\n",
       "      <td id=\"T_d001c_row2_col2\" class=\"data row2 col2\" >58</td>\n",
       "      <td id=\"T_d001c_row2_col3\" class=\"data row2 col3\" >female</td>\n",
       "    </tr>\n",
       "    <tr>\n",
       "      <th id=\"T_d001c_level0_row3\" class=\"row_heading level0 row3\" >3</th>\n",
       "      <td id=\"T_d001c_row3_col0\" class=\"data row3 col0\" >4</td>\n",
       "      <td id=\"T_d001c_row3_col1\" class=\"data row3 col1\" >C2451</td>\n",
       "      <td id=\"T_d001c_row3_col2\" class=\"data row3 col2\" >62</td>\n",
       "      <td id=\"T_d001c_row3_col3\" class=\"data row3 col3\" >female</td>\n",
       "    </tr>\n",
       "    <tr>\n",
       "      <th id=\"T_d001c_level0_row4\" class=\"row_heading level0 row4\" >4</th>\n",
       "      <td id=\"T_d001c_row4_col0\" class=\"data row4 col0\" >5</td>\n",
       "      <td id=\"T_d001c_row4_col1\" class=\"data row4 col1\" >C2452</td>\n",
       "      <td id=\"T_d001c_row4_col2\" class=\"data row4 col2\" >71</td>\n",
       "      <td id=\"T_d001c_row4_col3\" class=\"data row4 col3\" >male</td>\n",
       "    </tr>\n",
       "  </tbody>\n",
       "</table>\n"
      ],
      "text/plain": [
       "<pandas.io.formats.style.Styler at 0x7d9ce30677f0>"
      ]
     },
     "execution_count": 6,
     "metadata": {},
     "output_type": "execute_result"
    }
   ],
   "source": [
    "style_df(customer_info.head(), 'Customer Demographics')"
   ]
  },
  {
   "cell_type": "code",
   "execution_count": 7,
   "id": "b3834aea",
   "metadata": {
    "execution": {
     "iopub.execute_input": "2025-04-12T01:17:10.901436Z",
     "iopub.status.busy": "2025-04-12T01:17:10.901111Z",
     "iopub.status.idle": "2025-04-12T01:17:10.909451Z",
     "shell.execute_reply": "2025-04-12T01:17:10.908401Z"
    },
    "papermill": {
     "duration": 0.022045,
     "end_time": "2025-04-12T01:17:10.911154",
     "exception": false,
     "start_time": "2025-04-12T01:17:10.889109",
     "status": "completed"
    },
    "tags": []
   },
   "outputs": [
    {
     "data": {
      "text/html": [
       "<style type=\"text/css\">\n",
       "#T_d15b0 th {\n",
       "  background-color: #f0f0f0;\n",
       "  color: black;\n",
       "  font-weight: bold;\n",
       "}\n",
       "#T_d15b0 tr:nth-of-type(odd) {\n",
       "  background-color: #f9f9f9;\n",
       "}\n",
       "</style>\n",
       "<table id=\"T_d15b0\">\n",
       "  <caption>Call Center Activity</caption>\n",
       "  <thead>\n",
       "    <tr>\n",
       "      <th class=\"blank level0\" >&nbsp;</th>\n",
       "      <th id=\"T_d15b0_level0_col0\" class=\"col_heading level0 col0\" >Unnamed: 0</th>\n",
       "      <th id=\"T_d15b0_level0_col1\" class=\"col_heading level0 col1\" >case_id</th>\n",
       "      <th id=\"T_d15b0_level0_col2\" class=\"col_heading level0 col2\" >date_time</th>\n",
       "      <th id=\"T_d15b0_level0_col3\" class=\"col_heading level0 col3\" >customer_id</th>\n",
       "      <th id=\"T_d15b0_level0_col4\" class=\"col_heading level0 col4\" >channel</th>\n",
       "      <th id=\"T_d15b0_level0_col5\" class=\"col_heading level0 col5\" >reason</th>\n",
       "    </tr>\n",
       "  </thead>\n",
       "  <tbody>\n",
       "    <tr>\n",
       "      <th id=\"T_d15b0_level0_row0\" class=\"row_heading level0 row0\" >0</th>\n",
       "      <td id=\"T_d15b0_row0_col0\" class=\"data row0 col0\" >1</td>\n",
       "      <td id=\"T_d15b0_row0_col1\" class=\"data row0 col1\" >CC101</td>\n",
       "      <td id=\"T_d15b0_row0_col2\" class=\"data row0 col2\" >2017-01-01 10:32:03</td>\n",
       "      <td id=\"T_d15b0_row0_col3\" class=\"data row0 col3\" >C2448</td>\n",
       "      <td id=\"T_d15b0_row0_col4\" class=\"data row0 col4\" >phone</td>\n",
       "      <td id=\"T_d15b0_row0_col5\" class=\"data row0 col5\" >signup</td>\n",
       "    </tr>\n",
       "    <tr>\n",
       "      <th id=\"T_d15b0_level0_row1\" class=\"row_heading level0 row1\" >1</th>\n",
       "      <td id=\"T_d15b0_row1_col0\" class=\"data row1 col0\" >2</td>\n",
       "      <td id=\"T_d15b0_row1_col1\" class=\"data row1 col1\" >CC102</td>\n",
       "      <td id=\"T_d15b0_row1_col2\" class=\"data row1 col2\" >2017-01-01 11:35:47</td>\n",
       "      <td id=\"T_d15b0_row1_col3\" class=\"data row1 col3\" >C2449</td>\n",
       "      <td id=\"T_d15b0_row1_col4\" class=\"data row1 col4\" >phone</td>\n",
       "      <td id=\"T_d15b0_row1_col5\" class=\"data row1 col5\" >signup</td>\n",
       "    </tr>\n",
       "    <tr>\n",
       "      <th id=\"T_d15b0_level0_row2\" class=\"row_heading level0 row2\" >2</th>\n",
       "      <td id=\"T_d15b0_row2_col0\" class=\"data row2 col0\" >3</td>\n",
       "      <td id=\"T_d15b0_row2_col1\" class=\"data row2 col1\" >CC103</td>\n",
       "      <td id=\"T_d15b0_row2_col2\" class=\"data row2 col2\" >2017-01-01 11:37:09</td>\n",
       "      <td id=\"T_d15b0_row2_col3\" class=\"data row2 col3\" >C2450</td>\n",
       "      <td id=\"T_d15b0_row2_col4\" class=\"data row2 col4\" >phone</td>\n",
       "      <td id=\"T_d15b0_row2_col5\" class=\"data row2 col5\" >signup</td>\n",
       "    </tr>\n",
       "    <tr>\n",
       "      <th id=\"T_d15b0_level0_row3\" class=\"row_heading level0 row3\" >3</th>\n",
       "      <td id=\"T_d15b0_row3_col0\" class=\"data row3 col0\" >4</td>\n",
       "      <td id=\"T_d15b0_row3_col1\" class=\"data row3 col1\" >CC104</td>\n",
       "      <td id=\"T_d15b0_row3_col2\" class=\"data row3 col2\" >2017-01-01 13:28:14</td>\n",
       "      <td id=\"T_d15b0_row3_col3\" class=\"data row3 col3\" >C2451</td>\n",
       "      <td id=\"T_d15b0_row3_col4\" class=\"data row3 col4\" >phone</td>\n",
       "      <td id=\"T_d15b0_row3_col5\" class=\"data row3 col5\" >signup</td>\n",
       "    </tr>\n",
       "    <tr>\n",
       "      <th id=\"T_d15b0_level0_row4\" class=\"row_heading level0 row4\" >4</th>\n",
       "      <td id=\"T_d15b0_row4_col0\" class=\"data row4 col0\" >5</td>\n",
       "      <td id=\"T_d15b0_row4_col1\" class=\"data row4 col1\" >CC105</td>\n",
       "      <td id=\"T_d15b0_row4_col2\" class=\"data row4 col2\" >2017-01-01 13:52:22</td>\n",
       "      <td id=\"T_d15b0_row4_col3\" class=\"data row4 col3\" >C2452</td>\n",
       "      <td id=\"T_d15b0_row4_col4\" class=\"data row4 col4\" >phone</td>\n",
       "      <td id=\"T_d15b0_row4_col5\" class=\"data row4 col5\" >signup</td>\n",
       "    </tr>\n",
       "  </tbody>\n",
       "</table>\n"
      ],
      "text/plain": [
       "<pandas.io.formats.style.Styler at 0x7d9ce3066860>"
      ]
     },
     "execution_count": 7,
     "metadata": {},
     "output_type": "execute_result"
    }
   ],
   "source": [
    "style_df(customer_cases.head(), 'Call Center Activity')"
   ]
  },
  {
   "cell_type": "code",
   "execution_count": 8,
   "id": "d1bfcba3",
   "metadata": {
    "execution": {
     "iopub.execute_input": "2025-04-12T01:17:10.935805Z",
     "iopub.status.busy": "2025-04-12T01:17:10.935439Z",
     "iopub.status.idle": "2025-04-12T01:17:10.943477Z",
     "shell.execute_reply": "2025-04-12T01:17:10.942332Z"
    },
    "papermill": {
     "duration": 0.021932,
     "end_time": "2025-04-12T01:17:10.945109",
     "exception": false,
     "start_time": "2025-04-12T01:17:10.923177",
     "status": "completed"
    },
    "tags": []
   },
   "outputs": [
    {
     "data": {
      "text/html": [
       "<style type=\"text/css\">\n",
       "#T_0e4db th {\n",
       "  background-color: #f0f0f0;\n",
       "  color: black;\n",
       "  font-weight: bold;\n",
       "}\n",
       "#T_0e4db tr:nth-of-type(odd) {\n",
       "  background-color: #f9f9f9;\n",
       "}\n",
       "</style>\n",
       "<table id=\"T_0e4db\">\n",
       "  <caption>Product Information</caption>\n",
       "  <thead>\n",
       "    <tr>\n",
       "      <th class=\"blank level0\" >&nbsp;</th>\n",
       "      <th id=\"T_0e4db_level0_col0\" class=\"col_heading level0 col0\" >product_id</th>\n",
       "      <th id=\"T_0e4db_level0_col1\" class=\"col_heading level0 col1\" >name</th>\n",
       "      <th id=\"T_0e4db_level0_col2\" class=\"col_heading level0 col2\" >price</th>\n",
       "      <th id=\"T_0e4db_level0_col3\" class=\"col_heading level0 col3\" >billing_cycle</th>\n",
       "    </tr>\n",
       "  </thead>\n",
       "  <tbody>\n",
       "    <tr>\n",
       "      <th id=\"T_0e4db_level0_row0\" class=\"row_heading level0 row0\" >0</th>\n",
       "      <td id=\"T_0e4db_row0_col0\" class=\"data row0 col0\" >prd_1</td>\n",
       "      <td id=\"T_0e4db_row0_col1\" class=\"data row0 col1\" >annual_subscription</td>\n",
       "      <td id=\"T_0e4db_row0_col2\" class=\"data row0 col2\" >1200</td>\n",
       "      <td id=\"T_0e4db_row0_col3\" class=\"data row0 col3\" >12</td>\n",
       "    </tr>\n",
       "    <tr>\n",
       "      <th id=\"T_0e4db_level0_row1\" class=\"row_heading level0 row1\" >1</th>\n",
       "      <td id=\"T_0e4db_row1_col0\" class=\"data row1 col0\" >prd_2</td>\n",
       "      <td id=\"T_0e4db_row1_col1\" class=\"data row1 col1\" >monthly_subscription</td>\n",
       "      <td id=\"T_0e4db_row1_col2\" class=\"data row1 col2\" >125</td>\n",
       "      <td id=\"T_0e4db_row1_col3\" class=\"data row1 col3\" >1</td>\n",
       "    </tr>\n",
       "  </tbody>\n",
       "</table>\n"
      ],
      "text/plain": [
       "<pandas.io.formats.style.Styler at 0x7d9ce3066ef0>"
      ]
     },
     "execution_count": 8,
     "metadata": {},
     "output_type": "execute_result"
    }
   ],
   "source": [
    "style_df(product_info.head(), 'Product Information')"
   ]
  },
  {
   "cell_type": "markdown",
   "id": "fcfd4fe7",
   "metadata": {
    "papermill": {
     "duration": 0.011436,
     "end_time": "2025-04-12T01:17:10.968248",
     "exception": false,
     "start_time": "2025-04-12T01:17:10.956812",
     "status": "completed"
    },
    "tags": []
   },
   "source": [
    "Customer Product Table will be the centre of the star schema. customer_id will be the primary key linking to the customer_centre and customer_info. product_id will be the primary key for the product_info table"
   ]
  },
  {
   "cell_type": "markdown",
   "id": "3ccef36c",
   "metadata": {
    "papermill": {
     "duration": 0.011348,
     "end_time": "2025-04-12T01:17:10.991048",
     "exception": false,
     "start_time": "2025-04-12T01:17:10.979700",
     "status": "completed"
    },
    "tags": []
   },
   "source": [
    "## Missing Values Check"
   ]
  },
  {
   "cell_type": "code",
   "execution_count": 9,
   "id": "ec3e6ce0",
   "metadata": {
    "execution": {
     "iopub.execute_input": "2025-04-12T01:17:11.015679Z",
     "iopub.status.busy": "2025-04-12T01:17:11.015303Z",
     "iopub.status.idle": "2025-04-12T01:17:11.258763Z",
     "shell.execute_reply": "2025-04-12T01:17:11.257542Z"
    },
    "papermill": {
     "duration": 0.257791,
     "end_time": "2025-04-12T01:17:11.260492",
     "exception": false,
     "start_time": "2025-04-12T01:17:11.002701",
     "status": "completed"
    },
    "tags": []
   },
   "outputs": [
    {
     "name": "stdout",
     "output_type": "stream",
     "text": [
      "\n",
      "product_info missing values:\n",
      "product_id       0\n",
      "name             0\n",
      "price            0\n",
      "billing_cycle    0\n",
      "dtype: int64\n",
      "\n",
      "product_info data types:\n",
      "product_id       object\n",
      "name             object\n",
      "price             int64\n",
      "billing_cycle     int64\n",
      "dtype: object\n",
      "\n",
      "customer_product missing values:\n",
      "Unnamed: 0               0\n",
      "customer_id              0\n",
      "product                  0\n",
      "signup_date_time         0\n",
      "cancel_date_time    396447\n",
      "dtype: int64\n",
      "\n",
      "customer_product data types:\n",
      "Unnamed: 0           int64\n",
      "customer_id         object\n",
      "product             object\n",
      "signup_date_time    object\n",
      "cancel_date_time    object\n",
      "dtype: object\n",
      "\n",
      "customer_info missing values:\n",
      "Unnamed: 0     0\n",
      "customer_id    0\n",
      "age            0\n",
      "gender         0\n",
      "dtype: int64\n",
      "\n",
      "customer_info data types:\n",
      "Unnamed: 0      int64\n",
      "customer_id    object\n",
      "age             int64\n",
      "gender         object\n",
      "dtype: object\n",
      "\n",
      "customer_cases missing values:\n",
      "Unnamed: 0     0\n",
      "case_id        0\n",
      "date_time      0\n",
      "customer_id    0\n",
      "channel        0\n",
      "reason         0\n",
      "dtype: int64\n",
      "\n",
      "customer_cases data types:\n",
      "Unnamed: 0      int64\n",
      "case_id        object\n",
      "date_time      object\n",
      "customer_id    object\n",
      "channel        object\n",
      "reason         object\n",
      "dtype: object\n"
     ]
    }
   ],
   "source": [
    "for df_name, df in [(\"product_info\", product_info), \n",
    "                    (\"customer_product\", customer_product),\n",
    "                    (\"customer_info\", customer_info), \n",
    "                    (\"customer_cases\", customer_cases)]:\n",
    "    print(f\"\\n{df_name} missing values:\")\n",
    "    print(df.isnull().sum())\n",
    "    \n",
    "    print(f\"\\n{df_name} data types:\")\n",
    "    print(df.dtypes)"
   ]
  },
  {
   "cell_type": "code",
   "execution_count": 10,
   "id": "ba6e7a21",
   "metadata": {
    "execution": {
     "iopub.execute_input": "2025-04-12T01:17:11.285236Z",
     "iopub.status.busy": "2025-04-12T01:17:11.284803Z",
     "iopub.status.idle": "2025-04-12T01:17:11.389848Z",
     "shell.execute_reply": "2025-04-12T01:17:11.388821Z"
    },
    "papermill": {
     "duration": 0.119062,
     "end_time": "2025-04-12T01:17:11.391465",
     "exception": false,
     "start_time": "2025-04-12T01:17:11.272403",
     "status": "completed"
    },
    "tags": []
   },
   "outputs": [
    {
     "data": {
      "text/plain": [
       "Unnamed: 0               0\n",
       "customer_id              0\n",
       "product                  0\n",
       "signup_date_time         0\n",
       "cancel_date_time    396447\n",
       "dtype: int64"
      ]
     },
     "execution_count": 10,
     "metadata": {},
     "output_type": "execute_result"
    }
   ],
   "source": [
    "customer_product.isnull().sum()"
   ]
  },
  {
   "cell_type": "markdown",
   "id": "1b0eb681",
   "metadata": {
    "papermill": {
     "duration": 0.011506,
     "end_time": "2025-04-12T01:17:11.414915",
     "exception": false,
     "start_time": "2025-04-12T01:17:11.403409",
     "status": "completed"
    },
    "tags": []
   },
   "source": [
    "This suggests that the missing values in cancel date_time are not actual missing values but rather customers who have not cancelled their subscription"
   ]
  },
  {
   "cell_type": "code",
   "execution_count": 11,
   "id": "655e80ae",
   "metadata": {
    "execution": {
     "iopub.execute_input": "2025-04-12T01:17:11.441398Z",
     "iopub.status.busy": "2025-04-12T01:17:11.440919Z",
     "iopub.status.idle": "2025-04-12T01:17:11.798270Z",
     "shell.execute_reply": "2025-04-12T01:17:11.797126Z"
    },
    "papermill": {
     "duration": 0.372352,
     "end_time": "2025-04-12T01:17:11.800383",
     "exception": false,
     "start_time": "2025-04-12T01:17:11.428031",
     "status": "completed"
    },
    "tags": []
   },
   "outputs": [],
   "source": [
    "customer_product['signup_date_time'] = pd.to_datetime(customer_product['signup_date_time'])\n",
    "customer_product['cancel_date_time'] = pd.to_datetime(customer_product['cancel_date_time'])\n",
    "customer_cases['date_time'] = pd.to_datetime(customer_cases['date_time'])"
   ]
  },
  {
   "cell_type": "code",
   "execution_count": 12,
   "id": "dc5157de",
   "metadata": {
    "execution": {
     "iopub.execute_input": "2025-04-12T01:17:11.825621Z",
     "iopub.status.busy": "2025-04-12T01:17:11.825286Z",
     "iopub.status.idle": "2025-04-12T01:17:11.852696Z",
     "shell.execute_reply": "2025-04-12T01:17:11.851580Z"
    },
    "papermill": {
     "duration": 0.042017,
     "end_time": "2025-04-12T01:17:11.854544",
     "exception": false,
     "start_time": "2025-04-12T01:17:11.812527",
     "status": "completed"
    },
    "tags": []
   },
   "outputs": [],
   "source": [
    "today = pd.to_datetime('2022-01-01')\n",
    "customer_product['end_date'] = customer_product['cancel_date_time'].fillna(today)\n",
    "customer_product['tenure_days'] = (customer_product['end_date'] - customer_product['signup_date_time']).dt.days"
   ]
  },
  {
   "cell_type": "markdown",
   "id": "db4fe8a3",
   "metadata": {
    "papermill": {
     "duration": 0.011475,
     "end_time": "2025-04-12T01:17:11.878240",
     "exception": false,
     "start_time": "2025-04-12T01:17:11.866765",
     "status": "completed"
    },
    "tags": []
   },
   "source": [
    "## Create a Joined Dataframe"
   ]
  },
  {
   "cell_type": "code",
   "execution_count": 13,
   "id": "fa463368",
   "metadata": {
    "execution": {
     "iopub.execute_input": "2025-04-12T01:17:11.902997Z",
     "iopub.status.busy": "2025-04-12T01:17:11.902614Z",
     "iopub.status.idle": "2025-04-12T01:17:12.375808Z",
     "shell.execute_reply": "2025-04-12T01:17:12.374654Z"
    },
    "papermill": {
     "duration": 0.487712,
     "end_time": "2025-04-12T01:17:12.377824",
     "exception": false,
     "start_time": "2025-04-12T01:17:11.890112",
     "status": "completed"
    },
    "tags": []
   },
   "outputs": [],
   "source": [
    "joined_df = pd.merge(customer_product,customer_info, how='left', left_on='customer_id', right_on='customer_id')"
   ]
  },
  {
   "cell_type": "code",
   "execution_count": 14,
   "id": "74e01189",
   "metadata": {
    "execution": {
     "iopub.execute_input": "2025-04-12T01:17:12.404528Z",
     "iopub.status.busy": "2025-04-12T01:17:12.404162Z",
     "iopub.status.idle": "2025-04-12T01:17:12.601271Z",
     "shell.execute_reply": "2025-04-12T01:17:12.600178Z"
    },
    "papermill": {
     "duration": 0.212456,
     "end_time": "2025-04-12T01:17:12.603217",
     "exception": false,
     "start_time": "2025-04-12T01:17:12.390761",
     "status": "completed"
    },
    "tags": []
   },
   "outputs": [],
   "source": [
    "joined_df = pd.merge(joined_df,product_info, how='left', left_on='product',right_on='product_id')"
   ]
  },
  {
   "cell_type": "code",
   "execution_count": 15,
   "id": "7a418738",
   "metadata": {
    "execution": {
     "iopub.execute_input": "2025-04-12T01:17:12.629841Z",
     "iopub.status.busy": "2025-04-12T01:17:12.629476Z",
     "iopub.status.idle": "2025-04-12T01:17:13.097920Z",
     "shell.execute_reply": "2025-04-12T01:17:13.096827Z"
    },
    "papermill": {
     "duration": 0.483052,
     "end_time": "2025-04-12T01:17:13.099965",
     "exception": false,
     "start_time": "2025-04-12T01:17:12.616913",
     "status": "completed"
    },
    "tags": []
   },
   "outputs": [],
   "source": [
    "case_summary = customer_cases.groupby('customer_id').agg({\n",
    "\t'case_id': 'count',\n",
    "\t'date_time':['min','max']\n",
    "})"
   ]
  },
  {
   "cell_type": "code",
   "execution_count": 16,
   "id": "883cef4d",
   "metadata": {
    "execution": {
     "iopub.execute_input": "2025-04-12T01:17:13.126417Z",
     "iopub.status.busy": "2025-04-12T01:17:13.126032Z",
     "iopub.status.idle": "2025-04-12T01:17:13.130532Z",
     "shell.execute_reply": "2025-04-12T01:17:13.129427Z"
    },
    "papermill": {
     "duration": 0.019088,
     "end_time": "2025-04-12T01:17:13.132198",
     "exception": false,
     "start_time": "2025-04-12T01:17:13.113110",
     "status": "completed"
    },
    "tags": []
   },
   "outputs": [],
   "source": [
    "case_summary.columns = [\n",
    "\t'total_cases',\n",
    "\t'first_case_date',\n",
    "\t'last_case_date'\n",
    "]"
   ]
  },
  {
   "cell_type": "code",
   "execution_count": 17,
   "id": "60e536f6",
   "metadata": {
    "execution": {
     "iopub.execute_input": "2025-04-12T01:17:13.157371Z",
     "iopub.status.busy": "2025-04-12T01:17:13.156991Z",
     "iopub.status.idle": "2025-04-12T01:17:13.170735Z",
     "shell.execute_reply": "2025-04-12T01:17:13.169683Z"
    },
    "papermill": {
     "duration": 0.02852,
     "end_time": "2025-04-12T01:17:13.172614",
     "exception": false,
     "start_time": "2025-04-12T01:17:13.144094",
     "status": "completed"
    },
    "tags": []
   },
   "outputs": [],
   "source": [
    "case_summary['days_between_cases'] = (case_summary['last_case_date'] - case_summary['first_case_date']).dt.days"
   ]
  },
  {
   "cell_type": "code",
   "execution_count": 18,
   "id": "860029fa",
   "metadata": {
    "execution": {
     "iopub.execute_input": "2025-04-12T01:17:13.199080Z",
     "iopub.status.busy": "2025-04-12T01:17:13.198683Z",
     "iopub.status.idle": "2025-04-12T01:17:13.831254Z",
     "shell.execute_reply": "2025-04-12T01:17:13.830022Z"
    },
    "papermill": {
     "duration": 0.647882,
     "end_time": "2025-04-12T01:17:13.833320",
     "exception": false,
     "start_time": "2025-04-12T01:17:13.185438",
     "status": "completed"
    },
    "tags": []
   },
   "outputs": [],
   "source": [
    "reason_counts = customer_cases.groupby(['customer_id', 'reason']).size().unstack(fill_value=0)\n",
    "reason_counts.columns = [f\"reason{col}\" for col in reason_counts.columns]\n",
    "case_summary = case_summary.join(reason_counts)"
   ]
  },
  {
   "cell_type": "code",
   "execution_count": 19,
   "id": "f1191956",
   "metadata": {
    "execution": {
     "iopub.execute_input": "2025-04-12T01:17:13.858637Z",
     "iopub.status.busy": "2025-04-12T01:17:13.858307Z",
     "iopub.status.idle": "2025-04-12T01:17:14.335243Z",
     "shell.execute_reply": "2025-04-12T01:17:14.334177Z"
    },
    "papermill": {
     "duration": 0.491636,
     "end_time": "2025-04-12T01:17:14.337203",
     "exception": false,
     "start_time": "2025-04-12T01:17:13.845567",
     "status": "completed"
    },
    "tags": []
   },
   "outputs": [],
   "source": [
    "churn_df = pd.merge(joined_df, case_summary, on='customer_id', how='left')"
   ]
  },
  {
   "cell_type": "code",
   "execution_count": 20,
   "id": "4367adaf",
   "metadata": {
    "execution": {
     "iopub.execute_input": "2025-04-12T01:17:14.362240Z",
     "iopub.status.busy": "2025-04-12T01:17:14.361812Z",
     "iopub.status.idle": "2025-04-12T01:17:14.373615Z",
     "shell.execute_reply": "2025-04-12T01:17:14.372629Z"
    },
    "papermill": {
     "duration": 0.026434,
     "end_time": "2025-04-12T01:17:14.375615",
     "exception": false,
     "start_time": "2025-04-12T01:17:14.349181",
     "status": "completed"
    },
    "tags": []
   },
   "outputs": [],
   "source": [
    "churn_df['total_cases'] = churn_df['total_cases'].fillna(0)"
   ]
  },
  {
   "cell_type": "code",
   "execution_count": 21,
   "id": "efe88873",
   "metadata": {
    "execution": {
     "iopub.execute_input": "2025-04-12T01:17:14.400666Z",
     "iopub.status.busy": "2025-04-12T01:17:14.400342Z",
     "iopub.status.idle": "2025-04-12T01:17:14.475740Z",
     "shell.execute_reply": "2025-04-12T01:17:14.474809Z"
    },
    "papermill": {
     "duration": 0.090051,
     "end_time": "2025-04-12T01:17:14.477611",
     "exception": false,
     "start_time": "2025-04-12T01:17:14.387560",
     "status": "completed"
    },
    "tags": []
   },
   "outputs": [],
   "source": [
    "churn_df = churn_df.drop('Unnamed: 0_x', axis=1)\n",
    "churn_df = churn_df.drop('Unnamed: 0_y', axis=1)"
   ]
  },
  {
   "cell_type": "code",
   "execution_count": 22,
   "id": "7929e136",
   "metadata": {
    "execution": {
     "iopub.execute_input": "2025-04-12T01:17:14.502577Z",
     "iopub.status.busy": "2025-04-12T01:17:14.502255Z",
     "iopub.status.idle": "2025-04-12T01:17:14.647251Z",
     "shell.execute_reply": "2025-04-12T01:17:14.645434Z"
    },
    "papermill": {
     "duration": 0.159421,
     "end_time": "2025-04-12T01:17:14.649001",
     "exception": false,
     "start_time": "2025-04-12T01:17:14.489580",
     "status": "completed"
    },
    "tags": []
   },
   "outputs": [
    {
     "name": "stdout",
     "output_type": "stream",
     "text": [
      "customer_id                0\n",
      "product                    0\n",
      "signup_date_time           0\n",
      "cancel_date_time      396447\n",
      "end_date                   0\n",
      "tenure_days                0\n",
      "age                        0\n",
      "gender                     0\n",
      "product_id                 0\n",
      "name                       0\n",
      "price                      0\n",
      "billing_cycle              0\n",
      "total_cases                0\n",
      "first_case_date       250272\n",
      "last_case_date        250272\n",
      "days_between_cases    250272\n",
      "reasonsignup          250272\n",
      "reasonsupport         250272\n",
      "dtype: int64\n"
     ]
    }
   ],
   "source": [
    "print(churn_df.isnull().sum())"
   ]
  },
  {
   "cell_type": "markdown",
   "id": "910c8b9f",
   "metadata": {
    "papermill": {
     "duration": 0.011649,
     "end_time": "2025-04-12T01:17:14.673181",
     "exception": false,
     "start_time": "2025-04-12T01:17:14.661532",
     "status": "completed"
    },
    "tags": []
   },
   "source": [
    "## Clean Merged Dataset"
   ]
  },
  {
   "cell_type": "code",
   "execution_count": 23,
   "id": "4bdddf63",
   "metadata": {
    "execution": {
     "iopub.execute_input": "2025-04-12T01:17:14.698140Z",
     "iopub.status.busy": "2025-04-12T01:17:14.697733Z",
     "iopub.status.idle": "2025-04-12T01:17:14.724190Z",
     "shell.execute_reply": "2025-04-12T01:17:14.723096Z"
    },
    "papermill": {
     "duration": 0.041033,
     "end_time": "2025-04-12T01:17:14.726058",
     "exception": false,
     "start_time": "2025-04-12T01:17:14.685025",
     "status": "completed"
    },
    "tags": []
   },
   "outputs": [],
   "source": [
    "churn_df['total_cases'] = churn_df['total_cases'].fillna(0)\n",
    "churn_df['first_case_date'] = churn_df['first_case_date'].fillna(pd.NaT)\n",
    "churn_df['last_case_date'] = churn_df['last_case_date'].fillna(pd.NaT)\n",
    "churn_df['days_between_cases'] = churn_df['days_between_cases'].fillna(0)\n",
    "churn_df['ever_contacted_support'] = churn_df['total_cases'].gt(0).astype(int)"
   ]
  },
  {
   "cell_type": "code",
   "execution_count": 24,
   "id": "a9d4764e",
   "metadata": {
    "execution": {
     "iopub.execute_input": "2025-04-12T01:17:14.751602Z",
     "iopub.status.busy": "2025-04-12T01:17:14.751279Z",
     "iopub.status.idle": "2025-04-12T01:17:14.772488Z",
     "shell.execute_reply": "2025-04-12T01:17:14.771350Z"
    },
    "papermill": {
     "duration": 0.036363,
     "end_time": "2025-04-12T01:17:14.774662",
     "exception": false,
     "start_time": "2025-04-12T01:17:14.738299",
     "status": "completed"
    },
    "tags": []
   },
   "outputs": [],
   "source": [
    "reason_columns = [col for col in churn_df.columns if col.startswith('reason')]\n",
    "churn_df[reason_columns] = churn_df[reason_columns].fillna(0)"
   ]
  },
  {
   "cell_type": "code",
   "execution_count": 25,
   "id": "921a7cdd",
   "metadata": {
    "execution": {
     "iopub.execute_input": "2025-04-12T01:17:14.800235Z",
     "iopub.status.busy": "2025-04-12T01:17:14.799808Z",
     "iopub.status.idle": "2025-04-12T01:17:14.941487Z",
     "shell.execute_reply": "2025-04-12T01:17:14.940211Z"
    },
    "papermill": {
     "duration": 0.156545,
     "end_time": "2025-04-12T01:17:14.943361",
     "exception": false,
     "start_time": "2025-04-12T01:17:14.786816",
     "status": "completed"
    },
    "tags": []
   },
   "outputs": [
    {
     "name": "stdout",
     "output_type": "stream",
     "text": [
      "customer_id                    0\n",
      "product                        0\n",
      "signup_date_time               0\n",
      "cancel_date_time          396447\n",
      "end_date                       0\n",
      "tenure_days                    0\n",
      "age                            0\n",
      "gender                         0\n",
      "product_id                     0\n",
      "name                           0\n",
      "price                          0\n",
      "billing_cycle                  0\n",
      "total_cases                    0\n",
      "first_case_date           250272\n",
      "last_case_date            250272\n",
      "days_between_cases             0\n",
      "reasonsignup                   0\n",
      "reasonsupport                  0\n",
      "ever_contacted_support         0\n",
      "dtype: int64\n"
     ]
    }
   ],
   "source": [
    "print(churn_df.isnull().sum())"
   ]
  },
  {
   "cell_type": "code",
   "execution_count": 26,
   "id": "1c402c1e",
   "metadata": {
    "execution": {
     "iopub.execute_input": "2025-04-12T01:17:14.969022Z",
     "iopub.status.busy": "2025-04-12T01:17:14.968610Z",
     "iopub.status.idle": "2025-04-12T01:17:15.020590Z",
     "shell.execute_reply": "2025-04-12T01:17:15.019561Z"
    },
    "papermill": {
     "duration": 0.066995,
     "end_time": "2025-04-12T01:17:15.022616",
     "exception": false,
     "start_time": "2025-04-12T01:17:14.955621",
     "status": "completed"
    },
    "tags": []
   },
   "outputs": [],
   "source": [
    "churn_df['days_since_signup'] = (today - churn_df['signup_date_time']).dt.days \n",
    "mask = churn_df['ever_contacted_support'] == 1\n",
    "churn_df.loc[mask,'days_to_first_contact'] = (churn_df.loc[mask, 'first_case_date'] - churn_df.loc[mask, 'signup_date_time']).dt.days"
   ]
  },
  {
   "cell_type": "code",
   "execution_count": 27,
   "id": "6ab58937",
   "metadata": {
    "execution": {
     "iopub.execute_input": "2025-04-12T01:17:15.048995Z",
     "iopub.status.busy": "2025-04-12T01:17:15.048590Z",
     "iopub.status.idle": "2025-04-12T01:17:15.060094Z",
     "shell.execute_reply": "2025-04-12T01:17:15.058976Z"
    },
    "papermill": {
     "duration": 0.026754,
     "end_time": "2025-04-12T01:17:15.062101",
     "exception": false,
     "start_time": "2025-04-12T01:17:15.035347",
     "status": "completed"
    },
    "tags": []
   },
   "outputs": [],
   "source": [
    "churn_df['days_to_first_contact'] = churn_df['days_to_first_contact'].fillna(-1)"
   ]
  },
  {
   "cell_type": "code",
   "execution_count": 28,
   "id": "a07d6fad",
   "metadata": {
    "execution": {
     "iopub.execute_input": "2025-04-12T01:17:15.087914Z",
     "iopub.status.busy": "2025-04-12T01:17:15.087534Z",
     "iopub.status.idle": "2025-04-12T01:17:15.107546Z",
     "shell.execute_reply": "2025-04-12T01:17:15.106475Z"
    },
    "papermill": {
     "duration": 0.035129,
     "end_time": "2025-04-12T01:17:15.109417",
     "exception": false,
     "start_time": "2025-04-12T01:17:15.074288",
     "status": "completed"
    },
    "tags": []
   },
   "outputs": [],
   "source": [
    "churn_df['age_group'] = pd.cut(churn_df['age'],\n",
    "                              bins  = [0, 30, 45, 60, 75, 100],\n",
    "                              labels  = ['<30', '30-45', '46-60','61-75','75+'])"
   ]
  },
  {
   "cell_type": "code",
   "execution_count": 29,
   "id": "e2ccb498",
   "metadata": {
    "execution": {
     "iopub.execute_input": "2025-04-12T01:17:15.193157Z",
     "iopub.status.busy": "2025-04-12T01:17:15.192744Z",
     "iopub.status.idle": "2025-04-12T01:17:15.208646Z",
     "shell.execute_reply": "2025-04-12T01:17:15.207711Z"
    },
    "papermill": {
     "duration": 0.089122,
     "end_time": "2025-04-12T01:17:15.210686",
     "exception": false,
     "start_time": "2025-04-12T01:17:15.121564",
     "status": "completed"
    },
    "tags": []
   },
   "outputs": [],
   "source": [
    "churn_df['tenure_group'] = pd.cut(churn_df['tenure_days'],\n",
    "                                 bins = [0, 90, 180, 365, 730, float('inf')],\n",
    "                                 labels = ['0-3mo', '3-6mo', '6-12mo','1-2yr', '2yr+'])"
   ]
  },
  {
   "cell_type": "code",
   "execution_count": 30,
   "id": "f9ec6c51",
   "metadata": {
    "execution": {
     "iopub.execute_input": "2025-04-12T01:17:15.236945Z",
     "iopub.status.busy": "2025-04-12T01:17:15.236548Z",
     "iopub.status.idle": "2025-04-12T01:17:15.636783Z",
     "shell.execute_reply": "2025-04-12T01:17:15.635473Z"
    },
    "papermill": {
     "duration": 0.415474,
     "end_time": "2025-04-12T01:17:15.638715",
     "exception": false,
     "start_time": "2025-04-12T01:17:15.223241",
     "status": "completed"
    },
    "tags": []
   },
   "outputs": [
    {
     "data": {
      "text/html": [
       "<div>\n",
       "<style scoped>\n",
       "    .dataframe tbody tr th:only-of-type {\n",
       "        vertical-align: middle;\n",
       "    }\n",
       "\n",
       "    .dataframe tbody tr th {\n",
       "        vertical-align: top;\n",
       "    }\n",
       "\n",
       "    .dataframe thead th {\n",
       "        text-align: right;\n",
       "    }\n",
       "</style>\n",
       "<table border=\"1\" class=\"dataframe\">\n",
       "  <thead>\n",
       "    <tr style=\"text-align: right;\">\n",
       "      <th></th>\n",
       "      <th>signup_date_time</th>\n",
       "      <th>cancel_date_time</th>\n",
       "      <th>end_date</th>\n",
       "      <th>tenure_days</th>\n",
       "      <th>age</th>\n",
       "      <th>price</th>\n",
       "      <th>billing_cycle</th>\n",
       "      <th>total_cases</th>\n",
       "      <th>first_case_date</th>\n",
       "      <th>last_case_date</th>\n",
       "      <th>days_between_cases</th>\n",
       "      <th>reasonsignup</th>\n",
       "      <th>reasonsupport</th>\n",
       "      <th>ever_contacted_support</th>\n",
       "      <th>days_since_signup</th>\n",
       "      <th>days_to_first_contact</th>\n",
       "    </tr>\n",
       "  </thead>\n",
       "  <tbody>\n",
       "    <tr>\n",
       "      <th>count</th>\n",
       "      <td>508932</td>\n",
       "      <td>112485</td>\n",
       "      <td>508932</td>\n",
       "      <td>508932.000000</td>\n",
       "      <td>508932.000000</td>\n",
       "      <td>508932.000000</td>\n",
       "      <td>508932.000000</td>\n",
       "      <td>508932.000000</td>\n",
       "      <td>258660</td>\n",
       "      <td>258660</td>\n",
       "      <td>508932.000000</td>\n",
       "      <td>508932.000000</td>\n",
       "      <td>508932.000000</td>\n",
       "      <td>508932.000000</td>\n",
       "      <td>508932.000000</td>\n",
       "      <td>508932.000000</td>\n",
       "    </tr>\n",
       "    <tr>\n",
       "      <th>mean</th>\n",
       "      <td>2020-02-16 11:01:51.888912384</td>\n",
       "      <td>2020-09-29 23:06:47.655838464</td>\n",
       "      <td>2021-09-21 18:20:01.758126848</td>\n",
       "      <td>582.861351</td>\n",
       "      <td>58.473030</td>\n",
       "      <td>812.857464</td>\n",
       "      <td>8.038541</td>\n",
       "      <td>0.649423</td>\n",
       "      <td>2020-04-15 18:25:58.267691008</td>\n",
       "      <td>2020-05-26 11:24:47.194757632</td>\n",
       "      <td>20.639087</td>\n",
       "      <td>0.254507</td>\n",
       "      <td>0.394915</td>\n",
       "      <td>0.508241</td>\n",
       "      <td>684.102998</td>\n",
       "      <td>35.649600</td>\n",
       "    </tr>\n",
       "    <tr>\n",
       "      <th>min</th>\n",
       "      <td>2017-01-01 07:55:42</td>\n",
       "      <td>2017-01-08 15:14:53</td>\n",
       "      <td>2017-01-08 15:14:53</td>\n",
       "      <td>0.000000</td>\n",
       "      <td>21.000000</td>\n",
       "      <td>125.000000</td>\n",
       "      <td>1.000000</td>\n",
       "      <td>0.000000</td>\n",
       "      <td>2017-01-01 10:32:03</td>\n",
       "      <td>2017-01-01 10:32:03</td>\n",
       "      <td>0.000000</td>\n",
       "      <td>0.000000</td>\n",
       "      <td>0.000000</td>\n",
       "      <td>0.000000</td>\n",
       "      <td>0.000000</td>\n",
       "      <td>-1.000000</td>\n",
       "    </tr>\n",
       "    <tr>\n",
       "      <th>25%</th>\n",
       "      <td>2019-04-18 11:27:09</td>\n",
       "      <td>2020-03-03 15:25:12</td>\n",
       "      <td>2022-01-01 00:00:00</td>\n",
       "      <td>239.000000</td>\n",
       "      <td>53.000000</td>\n",
       "      <td>125.000000</td>\n",
       "      <td>1.000000</td>\n",
       "      <td>0.000000</td>\n",
       "      <td>2019-06-06 09:27:45</td>\n",
       "      <td>2019-07-21 09:32:20.500000</td>\n",
       "      <td>0.000000</td>\n",
       "      <td>0.000000</td>\n",
       "      <td>0.000000</td>\n",
       "      <td>0.000000</td>\n",
       "      <td>298.000000</td>\n",
       "      <td>-1.000000</td>\n",
       "    </tr>\n",
       "    <tr>\n",
       "      <th>50%</th>\n",
       "      <td>2020-04-25 11:14:34</td>\n",
       "      <td>2020-12-29 13:24:10</td>\n",
       "      <td>2022-01-01 00:00:00</td>\n",
       "      <td>504.000000</td>\n",
       "      <td>59.000000</td>\n",
       "      <td>1200.000000</td>\n",
       "      <td>12.000000</td>\n",
       "      <td>1.000000</td>\n",
       "      <td>2020-07-06 14:57:11</td>\n",
       "      <td>2020-08-14 15:31:07.500000</td>\n",
       "      <td>0.000000</td>\n",
       "      <td>0.000000</td>\n",
       "      <td>0.000000</td>\n",
       "      <td>1.000000</td>\n",
       "      <td>615.000000</td>\n",
       "      <td>-1.000000</td>\n",
       "    </tr>\n",
       "    <tr>\n",
       "      <th>75%</th>\n",
       "      <td>2021-03-08 16:49:51</td>\n",
       "      <td>2021-07-22 10:59:54</td>\n",
       "      <td>2022-01-01 00:00:00</td>\n",
       "      <td>858.000000</td>\n",
       "      <td>64.000000</td>\n",
       "      <td>1200.000000</td>\n",
       "      <td>12.000000</td>\n",
       "      <td>1.000000</td>\n",
       "      <td>2021-05-15 11:54:53</td>\n",
       "      <td>2021-06-26 17:26:50.750000128</td>\n",
       "      <td>0.000000</td>\n",
       "      <td>1.000000</td>\n",
       "      <td>1.000000</td>\n",
       "      <td>1.000000</td>\n",
       "      <td>988.000000</td>\n",
       "      <td>3.000000</td>\n",
       "    </tr>\n",
       "    <tr>\n",
       "      <th>max</th>\n",
       "      <td>2021-12-31 19:38:21</td>\n",
       "      <td>2021-12-31 21:44:10</td>\n",
       "      <td>2022-01-01 00:00:00</td>\n",
       "      <td>1825.000000</td>\n",
       "      <td>78.000000</td>\n",
       "      <td>1200.000000</td>\n",
       "      <td>12.000000</td>\n",
       "      <td>5.000000</td>\n",
       "      <td>2022-01-01 06:32:53</td>\n",
       "      <td>2022-01-01 06:32:53</td>\n",
       "      <td>1368.000000</td>\n",
       "      <td>1.000000</td>\n",
       "      <td>4.000000</td>\n",
       "      <td>1.000000</td>\n",
       "      <td>1825.000000</td>\n",
       "      <td>1392.000000</td>\n",
       "    </tr>\n",
       "    <tr>\n",
       "      <th>std</th>\n",
       "      <td>NaN</td>\n",
       "      <td>NaN</td>\n",
       "      <td>NaN</td>\n",
       "      <td>425.268635</td>\n",
       "      <td>8.257361</td>\n",
       "      <td>516.042059</td>\n",
       "      <td>5.280430</td>\n",
       "      <td>0.735795</td>\n",
       "      <td>NaN</td>\n",
       "      <td>NaN</td>\n",
       "      <td>78.580899</td>\n",
       "      <td>0.435584</td>\n",
       "      <td>0.583338</td>\n",
       "      <td>0.499933</td>\n",
       "      <td>453.620754</td>\n",
       "      <td>94.368328</td>\n",
       "    </tr>\n",
       "  </tbody>\n",
       "</table>\n",
       "</div>"
      ],
      "text/plain": [
       "                    signup_date_time               cancel_date_time  \\\n",
       "count                         508932                         112485   \n",
       "mean   2020-02-16 11:01:51.888912384  2020-09-29 23:06:47.655838464   \n",
       "min              2017-01-01 07:55:42            2017-01-08 15:14:53   \n",
       "25%              2019-04-18 11:27:09            2020-03-03 15:25:12   \n",
       "50%              2020-04-25 11:14:34            2020-12-29 13:24:10   \n",
       "75%              2021-03-08 16:49:51            2021-07-22 10:59:54   \n",
       "max              2021-12-31 19:38:21            2021-12-31 21:44:10   \n",
       "std                              NaN                            NaN   \n",
       "\n",
       "                            end_date    tenure_days            age  \\\n",
       "count                         508932  508932.000000  508932.000000   \n",
       "mean   2021-09-21 18:20:01.758126848     582.861351      58.473030   \n",
       "min              2017-01-08 15:14:53       0.000000      21.000000   \n",
       "25%              2022-01-01 00:00:00     239.000000      53.000000   \n",
       "50%              2022-01-01 00:00:00     504.000000      59.000000   \n",
       "75%              2022-01-01 00:00:00     858.000000      64.000000   \n",
       "max              2022-01-01 00:00:00    1825.000000      78.000000   \n",
       "std                              NaN     425.268635       8.257361   \n",
       "\n",
       "               price  billing_cycle    total_cases  \\\n",
       "count  508932.000000  508932.000000  508932.000000   \n",
       "mean      812.857464       8.038541       0.649423   \n",
       "min       125.000000       1.000000       0.000000   \n",
       "25%       125.000000       1.000000       0.000000   \n",
       "50%      1200.000000      12.000000       1.000000   \n",
       "75%      1200.000000      12.000000       1.000000   \n",
       "max      1200.000000      12.000000       5.000000   \n",
       "std       516.042059       5.280430       0.735795   \n",
       "\n",
       "                     first_case_date                 last_case_date  \\\n",
       "count                         258660                         258660   \n",
       "mean   2020-04-15 18:25:58.267691008  2020-05-26 11:24:47.194757632   \n",
       "min              2017-01-01 10:32:03            2017-01-01 10:32:03   \n",
       "25%              2019-06-06 09:27:45     2019-07-21 09:32:20.500000   \n",
       "50%              2020-07-06 14:57:11     2020-08-14 15:31:07.500000   \n",
       "75%              2021-05-15 11:54:53  2021-06-26 17:26:50.750000128   \n",
       "max              2022-01-01 06:32:53            2022-01-01 06:32:53   \n",
       "std                              NaN                            NaN   \n",
       "\n",
       "       days_between_cases   reasonsignup  reasonsupport  \\\n",
       "count       508932.000000  508932.000000  508932.000000   \n",
       "mean            20.639087       0.254507       0.394915   \n",
       "min              0.000000       0.000000       0.000000   \n",
       "25%              0.000000       0.000000       0.000000   \n",
       "50%              0.000000       0.000000       0.000000   \n",
       "75%              0.000000       1.000000       1.000000   \n",
       "max           1368.000000       1.000000       4.000000   \n",
       "std             78.580899       0.435584       0.583338   \n",
       "\n",
       "       ever_contacted_support  days_since_signup  days_to_first_contact  \n",
       "count           508932.000000      508932.000000          508932.000000  \n",
       "mean                 0.508241         684.102998              35.649600  \n",
       "min                  0.000000           0.000000              -1.000000  \n",
       "25%                  0.000000         298.000000              -1.000000  \n",
       "50%                  1.000000         615.000000              -1.000000  \n",
       "75%                  1.000000         988.000000               3.000000  \n",
       "max                  1.000000        1825.000000            1392.000000  \n",
       "std                  0.499933         453.620754              94.368328  "
      ]
     },
     "execution_count": 30,
     "metadata": {},
     "output_type": "execute_result"
    }
   ],
   "source": [
    "churn_df.describe()"
   ]
  },
  {
   "cell_type": "markdown",
   "id": "bba4ab85",
   "metadata": {
    "papermill": {
     "duration": 0.012201,
     "end_time": "2025-04-12T01:17:15.664984",
     "exception": false,
     "start_time": "2025-04-12T01:17:15.652783",
     "status": "completed"
    },
    "tags": []
   },
   "source": [
    "# Defining Churn"
   ]
  },
  {
   "cell_type": "markdown",
   "id": "2e973974",
   "metadata": {
    "papermill": {
     "duration": 0.012331,
     "end_time": "2025-04-12T01:17:15.689899",
     "exception": false,
     "start_time": "2025-04-12T01:17:15.677568",
     "status": "completed"
    },
    "tags": []
   },
   "source": [
    "Earlier defined churn as has cancellation_date = Churned. This is good retrospectively, but it's not predictive. Using a time-window approach here (will churn in Next X Days). This is where the business value is. The purpose of churn prediction is preventing future churn, not explaining past churn"
   ]
  },
  {
   "cell_type": "code",
   "execution_count": 31,
   "id": "51a1b462",
   "metadata": {
    "execution": {
     "iopub.execute_input": "2025-04-12T01:17:15.716580Z",
     "iopub.status.busy": "2025-04-12T01:17:15.716185Z",
     "iopub.status.idle": "2025-04-12T01:17:15.732478Z",
     "shell.execute_reply": "2025-04-12T01:17:15.731374Z"
    },
    "papermill": {
     "duration": 0.032306,
     "end_time": "2025-04-12T01:17:15.734640",
     "exception": false,
     "start_time": "2025-04-12T01:17:15.702334",
     "status": "completed"
    },
    "tags": []
   },
   "outputs": [],
   "source": [
    "cutoff_date = pd.to_datetime('2021-10-03')\n",
    "\n",
    "churn_df['will_churn_next_90d'] = (\n",
    "    (churn_df['cancel_date_time'] > cutoff_date) & \n",
    "    (churn_df['cancel_date_time'] <= cutoff_date + pd.Timedelta(days = 90))\n",
    ").astype(int)"
   ]
  },
  {
   "cell_type": "code",
   "execution_count": 32,
   "id": "075a0e30",
   "metadata": {
    "execution": {
     "iopub.execute_input": "2025-04-12T01:17:15.761142Z",
     "iopub.status.busy": "2025-04-12T01:17:15.760736Z",
     "iopub.status.idle": "2025-04-12T01:17:15.785840Z",
     "shell.execute_reply": "2025-04-12T01:17:15.784770Z"
    },
    "papermill": {
     "duration": 0.04037,
     "end_time": "2025-04-12T01:17:15.787733",
     "exception": false,
     "start_time": "2025-04-12T01:17:15.747363",
     "status": "completed"
    },
    "tags": []
   },
   "outputs": [
    {
     "name": "stdout",
     "output_type": "stream",
     "text": [
      "Initial EDA Check:\n",
      "Total customers with tenure < 90 days: 39692\n",
      "Churned customers in this group (any cancel date): 15581\n",
      "Initial Churn Rate for <90 days tenure: 39.25%\n"
     ]
    }
   ],
   "source": [
    "# Check customer journey\n",
    "\n",
    "initial_new_cust = churn_df[churn_df['tenure_days']<90].copy()\n",
    "initial_new_cust_count = len(initial_new_cust)\n",
    "initial_new_cust_churned_count = initial_new_cust['cancel_date_time'].notna().sum()\n",
    "initial_new_cust_churned_rate = (initial_new_cust_churned_count / initial_new_cust_count) * 100\n",
    "\n",
    "print(f\"Initial EDA Check:\")\n",
    "print(f\"Total customers with tenure < 90 days: {initial_new_cust_count}\")\n",
    "print(f\"Churned customers in this group (any cancel date): {initial_new_cust_churned_count}\")\n",
    "print(f\"Initial Churn Rate for <90 days tenure: {initial_new_cust_churned_rate:.2f}%\")\n"
   ]
  },
  {
   "cell_type": "code",
   "execution_count": 33,
   "id": "b4ce66bd",
   "metadata": {
    "execution": {
     "iopub.execute_input": "2025-04-12T01:17:15.814147Z",
     "iopub.status.busy": "2025-04-12T01:17:15.813743Z",
     "iopub.status.idle": "2025-04-12T01:17:15.838521Z",
     "shell.execute_reply": "2025-04-12T01:17:15.837401Z"
    },
    "papermill": {
     "duration": 0.040025,
     "end_time": "2025-04-12T01:17:15.840521",
     "exception": false,
     "start_time": "2025-04-12T01:17:15.800496",
     "status": "completed"
    },
    "tags": []
   },
   "outputs": [
    {
     "data": {
      "text/html": [
       "<div>\n",
       "<style scoped>\n",
       "    .dataframe tbody tr th:only-of-type {\n",
       "        vertical-align: middle;\n",
       "    }\n",
       "\n",
       "    .dataframe tbody tr th {\n",
       "        vertical-align: top;\n",
       "    }\n",
       "\n",
       "    .dataframe thead th {\n",
       "        text-align: right;\n",
       "    }\n",
       "</style>\n",
       "<table border=\"1\" class=\"dataframe\">\n",
       "  <thead>\n",
       "    <tr style=\"text-align: right;\">\n",
       "      <th></th>\n",
       "      <th>customer_id</th>\n",
       "      <th>product</th>\n",
       "      <th>signup_date_time</th>\n",
       "      <th>cancel_date_time</th>\n",
       "      <th>end_date</th>\n",
       "      <th>tenure_days</th>\n",
       "      <th>age</th>\n",
       "      <th>gender</th>\n",
       "      <th>product_id</th>\n",
       "      <th>name</th>\n",
       "      <th>...</th>\n",
       "      <th>last_case_date</th>\n",
       "      <th>days_between_cases</th>\n",
       "      <th>reasonsignup</th>\n",
       "      <th>reasonsupport</th>\n",
       "      <th>ever_contacted_support</th>\n",
       "      <th>days_since_signup</th>\n",
       "      <th>days_to_first_contact</th>\n",
       "      <th>age_group</th>\n",
       "      <th>tenure_group</th>\n",
       "      <th>will_churn_next_90d</th>\n",
       "    </tr>\n",
       "  </thead>\n",
       "  <tbody>\n",
       "    <tr>\n",
       "      <th>0</th>\n",
       "      <td>C2448</td>\n",
       "      <td>prd_1</td>\n",
       "      <td>2017-01-01 10:35:09</td>\n",
       "      <td>NaT</td>\n",
       "      <td>2022-01-01 00:00:00</td>\n",
       "      <td>1825</td>\n",
       "      <td>76</td>\n",
       "      <td>female</td>\n",
       "      <td>prd_1</td>\n",
       "      <td>annual_subscription</td>\n",
       "      <td>...</td>\n",
       "      <td>2017-01-01 10:32:03</td>\n",
       "      <td>0.0</td>\n",
       "      <td>1.0</td>\n",
       "      <td>0.0</td>\n",
       "      <td>1</td>\n",
       "      <td>1825</td>\n",
       "      <td>-1.0</td>\n",
       "      <td>75+</td>\n",
       "      <td>2yr+</td>\n",
       "      <td>0</td>\n",
       "    </tr>\n",
       "    <tr>\n",
       "      <th>1</th>\n",
       "      <td>C2449</td>\n",
       "      <td>prd_1</td>\n",
       "      <td>2017-01-01 11:39:29</td>\n",
       "      <td>2021-09-05 10:00:02</td>\n",
       "      <td>2021-09-05 10:00:02</td>\n",
       "      <td>1707</td>\n",
       "      <td>61</td>\n",
       "      <td>male</td>\n",
       "      <td>prd_1</td>\n",
       "      <td>annual_subscription</td>\n",
       "      <td>...</td>\n",
       "      <td>2017-01-01 11:35:47</td>\n",
       "      <td>0.0</td>\n",
       "      <td>1.0</td>\n",
       "      <td>0.0</td>\n",
       "      <td>1</td>\n",
       "      <td>1825</td>\n",
       "      <td>-1.0</td>\n",
       "      <td>61-75</td>\n",
       "      <td>2yr+</td>\n",
       "      <td>0</td>\n",
       "    </tr>\n",
       "    <tr>\n",
       "      <th>2</th>\n",
       "      <td>C2450</td>\n",
       "      <td>prd_1</td>\n",
       "      <td>2017-01-01 11:42:00</td>\n",
       "      <td>2019-01-13 16:24:55</td>\n",
       "      <td>2019-01-13 16:24:55</td>\n",
       "      <td>742</td>\n",
       "      <td>58</td>\n",
       "      <td>female</td>\n",
       "      <td>prd_1</td>\n",
       "      <td>annual_subscription</td>\n",
       "      <td>...</td>\n",
       "      <td>2017-01-01 11:37:09</td>\n",
       "      <td>0.0</td>\n",
       "      <td>1.0</td>\n",
       "      <td>0.0</td>\n",
       "      <td>1</td>\n",
       "      <td>1825</td>\n",
       "      <td>-1.0</td>\n",
       "      <td>46-60</td>\n",
       "      <td>2yr+</td>\n",
       "      <td>0</td>\n",
       "    </tr>\n",
       "    <tr>\n",
       "      <th>3</th>\n",
       "      <td>C2451</td>\n",
       "      <td>prd_2</td>\n",
       "      <td>2017-01-01 13:32:08</td>\n",
       "      <td>NaT</td>\n",
       "      <td>2022-01-01 00:00:00</td>\n",
       "      <td>1825</td>\n",
       "      <td>62</td>\n",
       "      <td>female</td>\n",
       "      <td>prd_2</td>\n",
       "      <td>monthly_subscription</td>\n",
       "      <td>...</td>\n",
       "      <td>2017-03-31 12:06:58</td>\n",
       "      <td>88.0</td>\n",
       "      <td>1.0</td>\n",
       "      <td>1.0</td>\n",
       "      <td>1</td>\n",
       "      <td>1825</td>\n",
       "      <td>-1.0</td>\n",
       "      <td>61-75</td>\n",
       "      <td>2yr+</td>\n",
       "      <td>0</td>\n",
       "    </tr>\n",
       "    <tr>\n",
       "      <th>4</th>\n",
       "      <td>C2452</td>\n",
       "      <td>prd_1</td>\n",
       "      <td>2017-01-01 13:57:30</td>\n",
       "      <td>2021-06-28 18:06:01</td>\n",
       "      <td>2021-06-28 18:06:01</td>\n",
       "      <td>1639</td>\n",
       "      <td>71</td>\n",
       "      <td>male</td>\n",
       "      <td>prd_1</td>\n",
       "      <td>annual_subscription</td>\n",
       "      <td>...</td>\n",
       "      <td>2017-01-01 13:52:22</td>\n",
       "      <td>0.0</td>\n",
       "      <td>1.0</td>\n",
       "      <td>0.0</td>\n",
       "      <td>1</td>\n",
       "      <td>1825</td>\n",
       "      <td>-1.0</td>\n",
       "      <td>61-75</td>\n",
       "      <td>2yr+</td>\n",
       "      <td>0</td>\n",
       "    </tr>\n",
       "  </tbody>\n",
       "</table>\n",
       "<p>5 rows × 24 columns</p>\n",
       "</div>"
      ],
      "text/plain": [
       "  customer_id product    signup_date_time    cancel_date_time  \\\n",
       "0       C2448   prd_1 2017-01-01 10:35:09                 NaT   \n",
       "1       C2449   prd_1 2017-01-01 11:39:29 2021-09-05 10:00:02   \n",
       "2       C2450   prd_1 2017-01-01 11:42:00 2019-01-13 16:24:55   \n",
       "3       C2451   prd_2 2017-01-01 13:32:08                 NaT   \n",
       "4       C2452   prd_1 2017-01-01 13:57:30 2021-06-28 18:06:01   \n",
       "\n",
       "             end_date  tenure_days  age  gender product_id  \\\n",
       "0 2022-01-01 00:00:00         1825   76  female      prd_1   \n",
       "1 2021-09-05 10:00:02         1707   61    male      prd_1   \n",
       "2 2019-01-13 16:24:55          742   58  female      prd_1   \n",
       "3 2022-01-01 00:00:00         1825   62  female      prd_2   \n",
       "4 2021-06-28 18:06:01         1639   71    male      prd_1   \n",
       "\n",
       "                   name  ...      last_case_date  days_between_cases  \\\n",
       "0   annual_subscription  ... 2017-01-01 10:32:03                 0.0   \n",
       "1   annual_subscription  ... 2017-01-01 11:35:47                 0.0   \n",
       "2   annual_subscription  ... 2017-01-01 11:37:09                 0.0   \n",
       "3  monthly_subscription  ... 2017-03-31 12:06:58                88.0   \n",
       "4   annual_subscription  ... 2017-01-01 13:52:22                 0.0   \n",
       "\n",
       "   reasonsignup reasonsupport ever_contacted_support  days_since_signup  \\\n",
       "0           1.0           0.0                      1               1825   \n",
       "1           1.0           0.0                      1               1825   \n",
       "2           1.0           0.0                      1               1825   \n",
       "3           1.0           1.0                      1               1825   \n",
       "4           1.0           0.0                      1               1825   \n",
       "\n",
       "   days_to_first_contact  age_group  tenure_group  will_churn_next_90d  \n",
       "0                   -1.0        75+          2yr+                    0  \n",
       "1                   -1.0      61-75          2yr+                    0  \n",
       "2                   -1.0      46-60          2yr+                    0  \n",
       "3                   -1.0      61-75          2yr+                    0  \n",
       "4                   -1.0      61-75          2yr+                    0  \n",
       "\n",
       "[5 rows x 24 columns]"
      ]
     },
     "execution_count": 33,
     "metadata": {},
     "output_type": "execute_result"
    }
   ],
   "source": [
    "churn_df.head()"
   ]
  },
  {
   "cell_type": "code",
   "execution_count": 34,
   "id": "13a825f5",
   "metadata": {
    "execution": {
     "iopub.execute_input": "2025-04-12T01:17:15.868858Z",
     "iopub.status.busy": "2025-04-12T01:17:15.868531Z",
     "iopub.status.idle": "2025-04-12T01:17:16.052207Z",
     "shell.execute_reply": "2025-04-12T01:17:16.051068Z"
    },
    "papermill": {
     "duration": 0.199811,
     "end_time": "2025-04-12T01:17:16.054167",
     "exception": false,
     "start_time": "2025-04-12T01:17:15.854356",
     "status": "completed"
    },
    "tags": []
   },
   "outputs": [],
   "source": [
    "modeling_df = churn_df[churn_df['signup_date_time'] < cutoff_date]\n",
    "\n",
    "modeling_df = modeling_df[\n",
    "    (modeling_df['cancel_date_time'] > cutoff_date) | \n",
    "    (modeling_df['cancel_date_time'].isna())\n",
    "]"
   ]
  },
  {
   "cell_type": "code",
   "execution_count": 35,
   "id": "74c76727",
   "metadata": {
    "execution": {
     "iopub.execute_input": "2025-04-12T01:17:16.081537Z",
     "iopub.status.busy": "2025-04-12T01:17:16.081162Z",
     "iopub.status.idle": "2025-04-12T01:17:16.117436Z",
     "shell.execute_reply": "2025-04-12T01:17:16.116394Z"
    },
    "papermill": {
     "duration": 0.052177,
     "end_time": "2025-04-12T01:17:16.119483",
     "exception": false,
     "start_time": "2025-04-12T01:17:16.067306",
     "status": "completed"
    },
    "tags": []
   },
   "outputs": [],
   "source": [
    "modeling_df['monthly_spend'] = modeling_df['price'] / modeling_df['billing_cycle']\n",
    "\n",
    "\n",
    "modeling_df['tenure_at_cutoff'] = (cutoff_date - modeling_df['signup_date_time']).dt.days\n",
    "modeling_df['tenure_months'] = (modeling_df['tenure_at_cutoff'] / 30).round()"
   ]
  },
  {
   "cell_type": "code",
   "execution_count": 36,
   "id": "d9c5dd15",
   "metadata": {
    "execution": {
     "iopub.execute_input": "2025-04-12T01:17:16.148945Z",
     "iopub.status.busy": "2025-04-12T01:17:16.148552Z",
     "iopub.status.idle": "2025-04-12T01:17:16.176614Z",
     "shell.execute_reply": "2025-04-12T01:17:16.175402Z"
    },
    "papermill": {
     "duration": 0.045599,
     "end_time": "2025-04-12T01:17:16.178630",
     "exception": false,
     "start_time": "2025-04-12T01:17:16.133031",
     "status": "completed"
    },
    "tags": []
   },
   "outputs": [
    {
     "name": "stderr",
     "output_type": "stream",
     "text": [
      "<ipython-input-36-6b9d983fe97a>:6: FutureWarning: A value is trying to be set on a copy of a DataFrame or Series through chained assignment using an inplace method.\n",
      "The behavior will change in pandas 3.0. This inplace method will never work because the intermediate object on which we are setting values always behaves as a copy.\n",
      "\n",
      "For example, when doing 'df[col].method(value, inplace=True)', try using 'df.method({col: value}, inplace=True)' or df[col] = df[col].method(value) instead, to perform the operation inplace on the original object.\n",
      "\n",
      "\n",
      "  modeling_df['support_before_cutoff'].fillna(0, inplace=True)\n"
     ]
    }
   ],
   "source": [
    "mask = modeling_df['ever_contacted_support'] == 1\n",
    "\n",
    "modeling_df.loc[mask, 'support_before_cutoff'] = (\n",
    "    modeling_df.loc[mask, 'last_case_date'] < cutoff_date\n",
    ").astype(int)\n",
    "modeling_df['support_before_cutoff'].fillna(0, inplace=True)"
   ]
  },
  {
   "cell_type": "code",
   "execution_count": 37,
   "id": "1b307bed",
   "metadata": {
    "execution": {
     "iopub.execute_input": "2025-04-12T01:17:16.207722Z",
     "iopub.status.busy": "2025-04-12T01:17:16.207356Z",
     "iopub.status.idle": "2025-04-12T01:17:16.237299Z",
     "shell.execute_reply": "2025-04-12T01:17:16.236182Z"
    },
    "papermill": {
     "duration": 0.046474,
     "end_time": "2025-04-12T01:17:16.239240",
     "exception": false,
     "start_time": "2025-04-12T01:17:16.192766",
     "status": "completed"
    },
    "tags": []
   },
   "outputs": [
    {
     "name": "stderr",
     "output_type": "stream",
     "text": [
      "<ipython-input-37-9f99fa495dc8>:5: FutureWarning: A value is trying to be set on a copy of a DataFrame or Series through chained assignment using an inplace method.\n",
      "The behavior will change in pandas 3.0. This inplace method will never work because the intermediate object on which we are setting values always behaves as a copy.\n",
      "\n",
      "For example, when doing 'df[col].method(value, inplace=True)', try using 'df.method({col: value}, inplace=True)' or df[col] = df[col].method(value) instead, to perform the operation inplace on the original object.\n",
      "\n",
      "\n",
      "  modeling_df['days_since_last_contact'].fillna(999, inplace=True)\n"
     ]
    }
   ],
   "source": [
    "mask = modeling_df['support_before_cutoff'] == 1\n",
    "modeling_df.loc[mask, 'days_since_last_contact'] = (\n",
    "    cutoff_date - modeling_df.loc[mask, 'last_case_date']\n",
    ").dt.days\n",
    "modeling_df['days_since_last_contact'].fillna(999, inplace=True)"
   ]
  },
  {
   "cell_type": "code",
   "execution_count": 38,
   "id": "49640e83",
   "metadata": {
    "execution": {
     "iopub.execute_input": "2025-04-12T01:17:16.266947Z",
     "iopub.status.busy": "2025-04-12T01:17:16.266578Z",
     "iopub.status.idle": "2025-04-12T01:17:16.297158Z",
     "shell.execute_reply": "2025-04-12T01:17:16.295951Z"
    },
    "papermill": {
     "duration": 0.046081,
     "end_time": "2025-04-12T01:17:16.298854",
     "exception": false,
     "start_time": "2025-04-12T01:17:16.252773",
     "status": "completed"
    },
    "tags": []
   },
   "outputs": [
    {
     "name": "stderr",
     "output_type": "stream",
     "text": [
      "<ipython-input-38-4b549f63ca7a>:7: FutureWarning: A value is trying to be set on a copy of a DataFrame or Series through chained assignment using an inplace method.\n",
      "The behavior will change in pandas 3.0. This inplace method will never work because the intermediate object on which we are setting values always behaves as a copy.\n",
      "\n",
      "For example, when doing 'df[col].method(value, inplace=True)', try using 'df.method({col: value}, inplace=True)' or df[col] = df[col].method(value) instead, to perform the operation inplace on the original object.\n",
      "\n",
      "\n",
      "  modeling_df['monthly_contact_rate'].fillna(0, inplace = True)\n"
     ]
    }
   ],
   "source": [
    "mask = modeling_df['ever_contacted_support'] == 1\n",
    "\n",
    "modeling_df.loc[mask, 'monthly_contact_rate'] = (\n",
    "    modeling_df.loc[mask, 'total_cases'] / (modeling_df.loc[mask, 'tenure_months'] + 1)\n",
    ")\n",
    "\n",
    "modeling_df['monthly_contact_rate'].fillna(0, inplace = True)"
   ]
  },
  {
   "cell_type": "code",
   "execution_count": 39,
   "id": "71db83e8",
   "metadata": {
    "execution": {
     "iopub.execute_input": "2025-04-12T01:17:16.327554Z",
     "iopub.status.busy": "2025-04-12T01:17:16.327213Z",
     "iopub.status.idle": "2025-04-12T01:17:16.341813Z",
     "shell.execute_reply": "2025-04-12T01:17:16.340788Z"
    },
    "papermill": {
     "duration": 0.031002,
     "end_time": "2025-04-12T01:17:16.343727",
     "exception": false,
     "start_time": "2025-04-12T01:17:16.312725",
     "status": "completed"
    },
    "tags": []
   },
   "outputs": [],
   "source": [
    "modeling_df['support_level'] = pd.cut(\n",
    "    modeling_df['monthly_contact_rate'],\n",
    "    bins = [-0.001, 0 , 0.2, 0.5, 1, float('inf')],\n",
    "    labels = ['None', 'Low', 'Medium', 'High', 'Very High']\n",
    ")"
   ]
  },
  {
   "cell_type": "code",
   "execution_count": 40,
   "id": "c329f6f8",
   "metadata": {
    "execution": {
     "iopub.execute_input": "2025-04-12T01:17:16.371369Z",
     "iopub.status.busy": "2025-04-12T01:17:16.370993Z",
     "iopub.status.idle": "2025-04-12T01:17:16.441286Z",
     "shell.execute_reply": "2025-04-12T01:17:16.440239Z"
    },
    "papermill": {
     "duration": 0.085876,
     "end_time": "2025-04-12T01:17:16.443009",
     "exception": false,
     "start_time": "2025-04-12T01:17:16.357133",
     "status": "completed"
    },
    "tags": []
   },
   "outputs": [
    {
     "name": "stderr",
     "output_type": "stream",
     "text": [
      "<ipython-input-40-882261bce8e4>:6: FutureWarning: The default of observed=False is deprecated and will be changed to True in a future version of pandas. Pass observed=False to retain current behavior or observed=True to adopt the future default and silence this warning.\n",
      "  churn_by_segment = modeling_df.groupby(segment)[target].agg(['mean', 'count'])\n",
      "<ipython-input-40-882261bce8e4>:6: FutureWarning: The default of observed=False is deprecated and will be changed to True in a future version of pandas. Pass observed=False to retain current behavior or observed=True to adopt the future default and silence this warning.\n",
      "  churn_by_segment = modeling_df.groupby(segment)[target].agg(['mean', 'count'])\n",
      "<ipython-input-40-882261bce8e4>:6: FutureWarning: The default of observed=False is deprecated and will be changed to True in a future version of pandas. Pass observed=False to retain current behavior or observed=True to adopt the future default and silence this warning.\n",
      "  churn_by_segment = modeling_df.groupby(segment)[target].agg(['mean', 'count'])\n"
     ]
    },
    {
     "name": "stdout",
     "output_type": "stream",
     "text": [
      "\n",
      "Churn rate by age_group:\n",
      "               mean   count\n",
      "age_group                  \n",
      "75+        4.382609    2875\n",
      "30-45      4.260450   24880\n",
      "46-60      4.008111  195279\n",
      "61-75      3.995778  163898\n",
      "<30        3.880597    1005\n",
      "\n",
      "Churn rate by tenure_group:\n",
      "                   mean   count\n",
      "tenure_group                   \n",
      "0-3mo         75.802998     934\n",
      "3-6mo          4.752750   37452\n",
      "1-2yr          3.925560  119881\n",
      "6-12mo         3.703624   93260\n",
      "2yr+           3.630965  136410\n",
      "\n",
      "Churn rate by support_level:\n",
      "                   mean   count\n",
      "support_level                  \n",
      "Medium         4.955527   31480\n",
      "Very High      4.945055     546\n",
      "High           4.672024    5351\n",
      "Low            4.182353  162827\n",
      "None           3.704197  187733\n",
      "\n",
      "Churn rate by product:\n",
      "             mean   count\n",
      "product                  \n",
      "prd_2    5.389810  135348\n",
      "prd_1    3.288346  252589\n"
     ]
    }
   ],
   "source": [
    "target = 'will_churn_next_90d'\n",
    "\n",
    "segments = ['age_group', 'tenure_group', 'support_level', 'product']\n",
    "\n",
    "for segment in segments:\n",
    "    churn_by_segment = modeling_df.groupby(segment)[target].agg(['mean', 'count'])\n",
    "    churn_by_segment['mean'] *= 100\n",
    "    print(f\"\\nChurn rate by {segment}:\")\n",
    "    print(churn_by_segment.sort_values('mean', ascending=False))"
   ]
  },
  {
   "cell_type": "markdown",
   "id": "cf20dcab",
   "metadata": {
    "papermill": {
     "duration": 0.012809,
     "end_time": "2025-04-12T01:17:16.469526",
     "exception": false,
     "start_time": "2025-04-12T01:17:16.456717",
     "status": "completed"
    },
    "tags": []
   },
   "source": [
    "Extremely high churn rate (76%) for customers with a tenure of 0-3 months. Might be dealing with 'onboarding cliff' in subscription businesses, could be a free trial effect, but the data does not indicate that the service offers a free trial, so I am making an assumption here. "
   ]
  },
  {
   "cell_type": "code",
   "execution_count": 41,
   "id": "8f56a01c",
   "metadata": {
    "execution": {
     "iopub.execute_input": "2025-04-12T01:17:16.497079Z",
     "iopub.status.busy": "2025-04-12T01:17:16.496671Z",
     "iopub.status.idle": "2025-04-12T01:17:16.525643Z",
     "shell.execute_reply": "2025-04-12T01:17:16.524269Z"
    },
    "papermill": {
     "duration": 0.044966,
     "end_time": "2025-04-12T01:17:16.527571",
     "exception": false,
     "start_time": "2025-04-12T01:17:16.482605",
     "status": "completed"
    },
    "tags": []
   },
   "outputs": [
    {
     "name": "stdout",
     "output_type": "stream",
     "text": [
      "                  mean  count\n",
      "tenure_weeks                 \n",
      "0             4.268293   2460\n",
      "1             4.101951   2511\n",
      "2             3.953749   2681\n",
      "3             3.834472   2634\n",
      "4             4.235727   2715\n",
      "5             3.463961   2858\n",
      "6             5.005325   2817\n",
      "7             3.766542   2947\n",
      "8             3.993344   3005\n",
      "9             4.386808   3123\n",
      "10            4.700991   3127\n",
      "11            3.773585   3180\n",
      "12            4.515522   3189\n",
      "product  tenure_weeks\n",
      "prd_1    0               3.568465\n",
      "         1               2.510121\n",
      "         2               3.403933\n",
      "         3               3.448276\n",
      "         4               3.419453\n",
      "         5               2.620087\n",
      "         6               2.964570\n",
      "         7               2.746845\n",
      "         8               2.709848\n",
      "         9               2.927478\n",
      "         10              3.715992\n",
      "         11              2.754644\n",
      "         12              3.388747\n",
      "prd_2    0               4.940239\n",
      "         1               5.642633\n",
      "         2               4.488595\n",
      "         3               4.181687\n",
      "         4               5.003574\n",
      "         5               4.245283\n",
      "         6               6.973501\n",
      "         7               4.625000\n",
      "         8               5.294906\n",
      "         9               5.740741\n",
      "         10              5.617284\n",
      "         11              4.756022\n",
      "         12              5.600000\n",
      "Name: will_churn_next_90d, dtype: float64\n"
     ]
    }
   ],
   "source": [
    "modeling_df['tenure_weeks'] = (modeling_df['tenure_at_cutoff'] / 7).astype(int)\n",
    "early_churn = modeling_df[modeling_df['tenure_at_cutoff'] < 90]\n",
    "weekly_churn = early_churn.groupby('tenure_weeks')['will_churn_next_90d'].agg(['mean','count'])\n",
    "weekly_churn['mean'] *= 100\n",
    "\n",
    "print(weekly_churn)\n",
    "\n",
    "early_product_churn = early_churn.groupby(['product', 'tenure_weeks'])['will_churn_next_90d'].mean() * 100\n",
    "\n",
    "print(early_product_churn)"
   ]
  },
  {
   "cell_type": "code",
   "execution_count": 42,
   "id": "537421e5",
   "metadata": {
    "execution": {
     "iopub.execute_input": "2025-04-12T01:17:16.555797Z",
     "iopub.status.busy": "2025-04-12T01:17:16.555424Z",
     "iopub.status.idle": "2025-04-12T01:17:16.570499Z",
     "shell.execute_reply": "2025-04-12T01:17:16.569240Z"
    },
    "papermill": {
     "duration": 0.031079,
     "end_time": "2025-04-12T01:17:16.572111",
     "exception": false,
     "start_time": "2025-04-12T01:17:16.541032",
     "status": "completed"
    },
    "tags": []
   },
   "outputs": [
    {
     "name": "stdout",
     "output_type": "stream",
     "text": [
      "Count of customers in 0-3mo group: 934\n",
      "count    934.000000\n",
      "mean      23.361884\n",
      "std       23.019626\n",
      "min        0.000000\n",
      "25%        0.000000\n",
      "50%       18.000000\n",
      "75%       39.000000\n",
      "max       89.000000\n",
      "Name: tenure_at_cutoff, dtype: float64\n",
      "Churn rate in 0-3mo group: 75.80%\n",
      "product\n",
      "prd_1    71.111111\n",
      "prd_2    78.745645\n",
      "Name: will_churn_next_90d, dtype: float64\n"
     ]
    }
   ],
   "source": [
    "tenure_check = modeling_df[modeling_df['tenure_group'] == '0-3mo']\n",
    "print(f\"Count of customers in 0-3mo group: {len(tenure_check)}\")\n",
    "\n",
    "print(tenure_check['tenure_at_cutoff'].describe())\n",
    "\n",
    "print(f\"Churn rate in 0-3mo group: {tenure_check['will_churn_next_90d'].mean()*100:.2f}%\")\n",
    "\n",
    "print(tenure_check.groupby('product')['will_churn_next_90d'].mean()*100)"
   ]
  },
  {
   "cell_type": "markdown",
   "id": "f04b66bb",
   "metadata": {
    "papermill": {
     "duration": 0.013272,
     "end_time": "2025-04-12T01:17:16.599169",
     "exception": false,
     "start_time": "2025-04-12T01:17:16.585897",
     "status": "completed"
    },
    "tags": []
   },
   "source": [
    "We have 934 customers who joined less than 3 months before the cutoff date. On average, these customers are only subscribed for 23 days. Half of them (median) have been customers for 18 days or less. 75% of the customers will cancel within the next 90 days. This is much higher than other tenure groups' 3-5% churn rate. There is also a difference in monthly subscribers (78.7%) who are more likely to churn compared to annual customers (71.1%)\n",
    "\n",
    "If we were to acquire 100 customers, ~75 would leave within the first 3 months. A large amount of leakage happening in the initial stages of the subscription signup\n",
    "\n",
    "The customer journey pattern seems to be Signup -> [Critical 3-month decision period] -> Stable Relationship"
   ]
  },
  {
   "cell_type": "markdown",
   "id": "f30deedf",
   "metadata": {
    "papermill": {
     "duration": 0.014753,
     "end_time": "2025-04-12T01:17:16.627474",
     "exception": false,
     "start_time": "2025-04-12T01:17:16.612721",
     "status": "completed"
    },
    "tags": []
   },
   "source": [
    "Given these dramatic differences, the best approach is segment-based modeling, particularly separating new customers from established ones "
   ]
  },
  {
   "cell_type": "code",
   "execution_count": 43,
   "id": "82261234",
   "metadata": {
    "execution": {
     "iopub.execute_input": "2025-04-12T01:17:16.655997Z",
     "iopub.status.busy": "2025-04-12T01:17:16.655624Z",
     "iopub.status.idle": "2025-04-12T01:17:16.661084Z",
     "shell.execute_reply": "2025-04-12T01:17:16.660049Z"
    },
    "papermill": {
     "duration": 0.021572,
     "end_time": "2025-04-12T01:17:16.662730",
     "exception": false,
     "start_time": "2025-04-12T01:17:16.641158",
     "status": "completed"
    },
    "tags": []
   },
   "outputs": [],
   "source": [
    "modeling_df['new_customer'] = modeling_df['tenure_at_cutoff'] < 90 # 0-3 months"
   ]
  },
  {
   "cell_type": "code",
   "execution_count": 44,
   "id": "675dc2ef",
   "metadata": {
    "execution": {
     "iopub.execute_input": "2025-04-12T01:17:16.691231Z",
     "iopub.status.busy": "2025-04-12T01:17:16.690807Z",
     "iopub.status.idle": "2025-04-12T01:17:16.777703Z",
     "shell.execute_reply": "2025-04-12T01:17:16.776538Z"
    },
    "papermill": {
     "duration": 0.102871,
     "end_time": "2025-04-12T01:17:16.779427",
     "exception": false,
     "start_time": "2025-04-12T01:17:16.676556",
     "status": "completed"
    },
    "tags": []
   },
   "outputs": [
    {
     "name": "stdout",
     "output_type": "stream",
     "text": [
      "New customers: 37247 (9.6%)\n",
      "Established customers: 350690 (90.4%) \n"
     ]
    }
   ],
   "source": [
    "new_customer_df = modeling_df[modeling_df['new_customer']]\n",
    "established_customer_df = modeling_df[~modeling_df['new_customer']]\n",
    "\n",
    "print(f\"New customers: {len(new_customer_df)} ({len(new_customer_df)/len(modeling_df):.1%})\")\n",
    "print(f\"Established customers: {len(established_customer_df)} ({len(established_customer_df)/len(modeling_df):.1%}) \")"
   ]
  },
  {
   "cell_type": "markdown",
   "id": "d5b48861",
   "metadata": {
    "papermill": {
     "duration": 0.013038,
     "end_time": "2025-04-12T01:17:16.806240",
     "exception": false,
     "start_time": "2025-04-12T01:17:16.793202",
     "status": "completed"
    },
    "tags": []
   },
   "source": [
    "Dealing with a significant class imbalance here - Will need feature engineering for each segment and then build separate models"
   ]
  },
  {
   "cell_type": "code",
   "execution_count": 45,
   "id": "51955f2b",
   "metadata": {
    "execution": {
     "iopub.execute_input": "2025-04-12T01:17:16.834213Z",
     "iopub.status.busy": "2025-04-12T01:17:16.833784Z",
     "iopub.status.idle": "2025-04-12T01:17:16.838055Z",
     "shell.execute_reply": "2025-04-12T01:17:16.837060Z"
    },
    "papermill": {
     "duration": 0.020084,
     "end_time": "2025-04-12T01:17:16.839721",
     "exception": false,
     "start_time": "2025-04-12T01:17:16.819637",
     "status": "completed"
    },
    "tags": []
   },
   "outputs": [],
   "source": [
    "# New customers \n",
    "new_features = [\n",
    "    'product',\n",
    "    'days_since_signup',\n",
    "    'ever_contacted_support',\n",
    "    'total_cases',\n",
    "    'age',\n",
    "    'gender',\n",
    "    'signup_month',\n",
    "    'signup_day_of_week'\n",
    "]"
   ]
  },
  {
   "cell_type": "code",
   "execution_count": 46,
   "id": "aba9d943",
   "metadata": {
    "execution": {
     "iopub.execute_input": "2025-04-12T01:17:16.868665Z",
     "iopub.status.busy": "2025-04-12T01:17:16.868299Z",
     "iopub.status.idle": "2025-04-12T01:17:16.878106Z",
     "shell.execute_reply": "2025-04-12T01:17:16.876977Z"
    },
    "papermill": {
     "duration": 0.026401,
     "end_time": "2025-04-12T01:17:16.880047",
     "exception": false,
     "start_time": "2025-04-12T01:17:16.853646",
     "status": "completed"
    },
    "tags": []
   },
   "outputs": [
    {
     "name": "stderr",
     "output_type": "stream",
     "text": [
      "<ipython-input-46-e397c9cf092d>:1: SettingWithCopyWarning: \n",
      "A value is trying to be set on a copy of a slice from a DataFrame.\n",
      "Try using .loc[row_indexer,col_indexer] = value instead\n",
      "\n",
      "See the caveats in the documentation: https://pandas.pydata.org/pandas-docs/stable/user_guide/indexing.html#returning-a-view-versus-a-copy\n",
      "  new_customer_df['signup_day_of_week'] = new_customer_df['signup_date_time'].dt.dayofweek\n",
      "<ipython-input-46-e397c9cf092d>:2: SettingWithCopyWarning: \n",
      "A value is trying to be set on a copy of a slice from a DataFrame.\n",
      "Try using .loc[row_indexer,col_indexer] = value instead\n",
      "\n",
      "See the caveats in the documentation: https://pandas.pydata.org/pandas-docs/stable/user_guide/indexing.html#returning-a-view-versus-a-copy\n",
      "  new_customer_df['signup_month'] = new_customer_df['signup_date_time'].dt.month\n"
     ]
    }
   ],
   "source": [
    "new_customer_df['signup_day_of_week'] = new_customer_df['signup_date_time'].dt.dayofweek\n",
    "new_customer_df['signup_month'] = new_customer_df['signup_date_time'].dt.month"
   ]
  },
  {
   "cell_type": "code",
   "execution_count": 47,
   "id": "1a8bd21c",
   "metadata": {
    "execution": {
     "iopub.execute_input": "2025-04-12T01:17:16.909363Z",
     "iopub.status.busy": "2025-04-12T01:17:16.909030Z",
     "iopub.status.idle": "2025-04-12T01:17:17.536801Z",
     "shell.execute_reply": "2025-04-12T01:17:17.535614Z"
    },
    "papermill": {
     "duration": 0.644537,
     "end_time": "2025-04-12T01:17:17.538633",
     "exception": false,
     "start_time": "2025-04-12T01:17:16.894096",
     "status": "completed"
    },
    "tags": []
   },
   "outputs": [
    {
     "name": "stderr",
     "output_type": "stream",
     "text": [
      "<ipython-input-47-55b5dc598253>:1: SettingWithCopyWarning: \n",
      "A value is trying to be set on a copy of a slice from a DataFrame.\n",
      "Try using .loc[row_indexer,col_indexer] = value instead\n",
      "\n",
      "See the caveats in the documentation: https://pandas.pydata.org/pandas-docs/stable/user_guide/indexing.html#returning-a-view-versus-a-copy\n",
      "  new_customer_df['days_to_first_contact'] = new_customer_df.apply(\n"
     ]
    }
   ],
   "source": [
    "new_customer_df['days_to_first_contact'] = new_customer_df.apply(\n",
    "    lambda x: (x['first_case_date'] - x['signup_date_time']).days\n",
    "    if x['ever_contacted_support'] == 1 else -1, axis = 1\n",
    ")"
   ]
  },
  {
   "cell_type": "code",
   "execution_count": 48,
   "id": "3c8261a6",
   "metadata": {
    "execution": {
     "iopub.execute_input": "2025-04-12T01:17:17.568087Z",
     "iopub.status.busy": "2025-04-12T01:17:17.567678Z",
     "iopub.status.idle": "2025-04-12T01:17:17.580287Z",
     "shell.execute_reply": "2025-04-12T01:17:17.579139Z"
    },
    "papermill": {
     "duration": 0.029549,
     "end_time": "2025-04-12T01:17:17.582309",
     "exception": false,
     "start_time": "2025-04-12T01:17:17.552760",
     "status": "completed"
    },
    "tags": []
   },
   "outputs": [
    {
     "name": "stderr",
     "output_type": "stream",
     "text": [
      "<ipython-input-48-affe35d5660a>:3: SettingWithCopyWarning: \n",
      "A value is trying to be set on a copy of a slice from a DataFrame.\n",
      "Try using .loc[row_indexer,col_indexer] = value instead\n",
      "\n",
      "See the caveats in the documentation: https://pandas.pydata.org/pandas-docs/stable/user_guide/indexing.html#returning-a-view-versus-a-copy\n",
      "  established_customer_df['billing_cycles_completed'] = (\n",
      "<ipython-input-48-affe35d5660a>:7: SettingWithCopyWarning: \n",
      "A value is trying to be set on a copy of a slice from a DataFrame.\n",
      "Try using .loc[row_indexer,col_indexer] = value instead\n",
      "\n",
      "See the caveats in the documentation: https://pandas.pydata.org/pandas-docs/stable/user_guide/indexing.html#returning-a-view-versus-a-copy\n",
      "  established_customer_df['recent_support'] = (\n"
     ]
    }
   ],
   "source": [
    "# Established customers \n",
    "\n",
    "established_customer_df['billing_cycles_completed'] = (\n",
    "    established_customer_df['tenure_days'] / (established_customer_df['billing_cycle'] * 30).astype(int)  \n",
    ")\n",
    "\n",
    "established_customer_df['recent_support'] = (\n",
    "    established_customer_df['days_since_last_contact'] < 30).astype(int)\n",
    "\n",
    "established_features = [\n",
    "    'tenure_group',\n",
    "    'product',\n",
    "    'support_level',\n",
    "    'days_since_last_contact',\n",
    "    'monthly_contact_rate',\n",
    "    'price',\n",
    "    'billing_cycle',\n",
    "    'age_group',\n",
    "    'gender',\n",
    "    'billing_cycles_completed',\n",
    "    'recent_support'\n",
    "]\n"
   ]
  },
  {
   "cell_type": "code",
   "execution_count": 49,
   "id": "73306124",
   "metadata": {
    "execution": {
     "iopub.execute_input": "2025-04-12T01:17:17.612008Z",
     "iopub.status.busy": "2025-04-12T01:17:17.611613Z",
     "iopub.status.idle": "2025-04-12T01:17:19.424713Z",
     "shell.execute_reply": "2025-04-12T01:17:19.423581Z"
    },
    "papermill": {
     "duration": 1.829958,
     "end_time": "2025-04-12T01:17:19.426397",
     "exception": false,
     "start_time": "2025-04-12T01:17:17.596439",
     "status": "completed"
    },
    "tags": []
   },
   "outputs": [
    {
     "name": "stdout",
     "output_type": "stream",
     "text": [
      "New customer churn rate:  4.1587%\n",
      "Using class weights for new model: {0: 1, 1: 3}\n"
     ]
    },
    {
     "data": {
      "text/html": [
       "<style>#sk-container-id-1 {color: black;background-color: white;}#sk-container-id-1 pre{padding: 0;}#sk-container-id-1 div.sk-toggleable {background-color: white;}#sk-container-id-1 label.sk-toggleable__label {cursor: pointer;display: block;width: 100%;margin-bottom: 0;padding: 0.3em;box-sizing: border-box;text-align: center;}#sk-container-id-1 label.sk-toggleable__label-arrow:before {content: \"▸\";float: left;margin-right: 0.25em;color: #696969;}#sk-container-id-1 label.sk-toggleable__label-arrow:hover:before {color: black;}#sk-container-id-1 div.sk-estimator:hover label.sk-toggleable__label-arrow:before {color: black;}#sk-container-id-1 div.sk-toggleable__content {max-height: 0;max-width: 0;overflow: hidden;text-align: left;background-color: #f0f8ff;}#sk-container-id-1 div.sk-toggleable__content pre {margin: 0.2em;color: black;border-radius: 0.25em;background-color: #f0f8ff;}#sk-container-id-1 input.sk-toggleable__control:checked~div.sk-toggleable__content {max-height: 200px;max-width: 100%;overflow: auto;}#sk-container-id-1 input.sk-toggleable__control:checked~label.sk-toggleable__label-arrow:before {content: \"▾\";}#sk-container-id-1 div.sk-estimator input.sk-toggleable__control:checked~label.sk-toggleable__label {background-color: #d4ebff;}#sk-container-id-1 div.sk-label input.sk-toggleable__control:checked~label.sk-toggleable__label {background-color: #d4ebff;}#sk-container-id-1 input.sk-hidden--visually {border: 0;clip: rect(1px 1px 1px 1px);clip: rect(1px, 1px, 1px, 1px);height: 1px;margin: -1px;overflow: hidden;padding: 0;position: absolute;width: 1px;}#sk-container-id-1 div.sk-estimator {font-family: monospace;background-color: #f0f8ff;border: 1px dotted black;border-radius: 0.25em;box-sizing: border-box;margin-bottom: 0.5em;}#sk-container-id-1 div.sk-estimator:hover {background-color: #d4ebff;}#sk-container-id-1 div.sk-parallel-item::after {content: \"\";width: 100%;border-bottom: 1px solid gray;flex-grow: 1;}#sk-container-id-1 div.sk-label:hover label.sk-toggleable__label {background-color: #d4ebff;}#sk-container-id-1 div.sk-serial::before {content: \"\";position: absolute;border-left: 1px solid gray;box-sizing: border-box;top: 0;bottom: 0;left: 50%;z-index: 0;}#sk-container-id-1 div.sk-serial {display: flex;flex-direction: column;align-items: center;background-color: white;padding-right: 0.2em;padding-left: 0.2em;position: relative;}#sk-container-id-1 div.sk-item {position: relative;z-index: 1;}#sk-container-id-1 div.sk-parallel {display: flex;align-items: stretch;justify-content: center;background-color: white;position: relative;}#sk-container-id-1 div.sk-item::before, #sk-container-id-1 div.sk-parallel-item::before {content: \"\";position: absolute;border-left: 1px solid gray;box-sizing: border-box;top: 0;bottom: 0;left: 50%;z-index: -1;}#sk-container-id-1 div.sk-parallel-item {display: flex;flex-direction: column;z-index: 1;position: relative;background-color: white;}#sk-container-id-1 div.sk-parallel-item:first-child::after {align-self: flex-end;width: 50%;}#sk-container-id-1 div.sk-parallel-item:last-child::after {align-self: flex-start;width: 50%;}#sk-container-id-1 div.sk-parallel-item:only-child::after {width: 0;}#sk-container-id-1 div.sk-dashed-wrapped {border: 1px dashed gray;margin: 0 0.4em 0.5em 0.4em;box-sizing: border-box;padding-bottom: 0.4em;background-color: white;}#sk-container-id-1 div.sk-label label {font-family: monospace;font-weight: bold;display: inline-block;line-height: 1.2em;}#sk-container-id-1 div.sk-label-container {text-align: center;}#sk-container-id-1 div.sk-container {/* jupyter's `normalize.less` sets `[hidden] { display: none; }` but bootstrap.min.css set `[hidden] { display: none !important; }` so we also need the `!important` here to be able to override the default hidden behavior on the sphinx rendered scikit-learn.org. See: https://github.com/scikit-learn/scikit-learn/issues/21755 */display: inline-block !important;position: relative;}#sk-container-id-1 div.sk-text-repr-fallback {display: none;}</style><div id=\"sk-container-id-1\" class=\"sk-top-container\"><div class=\"sk-text-repr-fallback\"><pre>RandomForestClassifier(class_weight={0: 1, 1: 3}, random_state=0)</pre><b>In a Jupyter environment, please rerun this cell to show the HTML representation or trust the notebook. <br />On GitHub, the HTML representation is unable to render, please try loading this page with nbviewer.org.</b></div><div class=\"sk-container\" hidden><div class=\"sk-item\"><div class=\"sk-estimator sk-toggleable\"><input class=\"sk-toggleable__control sk-hidden--visually\" id=\"sk-estimator-id-1\" type=\"checkbox\" checked><label for=\"sk-estimator-id-1\" class=\"sk-toggleable__label sk-toggleable__label-arrow\">RandomForestClassifier</label><div class=\"sk-toggleable__content\"><pre>RandomForestClassifier(class_weight={0: 1, 1: 3}, random_state=0)</pre></div></div></div></div></div>"
      ],
      "text/plain": [
       "RandomForestClassifier(class_weight={0: 1, 1: 3}, random_state=0)"
      ]
     },
     "execution_count": 49,
     "metadata": {},
     "output_type": "execute_result"
    }
   ],
   "source": [
    "from sklearn.ensemble import RandomForestClassifier\n",
    "from sklearn.model_selection import train_test_split\n",
    "\n",
    "X_new = new_customer_df[new_features]\n",
    "y_new = new_customer_df['will_churn_next_90d']\n",
    "\n",
    "X_new = pd.get_dummies(X_new, drop_first=True)\n",
    "   \n",
    "X_train, X_test, y_train, y_test = train_test_split(\n",
    "    X_new, y_new, test_size = 0.20, random_state = 0, stratify = y_new\n",
    ")\n",
    "new_churn_rate = y_new.mean()\n",
    "print(f\"New customer churn rate: {new_churn_rate: .4%}\")\n",
    "weights_new = {0:1, 1:3} # Non-churners get 3x the weight\n",
    "print(f\"Using class weights for new model: {weights_new}\")\n",
    "\n",
    "new_model = RandomForestClassifier(n_estimators = 100, class_weight = weights_new, random_state = 0)\n",
    "new_model.fit(X_train, y_train)"
   ]
  },
  {
   "cell_type": "code",
   "execution_count": 50,
   "id": "6526066c",
   "metadata": {
    "execution": {
     "iopub.execute_input": "2025-04-12T01:17:19.456044Z",
     "iopub.status.busy": "2025-04-12T01:17:19.455654Z",
     "iopub.status.idle": "2025-04-12T01:17:56.191311Z",
     "shell.execute_reply": "2025-04-12T01:17:56.190240Z"
    },
    "papermill": {
     "duration": 36.766014,
     "end_time": "2025-04-12T01:17:56.206805",
     "exception": false,
     "start_time": "2025-04-12T01:17:19.440791",
     "status": "completed"
    },
    "tags": []
   },
   "outputs": [
    {
     "name": "stdout",
     "output_type": "stream",
     "text": [
      "Established customer churn rate:  4.01%\n",
      "Using class weights for established model: {0: 1, 1: 5}\n"
     ]
    },
    {
     "data": {
      "text/html": [
       "<style>#sk-container-id-2 {color: black;background-color: white;}#sk-container-id-2 pre{padding: 0;}#sk-container-id-2 div.sk-toggleable {background-color: white;}#sk-container-id-2 label.sk-toggleable__label {cursor: pointer;display: block;width: 100%;margin-bottom: 0;padding: 0.3em;box-sizing: border-box;text-align: center;}#sk-container-id-2 label.sk-toggleable__label-arrow:before {content: \"▸\";float: left;margin-right: 0.25em;color: #696969;}#sk-container-id-2 label.sk-toggleable__label-arrow:hover:before {color: black;}#sk-container-id-2 div.sk-estimator:hover label.sk-toggleable__label-arrow:before {color: black;}#sk-container-id-2 div.sk-toggleable__content {max-height: 0;max-width: 0;overflow: hidden;text-align: left;background-color: #f0f8ff;}#sk-container-id-2 div.sk-toggleable__content pre {margin: 0.2em;color: black;border-radius: 0.25em;background-color: #f0f8ff;}#sk-container-id-2 input.sk-toggleable__control:checked~div.sk-toggleable__content {max-height: 200px;max-width: 100%;overflow: auto;}#sk-container-id-2 input.sk-toggleable__control:checked~label.sk-toggleable__label-arrow:before {content: \"▾\";}#sk-container-id-2 div.sk-estimator input.sk-toggleable__control:checked~label.sk-toggleable__label {background-color: #d4ebff;}#sk-container-id-2 div.sk-label input.sk-toggleable__control:checked~label.sk-toggleable__label {background-color: #d4ebff;}#sk-container-id-2 input.sk-hidden--visually {border: 0;clip: rect(1px 1px 1px 1px);clip: rect(1px, 1px, 1px, 1px);height: 1px;margin: -1px;overflow: hidden;padding: 0;position: absolute;width: 1px;}#sk-container-id-2 div.sk-estimator {font-family: monospace;background-color: #f0f8ff;border: 1px dotted black;border-radius: 0.25em;box-sizing: border-box;margin-bottom: 0.5em;}#sk-container-id-2 div.sk-estimator:hover {background-color: #d4ebff;}#sk-container-id-2 div.sk-parallel-item::after {content: \"\";width: 100%;border-bottom: 1px solid gray;flex-grow: 1;}#sk-container-id-2 div.sk-label:hover label.sk-toggleable__label {background-color: #d4ebff;}#sk-container-id-2 div.sk-serial::before {content: \"\";position: absolute;border-left: 1px solid gray;box-sizing: border-box;top: 0;bottom: 0;left: 50%;z-index: 0;}#sk-container-id-2 div.sk-serial {display: flex;flex-direction: column;align-items: center;background-color: white;padding-right: 0.2em;padding-left: 0.2em;position: relative;}#sk-container-id-2 div.sk-item {position: relative;z-index: 1;}#sk-container-id-2 div.sk-parallel {display: flex;align-items: stretch;justify-content: center;background-color: white;position: relative;}#sk-container-id-2 div.sk-item::before, #sk-container-id-2 div.sk-parallel-item::before {content: \"\";position: absolute;border-left: 1px solid gray;box-sizing: border-box;top: 0;bottom: 0;left: 50%;z-index: -1;}#sk-container-id-2 div.sk-parallel-item {display: flex;flex-direction: column;z-index: 1;position: relative;background-color: white;}#sk-container-id-2 div.sk-parallel-item:first-child::after {align-self: flex-end;width: 50%;}#sk-container-id-2 div.sk-parallel-item:last-child::after {align-self: flex-start;width: 50%;}#sk-container-id-2 div.sk-parallel-item:only-child::after {width: 0;}#sk-container-id-2 div.sk-dashed-wrapped {border: 1px dashed gray;margin: 0 0.4em 0.5em 0.4em;box-sizing: border-box;padding-bottom: 0.4em;background-color: white;}#sk-container-id-2 div.sk-label label {font-family: monospace;font-weight: bold;display: inline-block;line-height: 1.2em;}#sk-container-id-2 div.sk-label-container {text-align: center;}#sk-container-id-2 div.sk-container {/* jupyter's `normalize.less` sets `[hidden] { display: none; }` but bootstrap.min.css set `[hidden] { display: none !important; }` so we also need the `!important` here to be able to override the default hidden behavior on the sphinx rendered scikit-learn.org. See: https://github.com/scikit-learn/scikit-learn/issues/21755 */display: inline-block !important;position: relative;}#sk-container-id-2 div.sk-text-repr-fallback {display: none;}</style><div id=\"sk-container-id-2\" class=\"sk-top-container\"><div class=\"sk-text-repr-fallback\"><pre>RandomForestClassifier(class_weight={0: 1, 1: 5}, random_state=0)</pre><b>In a Jupyter environment, please rerun this cell to show the HTML representation or trust the notebook. <br />On GitHub, the HTML representation is unable to render, please try loading this page with nbviewer.org.</b></div><div class=\"sk-container\" hidden><div class=\"sk-item\"><div class=\"sk-estimator sk-toggleable\"><input class=\"sk-toggleable__control sk-hidden--visually\" id=\"sk-estimator-id-2\" type=\"checkbox\" checked><label for=\"sk-estimator-id-2\" class=\"sk-toggleable__label sk-toggleable__label-arrow\">RandomForestClassifier</label><div class=\"sk-toggleable__content\"><pre>RandomForestClassifier(class_weight={0: 1, 1: 5}, random_state=0)</pre></div></div></div></div></div>"
      ],
      "text/plain": [
       "RandomForestClassifier(class_weight={0: 1, 1: 5}, random_state=0)"
      ]
     },
     "execution_count": 50,
     "metadata": {},
     "output_type": "execute_result"
    }
   ],
   "source": [
    "X_established = established_customer_df[established_features]\n",
    "y_established = established_customer_df['will_churn_next_90d']\n",
    "\n",
    "X_established = pd.get_dummies(X_established, drop_first = True, dummy_na = False)\n",
    "\n",
    "X_train_est, X_test_est, y_train_est, y_test_est = train_test_split(\n",
    "    X_established, y_established,\n",
    "    test_size = 0.20,\n",
    "    random_state = 0,\n",
    "    stratify = y_established\n",
    ")\n",
    "\n",
    "established_churn_rate = y_established.mean()\n",
    "print(f\"Established customer churn rate: {established_churn_rate: .2%}\")\n",
    "weight_est = {0:1,1:5}\n",
    "print(f\"Using class weights for established model: {weight_est}\")\n",
    "\n",
    "established_model = RandomForestClassifier(n_estimators=100,\n",
    "                                          class_weight = weight_est,\n",
    "                                          random_state = 0)\n",
    "\n",
    "established_model.fit(X_train_est, y_train_est)"
   ]
  },
  {
   "cell_type": "code",
   "execution_count": 51,
   "id": "482d37ea",
   "metadata": {
    "execution": {
     "iopub.execute_input": "2025-04-12T01:17:56.241000Z",
     "iopub.status.busy": "2025-04-12T01:17:56.240624Z",
     "iopub.status.idle": "2025-04-12T01:18:02.219001Z",
     "shell.execute_reply": "2025-04-12T01:18:02.217776Z"
    },
    "papermill": {
     "duration": 5.996754,
     "end_time": "2025-04-12T01:18:02.220666",
     "exception": false,
     "start_time": "2025-04-12T01:17:56.223912",
     "status": "completed"
    },
    "tags": []
   },
   "outputs": [
    {
     "name": "stdout",
     "output_type": "stream",
     "text": [
      "Evaluating New Customer Model (Random Forest Baseline)...\n",
      "Evaluation Report for New Customer RF\n",
      "              precision    recall  f1-score   support\n",
      "\n",
      "No Churn (0)       0.96      0.97      0.97      7140\n",
      "   Churn (1)       0.06      0.04      0.05       310\n",
      "\n",
      "    accuracy                           0.93      7450\n",
      "   macro avg       0.51      0.51      0.51      7450\n",
      "weighted avg       0.92      0.93      0.93      7450\n",
      "\n",
      "ROC AUC Score: 0.5414\n",
      "Precision-Recall Curve AUC (PRC AUC): 0.0481\n",
      "\n",
      " Confusion Matrix:\n"
     ]
    },
    {
     "data": {
      "image/png": "[encoded data removed]",
      "text/plain": [
       "<Figure size 600x400 with 2 Axes>"
      ]
     },
     "metadata": {},
     "output_type": "display_data"
    },
    {
     "name": "stdout",
     "output_type": "stream",
     "text": [
      "\n",
      "\n",
      "Evaluating Established Customer Model (Random Forest Baseline) ...\n",
      "Evaluation Report for Established Customer RF\n",
      "              precision    recall  f1-score   support\n",
      "\n",
      "No Churn (0)       0.97      0.99      0.98     67328\n",
      "   Churn (1)       0.59      0.32      0.42      2810\n",
      "\n",
      "    accuracy                           0.96     70138\n",
      "   macro avg       0.78      0.66      0.70     70138\n",
      "weighted avg       0.96      0.96      0.96     70138\n",
      "\n",
      "ROC AUC Score: 0.7615\n",
      "Precision-Recall Curve AUC (PRC AUC): 0.4083\n",
      "\n",
      " Confusion Matrix:\n"
     ]
    },
    {
     "data": {
      "image/png": "[encoded data removed]",
      "text/plain": [
       "<Figure size 600x400 with 2 Axes>"
      ]
     },
     "metadata": {},
     "output_type": "display_data"
    },
    {
     "name": "stdout",
     "output_type": "stream",
     "text": [
      "\n"
     ]
    }
   ],
   "source": [
    "from sklearn.metrics import (classification_report, roc_auc_score,\n",
    "                            confusion_matrix, precision_recall_curve, auc,\n",
    "                            f1_score, precision_score, recall_score)\n",
    "\n",
    "import matplotlib.pyplot as plt\n",
    "import seaborn as sns\n",
    "\n",
    "def evaluate_model(model, X_test, y_test, model_name = \"Model\"):\n",
    "    y_pred = model.predict(X_test)\n",
    "    y_prob = model.predict_proba(X_test)[:,1]\n",
    "\n",
    "    print(f'Evaluation Report for {model_name}')\n",
    "    print(classification_report(y_test, y_pred, target_names = ['No Churn (0)', 'Churn (1)']))\n",
    "\n",
    "    roc_auc = roc_auc_score(y_test, y_prob)\n",
    "    print(f'ROC AUC Score: {roc_auc:.4f}')\n",
    "\n",
    "    precision, recall, _ = precision_recall_curve(y_test, y_prob)\n",
    "    prc_auc = auc(recall, precision)\n",
    "    print(f'Precision-Recall Curve AUC (PRC AUC): {prc_auc:.4f}')\n",
    "\n",
    "    cm = confusion_matrix(y_test, y_pred)\n",
    "    print(\"\\n Confusion Matrix:\")\n",
    "\n",
    "    plt.figure(figsize = (6,4))\n",
    "    sns.heatmap(cm, annot = True, fmt='d', cmap='Blues',\n",
    "               xticklabels = ['Predicted No Churn', 'Predicted Churn'],\n",
    "               yticklabels = ['Actual No Churn', 'Actual Churn'])\n",
    "    plt.title(f'Confusion Matrix - {model_name}')\n",
    "    plt.ylabel('Actual Label')\n",
    "    plt.xlabel('Predicted Label')\n",
    "    plt.show()\n",
    "\n",
    "    print(\"\"* (len(model_name) +24))\n",
    "\n",
    "    return {\n",
    "        'roc_auc': roc_auc,\n",
    "        'prc_auc': prc_auc,\n",
    "        'f1_churn': f1_score(y_test, y_pred, pos_label=1),\n",
    "        'recall_churn': recall_score(y_test, y_pred, pos_label=1),\n",
    "        'precision_churn': precision_score(y_test, y_pred, pos_label=1)\n",
    "    }\n",
    "\n",
    "print(\"Evaluating New Customer Model (Random Forest Baseline)...\")\n",
    "new_model_metrics = evaluate_model(new_model, X_test, y_test, 'New Customer RF')\n",
    "\n",
    "print(\"\\nEvaluating Established Customer Model (Random Forest Baseline) ...\")\n",
    "established_model_metrics = evaluate_model(established_model, X_test_est, y_test_est, \"Established Customer RF\")\n",
    "\n",
    "baseline_metrics = {\n",
    "    'New RF': new_model_metrics,\n",
    "    'Established RF': established_model_metrics\n",
    "}"
   ]
  },
  {
   "cell_type": "code",
   "execution_count": 52,
   "id": "d14d7f20",
   "metadata": {
    "execution": {
     "iopub.execute_input": "2025-04-12T01:18:02.256249Z",
     "iopub.status.busy": "2025-04-12T01:18:02.255556Z",
     "iopub.status.idle": "2025-04-12T01:18:04.834005Z",
     "shell.execute_reply": "2025-04-12T01:18:04.831877Z"
    },
    "papermill": {
     "duration": 2.598668,
     "end_time": "2025-04-12T01:18:04.836049",
     "exception": false,
     "start_time": "2025-04-12T01:18:02.237381",
     "status": "completed"
    },
    "tags": []
   },
   "outputs": [
    {
     "name": "stdout",
     "output_type": "stream",
     "text": [
      "\n",
      "Calculated scale_pos_weight for Established XGBoost: 23.96\n",
      "\n",
      "Training default XGBoost model for Established Customers...\n"
     ]
    },
    {
     "name": "stderr",
     "output_type": "stream",
     "text": [
      "/usr/local/lib/python3.10/dist-packages/xgboost/core.py:160: UserWarning: [01:18:02] WARNING: /workspace/src/learner.cc:742: \n",
      "Parameters: { \"objectives\" } are not used.\n",
      "\n",
      "  warnings.warn(smsg, UserWarning)\n"
     ]
    },
    {
     "name": "stdout",
     "output_type": "stream",
     "text": [
      "\n",
      "Evaluating Established Customer Model (XGBoost Default)...\n",
      "Evaluation Report for Established Customer XGB\n",
      "              precision    recall  f1-score   support\n",
      "\n",
      "No Churn (0)       0.98      0.86      0.92     67328\n",
      "   Churn (1)       0.15      0.59      0.24      2810\n",
      "\n",
      "    accuracy                           0.85     70138\n",
      "   macro avg       0.57      0.73      0.58     70138\n",
      "weighted avg       0.95      0.85      0.89     70138\n",
      "\n",
      "ROC AUC Score: 0.8201\n",
      "Precision-Recall Curve AUC (PRC AUC): 0.4760\n",
      "\n",
      " Confusion Matrix:\n"
     ]
    },
    {
     "data": {
      "image/png": "[encoded data removed]",
      "text/plain": [
       "<Figure size 600x400 with 2 Axes>"
      ]
     },
     "metadata": {},
     "output_type": "display_data"
    },
    {
     "name": "stdout",
     "output_type": "stream",
     "text": [
      "\n"
     ]
    }
   ],
   "source": [
    "# XGBoost\n",
    "\n",
    "neg_count_est = (y_train_est == 0).sum()\n",
    "pos_count_est = (y_train_est == 1).sum()\n",
    "scale_pos_weight_est = neg_count_est / pos_count_est\n",
    "print(f'\\nCalculated scale_pos_weight for Established XGBoost: {scale_pos_weight_est:.2f}')\n",
    "\n",
    "xgb_model_est = xgb.XGBClassifier(\n",
    "    objectives = 'binary:logistic',\n",
    "    eval_metric = 'logloss',\n",
    "    use_label_encoder = False,\n",
    "    scale_pos_weight = scale_pos_weight_est,\n",
    "    random_state = 0\n",
    ")\n",
    "\n",
    "print('\\nTraining default XGBoost model for Established Customers...')\n",
    "xgb_model_est.fit(X_train_est, y_train_est)\n",
    "\n",
    "print('\\nEvaluating Established Customer Model (XGBoost Default)...')\n",
    "xgb_est_metrics = evaluate_model(xgb_model_est, X_test_est, y_test_est, 'Established Customer XGB')"
   ]
  },
  {
   "cell_type": "code",
   "execution_count": null,
   "id": "c4238b44",
   "metadata": {
    "papermill": {
     "duration": 0.017478,
     "end_time": "2025-04-12T01:18:04.871545",
     "exception": false,
     "start_time": "2025-04-12T01:18:04.854067",
     "status": "completed"
    },
    "tags": []
   },
   "outputs": [],
   "source": []
  }
 ],
 "metadata": {
  "kaggle": {
   "accelerator": "none",
   "dataSources": [
    {
     "datasetId": 2290183,
     "sourceId": 3852264,
     "sourceType": "datasetVersion"
    }
   ],
   "dockerImageVersionId": 30918,
   "isGpuEnabled": false,
   "isInternetEnabled": true,
   "language": "python",
   "sourceType": "notebook"
  },
  "kernelspec": {
   "display_name": "Python 3",
   "language": "python",
   "name": "python3"
  },
  "language_info": {
   "codemirror_mode": {
    "name": "ipython",
    "version": 3
   },
   "file_extension": ".py",
   "mimetype": "text/x-python",
   "name": "python",
   "nbconvert_exporter": "python",
   "pygments_lexer": "ipython3",
   "version": "3.10.12"
  },
  "papermill": {
   "default_parameters": {},
   "duration": 67.904992,
   "end_time": "2025-04-12T01:18:06.011196",
   "environment_variables": {},
   "exception": null,
   "input_path": "__notebook__.ipynb",
   "output_path": "__notebook__.ipynb",
   "parameters": {},
   "start_time": "2025-04-12T01:16:58.106204",
   "version": "2.6.0"
  }
 },
 "nbformat": 4,
 "nbformat_minor": 5
}
