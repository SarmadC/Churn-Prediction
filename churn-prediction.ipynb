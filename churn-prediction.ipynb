{
 "cells": [
  {
   "cell_type": "code",
   "execution_count": 1,
   "id": "b2b9ed7a",
   "metadata": {
    "execution": {
     "iopub.execute_input": "2025-04-11T00:20:20.262646Z",
     "iopub.status.busy": "2025-04-11T00:20:20.262368Z",
     "iopub.status.idle": "2025-04-11T00:20:22.392817Z",
     "shell.execute_reply": "2025-04-11T00:20:22.392102Z"
    },
    "papermill": {
     "duration": 2.14309,
     "end_time": "2025-04-11T00:20:22.394382",
     "exception": false,
     "start_time": "2025-04-11T00:20:20.251292",
     "status": "completed"
    },
    "tags": []
   },
   "outputs": [],
   "source": [
    "import numpy as np\n",
    "import os\n",
    "import pandas as pd\n",
    "from IPython.display import display\n",
    "from sklearn.model_selection import train_test_split\n",
    "from sklearn.ensemble import RandomForestClassifier\n",
    "from sklearn.metrics import classification_report, roc_auc_score "
   ]
  },
  {
   "cell_type": "code",
   "execution_count": 2,
   "id": "e928f333",
   "metadata": {
    "_cell_guid": "b1076dfc-b9ad-4769-8c92-a6c4dae69d19",
    "_uuid": "8f2839f25d086af736a60e9eeb907d3b93b6e0e5",
    "execution": {
     "iopub.execute_input": "2025-04-11T00:20:22.413730Z",
     "iopub.status.busy": "2025-04-11T00:20:22.413335Z",
     "iopub.status.idle": "2025-04-11T00:20:22.425982Z",
     "shell.execute_reply": "2025-04-11T00:20:22.424963Z"
    },
    "papermill": {
     "duration": 0.023392,
     "end_time": "2025-04-11T00:20:22.427371",
     "exception": false,
     "start_time": "2025-04-11T00:20:22.403979",
     "status": "completed"
    },
    "tags": []
   },
   "outputs": [
    {
     "name": "stdout",
     "output_type": "stream",
     "text": [
      "/kaggle/input/dspp1/product_info.csv\n",
      "/kaggle/input/dspp1/customer_product.csv\n",
      "/kaggle/input/dspp1/customer_info.csv\n",
      "/kaggle/input/dspp1/customer_cases.csv\n"
     ]
    }
   ],
   "source": [
    "for dirname, _, filenames in os.walk('/kaggle/input'):\n",
    "    for filename in filenames:\n",
    "        print(os.path.join(dirname, filename))"
   ]
  },
  {
   "cell_type": "markdown",
   "id": "ef9fe55a",
   "metadata": {
    "papermill": {
     "duration": 0.008182,
     "end_time": "2025-04-11T00:20:22.444008",
     "exception": false,
     "start_time": "2025-04-11T00:20:22.435826",
     "status": "completed"
    },
    "tags": []
   },
   "source": [
    "#### Load the Dataset"
   ]
  },
  {
   "cell_type": "code",
   "execution_count": 3,
   "id": "82768d1b",
   "metadata": {
    "execution": {
     "iopub.execute_input": "2025-04-11T00:20:22.461909Z",
     "iopub.status.busy": "2025-04-11T00:20:22.461636Z",
     "iopub.status.idle": "2025-04-11T00:20:24.709300Z",
     "shell.execute_reply": "2025-04-11T00:20:24.708538Z"
    },
    "papermill": {
     "duration": 2.258308,
     "end_time": "2025-04-11T00:20:24.710959",
     "exception": false,
     "start_time": "2025-04-11T00:20:22.452651",
     "status": "completed"
    },
    "tags": []
   },
   "outputs": [],
   "source": [
    "product_info = pd.read_csv(\"/kaggle/input/dspp1/product_info.csv\")\n",
    "customer_product = pd.read_csv(\"/kaggle/input/dspp1/customer_product.csv\")\n",
    "customer_info = pd.read_csv(\"/kaggle/input/dspp1/customer_info.csv\")\n",
    "customer_cases = pd.read_csv(\"/kaggle/input/dspp1/customer_cases.csv\")"
   ]
  },
  {
   "cell_type": "markdown",
   "id": "95a14131",
   "metadata": {
    "papermill": {
     "duration": 0.009014,
     "end_time": "2025-04-11T00:20:24.729996",
     "exception": false,
     "start_time": "2025-04-11T00:20:24.720982",
     "status": "completed"
    },
    "tags": []
   },
   "source": [
    "# Exploratory Data Analysis"
   ]
  },
  {
   "cell_type": "code",
   "execution_count": 4,
   "id": "b208d2f7",
   "metadata": {
    "execution": {
     "iopub.execute_input": "2025-04-11T00:20:24.750525Z",
     "iopub.status.busy": "2025-04-11T00:20:24.750227Z",
     "iopub.status.idle": "2025-04-11T00:20:24.754423Z",
     "shell.execute_reply": "2025-04-11T00:20:24.753743Z"
    },
    "papermill": {
     "duration": 0.015955,
     "end_time": "2025-04-11T00:20:24.755793",
     "exception": false,
     "start_time": "2025-04-11T00:20:24.739838",
     "status": "completed"
    },
    "tags": []
   },
   "outputs": [],
   "source": [
    "def style_df(df, caption=''):\n",
    "    return df.style.set_caption(caption).set_table_styles([\n",
    "        {'selector': 'th', 'props':[('background-color', '#f0f0f0'),\n",
    "                                   ('color', 'black'),\n",
    "                                   ('font-weight', 'bold')]},\n",
    "        {'selector': 'tr:nth-of-type(odd)','props':[('background-color', '#f9f9f9')]},\n",
    "    ])"
   ]
  },
  {
   "cell_type": "code",
   "execution_count": 5,
   "id": "c8bac239",
   "metadata": {
    "execution": {
     "iopub.execute_input": "2025-04-11T00:20:24.775559Z",
     "iopub.status.busy": "2025-04-11T00:20:24.775322Z",
     "iopub.status.idle": "2025-04-11T00:20:24.887653Z",
     "shell.execute_reply": "2025-04-11T00:20:24.886749Z"
    },
    "papermill": {
     "duration": 0.123894,
     "end_time": "2025-04-11T00:20:24.889150",
     "exception": false,
     "start_time": "2025-04-11T00:20:24.765256",
     "status": "completed"
    },
    "tags": []
   },
   "outputs": [
    {
     "data": {
      "text/html": [
       "<style type=\"text/css\">\n",
       "#T_bc514 th {\n",
       "  background-color: #f0f0f0;\n",
       "  color: black;\n",
       "  font-weight: bold;\n",
       "}\n",
       "#T_bc514 tr:nth-of-type(odd) {\n",
       "  background-color: #f9f9f9;\n",
       "}\n",
       "</style>\n",
       "<table id=\"T_bc514\">\n",
       "  <caption>Customer Sign-up and Cancellation Dates</caption>\n",
       "  <thead>\n",
       "    <tr>\n",
       "      <th class=\"blank level0\" >&nbsp;</th>\n",
       "      <th id=\"T_bc514_level0_col0\" class=\"col_heading level0 col0\" >Unnamed: 0</th>\n",
       "      <th id=\"T_bc514_level0_col1\" class=\"col_heading level0 col1\" >customer_id</th>\n",
       "      <th id=\"T_bc514_level0_col2\" class=\"col_heading level0 col2\" >product</th>\n",
       "      <th id=\"T_bc514_level0_col3\" class=\"col_heading level0 col3\" >signup_date_time</th>\n",
       "      <th id=\"T_bc514_level0_col4\" class=\"col_heading level0 col4\" >cancel_date_time</th>\n",
       "    </tr>\n",
       "  </thead>\n",
       "  <tbody>\n",
       "    <tr>\n",
       "      <th id=\"T_bc514_level0_row0\" class=\"row_heading level0 row0\" >0</th>\n",
       "      <td id=\"T_bc514_row0_col0\" class=\"data row0 col0\" >1</td>\n",
       "      <td id=\"T_bc514_row0_col1\" class=\"data row0 col1\" >C2448</td>\n",
       "      <td id=\"T_bc514_row0_col2\" class=\"data row0 col2\" >prd_1</td>\n",
       "      <td id=\"T_bc514_row0_col3\" class=\"data row0 col3\" >2017-01-01 10:35:09</td>\n",
       "      <td id=\"T_bc514_row0_col4\" class=\"data row0 col4\" >nan</td>\n",
       "    </tr>\n",
       "    <tr>\n",
       "      <th id=\"T_bc514_level0_row1\" class=\"row_heading level0 row1\" >1</th>\n",
       "      <td id=\"T_bc514_row1_col0\" class=\"data row1 col0\" >2</td>\n",
       "      <td id=\"T_bc514_row1_col1\" class=\"data row1 col1\" >C2449</td>\n",
       "      <td id=\"T_bc514_row1_col2\" class=\"data row1 col2\" >prd_1</td>\n",
       "      <td id=\"T_bc514_row1_col3\" class=\"data row1 col3\" >2017-01-01 11:39:29</td>\n",
       "      <td id=\"T_bc514_row1_col4\" class=\"data row1 col4\" >2021-09-05 10:00:02</td>\n",
       "    </tr>\n",
       "    <tr>\n",
       "      <th id=\"T_bc514_level0_row2\" class=\"row_heading level0 row2\" >2</th>\n",
       "      <td id=\"T_bc514_row2_col0\" class=\"data row2 col0\" >3</td>\n",
       "      <td id=\"T_bc514_row2_col1\" class=\"data row2 col1\" >C2450</td>\n",
       "      <td id=\"T_bc514_row2_col2\" class=\"data row2 col2\" >prd_1</td>\n",
       "      <td id=\"T_bc514_row2_col3\" class=\"data row2 col3\" >2017-01-01 11:42:00</td>\n",
       "      <td id=\"T_bc514_row2_col4\" class=\"data row2 col4\" >2019-01-13 16:24:55</td>\n",
       "    </tr>\n",
       "    <tr>\n",
       "      <th id=\"T_bc514_level0_row3\" class=\"row_heading level0 row3\" >3</th>\n",
       "      <td id=\"T_bc514_row3_col0\" class=\"data row3 col0\" >4</td>\n",
       "      <td id=\"T_bc514_row3_col1\" class=\"data row3 col1\" >C2451</td>\n",
       "      <td id=\"T_bc514_row3_col2\" class=\"data row3 col2\" >prd_2</td>\n",
       "      <td id=\"T_bc514_row3_col3\" class=\"data row3 col3\" >2017-01-01 13:32:08</td>\n",
       "      <td id=\"T_bc514_row3_col4\" class=\"data row3 col4\" >nan</td>\n",
       "    </tr>\n",
       "    <tr>\n",
       "      <th id=\"T_bc514_level0_row4\" class=\"row_heading level0 row4\" >4</th>\n",
       "      <td id=\"T_bc514_row4_col0\" class=\"data row4 col0\" >5</td>\n",
       "      <td id=\"T_bc514_row4_col1\" class=\"data row4 col1\" >C2452</td>\n",
       "      <td id=\"T_bc514_row4_col2\" class=\"data row4 col2\" >prd_1</td>\n",
       "      <td id=\"T_bc514_row4_col3\" class=\"data row4 col3\" >2017-01-01 13:57:30</td>\n",
       "      <td id=\"T_bc514_row4_col4\" class=\"data row4 col4\" >2021-06-28 18:06:01</td>\n",
       "    </tr>\n",
       "  </tbody>\n",
       "</table>\n"
      ],
      "text/plain": [
       "<pandas.io.formats.style.Styler at 0x7ea959e780a0>"
      ]
     },
     "execution_count": 5,
     "metadata": {},
     "output_type": "execute_result"
    }
   ],
   "source": [
    "style_df(customer_product.head(), 'Customer Sign-up and Cancellation Dates')"
   ]
  },
  {
   "cell_type": "code",
   "execution_count": 6,
   "id": "76f675a2",
   "metadata": {
    "execution": {
     "iopub.execute_input": "2025-04-11T00:20:24.907900Z",
     "iopub.status.busy": "2025-04-11T00:20:24.907502Z",
     "iopub.status.idle": "2025-04-11T00:20:24.913752Z",
     "shell.execute_reply": "2025-04-11T00:20:24.913064Z"
    },
    "papermill": {
     "duration": 0.016906,
     "end_time": "2025-04-11T00:20:24.914942",
     "exception": false,
     "start_time": "2025-04-11T00:20:24.898036",
     "status": "completed"
    },
    "tags": []
   },
   "outputs": [
    {
     "data": {
      "text/html": [
       "<style type=\"text/css\">\n",
       "#T_ec3b5 th {\n",
       "  background-color: #f0f0f0;\n",
       "  color: black;\n",
       "  font-weight: bold;\n",
       "}\n",
       "#T_ec3b5 tr:nth-of-type(odd) {\n",
       "  background-color: #f9f9f9;\n",
       "}\n",
       "</style>\n",
       "<table id=\"T_ec3b5\">\n",
       "  <caption>Customer Demographics</caption>\n",
       "  <thead>\n",
       "    <tr>\n",
       "      <th class=\"blank level0\" >&nbsp;</th>\n",
       "      <th id=\"T_ec3b5_level0_col0\" class=\"col_heading level0 col0\" >Unnamed: 0</th>\n",
       "      <th id=\"T_ec3b5_level0_col1\" class=\"col_heading level0 col1\" >customer_id</th>\n",
       "      <th id=\"T_ec3b5_level0_col2\" class=\"col_heading level0 col2\" >age</th>\n",
       "      <th id=\"T_ec3b5_level0_col3\" class=\"col_heading level0 col3\" >gender</th>\n",
       "    </tr>\n",
       "  </thead>\n",
       "  <tbody>\n",
       "    <tr>\n",
       "      <th id=\"T_ec3b5_level0_row0\" class=\"row_heading level0 row0\" >0</th>\n",
       "      <td id=\"T_ec3b5_row0_col0\" class=\"data row0 col0\" >1</td>\n",
       "      <td id=\"T_ec3b5_row0_col1\" class=\"data row0 col1\" >C2448</td>\n",
       "      <td id=\"T_ec3b5_row0_col2\" class=\"data row0 col2\" >76</td>\n",
       "      <td id=\"T_ec3b5_row0_col3\" class=\"data row0 col3\" >female</td>\n",
       "    </tr>\n",
       "    <tr>\n",
       "      <th id=\"T_ec3b5_level0_row1\" class=\"row_heading level0 row1\" >1</th>\n",
       "      <td id=\"T_ec3b5_row1_col0\" class=\"data row1 col0\" >2</td>\n",
       "      <td id=\"T_ec3b5_row1_col1\" class=\"data row1 col1\" >C2449</td>\n",
       "      <td id=\"T_ec3b5_row1_col2\" class=\"data row1 col2\" >61</td>\n",
       "      <td id=\"T_ec3b5_row1_col3\" class=\"data row1 col3\" >male</td>\n",
       "    </tr>\n",
       "    <tr>\n",
       "      <th id=\"T_ec3b5_level0_row2\" class=\"row_heading level0 row2\" >2</th>\n",
       "      <td id=\"T_ec3b5_row2_col0\" class=\"data row2 col0\" >3</td>\n",
       "      <td id=\"T_ec3b5_row2_col1\" class=\"data row2 col1\" >C2450</td>\n",
       "      <td id=\"T_ec3b5_row2_col2\" class=\"data row2 col2\" >58</td>\n",
       "      <td id=\"T_ec3b5_row2_col3\" class=\"data row2 col3\" >female</td>\n",
       "    </tr>\n",
       "    <tr>\n",
       "      <th id=\"T_ec3b5_level0_row3\" class=\"row_heading level0 row3\" >3</th>\n",
       "      <td id=\"T_ec3b5_row3_col0\" class=\"data row3 col0\" >4</td>\n",
       "      <td id=\"T_ec3b5_row3_col1\" class=\"data row3 col1\" >C2451</td>\n",
       "      <td id=\"T_ec3b5_row3_col2\" class=\"data row3 col2\" >62</td>\n",
       "      <td id=\"T_ec3b5_row3_col3\" class=\"data row3 col3\" >female</td>\n",
       "    </tr>\n",
       "    <tr>\n",
       "      <th id=\"T_ec3b5_level0_row4\" class=\"row_heading level0 row4\" >4</th>\n",
       "      <td id=\"T_ec3b5_row4_col0\" class=\"data row4 col0\" >5</td>\n",
       "      <td id=\"T_ec3b5_row4_col1\" class=\"data row4 col1\" >C2452</td>\n",
       "      <td id=\"T_ec3b5_row4_col2\" class=\"data row4 col2\" >71</td>\n",
       "      <td id=\"T_ec3b5_row4_col3\" class=\"data row4 col3\" >male</td>\n",
       "    </tr>\n",
       "  </tbody>\n",
       "</table>\n"
      ],
      "text/plain": [
       "<pandas.io.formats.style.Styler at 0x7ea963292cb0>"
      ]
     },
     "execution_count": 6,
     "metadata": {},
     "output_type": "execute_result"
    }
   ],
   "source": [
    "style_df(customer_info.head(), 'Customer Demographics')"
   ]
  },
  {
   "cell_type": "code",
   "execution_count": 7,
   "id": "99880ad4",
   "metadata": {
    "execution": {
     "iopub.execute_input": "2025-04-11T00:20:24.933987Z",
     "iopub.status.busy": "2025-04-11T00:20:24.933748Z",
     "iopub.status.idle": "2025-04-11T00:20:24.939983Z",
     "shell.execute_reply": "2025-04-11T00:20:24.939236Z"
    },
    "papermill": {
     "duration": 0.017383,
     "end_time": "2025-04-11T00:20:24.941261",
     "exception": false,
     "start_time": "2025-04-11T00:20:24.923878",
     "status": "completed"
    },
    "tags": []
   },
   "outputs": [
    {
     "data": {
      "text/html": [
       "<style type=\"text/css\">\n",
       "#T_5d397 th {\n",
       "  background-color: #f0f0f0;\n",
       "  color: black;\n",
       "  font-weight: bold;\n",
       "}\n",
       "#T_5d397 tr:nth-of-type(odd) {\n",
       "  background-color: #f9f9f9;\n",
       "}\n",
       "</style>\n",
       "<table id=\"T_5d397\">\n",
       "  <caption>Call Center Activity</caption>\n",
       "  <thead>\n",
       "    <tr>\n",
       "      <th class=\"blank level0\" >&nbsp;</th>\n",
       "      <th id=\"T_5d397_level0_col0\" class=\"col_heading level0 col0\" >Unnamed: 0</th>\n",
       "      <th id=\"T_5d397_level0_col1\" class=\"col_heading level0 col1\" >case_id</th>\n",
       "      <th id=\"T_5d397_level0_col2\" class=\"col_heading level0 col2\" >date_time</th>\n",
       "      <th id=\"T_5d397_level0_col3\" class=\"col_heading level0 col3\" >customer_id</th>\n",
       "      <th id=\"T_5d397_level0_col4\" class=\"col_heading level0 col4\" >channel</th>\n",
       "      <th id=\"T_5d397_level0_col5\" class=\"col_heading level0 col5\" >reason</th>\n",
       "    </tr>\n",
       "  </thead>\n",
       "  <tbody>\n",
       "    <tr>\n",
       "      <th id=\"T_5d397_level0_row0\" class=\"row_heading level0 row0\" >0</th>\n",
       "      <td id=\"T_5d397_row0_col0\" class=\"data row0 col0\" >1</td>\n",
       "      <td id=\"T_5d397_row0_col1\" class=\"data row0 col1\" >CC101</td>\n",
       "      <td id=\"T_5d397_row0_col2\" class=\"data row0 col2\" >2017-01-01 10:32:03</td>\n",
       "      <td id=\"T_5d397_row0_col3\" class=\"data row0 col3\" >C2448</td>\n",
       "      <td id=\"T_5d397_row0_col4\" class=\"data row0 col4\" >phone</td>\n",
       "      <td id=\"T_5d397_row0_col5\" class=\"data row0 col5\" >signup</td>\n",
       "    </tr>\n",
       "    <tr>\n",
       "      <th id=\"T_5d397_level0_row1\" class=\"row_heading level0 row1\" >1</th>\n",
       "      <td id=\"T_5d397_row1_col0\" class=\"data row1 col0\" >2</td>\n",
       "      <td id=\"T_5d397_row1_col1\" class=\"data row1 col1\" >CC102</td>\n",
       "      <td id=\"T_5d397_row1_col2\" class=\"data row1 col2\" >2017-01-01 11:35:47</td>\n",
       "      <td id=\"T_5d397_row1_col3\" class=\"data row1 col3\" >C2449</td>\n",
       "      <td id=\"T_5d397_row1_col4\" class=\"data row1 col4\" >phone</td>\n",
       "      <td id=\"T_5d397_row1_col5\" class=\"data row1 col5\" >signup</td>\n",
       "    </tr>\n",
       "    <tr>\n",
       "      <th id=\"T_5d397_level0_row2\" class=\"row_heading level0 row2\" >2</th>\n",
       "      <td id=\"T_5d397_row2_col0\" class=\"data row2 col0\" >3</td>\n",
       "      <td id=\"T_5d397_row2_col1\" class=\"data row2 col1\" >CC103</td>\n",
       "      <td id=\"T_5d397_row2_col2\" class=\"data row2 col2\" >2017-01-01 11:37:09</td>\n",
       "      <td id=\"T_5d397_row2_col3\" class=\"data row2 col3\" >C2450</td>\n",
       "      <td id=\"T_5d397_row2_col4\" class=\"data row2 col4\" >phone</td>\n",
       "      <td id=\"T_5d397_row2_col5\" class=\"data row2 col5\" >signup</td>\n",
       "    </tr>\n",
       "    <tr>\n",
       "      <th id=\"T_5d397_level0_row3\" class=\"row_heading level0 row3\" >3</th>\n",
       "      <td id=\"T_5d397_row3_col0\" class=\"data row3 col0\" >4</td>\n",
       "      <td id=\"T_5d397_row3_col1\" class=\"data row3 col1\" >CC104</td>\n",
       "      <td id=\"T_5d397_row3_col2\" class=\"data row3 col2\" >2017-01-01 13:28:14</td>\n",
       "      <td id=\"T_5d397_row3_col3\" class=\"data row3 col3\" >C2451</td>\n",
       "      <td id=\"T_5d397_row3_col4\" class=\"data row3 col4\" >phone</td>\n",
       "      <td id=\"T_5d397_row3_col5\" class=\"data row3 col5\" >signup</td>\n",
       "    </tr>\n",
       "    <tr>\n",
       "      <th id=\"T_5d397_level0_row4\" class=\"row_heading level0 row4\" >4</th>\n",
       "      <td id=\"T_5d397_row4_col0\" class=\"data row4 col0\" >5</td>\n",
       "      <td id=\"T_5d397_row4_col1\" class=\"data row4 col1\" >CC105</td>\n",
       "      <td id=\"T_5d397_row4_col2\" class=\"data row4 col2\" >2017-01-01 13:52:22</td>\n",
       "      <td id=\"T_5d397_row4_col3\" class=\"data row4 col3\" >C2452</td>\n",
       "      <td id=\"T_5d397_row4_col4\" class=\"data row4 col4\" >phone</td>\n",
       "      <td id=\"T_5d397_row4_col5\" class=\"data row4 col5\" >signup</td>\n",
       "    </tr>\n",
       "  </tbody>\n",
       "</table>\n"
      ],
      "text/plain": [
       "<pandas.io.formats.style.Styler at 0x7ea963292c20>"
      ]
     },
     "execution_count": 7,
     "metadata": {},
     "output_type": "execute_result"
    }
   ],
   "source": [
    "style_df(customer_cases.head(), 'Call Center Activity')"
   ]
  },
  {
   "cell_type": "code",
   "execution_count": 8,
   "id": "4648a790",
   "metadata": {
    "execution": {
     "iopub.execute_input": "2025-04-11T00:20:24.959680Z",
     "iopub.status.busy": "2025-04-11T00:20:24.959432Z",
     "iopub.status.idle": "2025-04-11T00:20:24.965172Z",
     "shell.execute_reply": "2025-04-11T00:20:24.964379Z"
    },
    "papermill": {
     "duration": 0.016527,
     "end_time": "2025-04-11T00:20:24.966529",
     "exception": false,
     "start_time": "2025-04-11T00:20:24.950002",
     "status": "completed"
    },
    "tags": []
   },
   "outputs": [
    {
     "data": {
      "text/html": [
       "<style type=\"text/css\">\n",
       "#T_5eb9c th {\n",
       "  background-color: #f0f0f0;\n",
       "  color: black;\n",
       "  font-weight: bold;\n",
       "}\n",
       "#T_5eb9c tr:nth-of-type(odd) {\n",
       "  background-color: #f9f9f9;\n",
       "}\n",
       "</style>\n",
       "<table id=\"T_5eb9c\">\n",
       "  <caption>Product Information</caption>\n",
       "  <thead>\n",
       "    <tr>\n",
       "      <th class=\"blank level0\" >&nbsp;</th>\n",
       "      <th id=\"T_5eb9c_level0_col0\" class=\"col_heading level0 col0\" >product_id</th>\n",
       "      <th id=\"T_5eb9c_level0_col1\" class=\"col_heading level0 col1\" >name</th>\n",
       "      <th id=\"T_5eb9c_level0_col2\" class=\"col_heading level0 col2\" >price</th>\n",
       "      <th id=\"T_5eb9c_level0_col3\" class=\"col_heading level0 col3\" >billing_cycle</th>\n",
       "    </tr>\n",
       "  </thead>\n",
       "  <tbody>\n",
       "    <tr>\n",
       "      <th id=\"T_5eb9c_level0_row0\" class=\"row_heading level0 row0\" >0</th>\n",
       "      <td id=\"T_5eb9c_row0_col0\" class=\"data row0 col0\" >prd_1</td>\n",
       "      <td id=\"T_5eb9c_row0_col1\" class=\"data row0 col1\" >annual_subscription</td>\n",
       "      <td id=\"T_5eb9c_row0_col2\" class=\"data row0 col2\" >1200</td>\n",
       "      <td id=\"T_5eb9c_row0_col3\" class=\"data row0 col3\" >12</td>\n",
       "    </tr>\n",
       "    <tr>\n",
       "      <th id=\"T_5eb9c_level0_row1\" class=\"row_heading level0 row1\" >1</th>\n",
       "      <td id=\"T_5eb9c_row1_col0\" class=\"data row1 col0\" >prd_2</td>\n",
       "      <td id=\"T_5eb9c_row1_col1\" class=\"data row1 col1\" >monthly_subscription</td>\n",
       "      <td id=\"T_5eb9c_row1_col2\" class=\"data row1 col2\" >125</td>\n",
       "      <td id=\"T_5eb9c_row1_col3\" class=\"data row1 col3\" >1</td>\n",
       "    </tr>\n",
       "  </tbody>\n",
       "</table>\n"
      ],
      "text/plain": [
       "<pandas.io.formats.style.Styler at 0x7ea963293370>"
      ]
     },
     "execution_count": 8,
     "metadata": {},
     "output_type": "execute_result"
    }
   ],
   "source": [
    "style_df(product_info.head(), 'Product Information')"
   ]
  },
  {
   "cell_type": "markdown",
   "id": "581c5770",
   "metadata": {
    "papermill": {
     "duration": 0.008776,
     "end_time": "2025-04-11T00:20:24.984226",
     "exception": false,
     "start_time": "2025-04-11T00:20:24.975450",
     "status": "completed"
    },
    "tags": []
   },
   "source": [
    "Customer Product Table will be the centre of the star schema. customer_id will be the primary key linking to the customer_centre and customer_info. product_id will be the primary key for the product_info table"
   ]
  },
  {
   "cell_type": "markdown",
   "id": "f92fda8d",
   "metadata": {
    "papermill": {
     "duration": 0.008942,
     "end_time": "2025-04-11T00:20:25.002140",
     "exception": false,
     "start_time": "2025-04-11T00:20:24.993198",
     "status": "completed"
    },
    "tags": []
   },
   "source": [
    "## Missing Values Check"
   ]
  },
  {
   "cell_type": "code",
   "execution_count": 9,
   "id": "be3589ac",
   "metadata": {
    "execution": {
     "iopub.execute_input": "2025-04-11T00:20:25.021341Z",
     "iopub.status.busy": "2025-04-11T00:20:25.020974Z",
     "iopub.status.idle": "2025-04-11T00:20:25.237223Z",
     "shell.execute_reply": "2025-04-11T00:20:25.235861Z"
    },
    "papermill": {
     "duration": 0.227699,
     "end_time": "2025-04-11T00:20:25.238832",
     "exception": false,
     "start_time": "2025-04-11T00:20:25.011133",
     "status": "completed"
    },
    "tags": []
   },
   "outputs": [
    {
     "name": "stdout",
     "output_type": "stream",
     "text": [
      "\n",
      "product_info missing values:\n",
      "product_id       0\n",
      "name             0\n",
      "price            0\n",
      "billing_cycle    0\n",
      "dtype: int64\n",
      "\n",
      "product_info data types:\n",
      "product_id       object\n",
      "name             object\n",
      "price             int64\n",
      "billing_cycle     int64\n",
      "dtype: object\n",
      "\n",
      "customer_product missing values:\n",
      "Unnamed: 0               0\n",
      "customer_id              0\n",
      "product                  0\n",
      "signup_date_time         0\n",
      "cancel_date_time    396447\n",
      "dtype: int64\n",
      "\n",
      "customer_product data types:\n",
      "Unnamed: 0           int64\n",
      "customer_id         object\n",
      "product             object\n",
      "signup_date_time    object\n",
      "cancel_date_time    object\n",
      "dtype: object\n",
      "\n",
      "customer_info missing values:\n",
      "Unnamed: 0     0\n",
      "customer_id    0\n",
      "age            0\n",
      "gender         0\n",
      "dtype: int64\n",
      "\n",
      "customer_info data types:\n",
      "Unnamed: 0      int64\n",
      "customer_id    object\n",
      "age             int64\n",
      "gender         object\n",
      "dtype: object\n",
      "\n",
      "customer_cases missing values:\n",
      "Unnamed: 0     0\n",
      "case_id        0\n",
      "date_time      0\n",
      "customer_id    0\n",
      "channel        0\n",
      "reason         0\n",
      "dtype: int64\n",
      "\n",
      "customer_cases data types:\n",
      "Unnamed: 0      int64\n",
      "case_id        object\n",
      "date_time      object\n",
      "customer_id    object\n",
      "channel        object\n",
      "reason         object\n",
      "dtype: object\n"
     ]
    }
   ],
   "source": [
    "for df_name, df in [(\"product_info\", product_info), \n",
    "                    (\"customer_product\", customer_product),\n",
    "                    (\"customer_info\", customer_info), \n",
    "                    (\"customer_cases\", customer_cases)]:\n",
    "    print(f\"\\n{df_name} missing values:\")\n",
    "    print(df.isnull().sum())\n",
    "    \n",
    "    print(f\"\\n{df_name} data types:\")\n",
    "    print(df.dtypes)"
   ]
  },
  {
   "cell_type": "code",
   "execution_count": 10,
   "id": "4c4dcc7f",
   "metadata": {
    "execution": {
     "iopub.execute_input": "2025-04-11T00:20:25.259852Z",
     "iopub.status.busy": "2025-04-11T00:20:25.259588Z",
     "iopub.status.idle": "2025-04-11T00:20:25.350987Z",
     "shell.execute_reply": "2025-04-11T00:20:25.350135Z"
    },
    "papermill": {
     "duration": 0.103678,
     "end_time": "2025-04-11T00:20:25.352299",
     "exception": false,
     "start_time": "2025-04-11T00:20:25.248621",
     "status": "completed"
    },
    "tags": []
   },
   "outputs": [
    {
     "data": {
      "text/plain": [
       "Unnamed: 0               0\n",
       "customer_id              0\n",
       "product                  0\n",
       "signup_date_time         0\n",
       "cancel_date_time    396447\n",
       "dtype: int64"
      ]
     },
     "execution_count": 10,
     "metadata": {},
     "output_type": "execute_result"
    }
   ],
   "source": [
    "customer_product.isnull().sum()"
   ]
  },
  {
   "cell_type": "markdown",
   "id": "ad802843",
   "metadata": {
    "papermill": {
     "duration": 0.009132,
     "end_time": "2025-04-11T00:20:25.371189",
     "exception": false,
     "start_time": "2025-04-11T00:20:25.362057",
     "status": "completed"
    },
    "tags": []
   },
   "source": [
    "This suggests that the missing values in cancel date_time are not actual missing values but rather customers who have not cancelled their subscription"
   ]
  },
  {
   "cell_type": "code",
   "execution_count": 11,
   "id": "2cacdb64",
   "metadata": {
    "execution": {
     "iopub.execute_input": "2025-04-11T00:20:25.390543Z",
     "iopub.status.busy": "2025-04-11T00:20:25.390293Z",
     "iopub.status.idle": "2025-04-11T00:20:25.678445Z",
     "shell.execute_reply": "2025-04-11T00:20:25.677805Z"
    },
    "papermill": {
     "duration": 0.299834,
     "end_time": "2025-04-11T00:20:25.679970",
     "exception": false,
     "start_time": "2025-04-11T00:20:25.380136",
     "status": "completed"
    },
    "tags": []
   },
   "outputs": [],
   "source": [
    "customer_product['signup_date_time'] = pd.to_datetime(customer_product['signup_date_time'])\n",
    "customer_product['cancel_date_time'] = pd.to_datetime(customer_product['cancel_date_time'])\n",
    "customer_cases['date_time'] = pd.to_datetime(customer_cases['date_time'])"
   ]
  },
  {
   "cell_type": "code",
   "execution_count": 12,
   "id": "af4cb4a6",
   "metadata": {
    "execution": {
     "iopub.execute_input": "2025-04-11T00:20:25.700074Z",
     "iopub.status.busy": "2025-04-11T00:20:25.699817Z",
     "iopub.status.idle": "2025-04-11T00:20:25.721840Z",
     "shell.execute_reply": "2025-04-11T00:20:25.721185Z"
    },
    "papermill": {
     "duration": 0.033328,
     "end_time": "2025-04-11T00:20:25.723227",
     "exception": false,
     "start_time": "2025-04-11T00:20:25.689899",
     "status": "completed"
    },
    "tags": []
   },
   "outputs": [],
   "source": [
    "today = pd.to_datetime('2022-01-01')\n",
    "customer_product['end_date'] = customer_product['cancel_date_time'].fillna(today)\n",
    "customer_product['tenure_days'] = (customer_product['end_date'] - customer_product['signup_date_time']).dt.days"
   ]
  },
  {
   "cell_type": "markdown",
   "id": "40b44449",
   "metadata": {
    "papermill": {
     "duration": 0.009452,
     "end_time": "2025-04-11T00:20:25.742325",
     "exception": false,
     "start_time": "2025-04-11T00:20:25.732873",
     "status": "completed"
    },
    "tags": []
   },
   "source": [
    "## Create a Joined Dataframe"
   ]
  },
  {
   "cell_type": "code",
   "execution_count": 13,
   "id": "a944dd2b",
   "metadata": {
    "execution": {
     "iopub.execute_input": "2025-04-11T00:20:25.763329Z",
     "iopub.status.busy": "2025-04-11T00:20:25.763073Z",
     "iopub.status.idle": "2025-04-11T00:20:26.118106Z",
     "shell.execute_reply": "2025-04-11T00:20:26.117123Z"
    },
    "papermill": {
     "duration": 0.36756,
     "end_time": "2025-04-11T00:20:26.119821",
     "exception": false,
     "start_time": "2025-04-11T00:20:25.752261",
     "status": "completed"
    },
    "tags": []
   },
   "outputs": [],
   "source": [
    "joined_df = pd.merge(customer_product,customer_info, how='left', left_on='customer_id', right_on='customer_id')"
   ]
  },
  {
   "cell_type": "code",
   "execution_count": 14,
   "id": "d93b0fa7",
   "metadata": {
    "execution": {
     "iopub.execute_input": "2025-04-11T00:20:26.140223Z",
     "iopub.status.busy": "2025-04-11T00:20:26.139952Z",
     "iopub.status.idle": "2025-04-11T00:20:26.316731Z",
     "shell.execute_reply": "2025-04-11T00:20:26.315742Z"
    },
    "papermill": {
     "duration": 0.188621,
     "end_time": "2025-04-11T00:20:26.318393",
     "exception": false,
     "start_time": "2025-04-11T00:20:26.129772",
     "status": "completed"
    },
    "tags": []
   },
   "outputs": [],
   "source": [
    "joined_df = pd.merge(joined_df,product_info, how='left', left_on='product',right_on='product_id')"
   ]
  },
  {
   "cell_type": "code",
   "execution_count": 15,
   "id": "3c635705",
   "metadata": {
    "execution": {
     "iopub.execute_input": "2025-04-11T00:20:26.338447Z",
     "iopub.status.busy": "2025-04-11T00:20:26.338150Z",
     "iopub.status.idle": "2025-04-11T00:20:26.664992Z",
     "shell.execute_reply": "2025-04-11T00:20:26.663957Z"
    },
    "papermill": {
     "duration": 0.338573,
     "end_time": "2025-04-11T00:20:26.666746",
     "exception": false,
     "start_time": "2025-04-11T00:20:26.328173",
     "status": "completed"
    },
    "tags": []
   },
   "outputs": [],
   "source": [
    "case_summary = customer_cases.groupby('customer_id').agg({\n",
    "\t'case_id': 'count',\n",
    "\t'date_time':['min','max']\n",
    "})"
   ]
  },
  {
   "cell_type": "code",
   "execution_count": 16,
   "id": "7dd08757",
   "metadata": {
    "execution": {
     "iopub.execute_input": "2025-04-11T00:20:26.687271Z",
     "iopub.status.busy": "2025-04-11T00:20:26.687009Z",
     "iopub.status.idle": "2025-04-11T00:20:26.690418Z",
     "shell.execute_reply": "2025-04-11T00:20:26.689772Z"
    },
    "papermill": {
     "duration": 0.015106,
     "end_time": "2025-04-11T00:20:26.691763",
     "exception": false,
     "start_time": "2025-04-11T00:20:26.676657",
     "status": "completed"
    },
    "tags": []
   },
   "outputs": [],
   "source": [
    "case_summary.columns = [\n",
    "\t'total_cases',\n",
    "\t'first_case_date',\n",
    "\t'last_case_date'\n",
    "]"
   ]
  },
  {
   "cell_type": "code",
   "execution_count": 17,
   "id": "21e774c4",
   "metadata": {
    "execution": {
     "iopub.execute_input": "2025-04-11T00:20:26.711732Z",
     "iopub.status.busy": "2025-04-11T00:20:26.711490Z",
     "iopub.status.idle": "2025-04-11T00:20:26.721933Z",
     "shell.execute_reply": "2025-04-11T00:20:26.721388Z"
    },
    "papermill": {
     "duration": 0.021508,
     "end_time": "2025-04-11T00:20:26.723121",
     "exception": false,
     "start_time": "2025-04-11T00:20:26.701613",
     "status": "completed"
    },
    "tags": []
   },
   "outputs": [],
   "source": [
    "case_summary['days_between_cases'] = (case_summary['last_case_date'] - case_summary['first_case_date']).dt.days"
   ]
  },
  {
   "cell_type": "code",
   "execution_count": 18,
   "id": "a80fc825",
   "metadata": {
    "execution": {
     "iopub.execute_input": "2025-04-11T00:20:26.742946Z",
     "iopub.status.busy": "2025-04-11T00:20:26.742655Z",
     "iopub.status.idle": "2025-04-11T00:20:27.207954Z",
     "shell.execute_reply": "2025-04-11T00:20:27.207233Z"
    },
    "papermill": {
     "duration": 0.476942,
     "end_time": "2025-04-11T00:20:27.209502",
     "exception": false,
     "start_time": "2025-04-11T00:20:26.732560",
     "status": "completed"
    },
    "tags": []
   },
   "outputs": [],
   "source": [
    "reason_counts = customer_cases.groupby(['customer_id', 'reason']).size().unstack(fill_value=0)\n",
    "reason_counts.columns = [f\"reason{col}\" for col in reason_counts.columns]\n",
    "case_summary = case_summary.join(reason_counts)"
   ]
  },
  {
   "cell_type": "code",
   "execution_count": 19,
   "id": "8b5cbe3b",
   "metadata": {
    "execution": {
     "iopub.execute_input": "2025-04-11T00:20:27.229274Z",
     "iopub.status.busy": "2025-04-11T00:20:27.229017Z",
     "iopub.status.idle": "2025-04-11T00:20:27.632191Z",
     "shell.execute_reply": "2025-04-11T00:20:27.631468Z"
    },
    "papermill": {
     "duration": 0.414452,
     "end_time": "2025-04-11T00:20:27.633748",
     "exception": false,
     "start_time": "2025-04-11T00:20:27.219296",
     "status": "completed"
    },
    "tags": []
   },
   "outputs": [],
   "source": [
    "churn_df = pd.merge(joined_df, case_summary, on='customer_id', how='left')"
   ]
  },
  {
   "cell_type": "code",
   "execution_count": 20,
   "id": "9135140d",
   "metadata": {
    "execution": {
     "iopub.execute_input": "2025-04-11T00:20:27.653214Z",
     "iopub.status.busy": "2025-04-11T00:20:27.652973Z",
     "iopub.status.idle": "2025-04-11T00:20:27.662653Z",
     "shell.execute_reply": "2025-04-11T00:20:27.661839Z"
    },
    "papermill": {
     "duration": 0.020834,
     "end_time": "2025-04-11T00:20:27.664015",
     "exception": false,
     "start_time": "2025-04-11T00:20:27.643181",
     "status": "completed"
    },
    "tags": []
   },
   "outputs": [],
   "source": [
    "churn_df['total_cases'] = churn_df['total_cases'].fillna(0)"
   ]
  },
  {
   "cell_type": "code",
   "execution_count": 21,
   "id": "9328b1d2",
   "metadata": {
    "execution": {
     "iopub.execute_input": "2025-04-11T00:20:27.683641Z",
     "iopub.status.busy": "2025-04-11T00:20:27.683410Z",
     "iopub.status.idle": "2025-04-11T00:20:27.751747Z",
     "shell.execute_reply": "2025-04-11T00:20:27.751048Z"
    },
    "papermill": {
     "duration": 0.079872,
     "end_time": "2025-04-11T00:20:27.753363",
     "exception": false,
     "start_time": "2025-04-11T00:20:27.673491",
     "status": "completed"
    },
    "tags": []
   },
   "outputs": [],
   "source": [
    "churn_df = churn_df.drop('Unnamed: 0_x', axis=1)\n",
    "churn_df = churn_df.drop('Unnamed: 0_y', axis=1)"
   ]
  },
  {
   "cell_type": "code",
   "execution_count": 22,
   "id": "00eaabd4",
   "metadata": {
    "execution": {
     "iopub.execute_input": "2025-04-11T00:20:27.774358Z",
     "iopub.status.busy": "2025-04-11T00:20:27.774099Z",
     "iopub.status.idle": "2025-04-11T00:20:27.900026Z",
     "shell.execute_reply": "2025-04-11T00:20:27.898923Z"
    },
    "papermill": {
     "duration": 0.13732,
     "end_time": "2025-04-11T00:20:27.901300",
     "exception": false,
     "start_time": "2025-04-11T00:20:27.763980",
     "status": "completed"
    },
    "tags": []
   },
   "outputs": [
    {
     "name": "stdout",
     "output_type": "stream",
     "text": [
      "customer_id                0\n",
      "product                    0\n",
      "signup_date_time           0\n",
      "cancel_date_time      396447\n",
      "end_date                   0\n",
      "tenure_days                0\n",
      "age                        0\n",
      "gender                     0\n",
      "product_id                 0\n",
      "name                       0\n",
      "price                      0\n",
      "billing_cycle              0\n",
      "total_cases                0\n",
      "first_case_date       250272\n",
      "last_case_date        250272\n",
      "days_between_cases    250272\n",
      "reasonsignup          250272\n",
      "reasonsupport         250272\n",
      "dtype: int64\n"
     ]
    }
   ],
   "source": [
    "print(churn_df.isnull().sum())"
   ]
  },
  {
   "cell_type": "markdown",
   "id": "ab60d932",
   "metadata": {
    "papermill": {
     "duration": 0.009496,
     "end_time": "2025-04-11T00:20:27.920622",
     "exception": false,
     "start_time": "2025-04-11T00:20:27.911126",
     "status": "completed"
    },
    "tags": []
   },
   "source": [
    "## Clean Merged Dataset"
   ]
  },
  {
   "cell_type": "code",
   "execution_count": 23,
   "id": "cc65cb47",
   "metadata": {
    "execution": {
     "iopub.execute_input": "2025-04-11T00:20:27.940387Z",
     "iopub.status.busy": "2025-04-11T00:20:27.940102Z",
     "iopub.status.idle": "2025-04-11T00:20:27.961613Z",
     "shell.execute_reply": "2025-04-11T00:20:27.960735Z"
    },
    "papermill": {
     "duration": 0.033189,
     "end_time": "2025-04-11T00:20:27.963134",
     "exception": false,
     "start_time": "2025-04-11T00:20:27.929945",
     "status": "completed"
    },
    "tags": []
   },
   "outputs": [],
   "source": [
    "churn_df['total_cases'] = churn_df['total_cases'].fillna(0)\n",
    "churn_df['first_case_date'] = churn_df['first_case_date'].fillna(pd.NaT)\n",
    "churn_df['last_case_date'] = churn_df['last_case_date'].fillna(pd.NaT)\n",
    "churn_df['days_between_cases'] = churn_df['days_between_cases'].fillna(0)\n",
    "churn_df['ever_contacted_support'] = churn_df['total_cases'].gt(0).astype(int)"
   ]
  },
  {
   "cell_type": "code",
   "execution_count": 24,
   "id": "fd01bb8f",
   "metadata": {
    "execution": {
     "iopub.execute_input": "2025-04-11T00:20:27.982951Z",
     "iopub.status.busy": "2025-04-11T00:20:27.982643Z",
     "iopub.status.idle": "2025-04-11T00:20:27.998962Z",
     "shell.execute_reply": "2025-04-11T00:20:27.998250Z"
    },
    "papermill": {
     "duration": 0.027806,
     "end_time": "2025-04-11T00:20:28.000418",
     "exception": false,
     "start_time": "2025-04-11T00:20:27.972612",
     "status": "completed"
    },
    "tags": []
   },
   "outputs": [],
   "source": [
    "reason_columns = [col for col in churn_df.columns if col.startswith('reason')]\n",
    "churn_df[reason_columns] = churn_df[reason_columns].fillna(0)"
   ]
  },
  {
   "cell_type": "code",
   "execution_count": 25,
   "id": "77d4e64d",
   "metadata": {
    "execution": {
     "iopub.execute_input": "2025-04-11T00:20:28.020245Z",
     "iopub.status.busy": "2025-04-11T00:20:28.020015Z",
     "iopub.status.idle": "2025-04-11T00:20:28.140967Z",
     "shell.execute_reply": "2025-04-11T00:20:28.140029Z"
    },
    "papermill": {
     "duration": 0.132103,
     "end_time": "2025-04-11T00:20:28.142184",
     "exception": false,
     "start_time": "2025-04-11T00:20:28.010081",
     "status": "completed"
    },
    "tags": []
   },
   "outputs": [
    {
     "name": "stdout",
     "output_type": "stream",
     "text": [
      "customer_id                    0\n",
      "product                        0\n",
      "signup_date_time               0\n",
      "cancel_date_time          396447\n",
      "end_date                       0\n",
      "tenure_days                    0\n",
      "age                            0\n",
      "gender                         0\n",
      "product_id                     0\n",
      "name                           0\n",
      "price                          0\n",
      "billing_cycle                  0\n",
      "total_cases                    0\n",
      "first_case_date           250272\n",
      "last_case_date            250272\n",
      "days_between_cases             0\n",
      "reasonsignup                   0\n",
      "reasonsupport                  0\n",
      "ever_contacted_support         0\n",
      "dtype: int64\n"
     ]
    }
   ],
   "source": [
    "print(churn_df.isnull().sum())"
   ]
  },
  {
   "cell_type": "code",
   "execution_count": 26,
   "id": "0c00aed0",
   "metadata": {
    "execution": {
     "iopub.execute_input": "2025-04-11T00:20:28.162210Z",
     "iopub.status.busy": "2025-04-11T00:20:28.161968Z",
     "iopub.status.idle": "2025-04-11T00:20:28.202846Z",
     "shell.execute_reply": "2025-04-11T00:20:28.201880Z"
    },
    "papermill": {
     "duration": 0.052655,
     "end_time": "2025-04-11T00:20:28.204389",
     "exception": false,
     "start_time": "2025-04-11T00:20:28.151734",
     "status": "completed"
    },
    "tags": []
   },
   "outputs": [],
   "source": [
    "churn_df['days_since_signup'] = (today - churn_df['signup_date_time']).dt.days \n",
    "mask = churn_df['ever_contacted_support'] == 1\n",
    "churn_df.loc[mask,'days_to_first_contact'] = (churn_df.loc[mask, 'first_case_date'] - churn_df.loc[mask, 'signup_date_time']).dt.days"
   ]
  },
  {
   "cell_type": "code",
   "execution_count": 27,
   "id": "ea42b5dc",
   "metadata": {
    "execution": {
     "iopub.execute_input": "2025-04-11T00:20:28.225905Z",
     "iopub.status.busy": "2025-04-11T00:20:28.225600Z",
     "iopub.status.idle": "2025-04-11T00:20:28.235278Z",
     "shell.execute_reply": "2025-04-11T00:20:28.234128Z"
    },
    "papermill": {
     "duration": 0.021971,
     "end_time": "2025-04-11T00:20:28.237094",
     "exception": false,
     "start_time": "2025-04-11T00:20:28.215123",
     "status": "completed"
    },
    "tags": []
   },
   "outputs": [],
   "source": [
    "churn_df['days_to_first_contact'] = churn_df['days_to_first_contact'].fillna(-1)"
   ]
  },
  {
   "cell_type": "code",
   "execution_count": 28,
   "id": "f73caa69",
   "metadata": {
    "execution": {
     "iopub.execute_input": "2025-04-11T00:20:28.257198Z",
     "iopub.status.busy": "2025-04-11T00:20:28.256977Z",
     "iopub.status.idle": "2025-04-11T00:20:28.271099Z",
     "shell.execute_reply": "2025-04-11T00:20:28.270436Z"
    },
    "papermill": {
     "duration": 0.025531,
     "end_time": "2025-04-11T00:20:28.272495",
     "exception": false,
     "start_time": "2025-04-11T00:20:28.246964",
     "status": "completed"
    },
    "tags": []
   },
   "outputs": [],
   "source": [
    "churn_df['age_group'] = pd.cut(churn_df['age'],\n",
    "                              bins  = [0, 30, 45, 60, 75, 100],\n",
    "                              labels  = ['<30', '30-45', '46-60','61-75','75+'])"
   ]
  },
  {
   "cell_type": "code",
   "execution_count": 29,
   "id": "d2c234be",
   "metadata": {
    "execution": {
     "iopub.execute_input": "2025-04-11T00:20:28.331353Z",
     "iopub.status.busy": "2025-04-11T00:20:28.331051Z",
     "iopub.status.idle": "2025-04-11T00:20:28.344000Z",
     "shell.execute_reply": "2025-04-11T00:20:28.343138Z"
    },
    "papermill": {
     "duration": 0.063344,
     "end_time": "2025-04-11T00:20:28.345345",
     "exception": false,
     "start_time": "2025-04-11T00:20:28.282001",
     "status": "completed"
    },
    "tags": []
   },
   "outputs": [],
   "source": [
    "churn_df['tenure_group'] = pd.cut(churn_df['tenure_days'],\n",
    "                                 bins = [0, 90, 180, 365, 730, float('inf')],\n",
    "                                 labels = ['0-3mo', '3-6mo', '6-12mo','1-2yr', '2yr+'])"
   ]
  },
  {
   "cell_type": "code",
   "execution_count": 30,
   "id": "9ff929c8",
   "metadata": {
    "execution": {
     "iopub.execute_input": "2025-04-11T00:20:28.365325Z",
     "iopub.status.busy": "2025-04-11T00:20:28.365093Z",
     "iopub.status.idle": "2025-04-11T00:20:28.686104Z",
     "shell.execute_reply": "2025-04-11T00:20:28.685256Z"
    },
    "papermill": {
     "duration": 0.332612,
     "end_time": "2025-04-11T00:20:28.687558",
     "exception": false,
     "start_time": "2025-04-11T00:20:28.354946",
     "status": "completed"
    },
    "tags": []
   },
   "outputs": [
    {
     "data": {
      "text/html": [
       "<div>\n",
       "<style scoped>\n",
       "    .dataframe tbody tr th:only-of-type {\n",
       "        vertical-align: middle;\n",
       "    }\n",
       "\n",
       "    .dataframe tbody tr th {\n",
       "        vertical-align: top;\n",
       "    }\n",
       "\n",
       "    .dataframe thead th {\n",
       "        text-align: right;\n",
       "    }\n",
       "</style>\n",
       "<table border=\"1\" class=\"dataframe\">\n",
       "  <thead>\n",
       "    <tr style=\"text-align: right;\">\n",
       "      <th></th>\n",
       "      <th>signup_date_time</th>\n",
       "      <th>cancel_date_time</th>\n",
       "      <th>end_date</th>\n",
       "      <th>tenure_days</th>\n",
       "      <th>age</th>\n",
       "      <th>price</th>\n",
       "      <th>billing_cycle</th>\n",
       "      <th>total_cases</th>\n",
       "      <th>first_case_date</th>\n",
       "      <th>last_case_date</th>\n",
       "      <th>days_between_cases</th>\n",
       "      <th>reasonsignup</th>\n",
       "      <th>reasonsupport</th>\n",
       "      <th>ever_contacted_support</th>\n",
       "      <th>days_since_signup</th>\n",
       "      <th>days_to_first_contact</th>\n",
       "    </tr>\n",
       "  </thead>\n",
       "  <tbody>\n",
       "    <tr>\n",
       "      <th>count</th>\n",
       "      <td>508932</td>\n",
       "      <td>112485</td>\n",
       "      <td>508932</td>\n",
       "      <td>508932.000000</td>\n",
       "      <td>508932.000000</td>\n",
       "      <td>508932.000000</td>\n",
       "      <td>508932.000000</td>\n",
       "      <td>508932.000000</td>\n",
       "      <td>258660</td>\n",
       "      <td>258660</td>\n",
       "      <td>508932.000000</td>\n",
       "      <td>508932.000000</td>\n",
       "      <td>508932.000000</td>\n",
       "      <td>508932.000000</td>\n",
       "      <td>508932.000000</td>\n",
       "      <td>508932.000000</td>\n",
       "    </tr>\n",
       "    <tr>\n",
       "      <th>mean</th>\n",
       "      <td>2020-02-16 11:01:51.888912384</td>\n",
       "      <td>2020-09-29 23:06:47.655838464</td>\n",
       "      <td>2021-09-21 18:20:01.758126848</td>\n",
       "      <td>582.861351</td>\n",
       "      <td>58.473030</td>\n",
       "      <td>812.857464</td>\n",
       "      <td>8.038541</td>\n",
       "      <td>0.649423</td>\n",
       "      <td>2020-04-15 18:25:58.267691008</td>\n",
       "      <td>2020-05-26 11:24:47.194757632</td>\n",
       "      <td>20.639087</td>\n",
       "      <td>0.254507</td>\n",
       "      <td>0.394915</td>\n",
       "      <td>0.508241</td>\n",
       "      <td>684.102998</td>\n",
       "      <td>35.649600</td>\n",
       "    </tr>\n",
       "    <tr>\n",
       "      <th>min</th>\n",
       "      <td>2017-01-01 07:55:42</td>\n",
       "      <td>2017-01-08 15:14:53</td>\n",
       "      <td>2017-01-08 15:14:53</td>\n",
       "      <td>0.000000</td>\n",
       "      <td>21.000000</td>\n",
       "      <td>125.000000</td>\n",
       "      <td>1.000000</td>\n",
       "      <td>0.000000</td>\n",
       "      <td>2017-01-01 10:32:03</td>\n",
       "      <td>2017-01-01 10:32:03</td>\n",
       "      <td>0.000000</td>\n",
       "      <td>0.000000</td>\n",
       "      <td>0.000000</td>\n",
       "      <td>0.000000</td>\n",
       "      <td>0.000000</td>\n",
       "      <td>-1.000000</td>\n",
       "    </tr>\n",
       "    <tr>\n",
       "      <th>25%</th>\n",
       "      <td>2019-04-18 11:27:09</td>\n",
       "      <td>2020-03-03 15:25:12</td>\n",
       "      <td>2022-01-01 00:00:00</td>\n",
       "      <td>239.000000</td>\n",
       "      <td>53.000000</td>\n",
       "      <td>125.000000</td>\n",
       "      <td>1.000000</td>\n",
       "      <td>0.000000</td>\n",
       "      <td>2019-06-06 09:27:45</td>\n",
       "      <td>2019-07-21 09:32:20.500000</td>\n",
       "      <td>0.000000</td>\n",
       "      <td>0.000000</td>\n",
       "      <td>0.000000</td>\n",
       "      <td>0.000000</td>\n",
       "      <td>298.000000</td>\n",
       "      <td>-1.000000</td>\n",
       "    </tr>\n",
       "    <tr>\n",
       "      <th>50%</th>\n",
       "      <td>2020-04-25 11:14:34</td>\n",
       "      <td>2020-12-29 13:24:10</td>\n",
       "      <td>2022-01-01 00:00:00</td>\n",
       "      <td>504.000000</td>\n",
       "      <td>59.000000</td>\n",
       "      <td>1200.000000</td>\n",
       "      <td>12.000000</td>\n",
       "      <td>1.000000</td>\n",
       "      <td>2020-07-06 14:57:11</td>\n",
       "      <td>2020-08-14 15:31:07.500000</td>\n",
       "      <td>0.000000</td>\n",
       "      <td>0.000000</td>\n",
       "      <td>0.000000</td>\n",
       "      <td>1.000000</td>\n",
       "      <td>615.000000</td>\n",
       "      <td>-1.000000</td>\n",
       "    </tr>\n",
       "    <tr>\n",
       "      <th>75%</th>\n",
       "      <td>2021-03-08 16:49:51</td>\n",
       "      <td>2021-07-22 10:59:54</td>\n",
       "      <td>2022-01-01 00:00:00</td>\n",
       "      <td>858.000000</td>\n",
       "      <td>64.000000</td>\n",
       "      <td>1200.000000</td>\n",
       "      <td>12.000000</td>\n",
       "      <td>1.000000</td>\n",
       "      <td>2021-05-15 11:54:53</td>\n",
       "      <td>2021-06-26 17:26:50.750000128</td>\n",
       "      <td>0.000000</td>\n",
       "      <td>1.000000</td>\n",
       "      <td>1.000000</td>\n",
       "      <td>1.000000</td>\n",
       "      <td>988.000000</td>\n",
       "      <td>3.000000</td>\n",
       "    </tr>\n",
       "    <tr>\n",
       "      <th>max</th>\n",
       "      <td>2021-12-31 19:38:21</td>\n",
       "      <td>2021-12-31 21:44:10</td>\n",
       "      <td>2022-01-01 00:00:00</td>\n",
       "      <td>1825.000000</td>\n",
       "      <td>78.000000</td>\n",
       "      <td>1200.000000</td>\n",
       "      <td>12.000000</td>\n",
       "      <td>5.000000</td>\n",
       "      <td>2022-01-01 06:32:53</td>\n",
       "      <td>2022-01-01 06:32:53</td>\n",
       "      <td>1368.000000</td>\n",
       "      <td>1.000000</td>\n",
       "      <td>4.000000</td>\n",
       "      <td>1.000000</td>\n",
       "      <td>1825.000000</td>\n",
       "      <td>1392.000000</td>\n",
       "    </tr>\n",
       "    <tr>\n",
       "      <th>std</th>\n",
       "      <td>NaN</td>\n",
       "      <td>NaN</td>\n",
       "      <td>NaN</td>\n",
       "      <td>425.268635</td>\n",
       "      <td>8.257361</td>\n",
       "      <td>516.042059</td>\n",
       "      <td>5.280430</td>\n",
       "      <td>0.735795</td>\n",
       "      <td>NaN</td>\n",
       "      <td>NaN</td>\n",
       "      <td>78.580899</td>\n",
       "      <td>0.435584</td>\n",
       "      <td>0.583338</td>\n",
       "      <td>0.499933</td>\n",
       "      <td>453.620754</td>\n",
       "      <td>94.368328</td>\n",
       "    </tr>\n",
       "  </tbody>\n",
       "</table>\n",
       "</div>"
      ],
      "text/plain": [
       "                    signup_date_time               cancel_date_time  \\\n",
       "count                         508932                         112485   \n",
       "mean   2020-02-16 11:01:51.888912384  2020-09-29 23:06:47.655838464   \n",
       "min              2017-01-01 07:55:42            2017-01-08 15:14:53   \n",
       "25%              2019-04-18 11:27:09            2020-03-03 15:25:12   \n",
       "50%              2020-04-25 11:14:34            2020-12-29 13:24:10   \n",
       "75%              2021-03-08 16:49:51            2021-07-22 10:59:54   \n",
       "max              2021-12-31 19:38:21            2021-12-31 21:44:10   \n",
       "std                              NaN                            NaN   \n",
       "\n",
       "                            end_date    tenure_days            age  \\\n",
       "count                         508932  508932.000000  508932.000000   \n",
       "mean   2021-09-21 18:20:01.758126848     582.861351      58.473030   \n",
       "min              2017-01-08 15:14:53       0.000000      21.000000   \n",
       "25%              2022-01-01 00:00:00     239.000000      53.000000   \n",
       "50%              2022-01-01 00:00:00     504.000000      59.000000   \n",
       "75%              2022-01-01 00:00:00     858.000000      64.000000   \n",
       "max              2022-01-01 00:00:00    1825.000000      78.000000   \n",
       "std                              NaN     425.268635       8.257361   \n",
       "\n",
       "               price  billing_cycle    total_cases  \\\n",
       "count  508932.000000  508932.000000  508932.000000   \n",
       "mean      812.857464       8.038541       0.649423   \n",
       "min       125.000000       1.000000       0.000000   \n",
       "25%       125.000000       1.000000       0.000000   \n",
       "50%      1200.000000      12.000000       1.000000   \n",
       "75%      1200.000000      12.000000       1.000000   \n",
       "max      1200.000000      12.000000       5.000000   \n",
       "std       516.042059       5.280430       0.735795   \n",
       "\n",
       "                     first_case_date                 last_case_date  \\\n",
       "count                         258660                         258660   \n",
       "mean   2020-04-15 18:25:58.267691008  2020-05-26 11:24:47.194757632   \n",
       "min              2017-01-01 10:32:03            2017-01-01 10:32:03   \n",
       "25%              2019-06-06 09:27:45     2019-07-21 09:32:20.500000   \n",
       "50%              2020-07-06 14:57:11     2020-08-14 15:31:07.500000   \n",
       "75%              2021-05-15 11:54:53  2021-06-26 17:26:50.750000128   \n",
       "max              2022-01-01 06:32:53            2022-01-01 06:32:53   \n",
       "std                              NaN                            NaN   \n",
       "\n",
       "       days_between_cases   reasonsignup  reasonsupport  \\\n",
       "count       508932.000000  508932.000000  508932.000000   \n",
       "mean            20.639087       0.254507       0.394915   \n",
       "min              0.000000       0.000000       0.000000   \n",
       "25%              0.000000       0.000000       0.000000   \n",
       "50%              0.000000       0.000000       0.000000   \n",
       "75%              0.000000       1.000000       1.000000   \n",
       "max           1368.000000       1.000000       4.000000   \n",
       "std             78.580899       0.435584       0.583338   \n",
       "\n",
       "       ever_contacted_support  days_since_signup  days_to_first_contact  \n",
       "count           508932.000000      508932.000000          508932.000000  \n",
       "mean                 0.508241         684.102998              35.649600  \n",
       "min                  0.000000           0.000000              -1.000000  \n",
       "25%                  0.000000         298.000000              -1.000000  \n",
       "50%                  1.000000         615.000000              -1.000000  \n",
       "75%                  1.000000         988.000000               3.000000  \n",
       "max                  1.000000        1825.000000            1392.000000  \n",
       "std                  0.499933         453.620754              94.368328  "
      ]
     },
     "execution_count": 30,
     "metadata": {},
     "output_type": "execute_result"
    }
   ],
   "source": [
    "churn_df.describe()"
   ]
  },
  {
   "cell_type": "markdown",
   "id": "8d225b80",
   "metadata": {
    "papermill": {
     "duration": 0.009591,
     "end_time": "2025-04-11T00:20:28.707736",
     "exception": false,
     "start_time": "2025-04-11T00:20:28.698145",
     "status": "completed"
    },
    "tags": []
   },
   "source": [
    "# Defining Churn"
   ]
  },
  {
   "cell_type": "markdown",
   "id": "d3ec8082",
   "metadata": {
    "papermill": {
     "duration": 0.009944,
     "end_time": "2025-04-11T00:20:28.727542",
     "exception": false,
     "start_time": "2025-04-11T00:20:28.717598",
     "status": "completed"
    },
    "tags": []
   },
   "source": [
    "Earlier defined churn as has cancellation_date = Churned. This is good retrospectively, but it's not predictive. Using a time-window approach here (will churn in Next X Days). This is where the business value is. The purpose of churn prediction is preventing future churn, not explaining past churn"
   ]
  },
  {
   "cell_type": "code",
   "execution_count": 31,
   "id": "b29bf49b",
   "metadata": {
    "execution": {
     "iopub.execute_input": "2025-04-11T00:20:28.748885Z",
     "iopub.status.busy": "2025-04-11T00:20:28.748522Z",
     "iopub.status.idle": "2025-04-11T00:20:28.761532Z",
     "shell.execute_reply": "2025-04-11T00:20:28.760896Z"
    },
    "papermill": {
     "duration": 0.025157,
     "end_time": "2025-04-11T00:20:28.762992",
     "exception": false,
     "start_time": "2025-04-11T00:20:28.737835",
     "status": "completed"
    },
    "tags": []
   },
   "outputs": [],
   "source": [
    "cutoff_date = pd.to_datetime('2021-10-03')\n",
    "\n",
    "churn_df['will_churn_next_90d'] = (\n",
    "    (churn_df['cancel_date_time'] > cutoff_date) & \n",
    "    (churn_df['cancel_date_time'] <= cutoff_date + pd.Timedelta(days = 90))\n",
    ").astype(int)"
   ]
  },
  {
   "cell_type": "code",
   "execution_count": 32,
   "id": "fe9a27a0",
   "metadata": {
    "execution": {
     "iopub.execute_input": "2025-04-11T00:20:28.782746Z",
     "iopub.status.busy": "2025-04-11T00:20:28.782478Z",
     "iopub.status.idle": "2025-04-11T00:20:28.799801Z",
     "shell.execute_reply": "2025-04-11T00:20:28.799062Z"
    },
    "papermill": {
     "duration": 0.02869,
     "end_time": "2025-04-11T00:20:28.801088",
     "exception": false,
     "start_time": "2025-04-11T00:20:28.772398",
     "status": "completed"
    },
    "tags": []
   },
   "outputs": [
    {
     "data": {
      "text/html": [
       "<div>\n",
       "<style scoped>\n",
       "    .dataframe tbody tr th:only-of-type {\n",
       "        vertical-align: middle;\n",
       "    }\n",
       "\n",
       "    .dataframe tbody tr th {\n",
       "        vertical-align: top;\n",
       "    }\n",
       "\n",
       "    .dataframe thead th {\n",
       "        text-align: right;\n",
       "    }\n",
       "</style>\n",
       "<table border=\"1\" class=\"dataframe\">\n",
       "  <thead>\n",
       "    <tr style=\"text-align: right;\">\n",
       "      <th></th>\n",
       "      <th>customer_id</th>\n",
       "      <th>product</th>\n",
       "      <th>signup_date_time</th>\n",
       "      <th>cancel_date_time</th>\n",
       "      <th>end_date</th>\n",
       "      <th>tenure_days</th>\n",
       "      <th>age</th>\n",
       "      <th>gender</th>\n",
       "      <th>product_id</th>\n",
       "      <th>name</th>\n",
       "      <th>...</th>\n",
       "      <th>last_case_date</th>\n",
       "      <th>days_between_cases</th>\n",
       "      <th>reasonsignup</th>\n",
       "      <th>reasonsupport</th>\n",
       "      <th>ever_contacted_support</th>\n",
       "      <th>days_since_signup</th>\n",
       "      <th>days_to_first_contact</th>\n",
       "      <th>age_group</th>\n",
       "      <th>tenure_group</th>\n",
       "      <th>will_churn_next_90d</th>\n",
       "    </tr>\n",
       "  </thead>\n",
       "  <tbody>\n",
       "    <tr>\n",
       "      <th>0</th>\n",
       "      <td>C2448</td>\n",
       "      <td>prd_1</td>\n",
       "      <td>2017-01-01 10:35:09</td>\n",
       "      <td>NaT</td>\n",
       "      <td>2022-01-01 00:00:00</td>\n",
       "      <td>1825</td>\n",
       "      <td>76</td>\n",
       "      <td>female</td>\n",
       "      <td>prd_1</td>\n",
       "      <td>annual_subscription</td>\n",
       "      <td>...</td>\n",
       "      <td>2017-01-01 10:32:03</td>\n",
       "      <td>0.0</td>\n",
       "      <td>1.0</td>\n",
       "      <td>0.0</td>\n",
       "      <td>1</td>\n",
       "      <td>1825</td>\n",
       "      <td>-1.0</td>\n",
       "      <td>75+</td>\n",
       "      <td>2yr+</td>\n",
       "      <td>0</td>\n",
       "    </tr>\n",
       "    <tr>\n",
       "      <th>1</th>\n",
       "      <td>C2449</td>\n",
       "      <td>prd_1</td>\n",
       "      <td>2017-01-01 11:39:29</td>\n",
       "      <td>2021-09-05 10:00:02</td>\n",
       "      <td>2021-09-05 10:00:02</td>\n",
       "      <td>1707</td>\n",
       "      <td>61</td>\n",
       "      <td>male</td>\n",
       "      <td>prd_1</td>\n",
       "      <td>annual_subscription</td>\n",
       "      <td>...</td>\n",
       "      <td>2017-01-01 11:35:47</td>\n",
       "      <td>0.0</td>\n",
       "      <td>1.0</td>\n",
       "      <td>0.0</td>\n",
       "      <td>1</td>\n",
       "      <td>1825</td>\n",
       "      <td>-1.0</td>\n",
       "      <td>61-75</td>\n",
       "      <td>2yr+</td>\n",
       "      <td>0</td>\n",
       "    </tr>\n",
       "    <tr>\n",
       "      <th>2</th>\n",
       "      <td>C2450</td>\n",
       "      <td>prd_1</td>\n",
       "      <td>2017-01-01 11:42:00</td>\n",
       "      <td>2019-01-13 16:24:55</td>\n",
       "      <td>2019-01-13 16:24:55</td>\n",
       "      <td>742</td>\n",
       "      <td>58</td>\n",
       "      <td>female</td>\n",
       "      <td>prd_1</td>\n",
       "      <td>annual_subscription</td>\n",
       "      <td>...</td>\n",
       "      <td>2017-01-01 11:37:09</td>\n",
       "      <td>0.0</td>\n",
       "      <td>1.0</td>\n",
       "      <td>0.0</td>\n",
       "      <td>1</td>\n",
       "      <td>1825</td>\n",
       "      <td>-1.0</td>\n",
       "      <td>46-60</td>\n",
       "      <td>2yr+</td>\n",
       "      <td>0</td>\n",
       "    </tr>\n",
       "    <tr>\n",
       "      <th>3</th>\n",
       "      <td>C2451</td>\n",
       "      <td>prd_2</td>\n",
       "      <td>2017-01-01 13:32:08</td>\n",
       "      <td>NaT</td>\n",
       "      <td>2022-01-01 00:00:00</td>\n",
       "      <td>1825</td>\n",
       "      <td>62</td>\n",
       "      <td>female</td>\n",
       "      <td>prd_2</td>\n",
       "      <td>monthly_subscription</td>\n",
       "      <td>...</td>\n",
       "      <td>2017-03-31 12:06:58</td>\n",
       "      <td>88.0</td>\n",
       "      <td>1.0</td>\n",
       "      <td>1.0</td>\n",
       "      <td>1</td>\n",
       "      <td>1825</td>\n",
       "      <td>-1.0</td>\n",
       "      <td>61-75</td>\n",
       "      <td>2yr+</td>\n",
       "      <td>0</td>\n",
       "    </tr>\n",
       "    <tr>\n",
       "      <th>4</th>\n",
       "      <td>C2452</td>\n",
       "      <td>prd_1</td>\n",
       "      <td>2017-01-01 13:57:30</td>\n",
       "      <td>2021-06-28 18:06:01</td>\n",
       "      <td>2021-06-28 18:06:01</td>\n",
       "      <td>1639</td>\n",
       "      <td>71</td>\n",
       "      <td>male</td>\n",
       "      <td>prd_1</td>\n",
       "      <td>annual_subscription</td>\n",
       "      <td>...</td>\n",
       "      <td>2017-01-01 13:52:22</td>\n",
       "      <td>0.0</td>\n",
       "      <td>1.0</td>\n",
       "      <td>0.0</td>\n",
       "      <td>1</td>\n",
       "      <td>1825</td>\n",
       "      <td>-1.0</td>\n",
       "      <td>61-75</td>\n",
       "      <td>2yr+</td>\n",
       "      <td>0</td>\n",
       "    </tr>\n",
       "  </tbody>\n",
       "</table>\n",
       "<p>5 rows × 24 columns</p>\n",
       "</div>"
      ],
      "text/plain": [
       "  customer_id product    signup_date_time    cancel_date_time  \\\n",
       "0       C2448   prd_1 2017-01-01 10:35:09                 NaT   \n",
       "1       C2449   prd_1 2017-01-01 11:39:29 2021-09-05 10:00:02   \n",
       "2       C2450   prd_1 2017-01-01 11:42:00 2019-01-13 16:24:55   \n",
       "3       C2451   prd_2 2017-01-01 13:32:08                 NaT   \n",
       "4       C2452   prd_1 2017-01-01 13:57:30 2021-06-28 18:06:01   \n",
       "\n",
       "             end_date  tenure_days  age  gender product_id  \\\n",
       "0 2022-01-01 00:00:00         1825   76  female      prd_1   \n",
       "1 2021-09-05 10:00:02         1707   61    male      prd_1   \n",
       "2 2019-01-13 16:24:55          742   58  female      prd_1   \n",
       "3 2022-01-01 00:00:00         1825   62  female      prd_2   \n",
       "4 2021-06-28 18:06:01         1639   71    male      prd_1   \n",
       "\n",
       "                   name  ...      last_case_date  days_between_cases  \\\n",
       "0   annual_subscription  ... 2017-01-01 10:32:03                 0.0   \n",
       "1   annual_subscription  ... 2017-01-01 11:35:47                 0.0   \n",
       "2   annual_subscription  ... 2017-01-01 11:37:09                 0.0   \n",
       "3  monthly_subscription  ... 2017-03-31 12:06:58                88.0   \n",
       "4   annual_subscription  ... 2017-01-01 13:52:22                 0.0   \n",
       "\n",
       "   reasonsignup reasonsupport ever_contacted_support  days_since_signup  \\\n",
       "0           1.0           0.0                      1               1825   \n",
       "1           1.0           0.0                      1               1825   \n",
       "2           1.0           0.0                      1               1825   \n",
       "3           1.0           1.0                      1               1825   \n",
       "4           1.0           0.0                      1               1825   \n",
       "\n",
       "   days_to_first_contact  age_group  tenure_group  will_churn_next_90d  \n",
       "0                   -1.0        75+          2yr+                    0  \n",
       "1                   -1.0      61-75          2yr+                    0  \n",
       "2                   -1.0      46-60          2yr+                    0  \n",
       "3                   -1.0      61-75          2yr+                    0  \n",
       "4                   -1.0      61-75          2yr+                    0  \n",
       "\n",
       "[5 rows x 24 columns]"
      ]
     },
     "execution_count": 32,
     "metadata": {},
     "output_type": "execute_result"
    }
   ],
   "source": [
    "churn_df.head()"
   ]
  },
  {
   "cell_type": "code",
   "execution_count": 33,
   "id": "cf14da38",
   "metadata": {
    "execution": {
     "iopub.execute_input": "2025-04-11T00:20:28.821502Z",
     "iopub.status.busy": "2025-04-11T00:20:28.821270Z",
     "iopub.status.idle": "2025-04-11T00:20:28.972389Z",
     "shell.execute_reply": "2025-04-11T00:20:28.971439Z"
    },
    "papermill": {
     "duration": 0.163011,
     "end_time": "2025-04-11T00:20:28.974099",
     "exception": false,
     "start_time": "2025-04-11T00:20:28.811088",
     "status": "completed"
    },
    "tags": []
   },
   "outputs": [],
   "source": [
    "modeling_df = churn_df[churn_df['signup_date_time'] < cutoff_date]\n",
    "\n",
    "modeling_df = modeling_df[\n",
    "    (modeling_df['cancel_date_time'] > cutoff_date) | \n",
    "    (modeling_df['cancel_date_time'].isna())\n",
    "]"
   ]
  },
  {
   "cell_type": "code",
   "execution_count": 34,
   "id": "b60a99d9",
   "metadata": {
    "execution": {
     "iopub.execute_input": "2025-04-11T00:20:28.995080Z",
     "iopub.status.busy": "2025-04-11T00:20:28.994816Z",
     "iopub.status.idle": "2025-04-11T00:20:29.022345Z",
     "shell.execute_reply": "2025-04-11T00:20:29.021394Z"
    },
    "papermill": {
     "duration": 0.039207,
     "end_time": "2025-04-11T00:20:29.023642",
     "exception": false,
     "start_time": "2025-04-11T00:20:28.984435",
     "status": "completed"
    },
    "tags": []
   },
   "outputs": [],
   "source": [
    "modeling_df['monthly_spend'] = modeling_df['price'] / modeling_df['billing_cycle']\n",
    "\n",
    "\n",
    "modeling_df['tenure_at_cutoff'] = (cutoff_date - modeling_df['signup_date_time']).dt.days\n",
    "modeling_df['tenure_months'] = (modeling_df['tenure_at_cutoff'] / 30).round()"
   ]
  },
  {
   "cell_type": "code",
   "execution_count": 35,
   "id": "e3baa265",
   "metadata": {
    "execution": {
     "iopub.execute_input": "2025-04-11T00:20:29.045042Z",
     "iopub.status.busy": "2025-04-11T00:20:29.044782Z",
     "iopub.status.idle": "2025-04-11T00:20:29.066231Z",
     "shell.execute_reply": "2025-04-11T00:20:29.065391Z"
    },
    "papermill": {
     "duration": 0.033683,
     "end_time": "2025-04-11T00:20:29.067655",
     "exception": false,
     "start_time": "2025-04-11T00:20:29.033972",
     "status": "completed"
    },
    "tags": []
   },
   "outputs": [
    {
     "name": "stderr",
     "output_type": "stream",
     "text": [
      "<ipython-input-35-6b9d983fe97a>:6: FutureWarning: A value is trying to be set on a copy of a DataFrame or Series through chained assignment using an inplace method.\n",
      "The behavior will change in pandas 3.0. This inplace method will never work because the intermediate object on which we are setting values always behaves as a copy.\n",
      "\n",
      "For example, when doing 'df[col].method(value, inplace=True)', try using 'df.method({col: value}, inplace=True)' or df[col] = df[col].method(value) instead, to perform the operation inplace on the original object.\n",
      "\n",
      "\n",
      "  modeling_df['support_before_cutoff'].fillna(0, inplace=True)\n"
     ]
    }
   ],
   "source": [
    "mask = modeling_df['ever_contacted_support'] == 1\n",
    "\n",
    "modeling_df.loc[mask, 'support_before_cutoff'] = (\n",
    "    modeling_df.loc[mask, 'last_case_date'] < cutoff_date\n",
    ").astype(int)\n",
    "modeling_df['support_before_cutoff'].fillna(0, inplace=True)"
   ]
  },
  {
   "cell_type": "code",
   "execution_count": 36,
   "id": "661b3c5e",
   "metadata": {
    "execution": {
     "iopub.execute_input": "2025-04-11T00:20:29.089115Z",
     "iopub.status.busy": "2025-04-11T00:20:29.088869Z",
     "iopub.status.idle": "2025-04-11T00:20:29.113146Z",
     "shell.execute_reply": "2025-04-11T00:20:29.112220Z"
    },
    "papermill": {
     "duration": 0.036176,
     "end_time": "2025-04-11T00:20:29.114456",
     "exception": false,
     "start_time": "2025-04-11T00:20:29.078280",
     "status": "completed"
    },
    "tags": []
   },
   "outputs": [
    {
     "name": "stderr",
     "output_type": "stream",
     "text": [
      "<ipython-input-36-9f99fa495dc8>:5: FutureWarning: A value is trying to be set on a copy of a DataFrame or Series through chained assignment using an inplace method.\n",
      "The behavior will change in pandas 3.0. This inplace method will never work because the intermediate object on which we are setting values always behaves as a copy.\n",
      "\n",
      "For example, when doing 'df[col].method(value, inplace=True)', try using 'df.method({col: value}, inplace=True)' or df[col] = df[col].method(value) instead, to perform the operation inplace on the original object.\n",
      "\n",
      "\n",
      "  modeling_df['days_since_last_contact'].fillna(999, inplace=True)\n"
     ]
    }
   ],
   "source": [
    "mask = modeling_df['support_before_cutoff'] == 1\n",
    "modeling_df.loc[mask, 'days_since_last_contact'] = (\n",
    "    cutoff_date - modeling_df.loc[mask, 'last_case_date']\n",
    ").dt.days\n",
    "modeling_df['days_since_last_contact'].fillna(999, inplace=True)"
   ]
  },
  {
   "cell_type": "code",
   "execution_count": 37,
   "id": "5e113e85",
   "metadata": {
    "execution": {
     "iopub.execute_input": "2025-04-11T00:20:29.136828Z",
     "iopub.status.busy": "2025-04-11T00:20:29.136528Z",
     "iopub.status.idle": "2025-04-11T00:20:29.160095Z",
     "shell.execute_reply": "2025-04-11T00:20:29.159108Z"
    },
    "papermill": {
     "duration": 0.035784,
     "end_time": "2025-04-11T00:20:29.161432",
     "exception": false,
     "start_time": "2025-04-11T00:20:29.125648",
     "status": "completed"
    },
    "tags": []
   },
   "outputs": [
    {
     "name": "stderr",
     "output_type": "stream",
     "text": [
      "<ipython-input-37-4b549f63ca7a>:7: FutureWarning: A value is trying to be set on a copy of a DataFrame or Series through chained assignment using an inplace method.\n",
      "The behavior will change in pandas 3.0. This inplace method will never work because the intermediate object on which we are setting values always behaves as a copy.\n",
      "\n",
      "For example, when doing 'df[col].method(value, inplace=True)', try using 'df.method({col: value}, inplace=True)' or df[col] = df[col].method(value) instead, to perform the operation inplace on the original object.\n",
      "\n",
      "\n",
      "  modeling_df['monthly_contact_rate'].fillna(0, inplace = True)\n"
     ]
    }
   ],
   "source": [
    "mask = modeling_df['ever_contacted_support'] == 1\n",
    "\n",
    "modeling_df.loc[mask, 'monthly_contact_rate'] = (\n",
    "    modeling_df.loc[mask, 'total_cases'] / (modeling_df.loc[mask, 'tenure_months'] + 1)\n",
    ")\n",
    "\n",
    "modeling_df['monthly_contact_rate'].fillna(0, inplace = True)"
   ]
  },
  {
   "cell_type": "code",
   "execution_count": 38,
   "id": "ac35c34a",
   "metadata": {
    "execution": {
     "iopub.execute_input": "2025-04-11T00:20:29.182839Z",
     "iopub.status.busy": "2025-04-11T00:20:29.182563Z",
     "iopub.status.idle": "2025-04-11T00:20:29.194038Z",
     "shell.execute_reply": "2025-04-11T00:20:29.193193Z"
    },
    "papermill": {
     "duration": 0.023622,
     "end_time": "2025-04-11T00:20:29.195322",
     "exception": false,
     "start_time": "2025-04-11T00:20:29.171700",
     "status": "completed"
    },
    "tags": []
   },
   "outputs": [],
   "source": [
    "modeling_df['support_level'] = pd.cut(\n",
    "    modeling_df['monthly_contact_rate'],\n",
    "    bins = [-0.001, 0 , 0.2, 0.5, 1, float('inf')],\n",
    "    labels = ['None', 'Low', 'Medium', 'High', 'Very High']\n",
    ")"
   ]
  },
  {
   "cell_type": "code",
   "execution_count": 39,
   "id": "1b9ee325",
   "metadata": {
    "execution": {
     "iopub.execute_input": "2025-04-11T00:20:29.216389Z",
     "iopub.status.busy": "2025-04-11T00:20:29.216151Z",
     "iopub.status.idle": "2025-04-11T00:20:29.270358Z",
     "shell.execute_reply": "2025-04-11T00:20:29.269566Z"
    },
    "papermill": {
     "duration": 0.066235,
     "end_time": "2025-04-11T00:20:29.271694",
     "exception": false,
     "start_time": "2025-04-11T00:20:29.205459",
     "status": "completed"
    },
    "tags": []
   },
   "outputs": [
    {
     "name": "stderr",
     "output_type": "stream",
     "text": [
      "<ipython-input-39-882261bce8e4>:6: FutureWarning: The default of observed=False is deprecated and will be changed to True in a future version of pandas. Pass observed=False to retain current behavior or observed=True to adopt the future default and silence this warning.\n",
      "  churn_by_segment = modeling_df.groupby(segment)[target].agg(['mean', 'count'])\n",
      "<ipython-input-39-882261bce8e4>:6: FutureWarning: The default of observed=False is deprecated and will be changed to True in a future version of pandas. Pass observed=False to retain current behavior or observed=True to adopt the future default and silence this warning.\n",
      "  churn_by_segment = modeling_df.groupby(segment)[target].agg(['mean', 'count'])\n",
      "<ipython-input-39-882261bce8e4>:6: FutureWarning: The default of observed=False is deprecated and will be changed to True in a future version of pandas. Pass observed=False to retain current behavior or observed=True to adopt the future default and silence this warning.\n",
      "  churn_by_segment = modeling_df.groupby(segment)[target].agg(['mean', 'count'])\n"
     ]
    },
    {
     "name": "stdout",
     "output_type": "stream",
     "text": [
      "\n",
      "Churn rate by age_group:\n",
      "               mean   count\n",
      "age_group                  \n",
      "75+        4.382609    2875\n",
      "30-45      4.260450   24880\n",
      "46-60      4.008111  195279\n",
      "61-75      3.995778  163898\n",
      "<30        3.880597    1005\n",
      "\n",
      "Churn rate by tenure_group:\n",
      "                   mean   count\n",
      "tenure_group                   \n",
      "0-3mo         75.802998     934\n",
      "3-6mo          4.752750   37452\n",
      "1-2yr          3.925560  119881\n",
      "6-12mo         3.703624   93260\n",
      "2yr+           3.630965  136410\n",
      "\n",
      "Churn rate by support_level:\n",
      "                   mean   count\n",
      "support_level                  \n",
      "Medium         4.955527   31480\n",
      "Very High      4.945055     546\n",
      "High           4.672024    5351\n",
      "Low            4.182353  162827\n",
      "None           3.704197  187733\n",
      "\n",
      "Churn rate by product:\n",
      "             mean   count\n",
      "product                  \n",
      "prd_2    5.389810  135348\n",
      "prd_1    3.288346  252589\n"
     ]
    }
   ],
   "source": [
    "target = 'will_churn_next_90d'\n",
    "\n",
    "segments = ['age_group', 'tenure_group', 'support_level', 'product']\n",
    "\n",
    "for segment in segments:\n",
    "    churn_by_segment = modeling_df.groupby(segment)[target].agg(['mean', 'count'])\n",
    "    churn_by_segment['mean'] *= 100\n",
    "    print(f\"\\nChurn rate by {segment}:\")\n",
    "    print(churn_by_segment.sort_values('mean', ascending=False))"
   ]
  },
  {
   "cell_type": "markdown",
   "id": "8a8fe261",
   "metadata": {
    "papermill": {
     "duration": 0.010753,
     "end_time": "2025-04-11T00:20:29.292928",
     "exception": false,
     "start_time": "2025-04-11T00:20:29.282175",
     "status": "completed"
    },
    "tags": []
   },
   "source": [
    "Extremely high churn rate (76%) for customers with a tenure of 0-3 months. Might be dealing with 'onboarding cliff' in subscription businesses, could be a free trial effect, but the data does not indicate that the service offers a free trial, so I am making an assumption here. "
   ]
  },
  {
   "cell_type": "code",
   "execution_count": 40,
   "id": "b34e17d7",
   "metadata": {
    "execution": {
     "iopub.execute_input": "2025-04-11T00:20:29.316560Z",
     "iopub.status.busy": "2025-04-11T00:20:29.316330Z",
     "iopub.status.idle": "2025-04-11T00:20:29.338928Z",
     "shell.execute_reply": "2025-04-11T00:20:29.337844Z"
    },
    "papermill": {
     "duration": 0.035318,
     "end_time": "2025-04-11T00:20:29.340197",
     "exception": false,
     "start_time": "2025-04-11T00:20:29.304879",
     "status": "completed"
    },
    "tags": []
   },
   "outputs": [
    {
     "name": "stdout",
     "output_type": "stream",
     "text": [
      "                  mean  count\n",
      "tenure_weeks                 \n",
      "0             4.268293   2460\n",
      "1             4.101951   2511\n",
      "2             3.953749   2681\n",
      "3             3.834472   2634\n",
      "4             4.235727   2715\n",
      "5             3.463961   2858\n",
      "6             5.005325   2817\n",
      "7             3.766542   2947\n",
      "8             3.993344   3005\n",
      "9             4.386808   3123\n",
      "10            4.700991   3127\n",
      "11            3.773585   3180\n",
      "12            4.515522   3189\n",
      "product  tenure_weeks\n",
      "prd_1    0               3.568465\n",
      "         1               2.510121\n",
      "         2               3.403933\n",
      "         3               3.448276\n",
      "         4               3.419453\n",
      "         5               2.620087\n",
      "         6               2.964570\n",
      "         7               2.746845\n",
      "         8               2.709848\n",
      "         9               2.927478\n",
      "         10              3.715992\n",
      "         11              2.754644\n",
      "         12              3.388747\n",
      "prd_2    0               4.940239\n",
      "         1               5.642633\n",
      "         2               4.488595\n",
      "         3               4.181687\n",
      "         4               5.003574\n",
      "         5               4.245283\n",
      "         6               6.973501\n",
      "         7               4.625000\n",
      "         8               5.294906\n",
      "         9               5.740741\n",
      "         10              5.617284\n",
      "         11              4.756022\n",
      "         12              5.600000\n",
      "Name: will_churn_next_90d, dtype: float64\n"
     ]
    }
   ],
   "source": [
    "modeling_df['tenure_weeks'] = (modeling_df['tenure_at_cutoff'] / 7).astype(int)\n",
    "early_churn = modeling_df[modeling_df['tenure_at_cutoff'] < 90]\n",
    "weekly_churn = early_churn.groupby('tenure_weeks')['will_churn_next_90d'].agg(['mean','count'])\n",
    "weekly_churn['mean'] *= 100\n",
    "\n",
    "print(weekly_churn)\n",
    "\n",
    "early_product_churn = early_churn.groupby(['product', 'tenure_weeks'])['will_churn_next_90d'].mean() * 100\n",
    "\n",
    "print(early_product_churn)"
   ]
  },
  {
   "cell_type": "code",
   "execution_count": 41,
   "id": "88c7ea3a",
   "metadata": {
    "execution": {
     "iopub.execute_input": "2025-04-11T00:20:29.362038Z",
     "iopub.status.busy": "2025-04-11T00:20:29.361806Z",
     "iopub.status.idle": "2025-04-11T00:20:29.371721Z",
     "shell.execute_reply": "2025-04-11T00:20:29.370769Z"
    },
    "papermill": {
     "duration": 0.022167,
     "end_time": "2025-04-11T00:20:29.372945",
     "exception": false,
     "start_time": "2025-04-11T00:20:29.350778",
     "status": "completed"
    },
    "tags": []
   },
   "outputs": [
    {
     "name": "stdout",
     "output_type": "stream",
     "text": [
      "Count of customers in 0-3mo group: 934\n",
      "count    934.000000\n",
      "mean      23.361884\n",
      "std       23.019626\n",
      "min        0.000000\n",
      "25%        0.000000\n",
      "50%       18.000000\n",
      "75%       39.000000\n",
      "max       89.000000\n",
      "Name: tenure_at_cutoff, dtype: float64\n",
      "Churn rate in 0-3mo group: 75.80%\n",
      "product\n",
      "prd_1    71.111111\n",
      "prd_2    78.745645\n",
      "Name: will_churn_next_90d, dtype: float64\n"
     ]
    }
   ],
   "source": [
    "tenure_check = modeling_df[modeling_df['tenure_group'] == '0-3mo']\n",
    "print(f\"Count of customers in 0-3mo group: {len(tenure_check)}\")\n",
    "\n",
    "print(tenure_check['tenure_at_cutoff'].describe())\n",
    "\n",
    "print(f\"Churn rate in 0-3mo group: {tenure_check['will_churn_next_90d'].mean()*100:.2f}%\")\n",
    "\n",
    "print(tenure_check.groupby('product')['will_churn_next_90d'].mean()*100)"
   ]
  },
  {
   "cell_type": "markdown",
   "id": "8642e458",
   "metadata": {
    "papermill": {
     "duration": 0.010024,
     "end_time": "2025-04-11T00:20:29.393247",
     "exception": false,
     "start_time": "2025-04-11T00:20:29.383223",
     "status": "completed"
    },
    "tags": []
   },
   "source": [
    "We have 934 customers who joined less than 3 months before the cutoff date. On average, these customers are only subscribed for 23 days. Half of them (median) have been customers for 18 days or less. 75% of the customers will cancel within the next 90 days. This is much higher than other tenure groups' 3-5% churn rate. There is also a difference in monthly subscribers (78.7%) who are more likely to churn compared to annual customers (71.1%)\n",
    "\n",
    "If we were to acquire 100 customers, ~75 would leave within the first 3 months. A large amount of leakage happening in the initial stages of the subscription signup\n",
    "\n",
    "The customer journey pattern seems to be Signup -> [Critical 3-month decision period] -> Stable Relationship"
   ]
  },
  {
   "cell_type": "markdown",
   "id": "ec1f46c7",
   "metadata": {
    "papermill": {
     "duration": 0.010152,
     "end_time": "2025-04-11T00:20:29.413447",
     "exception": false,
     "start_time": "2025-04-11T00:20:29.403295",
     "status": "completed"
    },
    "tags": []
   },
   "source": [
    "Given these dramatic differences, the best approach is segment-based modeling, particularly separating new customers from established ones "
   ]
  },
  {
   "cell_type": "code",
   "execution_count": 42,
   "id": "19bda874",
   "metadata": {
    "execution": {
     "iopub.execute_input": "2025-04-11T00:20:29.434652Z",
     "iopub.status.busy": "2025-04-11T00:20:29.434441Z",
     "iopub.status.idle": "2025-04-11T00:20:29.438072Z",
     "shell.execute_reply": "2025-04-11T00:20:29.437463Z"
    },
    "papermill": {
     "duration": 0.015674,
     "end_time": "2025-04-11T00:20:29.439245",
     "exception": false,
     "start_time": "2025-04-11T00:20:29.423571",
     "status": "completed"
    },
    "tags": []
   },
   "outputs": [],
   "source": [
    "modeling_df['new_customer'] = modeling_df['tenure_at_cutoff'] < 90 # 0-3 months"
   ]
  },
  {
   "cell_type": "code",
   "execution_count": 43,
   "id": "2ededff0",
   "metadata": {
    "execution": {
     "iopub.execute_input": "2025-04-11T00:20:29.460264Z",
     "iopub.status.busy": "2025-04-11T00:20:29.460059Z",
     "iopub.status.idle": "2025-04-11T00:20:29.537019Z",
     "shell.execute_reply": "2025-04-11T00:20:29.536117Z"
    },
    "papermill": {
     "duration": 0.088977,
     "end_time": "2025-04-11T00:20:29.538364",
     "exception": false,
     "start_time": "2025-04-11T00:20:29.449387",
     "status": "completed"
    },
    "tags": []
   },
   "outputs": [
    {
     "name": "stdout",
     "output_type": "stream",
     "text": [
      "New customers: 37247 (9.6%)\n",
      "Established customers: 350690 (90.4%) \n"
     ]
    }
   ],
   "source": [
    "new_customer_df = modeling_df[modeling_df['new_customer']]\n",
    "established_customer_df = modeling_df[~modeling_df['new_customer']]\n",
    "\n",
    "print(f\"New customers: {len(new_customer_df)} ({len(new_customer_df)/len(modeling_df):.1%})\")\n",
    "print(f\"Established customers: {len(established_customer_df)} ({len(established_customer_df)/len(modeling_df):.1%}) \")"
   ]
  },
  {
   "cell_type": "markdown",
   "id": "65016051",
   "metadata": {
    "papermill": {
     "duration": 0.010333,
     "end_time": "2025-04-11T00:20:29.559533",
     "exception": false,
     "start_time": "2025-04-11T00:20:29.549200",
     "status": "completed"
    },
    "tags": []
   },
   "source": [
    "Dealing with a significant class imbalance here - Will need feature engineering for each segment and then build separate models"
   ]
  },
  {
   "cell_type": "code",
   "execution_count": 44,
   "id": "2072d267",
   "metadata": {
    "execution": {
     "iopub.execute_input": "2025-04-11T00:20:29.580574Z",
     "iopub.status.busy": "2025-04-11T00:20:29.580337Z",
     "iopub.status.idle": "2025-04-11T00:20:29.583933Z",
     "shell.execute_reply": "2025-04-11T00:20:29.583096Z"
    },
    "papermill": {
     "duration": 0.015439,
     "end_time": "2025-04-11T00:20:29.585159",
     "exception": false,
     "start_time": "2025-04-11T00:20:29.569720",
     "status": "completed"
    },
    "tags": []
   },
   "outputs": [],
   "source": [
    "# New customers \n",
    "new_features = [\n",
    "    'product',\n",
    "    'days_since_signup',\n",
    "    'ever_contacted_support',\n",
    "    'total_cases',\n",
    "    'age',\n",
    "    'gender',\n",
    "    'signup_month',\n",
    "    'signup_day_of_week'\n",
    "]"
   ]
  },
  {
   "cell_type": "code",
   "execution_count": 45,
   "id": "6489a6a8",
   "metadata": {
    "execution": {
     "iopub.execute_input": "2025-04-11T00:20:29.606373Z",
     "iopub.status.busy": "2025-04-11T00:20:29.606170Z",
     "iopub.status.idle": "2025-04-11T00:20:29.613095Z",
     "shell.execute_reply": "2025-04-11T00:20:29.612170Z"
    },
    "papermill": {
     "duration": 0.018965,
     "end_time": "2025-04-11T00:20:29.614256",
     "exception": false,
     "start_time": "2025-04-11T00:20:29.595291",
     "status": "completed"
    },
    "tags": []
   },
   "outputs": [
    {
     "name": "stderr",
     "output_type": "stream",
     "text": [
      "<ipython-input-45-e397c9cf092d>:1: SettingWithCopyWarning: \n",
      "A value is trying to be set on a copy of a slice from a DataFrame.\n",
      "Try using .loc[row_indexer,col_indexer] = value instead\n",
      "\n",
      "See the caveats in the documentation: https://pandas.pydata.org/pandas-docs/stable/user_guide/indexing.html#returning-a-view-versus-a-copy\n",
      "  new_customer_df['signup_day_of_week'] = new_customer_df['signup_date_time'].dt.dayofweek\n",
      "<ipython-input-45-e397c9cf092d>:2: SettingWithCopyWarning: \n",
      "A value is trying to be set on a copy of a slice from a DataFrame.\n",
      "Try using .loc[row_indexer,col_indexer] = value instead\n",
      "\n",
      "See the caveats in the documentation: https://pandas.pydata.org/pandas-docs/stable/user_guide/indexing.html#returning-a-view-versus-a-copy\n",
      "  new_customer_df['signup_month'] = new_customer_df['signup_date_time'].dt.month\n"
     ]
    }
   ],
   "source": [
    "new_customer_df['signup_day_of_week'] = new_customer_df['signup_date_time'].dt.dayofweek\n",
    "new_customer_df['signup_month'] = new_customer_df['signup_date_time'].dt.month"
   ]
  },
  {
   "cell_type": "code",
   "execution_count": 46,
   "id": "75ad943e",
   "metadata": {
    "execution": {
     "iopub.execute_input": "2025-04-11T00:20:29.635465Z",
     "iopub.status.busy": "2025-04-11T00:20:29.635261Z",
     "iopub.status.idle": "2025-04-11T00:20:30.148582Z",
     "shell.execute_reply": "2025-04-11T00:20:30.147672Z"
    },
    "papermill": {
     "duration": 0.525679,
     "end_time": "2025-04-11T00:20:30.150112",
     "exception": false,
     "start_time": "2025-04-11T00:20:29.624433",
     "status": "completed"
    },
    "tags": []
   },
   "outputs": [
    {
     "name": "stderr",
     "output_type": "stream",
     "text": [
      "<ipython-input-46-55b5dc598253>:1: SettingWithCopyWarning: \n",
      "A value is trying to be set on a copy of a slice from a DataFrame.\n",
      "Try using .loc[row_indexer,col_indexer] = value instead\n",
      "\n",
      "See the caveats in the documentation: https://pandas.pydata.org/pandas-docs/stable/user_guide/indexing.html#returning-a-view-versus-a-copy\n",
      "  new_customer_df['days_to_first_contact'] = new_customer_df.apply(\n"
     ]
    }
   ],
   "source": [
    "new_customer_df['days_to_first_contact'] = new_customer_df.apply(\n",
    "    lambda x: (x['first_case_date'] - x['signup_date_time']).days\n",
    "    if x['ever_contacted_support'] == 1 else -1, axis = 1\n",
    ")"
   ]
  },
  {
   "cell_type": "code",
   "execution_count": 47,
   "id": "21733a2a",
   "metadata": {
    "execution": {
     "iopub.execute_input": "2025-04-11T00:20:30.172648Z",
     "iopub.status.busy": "2025-04-11T00:20:30.172405Z",
     "iopub.status.idle": "2025-04-11T00:20:30.182963Z",
     "shell.execute_reply": "2025-04-11T00:20:30.181954Z"
    },
    "papermill": {
     "duration": 0.023156,
     "end_time": "2025-04-11T00:20:30.184344",
     "exception": false,
     "start_time": "2025-04-11T00:20:30.161188",
     "status": "completed"
    },
    "tags": []
   },
   "outputs": [
    {
     "name": "stderr",
     "output_type": "stream",
     "text": [
      "<ipython-input-47-affe35d5660a>:3: SettingWithCopyWarning: \n",
      "A value is trying to be set on a copy of a slice from a DataFrame.\n",
      "Try using .loc[row_indexer,col_indexer] = value instead\n",
      "\n",
      "See the caveats in the documentation: https://pandas.pydata.org/pandas-docs/stable/user_guide/indexing.html#returning-a-view-versus-a-copy\n",
      "  established_customer_df['billing_cycles_completed'] = (\n",
      "<ipython-input-47-affe35d5660a>:7: SettingWithCopyWarning: \n",
      "A value is trying to be set on a copy of a slice from a DataFrame.\n",
      "Try using .loc[row_indexer,col_indexer] = value instead\n",
      "\n",
      "See the caveats in the documentation: https://pandas.pydata.org/pandas-docs/stable/user_guide/indexing.html#returning-a-view-versus-a-copy\n",
      "  established_customer_df['recent_support'] = (\n"
     ]
    }
   ],
   "source": [
    "# Established customers \n",
    "\n",
    "established_customer_df['billing_cycles_completed'] = (\n",
    "    established_customer_df['tenure_days'] / (established_customer_df['billing_cycle'] * 30).astype(int)  \n",
    ")\n",
    "\n",
    "established_customer_df['recent_support'] = (\n",
    "    established_customer_df['days_since_last_contact'] < 30).astype(int)\n",
    "\n",
    "established_features = [\n",
    "    'tenure_group',\n",
    "    'product',\n",
    "    'support_level',\n",
    "    'days_since_last_contact',\n",
    "    'monthly_contact_rate',\n",
    "    'price',\n",
    "    'billing_cycle',\n",
    "    'age_group',\n",
    "    'gender',\n",
    "    'billing_cycles_completed',\n",
    "    'recent_support'\n",
    "]\n"
   ]
  },
  {
   "cell_type": "code",
   "execution_count": 48,
   "id": "58b495ef",
   "metadata": {
    "execution": {
     "iopub.execute_input": "2025-04-11T00:20:30.207616Z",
     "iopub.status.busy": "2025-04-11T00:20:30.207387Z",
     "iopub.status.idle": "2025-04-11T00:20:31.652053Z",
     "shell.execute_reply": "2025-04-11T00:20:31.651255Z"
    },
    "papermill": {
     "duration": 1.457721,
     "end_time": "2025-04-11T00:20:31.653442",
     "exception": false,
     "start_time": "2025-04-11T00:20:30.195721",
     "status": "completed"
    },
    "tags": []
   },
   "outputs": [
    {
     "name": "stdout",
     "output_type": "stream",
     "text": [
      "New customer churn rate:  4.1587%\n",
      "Using class weights for new model: {0: 1, 1: 3}\n"
     ]
    },
    {
     "data": {
      "text/html": [
       "<style>#sk-container-id-1 {color: black;background-color: white;}#sk-container-id-1 pre{padding: 0;}#sk-container-id-1 div.sk-toggleable {background-color: white;}#sk-container-id-1 label.sk-toggleable__label {cursor: pointer;display: block;width: 100%;margin-bottom: 0;padding: 0.3em;box-sizing: border-box;text-align: center;}#sk-container-id-1 label.sk-toggleable__label-arrow:before {content: \"▸\";float: left;margin-right: 0.25em;color: #696969;}#sk-container-id-1 label.sk-toggleable__label-arrow:hover:before {color: black;}#sk-container-id-1 div.sk-estimator:hover label.sk-toggleable__label-arrow:before {color: black;}#sk-container-id-1 div.sk-toggleable__content {max-height: 0;max-width: 0;overflow: hidden;text-align: left;background-color: #f0f8ff;}#sk-container-id-1 div.sk-toggleable__content pre {margin: 0.2em;color: black;border-radius: 0.25em;background-color: #f0f8ff;}#sk-container-id-1 input.sk-toggleable__control:checked~div.sk-toggleable__content {max-height: 200px;max-width: 100%;overflow: auto;}#sk-container-id-1 input.sk-toggleable__control:checked~label.sk-toggleable__label-arrow:before {content: \"▾\";}#sk-container-id-1 div.sk-estimator input.sk-toggleable__control:checked~label.sk-toggleable__label {background-color: #d4ebff;}#sk-container-id-1 div.sk-label input.sk-toggleable__control:checked~label.sk-toggleable__label {background-color: #d4ebff;}#sk-container-id-1 input.sk-hidden--visually {border: 0;clip: rect(1px 1px 1px 1px);clip: rect(1px, 1px, 1px, 1px);height: 1px;margin: -1px;overflow: hidden;padding: 0;position: absolute;width: 1px;}#sk-container-id-1 div.sk-estimator {font-family: monospace;background-color: #f0f8ff;border: 1px dotted black;border-radius: 0.25em;box-sizing: border-box;margin-bottom: 0.5em;}#sk-container-id-1 div.sk-estimator:hover {background-color: #d4ebff;}#sk-container-id-1 div.sk-parallel-item::after {content: \"\";width: 100%;border-bottom: 1px solid gray;flex-grow: 1;}#sk-container-id-1 div.sk-label:hover label.sk-toggleable__label {background-color: #d4ebff;}#sk-container-id-1 div.sk-serial::before {content: \"\";position: absolute;border-left: 1px solid gray;box-sizing: border-box;top: 0;bottom: 0;left: 50%;z-index: 0;}#sk-container-id-1 div.sk-serial {display: flex;flex-direction: column;align-items: center;background-color: white;padding-right: 0.2em;padding-left: 0.2em;position: relative;}#sk-container-id-1 div.sk-item {position: relative;z-index: 1;}#sk-container-id-1 div.sk-parallel {display: flex;align-items: stretch;justify-content: center;background-color: white;position: relative;}#sk-container-id-1 div.sk-item::before, #sk-container-id-1 div.sk-parallel-item::before {content: \"\";position: absolute;border-left: 1px solid gray;box-sizing: border-box;top: 0;bottom: 0;left: 50%;z-index: -1;}#sk-container-id-1 div.sk-parallel-item {display: flex;flex-direction: column;z-index: 1;position: relative;background-color: white;}#sk-container-id-1 div.sk-parallel-item:first-child::after {align-self: flex-end;width: 50%;}#sk-container-id-1 div.sk-parallel-item:last-child::after {align-self: flex-start;width: 50%;}#sk-container-id-1 div.sk-parallel-item:only-child::after {width: 0;}#sk-container-id-1 div.sk-dashed-wrapped {border: 1px dashed gray;margin: 0 0.4em 0.5em 0.4em;box-sizing: border-box;padding-bottom: 0.4em;background-color: white;}#sk-container-id-1 div.sk-label label {font-family: monospace;font-weight: bold;display: inline-block;line-height: 1.2em;}#sk-container-id-1 div.sk-label-container {text-align: center;}#sk-container-id-1 div.sk-container {/* jupyter's `normalize.less` sets `[hidden] { display: none; }` but bootstrap.min.css set `[hidden] { display: none !important; }` so we also need the `!important` here to be able to override the default hidden behavior on the sphinx rendered scikit-learn.org. See: https://github.com/scikit-learn/scikit-learn/issues/21755 */display: inline-block !important;position: relative;}#sk-container-id-1 div.sk-text-repr-fallback {display: none;}</style><div id=\"sk-container-id-1\" class=\"sk-top-container\"><div class=\"sk-text-repr-fallback\"><pre>RandomForestClassifier(class_weight={0: 1, 1: 3}, random_state=0)</pre><b>In a Jupyter environment, please rerun this cell to show the HTML representation or trust the notebook. <br />On GitHub, the HTML representation is unable to render, please try loading this page with nbviewer.org.</b></div><div class=\"sk-container\" hidden><div class=\"sk-item\"><div class=\"sk-estimator sk-toggleable\"><input class=\"sk-toggleable__control sk-hidden--visually\" id=\"sk-estimator-id-1\" type=\"checkbox\" checked><label for=\"sk-estimator-id-1\" class=\"sk-toggleable__label sk-toggleable__label-arrow\">RandomForestClassifier</label><div class=\"sk-toggleable__content\"><pre>RandomForestClassifier(class_weight={0: 1, 1: 3}, random_state=0)</pre></div></div></div></div></div>"
      ],
      "text/plain": [
       "RandomForestClassifier(class_weight={0: 1, 1: 3}, random_state=0)"
      ]
     },
     "execution_count": 48,
     "metadata": {},
     "output_type": "execute_result"
    }
   ],
   "source": [
    "from sklearn.ensemble import RandomForestClassifier\n",
    "from sklearn.model_selection import train_test_split\n",
    "\n",
    "X_new = new_customer_df[new_features]\n",
    "y_new = new_customer_df['will_churn_next_90d']\n",
    "\n",
    "X_new = pd.get_dummies(X_new, drop_first=True)\n",
    "   \n",
    "X_train, X_test, y_train, y_test = train_test_split(\n",
    "    X_new, y_new, test_size = 0.20, random_state = 0, stratify = y_new\n",
    ")\n",
    "new_churn_rate = y_new.mean()\n",
    "print(f\"New customer churn rate: {new_churn_rate: .4%}\")\n",
    "weights_new = {0:1, 1:3} # Non-churners get 3x the weight\n",
    "print(f\"Using class weights for new model: {weights_new}\")\n",
    "\n",
    "new_model = RandomForestClassifier(n_estimators = 100, class_weight = weights_new, random_state = 0)\n",
    "new_model.fit(X_train, y_train)"
   ]
  },
  {
   "cell_type": "code",
   "execution_count": 49,
   "id": "41560376",
   "metadata": {
    "execution": {
     "iopub.execute_input": "2025-04-11T00:20:31.676966Z",
     "iopub.status.busy": "2025-04-11T00:20:31.676708Z",
     "iopub.status.idle": "2025-04-11T00:20:58.848903Z",
     "shell.execute_reply": "2025-04-11T00:20:58.847996Z"
    },
    "papermill": {
     "duration": 27.185062,
     "end_time": "2025-04-11T00:20:58.850360",
     "exception": false,
     "start_time": "2025-04-11T00:20:31.665298",
     "status": "completed"
    },
    "tags": []
   },
   "outputs": [
    {
     "name": "stdout",
     "output_type": "stream",
     "text": [
      "Established customer churn rate:  4.01%\n",
      "Using class weights for established model: {0: 1, 1: 5}\n"
     ]
    },
    {
     "data": {
      "text/html": [
       "<style>#sk-container-id-2 {color: black;background-color: white;}#sk-container-id-2 pre{padding: 0;}#sk-container-id-2 div.sk-toggleable {background-color: white;}#sk-container-id-2 label.sk-toggleable__label {cursor: pointer;display: block;width: 100%;margin-bottom: 0;padding: 0.3em;box-sizing: border-box;text-align: center;}#sk-container-id-2 label.sk-toggleable__label-arrow:before {content: \"▸\";float: left;margin-right: 0.25em;color: #696969;}#sk-container-id-2 label.sk-toggleable__label-arrow:hover:before {color: black;}#sk-container-id-2 div.sk-estimator:hover label.sk-toggleable__label-arrow:before {color: black;}#sk-container-id-2 div.sk-toggleable__content {max-height: 0;max-width: 0;overflow: hidden;text-align: left;background-color: #f0f8ff;}#sk-container-id-2 div.sk-toggleable__content pre {margin: 0.2em;color: black;border-radius: 0.25em;background-color: #f0f8ff;}#sk-container-id-2 input.sk-toggleable__control:checked~div.sk-toggleable__content {max-height: 200px;max-width: 100%;overflow: auto;}#sk-container-id-2 input.sk-toggleable__control:checked~label.sk-toggleable__label-arrow:before {content: \"▾\";}#sk-container-id-2 div.sk-estimator input.sk-toggleable__control:checked~label.sk-toggleable__label {background-color: #d4ebff;}#sk-container-id-2 div.sk-label input.sk-toggleable__control:checked~label.sk-toggleable__label {background-color: #d4ebff;}#sk-container-id-2 input.sk-hidden--visually {border: 0;clip: rect(1px 1px 1px 1px);clip: rect(1px, 1px, 1px, 1px);height: 1px;margin: -1px;overflow: hidden;padding: 0;position: absolute;width: 1px;}#sk-container-id-2 div.sk-estimator {font-family: monospace;background-color: #f0f8ff;border: 1px dotted black;border-radius: 0.25em;box-sizing: border-box;margin-bottom: 0.5em;}#sk-container-id-2 div.sk-estimator:hover {background-color: #d4ebff;}#sk-container-id-2 div.sk-parallel-item::after {content: \"\";width: 100%;border-bottom: 1px solid gray;flex-grow: 1;}#sk-container-id-2 div.sk-label:hover label.sk-toggleable__label {background-color: #d4ebff;}#sk-container-id-2 div.sk-serial::before {content: \"\";position: absolute;border-left: 1px solid gray;box-sizing: border-box;top: 0;bottom: 0;left: 50%;z-index: 0;}#sk-container-id-2 div.sk-serial {display: flex;flex-direction: column;align-items: center;background-color: white;padding-right: 0.2em;padding-left: 0.2em;position: relative;}#sk-container-id-2 div.sk-item {position: relative;z-index: 1;}#sk-container-id-2 div.sk-parallel {display: flex;align-items: stretch;justify-content: center;background-color: white;position: relative;}#sk-container-id-2 div.sk-item::before, #sk-container-id-2 div.sk-parallel-item::before {content: \"\";position: absolute;border-left: 1px solid gray;box-sizing: border-box;top: 0;bottom: 0;left: 50%;z-index: -1;}#sk-container-id-2 div.sk-parallel-item {display: flex;flex-direction: column;z-index: 1;position: relative;background-color: white;}#sk-container-id-2 div.sk-parallel-item:first-child::after {align-self: flex-end;width: 50%;}#sk-container-id-2 div.sk-parallel-item:last-child::after {align-self: flex-start;width: 50%;}#sk-container-id-2 div.sk-parallel-item:only-child::after {width: 0;}#sk-container-id-2 div.sk-dashed-wrapped {border: 1px dashed gray;margin: 0 0.4em 0.5em 0.4em;box-sizing: border-box;padding-bottom: 0.4em;background-color: white;}#sk-container-id-2 div.sk-label label {font-family: monospace;font-weight: bold;display: inline-block;line-height: 1.2em;}#sk-container-id-2 div.sk-label-container {text-align: center;}#sk-container-id-2 div.sk-container {/* jupyter's `normalize.less` sets `[hidden] { display: none; }` but bootstrap.min.css set `[hidden] { display: none !important; }` so we also need the `!important` here to be able to override the default hidden behavior on the sphinx rendered scikit-learn.org. See: https://github.com/scikit-learn/scikit-learn/issues/21755 */display: inline-block !important;position: relative;}#sk-container-id-2 div.sk-text-repr-fallback {display: none;}</style><div id=\"sk-container-id-2\" class=\"sk-top-container\"><div class=\"sk-text-repr-fallback\"><pre>RandomForestClassifier(class_weight={0: 1, 1: 5}, random_state=0)</pre><b>In a Jupyter environment, please rerun this cell to show the HTML representation or trust the notebook. <br />On GitHub, the HTML representation is unable to render, please try loading this page with nbviewer.org.</b></div><div class=\"sk-container\" hidden><div class=\"sk-item\"><div class=\"sk-estimator sk-toggleable\"><input class=\"sk-toggleable__control sk-hidden--visually\" id=\"sk-estimator-id-2\" type=\"checkbox\" checked><label for=\"sk-estimator-id-2\" class=\"sk-toggleable__label sk-toggleable__label-arrow\">RandomForestClassifier</label><div class=\"sk-toggleable__content\"><pre>RandomForestClassifier(class_weight={0: 1, 1: 5}, random_state=0)</pre></div></div></div></div></div>"
      ],
      "text/plain": [
       "RandomForestClassifier(class_weight={0: 1, 1: 5}, random_state=0)"
      ]
     },
     "execution_count": 49,
     "metadata": {},
     "output_type": "execute_result"
    }
   ],
   "source": [
    "X_established = established_customer_df[established_features]\n",
    "y_established = established_customer_df['will_churn_next_90d']\n",
    "\n",
    "X_established = pd.get_dummies(X_established, drop_first = True, dummy_na = False)\n",
    "\n",
    "X_train_est, X_test_est, y_train_est, y_test_est = train_test_split(\n",
    "    X_established, y_established,\n",
    "    test_size = 0.20,\n",
    "    random_state = 0,\n",
    "    stratify = y_established\n",
    ")\n",
    "\n",
    "established_churn_rate = y_established.mean()\n",
    "print(f\"Established customer churn rate: {established_churn_rate: .2%}\")\n",
    "weight_est = {0:1,1:5}\n",
    "print(f\"Using class weights for established model: {weight_est}\")\n",
    "\n",
    "established_model = RandomForestClassifier(n_estimators=100,\n",
    "                                          class_weight = weight_est,\n",
    "                                          random_state = 0)\n",
    "\n",
    "established_model.fit(X_train_est, y_train_est)"
   ]
  },
  {
   "cell_type": "code",
   "execution_count": null,
   "id": "3a77132b",
   "metadata": {
    "papermill": {
     "duration": 0.011287,
     "end_time": "2025-04-11T00:20:58.873804",
     "exception": false,
     "start_time": "2025-04-11T00:20:58.862517",
     "status": "completed"
    },
    "tags": []
   },
   "outputs": [],
   "source": []
  },
  {
   "cell_type": "code",
   "execution_count": null,
   "id": "c9413515",
   "metadata": {
    "papermill": {
     "duration": 0.010879,
     "end_time": "2025-04-11T00:20:58.895693",
     "exception": false,
     "start_time": "2025-04-11T00:20:58.884814",
     "status": "completed"
    },
    "tags": []
   },
   "outputs": [],
   "source": []
  }
 ],
 "metadata": {
  "kaggle": {
   "accelerator": "none",
   "dataSources": [
    {
     "datasetId": 2290183,
     "sourceId": 3852264,
     "sourceType": "datasetVersion"
    }
   ],
   "dockerImageVersionId": 30918,
   "isGpuEnabled": false,
   "isInternetEnabled": true,
   "language": "python",
   "sourceType": "notebook"
  },
  "kernelspec": {
   "display_name": "Python 3",
   "language": "python",
   "name": "python3"
  },
  "language_info": {
   "codemirror_mode": {
    "name": "ipython",
    "version": 3
   },
   "file_extension": ".py",
   "mimetype": "text/x-python",
   "name": "python",
   "nbconvert_exporter": "python",
   "pygments_lexer": "ipython3",
   "version": "3.10.12"
  },
  "papermill": {
   "default_parameters": {},
   "duration": 42.071028,
   "end_time": "2025-04-11T00:20:59.625511",
   "environment_variables": {},
   "exception": null,
   "input_path": "__notebook__.ipynb",
   "output_path": "__notebook__.ipynb",
   "parameters": {},
   "start_time": "2025-04-11T00:20:17.554483",
   "version": "2.6.0"
  }
 },
 "nbformat": 4,
 "nbformat_minor": 5
}
